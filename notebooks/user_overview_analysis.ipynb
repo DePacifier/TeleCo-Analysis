{
 "metadata": {
  "language_info": {
   "codemirror_mode": {
    "name": "ipython",
    "version": 3
   },
   "file_extension": ".py",
   "mimetype": "text/x-python",
   "name": "python",
   "nbconvert_exporter": "python",
   "pygments_lexer": "ipython3",
   "version": "3.8.4"
  },
  "orig_nbformat": 4,
  "kernelspec": {
   "name": "python3",
   "display_name": "Python 3.8.4 64-bit"
  },
  "interpreter": {
   "hash": "2db524e06e9f5f4ffedc911c917cb75e12dbc923643829bf417064a77eb14d37"
  }
 },
 "nbformat": 4,
 "nbformat_minor": 2,
 "cells": [
  {
   "source": [
    "# TeleCo Company: Data Analysis"
   ],
   "cell_type": "markdown",
   "metadata": {}
  },
  {
   "source": [
    "## Loading Data"
   ],
   "cell_type": "markdown",
   "metadata": {}
  },
  {
   "cell_type": "code",
   "execution_count": 1,
   "metadata": {},
   "outputs": [],
   "source": [
    "import sys\n",
    "sys.path.insert(0,'../scripts/')"
   ]
  },
  {
   "cell_type": "code",
   "execution_count": 2,
   "metadata": {},
   "outputs": [],
   "source": [
    "import pandas as pd"
   ]
  },
  {
   "cell_type": "code",
   "execution_count": 3,
   "metadata": {},
   "outputs": [],
   "source": [
    "from data_loader import load_df_from_csv, load_df_from_excel"
   ]
  },
  {
   "cell_type": "code",
   "execution_count": 4,
   "metadata": {},
   "outputs": [
    {
     "output_type": "execute_result",
     "data": {
      "text/plain": [
       "      Fields  \\\n",
       "0  bearer id   \n",
       "1  Dur. (ms)   \n",
       "2      Start   \n",
       "3   Start ms   \n",
       "4        End   \n",
       "\n",
       "                                                             Description  \n",
       "0                                                 xDr session identifier  \n",
       "1                                      Total Duration of the xDR (in ms)  \n",
       "2                          Start time of the xDR (first frame timestamp)  \n",
       "3  Milliseconds offset of start time for the xDR (first frame timestamp)  \n",
       "4                             End time of the xDR (last frame timestamp)  "
      ],
      "text/html": "<div>\n<style scoped>\n    .dataframe tbody tr th:only-of-type {\n        vertical-align: middle;\n    }\n\n    .dataframe tbody tr th {\n        vertical-align: top;\n    }\n\n    .dataframe thead th {\n        text-align: right;\n    }\n</style>\n<table border=\"1\" class=\"dataframe\">\n  <thead>\n    <tr style=\"text-align: right;\">\n      <th></th>\n      <th>Fields</th>\n      <th>Description</th>\n    </tr>\n  </thead>\n  <tbody>\n    <tr>\n      <th>0</th>\n      <td>bearer id</td>\n      <td>xDr session identifier</td>\n    </tr>\n    <tr>\n      <th>1</th>\n      <td>Dur. (ms)</td>\n      <td>Total Duration of the xDR (in ms)</td>\n    </tr>\n    <tr>\n      <th>2</th>\n      <td>Start</td>\n      <td>Start time of the xDR (first frame timestamp)</td>\n    </tr>\n    <tr>\n      <th>3</th>\n      <td>Start ms</td>\n      <td>Milliseconds offset of start time for the xDR (first frame timestamp)</td>\n    </tr>\n    <tr>\n      <th>4</th>\n      <td>End</td>\n      <td>End time of the xDR (last frame timestamp)</td>\n    </tr>\n  </tbody>\n</table>\n</div>"
     },
     "metadata": {},
     "execution_count": 4
    }
   ],
   "source": [
    "fields_description = load_df_from_csv(\"../data/fields_description.csv\")\n",
    "pd.set_option('display.max_colwidth', None)\n",
    "fields_description.head()"
   ]
  },
  {
   "cell_type": "code",
   "execution_count": 5,
   "metadata": {},
   "outputs": [
    {
     "output_type": "execute_result",
     "data": {
      "text/plain": [
       "              Bearer Id               Start  Start ms                 End  \\\n",
       "0  13114483460844900352 2019-04-04 12:01:18     770.0 2019-04-25 14:35:31   \n",
       "1  13114483482878900224 2019-04-09 13:04:04     235.0 2019-04-25 08:15:48   \n",
       "2  13114483484080500736 2019-04-09 17:42:11       1.0 2019-04-25 11:58:13   \n",
       "3  13114483485442799616 2019-04-10 00:31:25     486.0 2019-04-25 07:36:35   \n",
       "4  13114483499480700928 2019-04-12 20:10:23     565.0 2019-04-25 10:40:32   \n",
       "\n",
       "   End ms  Dur. (ms)          IMSI  MSISDN/Number          IMEI  \\\n",
       "0   662.0  1823652.0  2.082014e+14   3.366496e+10  3.552121e+13   \n",
       "1   606.0  1365104.0  2.082019e+14   3.368185e+10  3.579401e+13   \n",
       "2   652.0  1361762.0  2.082003e+14   3.376063e+10  3.528151e+13   \n",
       "3   171.0  1321509.0  2.082014e+14   3.375034e+10  3.535661e+13   \n",
       "4   954.0  1089009.0  2.082014e+14   3.369979e+10  3.540701e+13   \n",
       "\n",
       "  Last Location Name  Avg RTT DL (ms)  Avg RTT UL (ms)  \\\n",
       "0   9164566995485190             42.0              5.0   \n",
       "1            L77566A             65.0              5.0   \n",
       "2            D42335A              NaN              NaN   \n",
       "3            T21824A              NaN              NaN   \n",
       "4            D88865A              NaN              NaN   \n",
       "\n",
       "   Avg Bearer TP DL (kbps)  Avg Bearer TP UL (kbps)  \\\n",
       "0                     23.0                     44.0   \n",
       "1                     16.0                     26.0   \n",
       "2                      6.0                      9.0   \n",
       "3                     44.0                     44.0   \n",
       "4                      6.0                      9.0   \n",
       "\n",
       "   TCP DL Retrans. Vol (Bytes)  TCP UL Retrans. Vol (Bytes)  \\\n",
       "0                          NaN                          NaN   \n",
       "1                          NaN                          NaN   \n",
       "2                          NaN                          NaN   \n",
       "3                          NaN                          NaN   \n",
       "4                          NaN                          NaN   \n",
       "\n",
       "   DL TP < 50 Kbps (%)  50 Kbps < DL TP < 250 Kbps (%)  \\\n",
       "0                100.0                             0.0   \n",
       "1                100.0                             0.0   \n",
       "2                100.0                             0.0   \n",
       "3                100.0                             0.0   \n",
       "4                100.0                             0.0   \n",
       "\n",
       "   250 Kbps < DL TP < 1 Mbps (%)  DL TP > 1 Mbps (%)  UL TP < 10 Kbps (%)  \\\n",
       "0                            0.0                 0.0                100.0   \n",
       "1                            0.0                 0.0                100.0   \n",
       "2                            0.0                 0.0                100.0   \n",
       "3                            0.0                 0.0                100.0   \n",
       "4                            0.0                 0.0                100.0   \n",
       "\n",
       "   10 Kbps < UL TP < 50 Kbps (%)  50 Kbps < UL TP < 300 Kbps (%)  \\\n",
       "0                            0.0                             0.0   \n",
       "1                            0.0                             0.0   \n",
       "2                            0.0                             0.0   \n",
       "3                            0.0                             0.0   \n",
       "4                            0.0                             0.0   \n",
       "\n",
       "   UL TP > 300 Kbps (%)  HTTP DL (Bytes)  HTTP UL (Bytes)  \\\n",
       "0                   0.0              NaN              NaN   \n",
       "1                   0.0              NaN              NaN   \n",
       "2                   0.0              NaN              NaN   \n",
       "3                   0.0              NaN              NaN   \n",
       "4                   0.0              NaN              NaN   \n",
       "\n",
       "   Activity Duration DL (ms)  Activity Duration UL (ms)   Dur. (ms).1  \\\n",
       "0                    37624.0                    38787.0  1.823653e+09   \n",
       "1                      168.0                     3560.0  1.365104e+09   \n",
       "2                        0.0                        0.0  1.361763e+09   \n",
       "3                     3330.0                    37882.0  1.321510e+09   \n",
       "4                        0.0                        0.0  1.089009e+09   \n",
       "\n",
       "  Handset Manufacturer                 Handset Type  \\\n",
       "0              Samsung   Samsung Galaxy A5 Sm-A520F   \n",
       "1              Samsung  Samsung Galaxy J5 (Sm-J530)   \n",
       "2              Samsung     Samsung Galaxy A8 (2018)   \n",
       "3                  NaN                          NaN   \n",
       "4              Samsung             Samsung Sm-G390F   \n",
       "\n",
       "   Nb of sec with 125000B < Vol DL  Nb of sec with 1250B < Vol UL < 6250B  \\\n",
       "0                              NaN                                    NaN   \n",
       "1                              NaN                                    NaN   \n",
       "2                              NaN                                    NaN   \n",
       "3                              NaN                                    NaN   \n",
       "4                              NaN                                    NaN   \n",
       "\n",
       "   Nb of sec with 31250B < Vol DL < 125000B  Nb of sec with 37500B < Vol UL  \\\n",
       "0                                       NaN                             NaN   \n",
       "1                                       NaN                             NaN   \n",
       "2                                       NaN                             NaN   \n",
       "3                                       NaN                             NaN   \n",
       "4                                       NaN                             NaN   \n",
       "\n",
       "   Nb of sec with 6250B < Vol DL < 31250B  \\\n",
       "0                                     NaN   \n",
       "1                                     NaN   \n",
       "2                                     NaN   \n",
       "3                                     NaN   \n",
       "4                                     NaN   \n",
       "\n",
       "   Nb of sec with 6250B < Vol UL < 37500B  Nb of sec with Vol DL < 6250B  \\\n",
       "0                                     NaN                          213.0   \n",
       "1                                     NaN                          971.0   \n",
       "2                                     NaN                          751.0   \n",
       "3                                     NaN                           17.0   \n",
       "4                                     NaN                          607.0   \n",
       "\n",
       "   Nb of sec with Vol UL < 1250B  Social Media DL (Bytes)  \\\n",
       "0                          214.0                1545765.0   \n",
       "1                         1022.0                1926113.0   \n",
       "2                          695.0                1684053.0   \n",
       "3                          207.0                 644121.0   \n",
       "4                          604.0                 862600.0   \n",
       "\n",
       "   Social Media UL (Bytes)  Google DL (Bytes)  Google UL (Bytes)  \\\n",
       "0                  24420.0          1634479.0          1271433.0   \n",
       "1                   7165.0          3493924.0           920172.0   \n",
       "2                  42224.0          8535055.0          1694064.0   \n",
       "3                  13372.0          9023734.0          2788027.0   \n",
       "4                  50188.0          6248284.0          1500559.0   \n",
       "\n",
       "   Email DL (Bytes)  Email UL (Bytes)  Youtube DL (Bytes)  Youtube UL (Bytes)  \\\n",
       "0         3563542.0          137762.0          15854611.0           2501332.0   \n",
       "1          629046.0          308339.0          20247396.0          19111728.0   \n",
       "2         2690151.0          672973.0          19725660.0          14699576.0   \n",
       "3         1439754.0          631229.0          21388122.0          15146643.0   \n",
       "4         1936496.0          173853.0          15259380.0          18962872.0   \n",
       "\n",
       "   Netflix DL (Bytes)  Netflix UL (Bytes)  Gaming DL (Bytes)  \\\n",
       "0           8198936.0           9656251.0        278082304.0   \n",
       "1          18338412.0          17227132.0        608750080.0   \n",
       "2          17587794.0           6163408.0        229584624.0   \n",
       "3          13994646.0           1097942.0        799538176.0   \n",
       "4          17124580.0            415218.0        527707264.0   \n",
       "\n",
       "   Gaming UL (Bytes)  Other DL (Bytes)  Other UL (Bytes)  Total UL (Bytes)  \\\n",
       "0         14344150.0       171744448.0         8814393.0        36749740.0   \n",
       "1          1170709.0       526904224.0        15055145.0        53800392.0   \n",
       "2           395630.0       410692576.0         4215763.0        27883638.0   \n",
       "3         10849722.0       749039936.0        12797283.0        43324216.0   \n",
       "4          3529801.0       550709504.0        13910322.0        38542816.0   \n",
       "\n",
       "   Total DL (Bytes)  \n",
       "0       308879648.0  \n",
       "1       653384960.0  \n",
       "2       279807328.0  \n",
       "3       846028544.0  \n",
       "4       569138560.0  "
      ],
      "text/html": "<div>\n<style scoped>\n    .dataframe tbody tr th:only-of-type {\n        vertical-align: middle;\n    }\n\n    .dataframe tbody tr th {\n        vertical-align: top;\n    }\n\n    .dataframe thead th {\n        text-align: right;\n    }\n</style>\n<table border=\"1\" class=\"dataframe\">\n  <thead>\n    <tr style=\"text-align: right;\">\n      <th></th>\n      <th>Bearer Id</th>\n      <th>Start</th>\n      <th>Start ms</th>\n      <th>End</th>\n      <th>End ms</th>\n      <th>Dur. (ms)</th>\n      <th>IMSI</th>\n      <th>MSISDN/Number</th>\n      <th>IMEI</th>\n      <th>Last Location Name</th>\n      <th>Avg RTT DL (ms)</th>\n      <th>Avg RTT UL (ms)</th>\n      <th>Avg Bearer TP DL (kbps)</th>\n      <th>Avg Bearer TP UL (kbps)</th>\n      <th>TCP DL Retrans. Vol (Bytes)</th>\n      <th>TCP UL Retrans. Vol (Bytes)</th>\n      <th>DL TP &lt; 50 Kbps (%)</th>\n      <th>50 Kbps &lt; DL TP &lt; 250 Kbps (%)</th>\n      <th>250 Kbps &lt; DL TP &lt; 1 Mbps (%)</th>\n      <th>DL TP &gt; 1 Mbps (%)</th>\n      <th>UL TP &lt; 10 Kbps (%)</th>\n      <th>10 Kbps &lt; UL TP &lt; 50 Kbps (%)</th>\n      <th>50 Kbps &lt; UL TP &lt; 300 Kbps (%)</th>\n      <th>UL TP &gt; 300 Kbps (%)</th>\n      <th>HTTP DL (Bytes)</th>\n      <th>HTTP UL (Bytes)</th>\n      <th>Activity Duration DL (ms)</th>\n      <th>Activity Duration UL (ms)</th>\n      <th>Dur. (ms).1</th>\n      <th>Handset Manufacturer</th>\n      <th>Handset Type</th>\n      <th>Nb of sec with 125000B &lt; Vol DL</th>\n      <th>Nb of sec with 1250B &lt; Vol UL &lt; 6250B</th>\n      <th>Nb of sec with 31250B &lt; Vol DL &lt; 125000B</th>\n      <th>Nb of sec with 37500B &lt; Vol UL</th>\n      <th>Nb of sec with 6250B &lt; Vol DL &lt; 31250B</th>\n      <th>Nb of sec with 6250B &lt; Vol UL &lt; 37500B</th>\n      <th>Nb of sec with Vol DL &lt; 6250B</th>\n      <th>Nb of sec with Vol UL &lt; 1250B</th>\n      <th>Social Media DL (Bytes)</th>\n      <th>Social Media UL (Bytes)</th>\n      <th>Google DL (Bytes)</th>\n      <th>Google UL (Bytes)</th>\n      <th>Email DL (Bytes)</th>\n      <th>Email UL (Bytes)</th>\n      <th>Youtube DL (Bytes)</th>\n      <th>Youtube UL (Bytes)</th>\n      <th>Netflix DL (Bytes)</th>\n      <th>Netflix UL (Bytes)</th>\n      <th>Gaming DL (Bytes)</th>\n      <th>Gaming UL (Bytes)</th>\n      <th>Other DL (Bytes)</th>\n      <th>Other UL (Bytes)</th>\n      <th>Total UL (Bytes)</th>\n      <th>Total DL (Bytes)</th>\n    </tr>\n  </thead>\n  <tbody>\n    <tr>\n      <th>0</th>\n      <td>13114483460844900352</td>\n      <td>2019-04-04 12:01:18</td>\n      <td>770.0</td>\n      <td>2019-04-25 14:35:31</td>\n      <td>662.0</td>\n      <td>1823652.0</td>\n      <td>2.082014e+14</td>\n      <td>3.366496e+10</td>\n      <td>3.552121e+13</td>\n      <td>9164566995485190</td>\n      <td>42.0</td>\n      <td>5.0</td>\n      <td>23.0</td>\n      <td>44.0</td>\n      <td>NaN</td>\n      <td>NaN</td>\n      <td>100.0</td>\n      <td>0.0</td>\n      <td>0.0</td>\n      <td>0.0</td>\n      <td>100.0</td>\n      <td>0.0</td>\n      <td>0.0</td>\n      <td>0.0</td>\n      <td>NaN</td>\n      <td>NaN</td>\n      <td>37624.0</td>\n      <td>38787.0</td>\n      <td>1.823653e+09</td>\n      <td>Samsung</td>\n      <td>Samsung Galaxy A5 Sm-A520F</td>\n      <td>NaN</td>\n      <td>NaN</td>\n      <td>NaN</td>\n      <td>NaN</td>\n      <td>NaN</td>\n      <td>NaN</td>\n      <td>213.0</td>\n      <td>214.0</td>\n      <td>1545765.0</td>\n      <td>24420.0</td>\n      <td>1634479.0</td>\n      <td>1271433.0</td>\n      <td>3563542.0</td>\n      <td>137762.0</td>\n      <td>15854611.0</td>\n      <td>2501332.0</td>\n      <td>8198936.0</td>\n      <td>9656251.0</td>\n      <td>278082304.0</td>\n      <td>14344150.0</td>\n      <td>171744448.0</td>\n      <td>8814393.0</td>\n      <td>36749740.0</td>\n      <td>308879648.0</td>\n    </tr>\n    <tr>\n      <th>1</th>\n      <td>13114483482878900224</td>\n      <td>2019-04-09 13:04:04</td>\n      <td>235.0</td>\n      <td>2019-04-25 08:15:48</td>\n      <td>606.0</td>\n      <td>1365104.0</td>\n      <td>2.082019e+14</td>\n      <td>3.368185e+10</td>\n      <td>3.579401e+13</td>\n      <td>L77566A</td>\n      <td>65.0</td>\n      <td>5.0</td>\n      <td>16.0</td>\n      <td>26.0</td>\n      <td>NaN</td>\n      <td>NaN</td>\n      <td>100.0</td>\n      <td>0.0</td>\n      <td>0.0</td>\n      <td>0.0</td>\n      <td>100.0</td>\n      <td>0.0</td>\n      <td>0.0</td>\n      <td>0.0</td>\n      <td>NaN</td>\n      <td>NaN</td>\n      <td>168.0</td>\n      <td>3560.0</td>\n      <td>1.365104e+09</td>\n      <td>Samsung</td>\n      <td>Samsung Galaxy J5 (Sm-J530)</td>\n      <td>NaN</td>\n      <td>NaN</td>\n      <td>NaN</td>\n      <td>NaN</td>\n      <td>NaN</td>\n      <td>NaN</td>\n      <td>971.0</td>\n      <td>1022.0</td>\n      <td>1926113.0</td>\n      <td>7165.0</td>\n      <td>3493924.0</td>\n      <td>920172.0</td>\n      <td>629046.0</td>\n      <td>308339.0</td>\n      <td>20247396.0</td>\n      <td>19111728.0</td>\n      <td>18338412.0</td>\n      <td>17227132.0</td>\n      <td>608750080.0</td>\n      <td>1170709.0</td>\n      <td>526904224.0</td>\n      <td>15055145.0</td>\n      <td>53800392.0</td>\n      <td>653384960.0</td>\n    </tr>\n    <tr>\n      <th>2</th>\n      <td>13114483484080500736</td>\n      <td>2019-04-09 17:42:11</td>\n      <td>1.0</td>\n      <td>2019-04-25 11:58:13</td>\n      <td>652.0</td>\n      <td>1361762.0</td>\n      <td>2.082003e+14</td>\n      <td>3.376063e+10</td>\n      <td>3.528151e+13</td>\n      <td>D42335A</td>\n      <td>NaN</td>\n      <td>NaN</td>\n      <td>6.0</td>\n      <td>9.0</td>\n      <td>NaN</td>\n      <td>NaN</td>\n      <td>100.0</td>\n      <td>0.0</td>\n      <td>0.0</td>\n      <td>0.0</td>\n      <td>100.0</td>\n      <td>0.0</td>\n      <td>0.0</td>\n      <td>0.0</td>\n      <td>NaN</td>\n      <td>NaN</td>\n      <td>0.0</td>\n      <td>0.0</td>\n      <td>1.361763e+09</td>\n      <td>Samsung</td>\n      <td>Samsung Galaxy A8 (2018)</td>\n      <td>NaN</td>\n      <td>NaN</td>\n      <td>NaN</td>\n      <td>NaN</td>\n      <td>NaN</td>\n      <td>NaN</td>\n      <td>751.0</td>\n      <td>695.0</td>\n      <td>1684053.0</td>\n      <td>42224.0</td>\n      <td>8535055.0</td>\n      <td>1694064.0</td>\n      <td>2690151.0</td>\n      <td>672973.0</td>\n      <td>19725660.0</td>\n      <td>14699576.0</td>\n      <td>17587794.0</td>\n      <td>6163408.0</td>\n      <td>229584624.0</td>\n      <td>395630.0</td>\n      <td>410692576.0</td>\n      <td>4215763.0</td>\n      <td>27883638.0</td>\n      <td>279807328.0</td>\n    </tr>\n    <tr>\n      <th>3</th>\n      <td>13114483485442799616</td>\n      <td>2019-04-10 00:31:25</td>\n      <td>486.0</td>\n      <td>2019-04-25 07:36:35</td>\n      <td>171.0</td>\n      <td>1321509.0</td>\n      <td>2.082014e+14</td>\n      <td>3.375034e+10</td>\n      <td>3.535661e+13</td>\n      <td>T21824A</td>\n      <td>NaN</td>\n      <td>NaN</td>\n      <td>44.0</td>\n      <td>44.0</td>\n      <td>NaN</td>\n      <td>NaN</td>\n      <td>100.0</td>\n      <td>0.0</td>\n      <td>0.0</td>\n      <td>0.0</td>\n      <td>100.0</td>\n      <td>0.0</td>\n      <td>0.0</td>\n      <td>0.0</td>\n      <td>NaN</td>\n      <td>NaN</td>\n      <td>3330.0</td>\n      <td>37882.0</td>\n      <td>1.321510e+09</td>\n      <td>NaN</td>\n      <td>NaN</td>\n      <td>NaN</td>\n      <td>NaN</td>\n      <td>NaN</td>\n      <td>NaN</td>\n      <td>NaN</td>\n      <td>NaN</td>\n      <td>17.0</td>\n      <td>207.0</td>\n      <td>644121.0</td>\n      <td>13372.0</td>\n      <td>9023734.0</td>\n      <td>2788027.0</td>\n      <td>1439754.0</td>\n      <td>631229.0</td>\n      <td>21388122.0</td>\n      <td>15146643.0</td>\n      <td>13994646.0</td>\n      <td>1097942.0</td>\n      <td>799538176.0</td>\n      <td>10849722.0</td>\n      <td>749039936.0</td>\n      <td>12797283.0</td>\n      <td>43324216.0</td>\n      <td>846028544.0</td>\n    </tr>\n    <tr>\n      <th>4</th>\n      <td>13114483499480700928</td>\n      <td>2019-04-12 20:10:23</td>\n      <td>565.0</td>\n      <td>2019-04-25 10:40:32</td>\n      <td>954.0</td>\n      <td>1089009.0</td>\n      <td>2.082014e+14</td>\n      <td>3.369979e+10</td>\n      <td>3.540701e+13</td>\n      <td>D88865A</td>\n      <td>NaN</td>\n      <td>NaN</td>\n      <td>6.0</td>\n      <td>9.0</td>\n      <td>NaN</td>\n      <td>NaN</td>\n      <td>100.0</td>\n      <td>0.0</td>\n      <td>0.0</td>\n      <td>0.0</td>\n      <td>100.0</td>\n      <td>0.0</td>\n      <td>0.0</td>\n      <td>0.0</td>\n      <td>NaN</td>\n      <td>NaN</td>\n      <td>0.0</td>\n      <td>0.0</td>\n      <td>1.089009e+09</td>\n      <td>Samsung</td>\n      <td>Samsung Sm-G390F</td>\n      <td>NaN</td>\n      <td>NaN</td>\n      <td>NaN</td>\n      <td>NaN</td>\n      <td>NaN</td>\n      <td>NaN</td>\n      <td>607.0</td>\n      <td>604.0</td>\n      <td>862600.0</td>\n      <td>50188.0</td>\n      <td>6248284.0</td>\n      <td>1500559.0</td>\n      <td>1936496.0</td>\n      <td>173853.0</td>\n      <td>15259380.0</td>\n      <td>18962872.0</td>\n      <td>17124580.0</td>\n      <td>415218.0</td>\n      <td>527707264.0</td>\n      <td>3529801.0</td>\n      <td>550709504.0</td>\n      <td>13910322.0</td>\n      <td>38542816.0</td>\n      <td>569138560.0</td>\n    </tr>\n  </tbody>\n</table>\n</div>"
     },
     "metadata": {},
     "execution_count": 5
    }
   ],
   "source": [
    "telData = load_df_from_excel(\"../data/teleCo_data.xlsx\", na_values=['undefined'])\n",
    "pd.set_option('max_column', None)\n",
    "telData.head()"
   ]
  },
  {
   "source": [
    "## Variable Identification"
   ],
   "cell_type": "markdown",
   "metadata": {}
  },
  {
   "source": [
    "For better understanding of the columns, exploring the data description [here](https://docs.google.com/spreadsheets/d/1pcNqeUeIph6xAQzlI54KCvi8HM91SUNeeDbdOq3rvbE/edit?usp=sharing) will help"
   ],
   "cell_type": "markdown",
   "metadata": {}
  },
  {
   "source": [
    "## Data Understanding"
   ],
   "cell_type": "markdown",
   "metadata": {}
  },
  {
   "cell_type": "code",
   "execution_count": 34,
   "metadata": {},
   "outputs": [],
   "source": [
    "from data_information import DataInfo\n",
    "explorer = DataInfo(telData)"
   ]
  },
  {
   "cell_type": "code",
   "execution_count": 35,
   "metadata": {},
   "outputs": [
    {
     "output_type": "stream",
     "name": "stdout",
     "text": [
      "Columns Listed in the DataFrame are: \n"
     ]
    },
    {
     "output_type": "execute_result",
     "data": {
      "text/plain": [
       "['Bearer Id',\n",
       " 'Start',\n",
       " 'Start ms',\n",
       " 'End',\n",
       " 'End ms',\n",
       " 'Dur. (ms)',\n",
       " 'IMSI',\n",
       " 'MSISDN/Number',\n",
       " 'IMEI',\n",
       " 'Last Location Name',\n",
       " 'Avg RTT DL (ms)',\n",
       " 'Avg RTT UL (ms)',\n",
       " 'Avg Bearer TP DL (kbps)',\n",
       " 'Avg Bearer TP UL (kbps)',\n",
       " 'DL TP < 50 Kbps (%)',\n",
       " '50 Kbps < DL TP < 250 Kbps (%)',\n",
       " '250 Kbps < DL TP < 1 Mbps (%)',\n",
       " 'DL TP > 1 Mbps (%)',\n",
       " 'UL TP < 10 Kbps (%)',\n",
       " '10 Kbps < UL TP < 50 Kbps (%)',\n",
       " '50 Kbps < UL TP < 300 Kbps (%)',\n",
       " 'UL TP > 300 Kbps (%)',\n",
       " 'Activity Duration DL (ms)',\n",
       " 'Activity Duration UL (ms)',\n",
       " 'Dur. (ms).1',\n",
       " 'Handset Manufacturer',\n",
       " 'Handset Type',\n",
       " 'Nb of sec with Vol DL < 6250B',\n",
       " 'Nb of sec with Vol UL < 1250B',\n",
       " 'Social Media DL (Bytes)',\n",
       " 'Social Media UL (Bytes)',\n",
       " 'Google DL (Bytes)',\n",
       " 'Google UL (Bytes)',\n",
       " 'Email DL (Bytes)',\n",
       " 'Email UL (Bytes)',\n",
       " 'Youtube DL (Bytes)',\n",
       " 'Youtube UL (Bytes)',\n",
       " 'Netflix DL (Bytes)',\n",
       " 'Netflix UL (Bytes)',\n",
       " 'Gaming DL (Bytes)',\n",
       " 'Gaming UL (Bytes)',\n",
       " 'Other DL (Bytes)',\n",
       " 'Other UL (Bytes)',\n",
       " 'Total UL (Bytes)',\n",
       " 'Total DL (Bytes)']"
      ]
     },
     "metadata": {},
     "execution_count": 35
    }
   ],
   "source": [
    "explorer.get_columns()"
   ]
  },
  {
   "cell_type": "code",
   "execution_count": 36,
   "metadata": {},
   "outputs": [
    {
     "output_type": "stream",
     "name": "stdout",
     "text": [
      "The DataFrame containes 150000 rows and 45 columns.\nCurrent DataFrame Memory Usage:\n67419675\nCurrent DataFrame Memory Usage of columns is :\nDataFrame Information: \n<class 'pandas.core.frame.DataFrame'>\nInt64Index: 150000 entries, 0 to 149999\nData columns (total 45 columns):\n #   Column                          Non-Null Count   Dtype         \n---  ------                          --------------   -----         \n 0   Bearer Id                       141013 non-null  object        \n 1   Start                           141013 non-null  datetime64[ns]\n 2   Start ms                        141013 non-null  float32       \n 3   End                             141013 non-null  datetime64[ns]\n 4   End ms                          141013 non-null  float32       \n 5   Dur. (ms)                       141013 non-null  float32       \n 6   IMSI                            141013 non-null  float32       \n 7   MSISDN/Number                   141013 non-null  float32       \n 8   IMEI                            141013 non-null  float32       \n 9   Last Location Name              139900 non-null  object        \n 10  Avg RTT DL (ms)                 141013 non-null  float32       \n 11  Avg RTT UL (ms)                 141013 non-null  float32       \n 12  Avg Bearer TP DL (kbps)         141013 non-null  float32       \n 13  Avg Bearer TP UL (kbps)         141013 non-null  float32       \n 14  DL TP < 50 Kbps (%)             141013 non-null  float32       \n 15  50 Kbps < DL TP < 250 Kbps (%)  141013 non-null  float32       \n 16  250 Kbps < DL TP < 1 Mbps (%)   141013 non-null  float32       \n 17  DL TP > 1 Mbps (%)              141013 non-null  float32       \n 18  UL TP < 10 Kbps (%)             141013 non-null  float32       \n 19  10 Kbps < UL TP < 50 Kbps (%)   141013 non-null  float32       \n 20  50 Kbps < UL TP < 300 Kbps (%)  141013 non-null  float32       \n 21  UL TP > 300 Kbps (%)            141013 non-null  float32       \n 22  Activity Duration DL (ms)       141013 non-null  float32       \n 23  Activity Duration UL (ms)       141013 non-null  float32       \n 24  Dur. (ms).1                     141013 non-null  float32       \n 25  Handset Manufacturer            140442 non-null  object        \n 26  Handset Type                    140442 non-null  object        \n 27  Nb of sec with Vol DL < 6250B   141013 non-null  float32       \n 28  Nb of sec with Vol UL < 1250B   141013 non-null  float32       \n 29  Social Media DL (Bytes)         141013 non-null  float32       \n 30  Social Media UL (Bytes)         141013 non-null  float32       \n 31  Google DL (Bytes)               141013 non-null  float32       \n 32  Google UL (Bytes)               141013 non-null  float32       \n 33  Email DL (Bytes)                141013 non-null  float32       \n 34  Email UL (Bytes)                141013 non-null  float32       \n 35  Youtube DL (Bytes)              141013 non-null  float32       \n 36  Youtube UL (Bytes)              141013 non-null  float32       \n 37  Netflix DL (Bytes)              141013 non-null  float32       \n 38  Netflix UL (Bytes)              141013 non-null  float32       \n 39  Gaming DL (Bytes)               141013 non-null  float32       \n 40  Gaming UL (Bytes)               141013 non-null  float32       \n 41  Other DL (Bytes)                141013 non-null  float32       \n 42  Other UL (Bytes)                141013 non-null  float32       \n 43  Total UL (Bytes)                141013 non-null  float32       \n 44  Total DL (Bytes)                141013 non-null  float32       \ndtypes: datetime64[ns](2), float32(39), object(4)\nmemory usage: 34.4+ MB\n"
     ]
    }
   ],
   "source": [
    "explorer.get_basic_description()"
   ]
  },
  {
   "cell_type": "code",
   "execution_count": 37,
   "metadata": {},
   "outputs": [
    {
     "output_type": "stream",
     "name": "stdout",
     "text": [
      "DataFrame Description: \n"
     ]
    },
    {
     "output_type": "execute_result",
     "data": {
      "text/plain": [
       "            Start ms         End ms     Dur. (ms)          IMSI  \\\n",
       "count  141013.000000  141013.000000  1.410130e+05  1.410130e+05   \n",
       "mean      499.106201     499.021057  1.031729e+05  2.082016e+14   \n",
       "std       288.675323     288.209991  7.919694e+04  2.211487e+10   \n",
       "min         0.000000       0.000000  7.142000e+03  2.040471e+14   \n",
       "25%       250.000000     251.000000  5.674400e+04  2.082014e+14   \n",
       "50%       499.000000     500.000000  8.639900e+04  2.082015e+14   \n",
       "75%       749.000000     750.000000  1.299090e+05  2.082018e+14   \n",
       "max       999.000000     999.000000  1.859336e+06  2.140743e+14   \n",
       "\n",
       "       MSISDN/Number          IMEI  Avg RTT DL (ms)  Avg RTT UL (ms)  \\\n",
       "count   1.410130e+05  1.410130e+05     141013.00000    141013.000000   \n",
       "mean    4.234385e+10  4.840109e+13         99.42289        15.483140   \n",
       "std     2.515251e+12  2.233883e+13        574.11731        76.753159   \n",
       "min     3.360100e+10  4.400152e+11          0.00000         0.000000   \n",
       "25%     3.365172e+10  3.548721e+13         35.00000         3.000000   \n",
       "50%     3.366371e+10  3.572971e+13         45.00000         5.000000   \n",
       "75%     3.368295e+10  8.611971e+13         63.00000        11.000000   \n",
       "max     8.823971e+14  9.900120e+13      96923.00000      7120.000000   \n",
       "\n",
       "       Avg Bearer TP DL (kbps)  Avg Bearer TP UL (kbps)  DL TP < 50 Kbps (%)  \\\n",
       "count            141013.000000            141013.000000        141013.000000   \n",
       "mean              13562.246094              1827.514038            92.669350   \n",
       "std               24069.496094              4704.205566            13.159128   \n",
       "min                   0.000000                 0.000000             0.000000   \n",
       "25%                  43.000000                47.000000            90.000000   \n",
       "50%                  65.000000                64.000000           100.000000   \n",
       "75%               20536.000000              1175.000000           100.000000   \n",
       "max              378160.000000             58613.000000           100.000000   \n",
       "\n",
       "       50 Kbps < DL TP < 250 Kbps (%)  250 Kbps < DL TP < 1 Mbps (%)  \\\n",
       "count                   141013.000000                  141013.000000   \n",
       "mean                         3.118434                       1.769220   \n",
       "std                          6.234573                       4.222407   \n",
       "min                          0.000000                       0.000000   \n",
       "25%                          0.000000                       0.000000   \n",
       "50%                          0.000000                       0.000000   \n",
       "75%                          4.000000                       1.717341   \n",
       "max                         93.000000                     100.000000   \n",
       "\n",
       "       DL TP > 1 Mbps (%)  UL TP < 10 Kbps (%)  10 Kbps < UL TP < 50 Kbps (%)  \\\n",
       "count       141013.000000        141013.000000                  141013.000000   \n",
       "mean             1.660854            98.502167                       0.789573   \n",
       "std              4.919491             4.680081                       3.238673   \n",
       "min              0.000000             0.000000                       0.000000   \n",
       "25%              0.000000            99.000000                       0.000000   \n",
       "50%              0.000000           100.000000                       0.000000   \n",
       "75%              1.000000           100.000000                       0.000000   \n",
       "max             94.000000           100.000000                      98.000000   \n",
       "\n",
       "       50 Kbps < UL TP < 300 Kbps (%)  UL TP > 300 Kbps (%)  \\\n",
       "count                   141013.000000         141013.000000   \n",
       "mean                         0.152901              0.082432   \n",
       "std                          1.637829              1.330687   \n",
       "min                          0.000000              0.000000   \n",
       "25%                          0.000000              0.000000   \n",
       "50%                          0.000000              0.000000   \n",
       "75%                          0.000000              0.000000   \n",
       "max                         85.000000             96.000000   \n",
       "\n",
       "       Activity Duration DL (ms)  Activity Duration UL (ms)   Dur. (ms).1  \\\n",
       "count               1.410130e+05               1.410130e+05  1.410130e+05   \n",
       "mean                1.917415e+06               1.473276e+06  1.031735e+08   \n",
       "std                 5.848368e+06               4.767046e+06  7.919693e+07   \n",
       "min                 0.000000e+00               0.000000e+00  7.142988e+06   \n",
       "25%                 1.562500e+04               2.195200e+04  5.674449e+07   \n",
       "50%                 4.091700e+04               4.794500e+04  8.639998e+07   \n",
       "75%                 7.453040e+05               6.564150e+05  1.299097e+08   \n",
       "max                 1.365365e+08               1.449113e+08  1.859336e+09   \n",
       "\n",
       "       Nb of sec with Vol DL < 6250B  Nb of sec with Vol UL < 1250B  \\\n",
       "count                  141013.000000                  141013.000000   \n",
       "mean                     3868.982178                    4174.953613   \n",
       "std                      9385.183594                   10392.892578   \n",
       "min                         1.000000                       1.000000   \n",
       "25%                        91.000000                     109.000000   \n",
       "50%                       210.000000                     222.000000   \n",
       "75%                      2869.000000                    2617.000000   \n",
       "max                    604061.000000                  604122.000000   \n",
       "\n",
       "       Social Media DL (Bytes)  Social Media UL (Bytes)  Google DL (Bytes)  \\\n",
       "count             1.410130e+05            141013.000000          141013.00   \n",
       "mean              1.795657e+06             32923.875000         5749944.50   \n",
       "std               1.035458e+06             19004.847656         3310516.25   \n",
       "min               1.200000e+01                 0.000000             207.00   \n",
       "25%               8.989530e+05             16442.000000         2876216.00   \n",
       "50%               1.795228e+06             32920.000000         5767579.00   \n",
       "75%               2.694247e+06             49326.000000         8624628.00   \n",
       "max               3.586064e+06             65870.000000        11462832.00   \n",
       "\n",
       "       Google UL (Bytes)  Email DL (Bytes)  Email UL (Bytes)  \\\n",
       "count          141013.00        141013.000      141013.00000   \n",
       "mean          2057105.00       1791480.000      467080.31250   \n",
       "std           1189622.25       1035415.625      269914.09375   \n",
       "min                 3.00            14.000           2.00000   \n",
       "25%           1024557.00        893378.000      233019.00000   \n",
       "50%           2055290.00       1793418.000      465870.00000   \n",
       "75%           3088737.00       2688320.000      700109.00000   \n",
       "max           4121357.00       3586146.000      936418.00000   \n",
       "\n",
       "       Youtube DL (Bytes)  Youtube UL (Bytes)  Netflix DL (Bytes)  \\\n",
       "count            141013.0            141013.0            141013.0   \n",
       "mean           11632581.0          11010607.0          11629429.0   \n",
       "std             6715705.0           6347588.5           6724049.5   \n",
       "min                  53.0               105.0                42.0   \n",
       "25%             5816826.0           5515148.0           5782632.0   \n",
       "50%            11613836.0          11017308.0          11640340.0   \n",
       "75%            17455700.0          16515130.0          17468712.0   \n",
       "max            23259098.0          22011962.0          23259188.0   \n",
       "\n",
       "       Netflix UL (Bytes)  Gaming DL (Bytes)  Gaming UL (Bytes)  \\\n",
       "count            141013.0           141013.0           141013.0   \n",
       "mean           10997602.0        421735776.0          8287790.5   \n",
       "std             6361295.5        244001344.0          4781967.5   \n",
       "min                  35.0             2516.0               59.0   \n",
       "25%             5460290.0        210106288.0          4130072.0   \n",
       "50%            10989885.0        422824416.0          8290967.0   \n",
       "75%            16505934.0        632929216.0         12428692.0   \n",
       "max            22011956.0        843441920.0         16558794.0   \n",
       "\n",
       "       Other DL (Bytes)  Other UL (Bytes)  Total UL (Bytes)  Total DL (Bytes)  \n",
       "count          141013.0          141013.0          141013.0          141013.0  \n",
       "mean        421303744.0         8266341.0        41119444.0       454334880.0  \n",
       "std         243253552.0         4767927.0        11285117.0       244181280.0  \n",
       "min             14320.0             148.0         2866892.0         7114041.0  \n",
       "25%         210448240.0         4153694.0        33216848.0       242721216.0  \n",
       "50%         422102400.0         8269552.0        41135624.0       455194080.0  \n",
       "75%         631991232.0        12382384.0        49030288.0       665532160.0  \n",
       "max         843442496.0        16558816.0        78331312.0       902969600.0  "
      ],
      "text/html": "<div>\n<style scoped>\n    .dataframe tbody tr th:only-of-type {\n        vertical-align: middle;\n    }\n\n    .dataframe tbody tr th {\n        vertical-align: top;\n    }\n\n    .dataframe thead th {\n        text-align: right;\n    }\n</style>\n<table border=\"1\" class=\"dataframe\">\n  <thead>\n    <tr style=\"text-align: right;\">\n      <th></th>\n      <th>Start ms</th>\n      <th>End ms</th>\n      <th>Dur. (ms)</th>\n      <th>IMSI</th>\n      <th>MSISDN/Number</th>\n      <th>IMEI</th>\n      <th>Avg RTT DL (ms)</th>\n      <th>Avg RTT UL (ms)</th>\n      <th>Avg Bearer TP DL (kbps)</th>\n      <th>Avg Bearer TP UL (kbps)</th>\n      <th>DL TP &lt; 50 Kbps (%)</th>\n      <th>50 Kbps &lt; DL TP &lt; 250 Kbps (%)</th>\n      <th>250 Kbps &lt; DL TP &lt; 1 Mbps (%)</th>\n      <th>DL TP &gt; 1 Mbps (%)</th>\n      <th>UL TP &lt; 10 Kbps (%)</th>\n      <th>10 Kbps &lt; UL TP &lt; 50 Kbps (%)</th>\n      <th>50 Kbps &lt; UL TP &lt; 300 Kbps (%)</th>\n      <th>UL TP &gt; 300 Kbps (%)</th>\n      <th>Activity Duration DL (ms)</th>\n      <th>Activity Duration UL (ms)</th>\n      <th>Dur. (ms).1</th>\n      <th>Nb of sec with Vol DL &lt; 6250B</th>\n      <th>Nb of sec with Vol UL &lt; 1250B</th>\n      <th>Social Media DL (Bytes)</th>\n      <th>Social Media UL (Bytes)</th>\n      <th>Google DL (Bytes)</th>\n      <th>Google UL (Bytes)</th>\n      <th>Email DL (Bytes)</th>\n      <th>Email UL (Bytes)</th>\n      <th>Youtube DL (Bytes)</th>\n      <th>Youtube UL (Bytes)</th>\n      <th>Netflix DL (Bytes)</th>\n      <th>Netflix UL (Bytes)</th>\n      <th>Gaming DL (Bytes)</th>\n      <th>Gaming UL (Bytes)</th>\n      <th>Other DL (Bytes)</th>\n      <th>Other UL (Bytes)</th>\n      <th>Total UL (Bytes)</th>\n      <th>Total DL (Bytes)</th>\n    </tr>\n  </thead>\n  <tbody>\n    <tr>\n      <th>count</th>\n      <td>141013.000000</td>\n      <td>141013.000000</td>\n      <td>1.410130e+05</td>\n      <td>1.410130e+05</td>\n      <td>1.410130e+05</td>\n      <td>1.410130e+05</td>\n      <td>141013.00000</td>\n      <td>141013.000000</td>\n      <td>141013.000000</td>\n      <td>141013.000000</td>\n      <td>141013.000000</td>\n      <td>141013.000000</td>\n      <td>141013.000000</td>\n      <td>141013.000000</td>\n      <td>141013.000000</td>\n      <td>141013.000000</td>\n      <td>141013.000000</td>\n      <td>141013.000000</td>\n      <td>1.410130e+05</td>\n      <td>1.410130e+05</td>\n      <td>1.410130e+05</td>\n      <td>141013.000000</td>\n      <td>141013.000000</td>\n      <td>1.410130e+05</td>\n      <td>141013.000000</td>\n      <td>141013.00</td>\n      <td>141013.00</td>\n      <td>141013.000</td>\n      <td>141013.00000</td>\n      <td>141013.0</td>\n      <td>141013.0</td>\n      <td>141013.0</td>\n      <td>141013.0</td>\n      <td>141013.0</td>\n      <td>141013.0</td>\n      <td>141013.0</td>\n      <td>141013.0</td>\n      <td>141013.0</td>\n      <td>141013.0</td>\n    </tr>\n    <tr>\n      <th>mean</th>\n      <td>499.106201</td>\n      <td>499.021057</td>\n      <td>1.031729e+05</td>\n      <td>2.082016e+14</td>\n      <td>4.234385e+10</td>\n      <td>4.840109e+13</td>\n      <td>99.42289</td>\n      <td>15.483140</td>\n      <td>13562.246094</td>\n      <td>1827.514038</td>\n      <td>92.669350</td>\n      <td>3.118434</td>\n      <td>1.769220</td>\n      <td>1.660854</td>\n      <td>98.502167</td>\n      <td>0.789573</td>\n      <td>0.152901</td>\n      <td>0.082432</td>\n      <td>1.917415e+06</td>\n      <td>1.473276e+06</td>\n      <td>1.031735e+08</td>\n      <td>3868.982178</td>\n      <td>4174.953613</td>\n      <td>1.795657e+06</td>\n      <td>32923.875000</td>\n      <td>5749944.50</td>\n      <td>2057105.00</td>\n      <td>1791480.000</td>\n      <td>467080.31250</td>\n      <td>11632581.0</td>\n      <td>11010607.0</td>\n      <td>11629429.0</td>\n      <td>10997602.0</td>\n      <td>421735776.0</td>\n      <td>8287790.5</td>\n      <td>421303744.0</td>\n      <td>8266341.0</td>\n      <td>41119444.0</td>\n      <td>454334880.0</td>\n    </tr>\n    <tr>\n      <th>std</th>\n      <td>288.675323</td>\n      <td>288.209991</td>\n      <td>7.919694e+04</td>\n      <td>2.211487e+10</td>\n      <td>2.515251e+12</td>\n      <td>2.233883e+13</td>\n      <td>574.11731</td>\n      <td>76.753159</td>\n      <td>24069.496094</td>\n      <td>4704.205566</td>\n      <td>13.159128</td>\n      <td>6.234573</td>\n      <td>4.222407</td>\n      <td>4.919491</td>\n      <td>4.680081</td>\n      <td>3.238673</td>\n      <td>1.637829</td>\n      <td>1.330687</td>\n      <td>5.848368e+06</td>\n      <td>4.767046e+06</td>\n      <td>7.919693e+07</td>\n      <td>9385.183594</td>\n      <td>10392.892578</td>\n      <td>1.035458e+06</td>\n      <td>19004.847656</td>\n      <td>3310516.25</td>\n      <td>1189622.25</td>\n      <td>1035415.625</td>\n      <td>269914.09375</td>\n      <td>6715705.0</td>\n      <td>6347588.5</td>\n      <td>6724049.5</td>\n      <td>6361295.5</td>\n      <td>244001344.0</td>\n      <td>4781967.5</td>\n      <td>243253552.0</td>\n      <td>4767927.0</td>\n      <td>11285117.0</td>\n      <td>244181280.0</td>\n    </tr>\n    <tr>\n      <th>min</th>\n      <td>0.000000</td>\n      <td>0.000000</td>\n      <td>7.142000e+03</td>\n      <td>2.040471e+14</td>\n      <td>3.360100e+10</td>\n      <td>4.400152e+11</td>\n      <td>0.00000</td>\n      <td>0.000000</td>\n      <td>0.000000</td>\n      <td>0.000000</td>\n      <td>0.000000</td>\n      <td>0.000000</td>\n      <td>0.000000</td>\n      <td>0.000000</td>\n      <td>0.000000</td>\n      <td>0.000000</td>\n      <td>0.000000</td>\n      <td>0.000000</td>\n      <td>0.000000e+00</td>\n      <td>0.000000e+00</td>\n      <td>7.142988e+06</td>\n      <td>1.000000</td>\n      <td>1.000000</td>\n      <td>1.200000e+01</td>\n      <td>0.000000</td>\n      <td>207.00</td>\n      <td>3.00</td>\n      <td>14.000</td>\n      <td>2.00000</td>\n      <td>53.0</td>\n      <td>105.0</td>\n      <td>42.0</td>\n      <td>35.0</td>\n      <td>2516.0</td>\n      <td>59.0</td>\n      <td>14320.0</td>\n      <td>148.0</td>\n      <td>2866892.0</td>\n      <td>7114041.0</td>\n    </tr>\n    <tr>\n      <th>25%</th>\n      <td>250.000000</td>\n      <td>251.000000</td>\n      <td>5.674400e+04</td>\n      <td>2.082014e+14</td>\n      <td>3.365172e+10</td>\n      <td>3.548721e+13</td>\n      <td>35.00000</td>\n      <td>3.000000</td>\n      <td>43.000000</td>\n      <td>47.000000</td>\n      <td>90.000000</td>\n      <td>0.000000</td>\n      <td>0.000000</td>\n      <td>0.000000</td>\n      <td>99.000000</td>\n      <td>0.000000</td>\n      <td>0.000000</td>\n      <td>0.000000</td>\n      <td>1.562500e+04</td>\n      <td>2.195200e+04</td>\n      <td>5.674449e+07</td>\n      <td>91.000000</td>\n      <td>109.000000</td>\n      <td>8.989530e+05</td>\n      <td>16442.000000</td>\n      <td>2876216.00</td>\n      <td>1024557.00</td>\n      <td>893378.000</td>\n      <td>233019.00000</td>\n      <td>5816826.0</td>\n      <td>5515148.0</td>\n      <td>5782632.0</td>\n      <td>5460290.0</td>\n      <td>210106288.0</td>\n      <td>4130072.0</td>\n      <td>210448240.0</td>\n      <td>4153694.0</td>\n      <td>33216848.0</td>\n      <td>242721216.0</td>\n    </tr>\n    <tr>\n      <th>50%</th>\n      <td>499.000000</td>\n      <td>500.000000</td>\n      <td>8.639900e+04</td>\n      <td>2.082015e+14</td>\n      <td>3.366371e+10</td>\n      <td>3.572971e+13</td>\n      <td>45.00000</td>\n      <td>5.000000</td>\n      <td>65.000000</td>\n      <td>64.000000</td>\n      <td>100.000000</td>\n      <td>0.000000</td>\n      <td>0.000000</td>\n      <td>0.000000</td>\n      <td>100.000000</td>\n      <td>0.000000</td>\n      <td>0.000000</td>\n      <td>0.000000</td>\n      <td>4.091700e+04</td>\n      <td>4.794500e+04</td>\n      <td>8.639998e+07</td>\n      <td>210.000000</td>\n      <td>222.000000</td>\n      <td>1.795228e+06</td>\n      <td>32920.000000</td>\n      <td>5767579.00</td>\n      <td>2055290.00</td>\n      <td>1793418.000</td>\n      <td>465870.00000</td>\n      <td>11613836.0</td>\n      <td>11017308.0</td>\n      <td>11640340.0</td>\n      <td>10989885.0</td>\n      <td>422824416.0</td>\n      <td>8290967.0</td>\n      <td>422102400.0</td>\n      <td>8269552.0</td>\n      <td>41135624.0</td>\n      <td>455194080.0</td>\n    </tr>\n    <tr>\n      <th>75%</th>\n      <td>749.000000</td>\n      <td>750.000000</td>\n      <td>1.299090e+05</td>\n      <td>2.082018e+14</td>\n      <td>3.368295e+10</td>\n      <td>8.611971e+13</td>\n      <td>63.00000</td>\n      <td>11.000000</td>\n      <td>20536.000000</td>\n      <td>1175.000000</td>\n      <td>100.000000</td>\n      <td>4.000000</td>\n      <td>1.717341</td>\n      <td>1.000000</td>\n      <td>100.000000</td>\n      <td>0.000000</td>\n      <td>0.000000</td>\n      <td>0.000000</td>\n      <td>7.453040e+05</td>\n      <td>6.564150e+05</td>\n      <td>1.299097e+08</td>\n      <td>2869.000000</td>\n      <td>2617.000000</td>\n      <td>2.694247e+06</td>\n      <td>49326.000000</td>\n      <td>8624628.00</td>\n      <td>3088737.00</td>\n      <td>2688320.000</td>\n      <td>700109.00000</td>\n      <td>17455700.0</td>\n      <td>16515130.0</td>\n      <td>17468712.0</td>\n      <td>16505934.0</td>\n      <td>632929216.0</td>\n      <td>12428692.0</td>\n      <td>631991232.0</td>\n      <td>12382384.0</td>\n      <td>49030288.0</td>\n      <td>665532160.0</td>\n    </tr>\n    <tr>\n      <th>max</th>\n      <td>999.000000</td>\n      <td>999.000000</td>\n      <td>1.859336e+06</td>\n      <td>2.140743e+14</td>\n      <td>8.823971e+14</td>\n      <td>9.900120e+13</td>\n      <td>96923.00000</td>\n      <td>7120.000000</td>\n      <td>378160.000000</td>\n      <td>58613.000000</td>\n      <td>100.000000</td>\n      <td>93.000000</td>\n      <td>100.000000</td>\n      <td>94.000000</td>\n      <td>100.000000</td>\n      <td>98.000000</td>\n      <td>85.000000</td>\n      <td>96.000000</td>\n      <td>1.365365e+08</td>\n      <td>1.449113e+08</td>\n      <td>1.859336e+09</td>\n      <td>604061.000000</td>\n      <td>604122.000000</td>\n      <td>3.586064e+06</td>\n      <td>65870.000000</td>\n      <td>11462832.00</td>\n      <td>4121357.00</td>\n      <td>3586146.000</td>\n      <td>936418.00000</td>\n      <td>23259098.0</td>\n      <td>22011962.0</td>\n      <td>23259188.0</td>\n      <td>22011956.0</td>\n      <td>843441920.0</td>\n      <td>16558794.0</td>\n      <td>843442496.0</td>\n      <td>16558816.0</td>\n      <td>78331312.0</td>\n      <td>902969600.0</td>\n    </tr>\n  </tbody>\n</table>\n</div>"
     },
     "metadata": {},
     "execution_count": 37
    }
   ],
   "source": [
    "explorer.get_description()"
   ]
  },
  {
   "cell_type": "code",
   "execution_count": 38,
   "metadata": {},
   "outputs": [
    {
     "output_type": "execute_result",
     "data": {
      "text/plain": [
       "count     141013\n",
       "unique    127110\n",
       "top             \n",
       "freq         963\n",
       "Name: Bearer Id, dtype: object"
      ]
     },
     "metadata": {},
     "execution_count": 38
    }
   ],
   "source": [
    "explorer.get_column_description('Bearer Id')"
   ]
  },
  {
   "cell_type": "code",
   "execution_count": 39,
   "metadata": {},
   "outputs": [
    {
     "output_type": "stream",
     "name": "stdout",
     "text": [
      "Current DataFrame Memory Usage of columns is :\n"
     ]
    },
    {
     "output_type": "execute_result",
     "data": {
      "text/plain": [
       "Index                             5427112\n",
       "Bearer Id                         1200000\n",
       "Start                             1200000\n",
       "Start ms                           600000\n",
       "End                               1200000\n",
       "End ms                             600000\n",
       "Dur. (ms)                          600000\n",
       "IMSI                               600000\n",
       "MSISDN/Number                      600000\n",
       "IMEI                               600000\n",
       "Last Location Name                1200000\n",
       "Avg RTT DL (ms)                    600000\n",
       "Avg RTT UL (ms)                    600000\n",
       "Avg Bearer TP DL (kbps)            600000\n",
       "Avg Bearer TP UL (kbps)            600000\n",
       "DL TP < 50 Kbps (%)                600000\n",
       "50 Kbps < DL TP < 250 Kbps (%)     600000\n",
       "250 Kbps < DL TP < 1 Mbps (%)      600000\n",
       "DL TP > 1 Mbps (%)                 600000\n",
       "UL TP < 10 Kbps (%)                600000\n",
       "10 Kbps < UL TP < 50 Kbps (%)      600000\n",
       "50 Kbps < UL TP < 300 Kbps (%)     600000\n",
       "UL TP > 300 Kbps (%)               600000\n",
       "Activity Duration DL (ms)          600000\n",
       "Activity Duration UL (ms)          600000\n",
       "Dur. (ms).1                        600000\n",
       "Handset Manufacturer              1200000\n",
       "Handset Type                      1200000\n",
       "Nb of sec with Vol DL < 6250B      600000\n",
       "Nb of sec with Vol UL < 1250B      600000\n",
       "Social Media DL (Bytes)            600000\n",
       "Social Media UL (Bytes)            600000\n",
       "Google DL (Bytes)                  600000\n",
       "Google UL (Bytes)                  600000\n",
       "Email DL (Bytes)                   600000\n",
       "Email UL (Bytes)                   600000\n",
       "Youtube DL (Bytes)                 600000\n",
       "Youtube UL (Bytes)                 600000\n",
       "Netflix DL (Bytes)                 600000\n",
       "Netflix UL (Bytes)                 600000\n",
       "Gaming DL (Bytes)                  600000\n",
       "Gaming UL (Bytes)                  600000\n",
       "Other DL (Bytes)                   600000\n",
       "Other UL (Bytes)                   600000\n",
       "Total UL (Bytes)                   600000\n",
       "Total DL (Bytes)                   600000\n",
       "dtype: int64"
      ]
     },
     "metadata": {},
     "execution_count": 39
    }
   ],
   "source": [
    "# Data Inforamtion regarding null-values and type based on Columns\n",
    "explorer.get_memory_usage()"
   ]
  },
  {
   "source": [
    "## Handling Missing Values"
   ],
   "cell_type": "markdown",
   "metadata": {}
  },
  {
   "cell_type": "code",
   "execution_count": 40,
   "metadata": {},
   "outputs": [
    {
     "output_type": "stream",
     "name": "stdout",
     "text": [
      "The total number of missing values is 406670\n6.02 % missing values.\n"
     ]
    },
    {
     "output_type": "execute_result",
     "data": {
      "text/plain": [
       "406670"
      ]
     },
     "metadata": {},
     "execution_count": 40
    }
   ],
   "source": [
    "explorer.get_total_missing_values()"
   ]
  },
  {
   "cell_type": "code",
   "execution_count": 41,
   "metadata": {},
   "outputs": [
    {
     "output_type": "execute_result",
     "data": {
      "text/plain": [
       "['Bearer Id',\n",
       " 'Start',\n",
       " 'Start ms',\n",
       " 'End',\n",
       " 'End ms',\n",
       " 'Dur. (ms)',\n",
       " 'IMSI',\n",
       " 'MSISDN/Number',\n",
       " 'IMEI',\n",
       " 'Last Location Name',\n",
       " 'Avg RTT DL (ms)',\n",
       " 'Avg RTT UL (ms)',\n",
       " 'Avg Bearer TP DL (kbps)',\n",
       " 'Avg Bearer TP UL (kbps)',\n",
       " 'DL TP < 50 Kbps (%)',\n",
       " '50 Kbps < DL TP < 250 Kbps (%)',\n",
       " '250 Kbps < DL TP < 1 Mbps (%)',\n",
       " 'DL TP > 1 Mbps (%)',\n",
       " 'UL TP < 10 Kbps (%)',\n",
       " '10 Kbps < UL TP < 50 Kbps (%)',\n",
       " '50 Kbps < UL TP < 300 Kbps (%)',\n",
       " 'UL TP > 300 Kbps (%)',\n",
       " 'Activity Duration DL (ms)',\n",
       " 'Activity Duration UL (ms)',\n",
       " 'Dur. (ms).1',\n",
       " 'Handset Manufacturer',\n",
       " 'Handset Type',\n",
       " 'Nb of sec with Vol DL < 6250B',\n",
       " 'Nb of sec with Vol UL < 1250B',\n",
       " 'Social Media DL (Bytes)',\n",
       " 'Social Media UL (Bytes)',\n",
       " 'Google DL (Bytes)',\n",
       " 'Google UL (Bytes)',\n",
       " 'Email DL (Bytes)',\n",
       " 'Email UL (Bytes)',\n",
       " 'Youtube DL (Bytes)',\n",
       " 'Youtube UL (Bytes)',\n",
       " 'Netflix DL (Bytes)',\n",
       " 'Netflix UL (Bytes)',\n",
       " 'Gaming DL (Bytes)',\n",
       " 'Gaming UL (Bytes)',\n",
       " 'Other DL (Bytes)',\n",
       " 'Other UL (Bytes)',\n",
       " 'Total UL (Bytes)',\n",
       " 'Total DL (Bytes)']"
      ]
     },
     "metadata": {},
     "execution_count": 41
    }
   ],
   "source": [
    "explorer.get_columns_with_missing_values()"
   ]
  },
  {
   "cell_type": "code",
   "execution_count": 42,
   "metadata": {},
   "outputs": [
    {
     "output_type": "execute_result",
     "data": {
      "text/plain": [
       "                                missing_count            type\n",
       "Bearer Id                                8987          object\n",
       "Start                                    8987  datetime64[ns]\n",
       "Start ms                                 8987         float32\n",
       "End                                      8987  datetime64[ns]\n",
       "End ms                                   8987         float32\n",
       "Dur. (ms)                                8987         float32\n",
       "IMSI                                     8987         float32\n",
       "MSISDN/Number                            8987         float32\n",
       "IMEI                                     8987         float32\n",
       "Last Location Name                      10100          object\n",
       "Avg RTT DL (ms)                          8987         float32\n",
       "Avg RTT UL (ms)                          8987         float32\n",
       "Avg Bearer TP DL (kbps)                  8987         float32\n",
       "Avg Bearer TP UL (kbps)                  8987         float32\n",
       "DL TP < 50 Kbps (%)                      8987         float32\n",
       "50 Kbps < DL TP < 250 Kbps (%)           8987         float32\n",
       "250 Kbps < DL TP < 1 Mbps (%)            8987         float32\n",
       "DL TP > 1 Mbps (%)                       8987         float32\n",
       "UL TP < 10 Kbps (%)                      8987         float32\n",
       "10 Kbps < UL TP < 50 Kbps (%)            8987         float32\n",
       "50 Kbps < UL TP < 300 Kbps (%)           8987         float32\n",
       "UL TP > 300 Kbps (%)                     8987         float32\n",
       "Activity Duration DL (ms)                8987         float32\n",
       "Activity Duration UL (ms)                8987         float32\n",
       "Dur. (ms).1                              8987         float32\n",
       "Handset Manufacturer                     9558          object\n",
       "Handset Type                             9558          object\n",
       "Nb of sec with Vol DL < 6250B            8987         float32\n",
       "Nb of sec with Vol UL < 1250B            8987         float32\n",
       "Social Media DL (Bytes)                  8987         float32\n",
       "Social Media UL (Bytes)                  8987         float32\n",
       "Google DL (Bytes)                        8987         float32\n",
       "Google UL (Bytes)                        8987         float32\n",
       "Email DL (Bytes)                         8987         float32\n",
       "Email UL (Bytes)                         8987         float32\n",
       "Youtube DL (Bytes)                       8987         float32\n",
       "Youtube UL (Bytes)                       8987         float32\n",
       "Netflix DL (Bytes)                       8987         float32\n",
       "Netflix UL (Bytes)                       8987         float32\n",
       "Gaming DL (Bytes)                        8987         float32\n",
       "Gaming UL (Bytes)                        8987         float32\n",
       "Other DL (Bytes)                         8987         float32\n",
       "Other UL (Bytes)                         8987         float32\n",
       "Total UL (Bytes)                         8987         float32\n",
       "Total DL (Bytes)                         8987         float32"
      ],
      "text/html": "<div>\n<style scoped>\n    .dataframe tbody tr th:only-of-type {\n        vertical-align: middle;\n    }\n\n    .dataframe tbody tr th {\n        vertical-align: top;\n    }\n\n    .dataframe thead th {\n        text-align: right;\n    }\n</style>\n<table border=\"1\" class=\"dataframe\">\n  <thead>\n    <tr style=\"text-align: right;\">\n      <th></th>\n      <th>missing_count</th>\n      <th>type</th>\n    </tr>\n  </thead>\n  <tbody>\n    <tr>\n      <th>Bearer Id</th>\n      <td>8987</td>\n      <td>object</td>\n    </tr>\n    <tr>\n      <th>Start</th>\n      <td>8987</td>\n      <td>datetime64[ns]</td>\n    </tr>\n    <tr>\n      <th>Start ms</th>\n      <td>8987</td>\n      <td>float32</td>\n    </tr>\n    <tr>\n      <th>End</th>\n      <td>8987</td>\n      <td>datetime64[ns]</td>\n    </tr>\n    <tr>\n      <th>End ms</th>\n      <td>8987</td>\n      <td>float32</td>\n    </tr>\n    <tr>\n      <th>Dur. (ms)</th>\n      <td>8987</td>\n      <td>float32</td>\n    </tr>\n    <tr>\n      <th>IMSI</th>\n      <td>8987</td>\n      <td>float32</td>\n    </tr>\n    <tr>\n      <th>MSISDN/Number</th>\n      <td>8987</td>\n      <td>float32</td>\n    </tr>\n    <tr>\n      <th>IMEI</th>\n      <td>8987</td>\n      <td>float32</td>\n    </tr>\n    <tr>\n      <th>Last Location Name</th>\n      <td>10100</td>\n      <td>object</td>\n    </tr>\n    <tr>\n      <th>Avg RTT DL (ms)</th>\n      <td>8987</td>\n      <td>float32</td>\n    </tr>\n    <tr>\n      <th>Avg RTT UL (ms)</th>\n      <td>8987</td>\n      <td>float32</td>\n    </tr>\n    <tr>\n      <th>Avg Bearer TP DL (kbps)</th>\n      <td>8987</td>\n      <td>float32</td>\n    </tr>\n    <tr>\n      <th>Avg Bearer TP UL (kbps)</th>\n      <td>8987</td>\n      <td>float32</td>\n    </tr>\n    <tr>\n      <th>DL TP &lt; 50 Kbps (%)</th>\n      <td>8987</td>\n      <td>float32</td>\n    </tr>\n    <tr>\n      <th>50 Kbps &lt; DL TP &lt; 250 Kbps (%)</th>\n      <td>8987</td>\n      <td>float32</td>\n    </tr>\n    <tr>\n      <th>250 Kbps &lt; DL TP &lt; 1 Mbps (%)</th>\n      <td>8987</td>\n      <td>float32</td>\n    </tr>\n    <tr>\n      <th>DL TP &gt; 1 Mbps (%)</th>\n      <td>8987</td>\n      <td>float32</td>\n    </tr>\n    <tr>\n      <th>UL TP &lt; 10 Kbps (%)</th>\n      <td>8987</td>\n      <td>float32</td>\n    </tr>\n    <tr>\n      <th>10 Kbps &lt; UL TP &lt; 50 Kbps (%)</th>\n      <td>8987</td>\n      <td>float32</td>\n    </tr>\n    <tr>\n      <th>50 Kbps &lt; UL TP &lt; 300 Kbps (%)</th>\n      <td>8987</td>\n      <td>float32</td>\n    </tr>\n    <tr>\n      <th>UL TP &gt; 300 Kbps (%)</th>\n      <td>8987</td>\n      <td>float32</td>\n    </tr>\n    <tr>\n      <th>Activity Duration DL (ms)</th>\n      <td>8987</td>\n      <td>float32</td>\n    </tr>\n    <tr>\n      <th>Activity Duration UL (ms)</th>\n      <td>8987</td>\n      <td>float32</td>\n    </tr>\n    <tr>\n      <th>Dur. (ms).1</th>\n      <td>8987</td>\n      <td>float32</td>\n    </tr>\n    <tr>\n      <th>Handset Manufacturer</th>\n      <td>9558</td>\n      <td>object</td>\n    </tr>\n    <tr>\n      <th>Handset Type</th>\n      <td>9558</td>\n      <td>object</td>\n    </tr>\n    <tr>\n      <th>Nb of sec with Vol DL &lt; 6250B</th>\n      <td>8987</td>\n      <td>float32</td>\n    </tr>\n    <tr>\n      <th>Nb of sec with Vol UL &lt; 1250B</th>\n      <td>8987</td>\n      <td>float32</td>\n    </tr>\n    <tr>\n      <th>Social Media DL (Bytes)</th>\n      <td>8987</td>\n      <td>float32</td>\n    </tr>\n    <tr>\n      <th>Social Media UL (Bytes)</th>\n      <td>8987</td>\n      <td>float32</td>\n    </tr>\n    <tr>\n      <th>Google DL (Bytes)</th>\n      <td>8987</td>\n      <td>float32</td>\n    </tr>\n    <tr>\n      <th>Google UL (Bytes)</th>\n      <td>8987</td>\n      <td>float32</td>\n    </tr>\n    <tr>\n      <th>Email DL (Bytes)</th>\n      <td>8987</td>\n      <td>float32</td>\n    </tr>\n    <tr>\n      <th>Email UL (Bytes)</th>\n      <td>8987</td>\n      <td>float32</td>\n    </tr>\n    <tr>\n      <th>Youtube DL (Bytes)</th>\n      <td>8987</td>\n      <td>float32</td>\n    </tr>\n    <tr>\n      <th>Youtube UL (Bytes)</th>\n      <td>8987</td>\n      <td>float32</td>\n    </tr>\n    <tr>\n      <th>Netflix DL (Bytes)</th>\n      <td>8987</td>\n      <td>float32</td>\n    </tr>\n    <tr>\n      <th>Netflix UL (Bytes)</th>\n      <td>8987</td>\n      <td>float32</td>\n    </tr>\n    <tr>\n      <th>Gaming DL (Bytes)</th>\n      <td>8987</td>\n      <td>float32</td>\n    </tr>\n    <tr>\n      <th>Gaming UL (Bytes)</th>\n      <td>8987</td>\n      <td>float32</td>\n    </tr>\n    <tr>\n      <th>Other DL (Bytes)</th>\n      <td>8987</td>\n      <td>float32</td>\n    </tr>\n    <tr>\n      <th>Other UL (Bytes)</th>\n      <td>8987</td>\n      <td>float32</td>\n    </tr>\n    <tr>\n      <th>Total UL (Bytes)</th>\n      <td>8987</td>\n      <td>float32</td>\n    </tr>\n    <tr>\n      <th>Total DL (Bytes)</th>\n      <td>8987</td>\n      <td>float32</td>\n    </tr>\n  </tbody>\n</table>\n</div>"
     },
     "metadata": {},
     "execution_count": 42
    }
   ],
   "source": [
    "explorer.get_column_based_missing_values()"
   ]
  },
  {
   "cell_type": "code",
   "execution_count": 43,
   "metadata": {},
   "outputs": [
    {
     "output_type": "execute_result",
     "data": {
      "text/plain": [
       "                                total_missing_values missing_percentage\n",
       "Bearer Id                                       8987             5.99 %\n",
       "Start                                           8987             5.99 %\n",
       "Start ms                                        8987             5.99 %\n",
       "End                                             8987             5.99 %\n",
       "End ms                                          8987             5.99 %\n",
       "Dur. (ms)                                       8987             5.99 %\n",
       "IMSI                                            8987             5.99 %\n",
       "MSISDN/Number                                   8987             5.99 %\n",
       "IMEI                                            8987             5.99 %\n",
       "Last Location Name                             10100             6.73 %\n",
       "Avg RTT DL (ms)                                 8987             5.99 %\n",
       "Avg RTT UL (ms)                                 8987             5.99 %\n",
       "Avg Bearer TP DL (kbps)                         8987             5.99 %\n",
       "Avg Bearer TP UL (kbps)                         8987             5.99 %\n",
       "DL TP < 50 Kbps (%)                             8987             5.99 %\n",
       "50 Kbps < DL TP < 250 Kbps (%)                  8987             5.99 %\n",
       "250 Kbps < DL TP < 1 Mbps (%)                   8987             5.99 %\n",
       "DL TP > 1 Mbps (%)                              8987             5.99 %\n",
       "UL TP < 10 Kbps (%)                             8987             5.99 %\n",
       "10 Kbps < UL TP < 50 Kbps (%)                   8987             5.99 %\n",
       "50 Kbps < UL TP < 300 Kbps (%)                  8987             5.99 %\n",
       "UL TP > 300 Kbps (%)                            8987             5.99 %\n",
       "Activity Duration DL (ms)                       8987             5.99 %\n",
       "Activity Duration UL (ms)                       8987             5.99 %\n",
       "Dur. (ms).1                                     8987             5.99 %\n",
       "Handset Manufacturer                            9558             6.37 %\n",
       "Handset Type                                    9558             6.37 %\n",
       "Nb of sec with Vol DL < 6250B                   8987             5.99 %\n",
       "Nb of sec with Vol UL < 1250B                   8987             5.99 %\n",
       "Social Media DL (Bytes)                         8987             5.99 %\n",
       "Social Media UL (Bytes)                         8987             5.99 %\n",
       "Google DL (Bytes)                               8987             5.99 %\n",
       "Google UL (Bytes)                               8987             5.99 %\n",
       "Email DL (Bytes)                                8987             5.99 %\n",
       "Email UL (Bytes)                                8987             5.99 %\n",
       "Youtube DL (Bytes)                              8987             5.99 %\n",
       "Youtube UL (Bytes)                              8987             5.99 %\n",
       "Netflix DL (Bytes)                              8987             5.99 %\n",
       "Netflix UL (Bytes)                              8987             5.99 %\n",
       "Gaming DL (Bytes)                               8987             5.99 %\n",
       "Gaming UL (Bytes)                               8987             5.99 %\n",
       "Other DL (Bytes)                                8987             5.99 %\n",
       "Other UL (Bytes)                                8987             5.99 %\n",
       "Total UL (Bytes)                                8987             5.99 %\n",
       "Total DL (Bytes)                                8987             5.99 %"
      ],
      "text/html": "<div>\n<style scoped>\n    .dataframe tbody tr th:only-of-type {\n        vertical-align: middle;\n    }\n\n    .dataframe tbody tr th {\n        vertical-align: top;\n    }\n\n    .dataframe thead th {\n        text-align: right;\n    }\n</style>\n<table border=\"1\" class=\"dataframe\">\n  <thead>\n    <tr style=\"text-align: right;\">\n      <th></th>\n      <th>total_missing_values</th>\n      <th>missing_percentage</th>\n    </tr>\n  </thead>\n  <tbody>\n    <tr>\n      <th>Bearer Id</th>\n      <td>8987</td>\n      <td>5.99 %</td>\n    </tr>\n    <tr>\n      <th>Start</th>\n      <td>8987</td>\n      <td>5.99 %</td>\n    </tr>\n    <tr>\n      <th>Start ms</th>\n      <td>8987</td>\n      <td>5.99 %</td>\n    </tr>\n    <tr>\n      <th>End</th>\n      <td>8987</td>\n      <td>5.99 %</td>\n    </tr>\n    <tr>\n      <th>End ms</th>\n      <td>8987</td>\n      <td>5.99 %</td>\n    </tr>\n    <tr>\n      <th>Dur. (ms)</th>\n      <td>8987</td>\n      <td>5.99 %</td>\n    </tr>\n    <tr>\n      <th>IMSI</th>\n      <td>8987</td>\n      <td>5.99 %</td>\n    </tr>\n    <tr>\n      <th>MSISDN/Number</th>\n      <td>8987</td>\n      <td>5.99 %</td>\n    </tr>\n    <tr>\n      <th>IMEI</th>\n      <td>8987</td>\n      <td>5.99 %</td>\n    </tr>\n    <tr>\n      <th>Last Location Name</th>\n      <td>10100</td>\n      <td>6.73 %</td>\n    </tr>\n    <tr>\n      <th>Avg RTT DL (ms)</th>\n      <td>8987</td>\n      <td>5.99 %</td>\n    </tr>\n    <tr>\n      <th>Avg RTT UL (ms)</th>\n      <td>8987</td>\n      <td>5.99 %</td>\n    </tr>\n    <tr>\n      <th>Avg Bearer TP DL (kbps)</th>\n      <td>8987</td>\n      <td>5.99 %</td>\n    </tr>\n    <tr>\n      <th>Avg Bearer TP UL (kbps)</th>\n      <td>8987</td>\n      <td>5.99 %</td>\n    </tr>\n    <tr>\n      <th>DL TP &lt; 50 Kbps (%)</th>\n      <td>8987</td>\n      <td>5.99 %</td>\n    </tr>\n    <tr>\n      <th>50 Kbps &lt; DL TP &lt; 250 Kbps (%)</th>\n      <td>8987</td>\n      <td>5.99 %</td>\n    </tr>\n    <tr>\n      <th>250 Kbps &lt; DL TP &lt; 1 Mbps (%)</th>\n      <td>8987</td>\n      <td>5.99 %</td>\n    </tr>\n    <tr>\n      <th>DL TP &gt; 1 Mbps (%)</th>\n      <td>8987</td>\n      <td>5.99 %</td>\n    </tr>\n    <tr>\n      <th>UL TP &lt; 10 Kbps (%)</th>\n      <td>8987</td>\n      <td>5.99 %</td>\n    </tr>\n    <tr>\n      <th>10 Kbps &lt; UL TP &lt; 50 Kbps (%)</th>\n      <td>8987</td>\n      <td>5.99 %</td>\n    </tr>\n    <tr>\n      <th>50 Kbps &lt; UL TP &lt; 300 Kbps (%)</th>\n      <td>8987</td>\n      <td>5.99 %</td>\n    </tr>\n    <tr>\n      <th>UL TP &gt; 300 Kbps (%)</th>\n      <td>8987</td>\n      <td>5.99 %</td>\n    </tr>\n    <tr>\n      <th>Activity Duration DL (ms)</th>\n      <td>8987</td>\n      <td>5.99 %</td>\n    </tr>\n    <tr>\n      <th>Activity Duration UL (ms)</th>\n      <td>8987</td>\n      <td>5.99 %</td>\n    </tr>\n    <tr>\n      <th>Dur. (ms).1</th>\n      <td>8987</td>\n      <td>5.99 %</td>\n    </tr>\n    <tr>\n      <th>Handset Manufacturer</th>\n      <td>9558</td>\n      <td>6.37 %</td>\n    </tr>\n    <tr>\n      <th>Handset Type</th>\n      <td>9558</td>\n      <td>6.37 %</td>\n    </tr>\n    <tr>\n      <th>Nb of sec with Vol DL &lt; 6250B</th>\n      <td>8987</td>\n      <td>5.99 %</td>\n    </tr>\n    <tr>\n      <th>Nb of sec with Vol UL &lt; 1250B</th>\n      <td>8987</td>\n      <td>5.99 %</td>\n    </tr>\n    <tr>\n      <th>Social Media DL (Bytes)</th>\n      <td>8987</td>\n      <td>5.99 %</td>\n    </tr>\n    <tr>\n      <th>Social Media UL (Bytes)</th>\n      <td>8987</td>\n      <td>5.99 %</td>\n    </tr>\n    <tr>\n      <th>Google DL (Bytes)</th>\n      <td>8987</td>\n      <td>5.99 %</td>\n    </tr>\n    <tr>\n      <th>Google UL (Bytes)</th>\n      <td>8987</td>\n      <td>5.99 %</td>\n    </tr>\n    <tr>\n      <th>Email DL (Bytes)</th>\n      <td>8987</td>\n      <td>5.99 %</td>\n    </tr>\n    <tr>\n      <th>Email UL (Bytes)</th>\n      <td>8987</td>\n      <td>5.99 %</td>\n    </tr>\n    <tr>\n      <th>Youtube DL (Bytes)</th>\n      <td>8987</td>\n      <td>5.99 %</td>\n    </tr>\n    <tr>\n      <th>Youtube UL (Bytes)</th>\n      <td>8987</td>\n      <td>5.99 %</td>\n    </tr>\n    <tr>\n      <th>Netflix DL (Bytes)</th>\n      <td>8987</td>\n      <td>5.99 %</td>\n    </tr>\n    <tr>\n      <th>Netflix UL (Bytes)</th>\n      <td>8987</td>\n      <td>5.99 %</td>\n    </tr>\n    <tr>\n      <th>Gaming DL (Bytes)</th>\n      <td>8987</td>\n      <td>5.99 %</td>\n    </tr>\n    <tr>\n      <th>Gaming UL (Bytes)</th>\n      <td>8987</td>\n      <td>5.99 %</td>\n    </tr>\n    <tr>\n      <th>Other DL (Bytes)</th>\n      <td>8987</td>\n      <td>5.99 %</td>\n    </tr>\n    <tr>\n      <th>Other UL (Bytes)</th>\n      <td>8987</td>\n      <td>5.99 %</td>\n    </tr>\n    <tr>\n      <th>Total UL (Bytes)</th>\n      <td>8987</td>\n      <td>5.99 %</td>\n    </tr>\n    <tr>\n      <th>Total DL (Bytes)</th>\n      <td>8987</td>\n      <td>5.99 %</td>\n    </tr>\n  </tbody>\n</table>\n</div>"
     },
     "metadata": {},
     "execution_count": 43
    }
   ],
   "source": [
    "explorer.get_column_based_missing_percentage()"
   ]
  },
  {
   "cell_type": "code",
   "execution_count": 44,
   "metadata": {},
   "outputs": [
    {
     "output_type": "execute_result",
     "data": {
      "text/plain": [
       "Index([], dtype='object')"
      ]
     },
     "metadata": {},
     "execution_count": 44
    }
   ],
   "source": [
    "explorer.get_columns_missing_percentage_greater_than(30.0)"
   ]
  },
  {
   "cell_type": "code",
   "execution_count": 45,
   "metadata": {},
   "outputs": [
    {
     "output_type": "execute_result",
     "data": {
      "text/plain": [
       "              Bearer Id               Start  Start ms                 End  \\\n",
       "0  13114483460844900352 2019-04-04 12:01:18     770.0 2019-04-25 14:35:31   \n",
       "1  13114483482878900224 2019-04-09 13:04:04     235.0 2019-04-25 08:15:48   \n",
       "2  13114483484080500736 2019-04-09 17:42:11       1.0 2019-04-25 11:58:13   \n",
       "3                  None                 NaT       NaN                 NaT   \n",
       "4  13114483499480700928 2019-04-12 20:10:23     565.0 2019-04-25 10:40:32   \n",
       "\n",
       "   End ms  Dur. (ms)          IMSI  MSISDN/Number          IMEI  \\\n",
       "0   662.0  1823652.0  2.082014e+14   3.366496e+10  3.552121e+13   \n",
       "1   606.0  1365104.0  2.082019e+14   3.368185e+10  3.579401e+13   \n",
       "2   652.0  1361762.0  2.082003e+14   3.376063e+10  3.528151e+13   \n",
       "3     NaN        NaN           NaN            NaN           NaN   \n",
       "4   954.0  1089009.0  2.082014e+14   3.369979e+10  3.540701e+13   \n",
       "\n",
       "  Last Location Name  Avg RTT DL (ms)  Avg RTT UL (ms)  \\\n",
       "0   9164566995485190             42.0              5.0   \n",
       "1            L77566A             65.0              5.0   \n",
       "2            D42335A             45.0              5.0   \n",
       "3               None              NaN              NaN   \n",
       "4            D88865A             45.0              5.0   \n",
       "\n",
       "   Avg Bearer TP DL (kbps)  Avg Bearer TP UL (kbps)  DL TP < 50 Kbps (%)  \\\n",
       "0                     23.0                     44.0                100.0   \n",
       "1                     16.0                     26.0                100.0   \n",
       "2                      6.0                      9.0                100.0   \n",
       "3                      NaN                      NaN                  NaN   \n",
       "4                      6.0                      9.0                100.0   \n",
       "\n",
       "   50 Kbps < DL TP < 250 Kbps (%)  250 Kbps < DL TP < 1 Mbps (%)  \\\n",
       "0                             0.0                            0.0   \n",
       "1                             0.0                            0.0   \n",
       "2                             0.0                            0.0   \n",
       "3                             NaN                            NaN   \n",
       "4                             0.0                            0.0   \n",
       "\n",
       "   DL TP > 1 Mbps (%)  UL TP < 10 Kbps (%)  10 Kbps < UL TP < 50 Kbps (%)  \\\n",
       "0                 0.0                100.0                            0.0   \n",
       "1                 0.0                100.0                            0.0   \n",
       "2                 0.0                100.0                            0.0   \n",
       "3                 NaN                  NaN                            NaN   \n",
       "4                 0.0                100.0                            0.0   \n",
       "\n",
       "   50 Kbps < UL TP < 300 Kbps (%)  UL TP > 300 Kbps (%)  \\\n",
       "0                             0.0                   0.0   \n",
       "1                             0.0                   0.0   \n",
       "2                             0.0                   0.0   \n",
       "3                             NaN                   NaN   \n",
       "4                             0.0                   0.0   \n",
       "\n",
       "   Activity Duration DL (ms)  Activity Duration UL (ms)   Dur. (ms).1  \\\n",
       "0                    37624.0                    38787.0  1.823653e+09   \n",
       "1                      168.0                     3560.0  1.365104e+09   \n",
       "2                        0.0                        0.0  1.361763e+09   \n",
       "3                        NaN                        NaN           NaN   \n",
       "4                        0.0                        0.0  1.089009e+09   \n",
       "\n",
       "  Handset Manufacturer                 Handset Type  \\\n",
       "0              Samsung   Samsung Galaxy A5 Sm-A520F   \n",
       "1              Samsung  Samsung Galaxy J5 (Sm-J530)   \n",
       "2              Samsung     Samsung Galaxy A8 (2018)   \n",
       "3                 None                         None   \n",
       "4              Samsung             Samsung Sm-G390F   \n",
       "\n",
       "   Nb of sec with Vol DL < 6250B  Nb of sec with Vol UL < 1250B  \\\n",
       "0                          213.0                          214.0   \n",
       "1                          971.0                         1022.0   \n",
       "2                          751.0                          695.0   \n",
       "3                            NaN                            NaN   \n",
       "4                          607.0                          604.0   \n",
       "\n",
       "   Social Media DL (Bytes)  Social Media UL (Bytes)  Google DL (Bytes)  \\\n",
       "0                1545765.0                  24420.0          1634479.0   \n",
       "1                1926113.0                   7165.0          3493924.0   \n",
       "2                1684053.0                  42224.0          8535055.0   \n",
       "3                      NaN                      NaN                NaN   \n",
       "4                 862600.0                  50188.0          6248284.0   \n",
       "\n",
       "   Google UL (Bytes)  Email DL (Bytes)  Email UL (Bytes)  Youtube DL (Bytes)  \\\n",
       "0          1271433.0         3563542.0          137762.0          15854611.0   \n",
       "1           920172.0          629046.0          308339.0          20247396.0   \n",
       "2          1694064.0         2690151.0          672973.0          19725660.0   \n",
       "3                NaN               NaN               NaN                 NaN   \n",
       "4          1500559.0         1936496.0          173853.0          15259380.0   \n",
       "\n",
       "   Youtube UL (Bytes)  Netflix DL (Bytes)  Netflix UL (Bytes)  \\\n",
       "0           2501332.0           8198936.0           9656251.0   \n",
       "1          19111728.0          18338412.0          17227132.0   \n",
       "2          14699576.0          17587794.0           6163408.0   \n",
       "3                 NaN                 NaN                 NaN   \n",
       "4          18962872.0          17124580.0            415218.0   \n",
       "\n",
       "   Gaming DL (Bytes)  Gaming UL (Bytes)  Other DL (Bytes)  Other UL (Bytes)  \\\n",
       "0        278082304.0         14344150.0       171744448.0         8814393.0   \n",
       "1        608750080.0          1170709.0       526904224.0        15055145.0   \n",
       "2        229584624.0           395630.0       410692576.0         4215763.0   \n",
       "3                NaN                NaN               NaN               NaN   \n",
       "4        527707264.0          3529801.0       550709504.0        13910322.0   \n",
       "\n",
       "   Total UL (Bytes)  Total DL (Bytes)  \n",
       "0        36749740.0       308879648.0  \n",
       "1        53800392.0       653384960.0  \n",
       "2        27883638.0       279807328.0  \n",
       "3               NaN               NaN  \n",
       "4        38542816.0       569138560.0  "
      ],
      "text/html": "<div>\n<style scoped>\n    .dataframe tbody tr th:only-of-type {\n        vertical-align: middle;\n    }\n\n    .dataframe tbody tr th {\n        vertical-align: top;\n    }\n\n    .dataframe thead th {\n        text-align: right;\n    }\n</style>\n<table border=\"1\" class=\"dataframe\">\n  <thead>\n    <tr style=\"text-align: right;\">\n      <th></th>\n      <th>Bearer Id</th>\n      <th>Start</th>\n      <th>Start ms</th>\n      <th>End</th>\n      <th>End ms</th>\n      <th>Dur. (ms)</th>\n      <th>IMSI</th>\n      <th>MSISDN/Number</th>\n      <th>IMEI</th>\n      <th>Last Location Name</th>\n      <th>Avg RTT DL (ms)</th>\n      <th>Avg RTT UL (ms)</th>\n      <th>Avg Bearer TP DL (kbps)</th>\n      <th>Avg Bearer TP UL (kbps)</th>\n      <th>DL TP &lt; 50 Kbps (%)</th>\n      <th>50 Kbps &lt; DL TP &lt; 250 Kbps (%)</th>\n      <th>250 Kbps &lt; DL TP &lt; 1 Mbps (%)</th>\n      <th>DL TP &gt; 1 Mbps (%)</th>\n      <th>UL TP &lt; 10 Kbps (%)</th>\n      <th>10 Kbps &lt; UL TP &lt; 50 Kbps (%)</th>\n      <th>50 Kbps &lt; UL TP &lt; 300 Kbps (%)</th>\n      <th>UL TP &gt; 300 Kbps (%)</th>\n      <th>Activity Duration DL (ms)</th>\n      <th>Activity Duration UL (ms)</th>\n      <th>Dur. (ms).1</th>\n      <th>Handset Manufacturer</th>\n      <th>Handset Type</th>\n      <th>Nb of sec with Vol DL &lt; 6250B</th>\n      <th>Nb of sec with Vol UL &lt; 1250B</th>\n      <th>Social Media DL (Bytes)</th>\n      <th>Social Media UL (Bytes)</th>\n      <th>Google DL (Bytes)</th>\n      <th>Google UL (Bytes)</th>\n      <th>Email DL (Bytes)</th>\n      <th>Email UL (Bytes)</th>\n      <th>Youtube DL (Bytes)</th>\n      <th>Youtube UL (Bytes)</th>\n      <th>Netflix DL (Bytes)</th>\n      <th>Netflix UL (Bytes)</th>\n      <th>Gaming DL (Bytes)</th>\n      <th>Gaming UL (Bytes)</th>\n      <th>Other DL (Bytes)</th>\n      <th>Other UL (Bytes)</th>\n      <th>Total UL (Bytes)</th>\n      <th>Total DL (Bytes)</th>\n    </tr>\n  </thead>\n  <tbody>\n    <tr>\n      <th>0</th>\n      <td>13114483460844900352</td>\n      <td>2019-04-04 12:01:18</td>\n      <td>770.0</td>\n      <td>2019-04-25 14:35:31</td>\n      <td>662.0</td>\n      <td>1823652.0</td>\n      <td>2.082014e+14</td>\n      <td>3.366496e+10</td>\n      <td>3.552121e+13</td>\n      <td>9164566995485190</td>\n      <td>42.0</td>\n      <td>5.0</td>\n      <td>23.0</td>\n      <td>44.0</td>\n      <td>100.0</td>\n      <td>0.0</td>\n      <td>0.0</td>\n      <td>0.0</td>\n      <td>100.0</td>\n      <td>0.0</td>\n      <td>0.0</td>\n      <td>0.0</td>\n      <td>37624.0</td>\n      <td>38787.0</td>\n      <td>1.823653e+09</td>\n      <td>Samsung</td>\n      <td>Samsung Galaxy A5 Sm-A520F</td>\n      <td>213.0</td>\n      <td>214.0</td>\n      <td>1545765.0</td>\n      <td>24420.0</td>\n      <td>1634479.0</td>\n      <td>1271433.0</td>\n      <td>3563542.0</td>\n      <td>137762.0</td>\n      <td>15854611.0</td>\n      <td>2501332.0</td>\n      <td>8198936.0</td>\n      <td>9656251.0</td>\n      <td>278082304.0</td>\n      <td>14344150.0</td>\n      <td>171744448.0</td>\n      <td>8814393.0</td>\n      <td>36749740.0</td>\n      <td>308879648.0</td>\n    </tr>\n    <tr>\n      <th>1</th>\n      <td>13114483482878900224</td>\n      <td>2019-04-09 13:04:04</td>\n      <td>235.0</td>\n      <td>2019-04-25 08:15:48</td>\n      <td>606.0</td>\n      <td>1365104.0</td>\n      <td>2.082019e+14</td>\n      <td>3.368185e+10</td>\n      <td>3.579401e+13</td>\n      <td>L77566A</td>\n      <td>65.0</td>\n      <td>5.0</td>\n      <td>16.0</td>\n      <td>26.0</td>\n      <td>100.0</td>\n      <td>0.0</td>\n      <td>0.0</td>\n      <td>0.0</td>\n      <td>100.0</td>\n      <td>0.0</td>\n      <td>0.0</td>\n      <td>0.0</td>\n      <td>168.0</td>\n      <td>3560.0</td>\n      <td>1.365104e+09</td>\n      <td>Samsung</td>\n      <td>Samsung Galaxy J5 (Sm-J530)</td>\n      <td>971.0</td>\n      <td>1022.0</td>\n      <td>1926113.0</td>\n      <td>7165.0</td>\n      <td>3493924.0</td>\n      <td>920172.0</td>\n      <td>629046.0</td>\n      <td>308339.0</td>\n      <td>20247396.0</td>\n      <td>19111728.0</td>\n      <td>18338412.0</td>\n      <td>17227132.0</td>\n      <td>608750080.0</td>\n      <td>1170709.0</td>\n      <td>526904224.0</td>\n      <td>15055145.0</td>\n      <td>53800392.0</td>\n      <td>653384960.0</td>\n    </tr>\n    <tr>\n      <th>2</th>\n      <td>13114483484080500736</td>\n      <td>2019-04-09 17:42:11</td>\n      <td>1.0</td>\n      <td>2019-04-25 11:58:13</td>\n      <td>652.0</td>\n      <td>1361762.0</td>\n      <td>2.082003e+14</td>\n      <td>3.376063e+10</td>\n      <td>3.528151e+13</td>\n      <td>D42335A</td>\n      <td>45.0</td>\n      <td>5.0</td>\n      <td>6.0</td>\n      <td>9.0</td>\n      <td>100.0</td>\n      <td>0.0</td>\n      <td>0.0</td>\n      <td>0.0</td>\n      <td>100.0</td>\n      <td>0.0</td>\n      <td>0.0</td>\n      <td>0.0</td>\n      <td>0.0</td>\n      <td>0.0</td>\n      <td>1.361763e+09</td>\n      <td>Samsung</td>\n      <td>Samsung Galaxy A8 (2018)</td>\n      <td>751.0</td>\n      <td>695.0</td>\n      <td>1684053.0</td>\n      <td>42224.0</td>\n      <td>8535055.0</td>\n      <td>1694064.0</td>\n      <td>2690151.0</td>\n      <td>672973.0</td>\n      <td>19725660.0</td>\n      <td>14699576.0</td>\n      <td>17587794.0</td>\n      <td>6163408.0</td>\n      <td>229584624.0</td>\n      <td>395630.0</td>\n      <td>410692576.0</td>\n      <td>4215763.0</td>\n      <td>27883638.0</td>\n      <td>279807328.0</td>\n    </tr>\n    <tr>\n      <th>3</th>\n      <td>None</td>\n      <td>NaT</td>\n      <td>NaN</td>\n      <td>NaT</td>\n      <td>NaN</td>\n      <td>NaN</td>\n      <td>NaN</td>\n      <td>NaN</td>\n      <td>NaN</td>\n      <td>None</td>\n      <td>NaN</td>\n      <td>NaN</td>\n      <td>NaN</td>\n      <td>NaN</td>\n      <td>NaN</td>\n      <td>NaN</td>\n      <td>NaN</td>\n      <td>NaN</td>\n      <td>NaN</td>\n      <td>NaN</td>\n      <td>NaN</td>\n      <td>NaN</td>\n      <td>NaN</td>\n      <td>NaN</td>\n      <td>NaN</td>\n      <td>None</td>\n      <td>None</td>\n      <td>NaN</td>\n      <td>NaN</td>\n      <td>NaN</td>\n      <td>NaN</td>\n      <td>NaN</td>\n      <td>NaN</td>\n      <td>NaN</td>\n      <td>NaN</td>\n      <td>NaN</td>\n      <td>NaN</td>\n      <td>NaN</td>\n      <td>NaN</td>\n      <td>NaN</td>\n      <td>NaN</td>\n      <td>NaN</td>\n      <td>NaN</td>\n      <td>NaN</td>\n      <td>NaN</td>\n    </tr>\n    <tr>\n      <th>4</th>\n      <td>13114483499480700928</td>\n      <td>2019-04-12 20:10:23</td>\n      <td>565.0</td>\n      <td>2019-04-25 10:40:32</td>\n      <td>954.0</td>\n      <td>1089009.0</td>\n      <td>2.082014e+14</td>\n      <td>3.369979e+10</td>\n      <td>3.540701e+13</td>\n      <td>D88865A</td>\n      <td>45.0</td>\n      <td>5.0</td>\n      <td>6.0</td>\n      <td>9.0</td>\n      <td>100.0</td>\n      <td>0.0</td>\n      <td>0.0</td>\n      <td>0.0</td>\n      <td>100.0</td>\n      <td>0.0</td>\n      <td>0.0</td>\n      <td>0.0</td>\n      <td>0.0</td>\n      <td>0.0</td>\n      <td>1.089009e+09</td>\n      <td>Samsung</td>\n      <td>Samsung Sm-G390F</td>\n      <td>607.0</td>\n      <td>604.0</td>\n      <td>862600.0</td>\n      <td>50188.0</td>\n      <td>6248284.0</td>\n      <td>1500559.0</td>\n      <td>1936496.0</td>\n      <td>173853.0</td>\n      <td>15259380.0</td>\n      <td>18962872.0</td>\n      <td>17124580.0</td>\n      <td>415218.0</td>\n      <td>527707264.0</td>\n      <td>3529801.0</td>\n      <td>550709504.0</td>\n      <td>13910322.0</td>\n      <td>38542816.0</td>\n      <td>569138560.0</td>\n    </tr>\n  </tbody>\n</table>\n</div>"
     },
     "metadata": {},
     "execution_count": 45
    }
   ],
   "source": [
    "from data_cleaner import DataCleaner\n",
    "cleaner = DataCleaner(explorer.df)\n",
    "cleaner.df.head()"
   ]
  },
  {
   "cell_type": "code",
   "execution_count": 46,
   "metadata": {
    "tags": []
   },
   "outputs": [
    {
     "output_type": "stream",
     "name": "stdout",
     "text": [
      "<class 'pandas.core.frame.DataFrame'>\nInt64Index: 150000 entries, 0 to 149999\nData columns (total 45 columns):\n #   Column                          Non-Null Count   Dtype         \n---  ------                          --------------   -----         \n 0   Bearer Id                       141013 non-null  object        \n 1   Start                           141013 non-null  datetime64[ns]\n 2   Start ms                        141013 non-null  float32       \n 3   End                             141013 non-null  datetime64[ns]\n 4   End ms                          141013 non-null  float32       \n 5   Dur. (ms)                       141013 non-null  float32       \n 6   IMSI                            141013 non-null  float32       \n 7   MSISDN/Number                   141013 non-null  float32       \n 8   IMEI                            141013 non-null  float32       \n 9   Last Location Name              139900 non-null  object        \n 10  Avg RTT DL (ms)                 141013 non-null  float32       \n 11  Avg RTT UL (ms)                 141013 non-null  float32       \n 12  Avg Bearer TP DL (kbps)         141013 non-null  float32       \n 13  Avg Bearer TP UL (kbps)         141013 non-null  float32       \n 14  DL TP < 50 Kbps (%)             141013 non-null  float32       \n 15  50 Kbps < DL TP < 250 Kbps (%)  141013 non-null  float32       \n 16  250 Kbps < DL TP < 1 Mbps (%)   141013 non-null  float32       \n 17  DL TP > 1 Mbps (%)              141013 non-null  float32       \n 18  UL TP < 10 Kbps (%)             141013 non-null  float32       \n 19  10 Kbps < UL TP < 50 Kbps (%)   141013 non-null  float32       \n 20  50 Kbps < UL TP < 300 Kbps (%)  141013 non-null  float32       \n 21  UL TP > 300 Kbps (%)            141013 non-null  float32       \n 22  Activity Duration DL (ms)       141013 non-null  float32       \n 23  Activity Duration UL (ms)       141013 non-null  float32       \n 24  Dur. (ms).1                     141013 non-null  float32       \n 25  Handset Manufacturer            140442 non-null  object        \n 26  Handset Type                    140442 non-null  object        \n 27  Nb of sec with Vol DL < 6250B   141013 non-null  float32       \n 28  Nb of sec with Vol UL < 1250B   141013 non-null  float32       \n 29  Social Media DL (Bytes)         141013 non-null  float32       \n 30  Social Media UL (Bytes)         141013 non-null  float32       \n 31  Google DL (Bytes)               141013 non-null  float32       \n 32  Google UL (Bytes)               141013 non-null  float32       \n 33  Email DL (Bytes)                141013 non-null  float32       \n 34  Email UL (Bytes)                141013 non-null  float32       \n 35  Youtube DL (Bytes)              141013 non-null  float32       \n 36  Youtube UL (Bytes)              141013 non-null  float32       \n 37  Netflix DL (Bytes)              141013 non-null  float32       \n 38  Netflix UL (Bytes)              141013 non-null  float32       \n 39  Gaming DL (Bytes)               141013 non-null  float32       \n 40  Gaming UL (Bytes)               141013 non-null  float32       \n 41  Other DL (Bytes)                141013 non-null  float32       \n 42  Other UL (Bytes)                141013 non-null  float32       \n 43  Total UL (Bytes)                141013 non-null  float32       \n 44  Total DL (Bytes)                141013 non-null  float32       \ndtypes: datetime64[ns](2), float32(39), object(4)\nmemory usage: 34.4+ MB\n"
     ]
    }
   ],
   "source": [
    "cleaner.df.info()"
   ]
  },
  {
   "cell_type": "code",
   "execution_count": 49,
   "metadata": {},
   "outputs": [
    {
     "output_type": "execute_result",
     "data": {
      "text/plain": [
       "(149999, 45)"
      ]
     },
     "metadata": {},
     "execution_count": 49
    }
   ],
   "source": [
    "cleaner.remove_unwanted_columns(explorer.get_columns_missing_percentage_greater_than(30.0))\n",
    "cleaner.df.shape"
   ]
  },
  {
   "cell_type": "code",
   "execution_count": 48,
   "metadata": {},
   "outputs": [
    {
     "output_type": "execute_result",
     "data": {
      "text/plain": [
       "(149999, 45)"
      ]
     },
     "metadata": {},
     "execution_count": 48
    }
   ],
   "source": [
    "cleaner.df.drop([cleaner.df.index[-1]], inplace=True)\n",
    "cleaner.df.shape"
   ]
  },
  {
   "cell_type": "code",
   "execution_count": 50,
   "metadata": {},
   "outputs": [],
   "source": [
    "explorer = DataInfo(cleaner.df)"
   ]
  },
  {
   "cell_type": "code",
   "execution_count": 52,
   "metadata": {},
   "outputs": [
    {
     "output_type": "execute_result",
     "data": {
      "text/plain": [
       "['Bearer Id',\n",
       " 'Start',\n",
       " 'Start ms',\n",
       " 'End',\n",
       " 'End ms',\n",
       " 'Dur. (ms)',\n",
       " 'IMSI',\n",
       " 'MSISDN/Number',\n",
       " 'IMEI',\n",
       " 'Last Location Name',\n",
       " 'Avg RTT DL (ms)',\n",
       " 'Avg RTT UL (ms)',\n",
       " 'Avg Bearer TP DL (kbps)',\n",
       " 'Avg Bearer TP UL (kbps)',\n",
       " 'DL TP < 50 Kbps (%)',\n",
       " '50 Kbps < DL TP < 250 Kbps (%)',\n",
       " '250 Kbps < DL TP < 1 Mbps (%)',\n",
       " 'DL TP > 1 Mbps (%)',\n",
       " 'UL TP < 10 Kbps (%)',\n",
       " '10 Kbps < UL TP < 50 Kbps (%)',\n",
       " '50 Kbps < UL TP < 300 Kbps (%)',\n",
       " 'UL TP > 300 Kbps (%)',\n",
       " 'Activity Duration DL (ms)',\n",
       " 'Activity Duration UL (ms)',\n",
       " 'Dur. (ms).1',\n",
       " 'Handset Manufacturer',\n",
       " 'Handset Type',\n",
       " 'Nb of sec with Vol DL < 6250B',\n",
       " 'Nb of sec with Vol UL < 1250B',\n",
       " 'Social Media DL (Bytes)',\n",
       " 'Social Media UL (Bytes)',\n",
       " 'Google DL (Bytes)',\n",
       " 'Google UL (Bytes)',\n",
       " 'Email DL (Bytes)',\n",
       " 'Email UL (Bytes)',\n",
       " 'Youtube DL (Bytes)',\n",
       " 'Youtube UL (Bytes)',\n",
       " 'Netflix DL (Bytes)',\n",
       " 'Netflix UL (Bytes)',\n",
       " 'Gaming DL (Bytes)',\n",
       " 'Gaming UL (Bytes)',\n",
       " 'Other DL (Bytes)',\n",
       " 'Other UL (Bytes)',\n",
       " 'Total UL (Bytes)',\n",
       " 'Total DL (Bytes)']"
      ]
     },
     "metadata": {},
     "execution_count": 52
    }
   ],
   "source": [
    "explorer.get_columns_with_missing_values()"
   ]
  },
  {
   "cell_type": "code",
   "execution_count": 53,
   "metadata": {},
   "outputs": [
    {
     "output_type": "execute_result",
     "data": {
      "text/plain": [
       "                                missing_count            type\n",
       "Bearer Id                                8987          object\n",
       "Start                                    8987  datetime64[ns]\n",
       "Start ms                                 8987         float32\n",
       "End                                      8987  datetime64[ns]\n",
       "End ms                                   8987         float32\n",
       "Dur. (ms)                                8987         float32\n",
       "IMSI                                     8987         float32\n",
       "MSISDN/Number                            8987         float32\n",
       "IMEI                                     8987         float32\n",
       "Last Location Name                      10100          object\n",
       "Avg RTT DL (ms)                          8987         float32\n",
       "Avg RTT UL (ms)                          8987         float32\n",
       "Avg Bearer TP DL (kbps)                  8987         float32\n",
       "Avg Bearer TP UL (kbps)                  8987         float32\n",
       "DL TP < 50 Kbps (%)                      8987         float32\n",
       "50 Kbps < DL TP < 250 Kbps (%)           8987         float32\n",
       "250 Kbps < DL TP < 1 Mbps (%)            8987         float32\n",
       "DL TP > 1 Mbps (%)                       8987         float32\n",
       "UL TP < 10 Kbps (%)                      8987         float32\n",
       "10 Kbps < UL TP < 50 Kbps (%)            8987         float32\n",
       "50 Kbps < UL TP < 300 Kbps (%)           8987         float32\n",
       "UL TP > 300 Kbps (%)                     8987         float32\n",
       "Activity Duration DL (ms)                8987         float32\n",
       "Activity Duration UL (ms)                8987         float32\n",
       "Dur. (ms).1                              8987         float32\n",
       "Handset Manufacturer                     9558          object\n",
       "Handset Type                             9558          object\n",
       "Nb of sec with Vol DL < 6250B            8987         float32\n",
       "Nb of sec with Vol UL < 1250B            8987         float32\n",
       "Social Media DL (Bytes)                  8987         float32\n",
       "Social Media UL (Bytes)                  8987         float32\n",
       "Google DL (Bytes)                        8987         float32\n",
       "Google UL (Bytes)                        8987         float32\n",
       "Email DL (Bytes)                         8987         float32\n",
       "Email UL (Bytes)                         8987         float32\n",
       "Youtube DL (Bytes)                       8987         float32\n",
       "Youtube UL (Bytes)                       8987         float32\n",
       "Netflix DL (Bytes)                       8987         float32\n",
       "Netflix UL (Bytes)                       8987         float32\n",
       "Gaming DL (Bytes)                        8987         float32\n",
       "Gaming UL (Bytes)                        8987         float32\n",
       "Other DL (Bytes)                         8987         float32\n",
       "Other UL (Bytes)                         8987         float32\n",
       "Total UL (Bytes)                         8987         float32\n",
       "Total DL (Bytes)                         8987         float32"
      ],
      "text/html": "<div>\n<style scoped>\n    .dataframe tbody tr th:only-of-type {\n        vertical-align: middle;\n    }\n\n    .dataframe tbody tr th {\n        vertical-align: top;\n    }\n\n    .dataframe thead th {\n        text-align: right;\n    }\n</style>\n<table border=\"1\" class=\"dataframe\">\n  <thead>\n    <tr style=\"text-align: right;\">\n      <th></th>\n      <th>missing_count</th>\n      <th>type</th>\n    </tr>\n  </thead>\n  <tbody>\n    <tr>\n      <th>Bearer Id</th>\n      <td>8987</td>\n      <td>object</td>\n    </tr>\n    <tr>\n      <th>Start</th>\n      <td>8987</td>\n      <td>datetime64[ns]</td>\n    </tr>\n    <tr>\n      <th>Start ms</th>\n      <td>8987</td>\n      <td>float32</td>\n    </tr>\n    <tr>\n      <th>End</th>\n      <td>8987</td>\n      <td>datetime64[ns]</td>\n    </tr>\n    <tr>\n      <th>End ms</th>\n      <td>8987</td>\n      <td>float32</td>\n    </tr>\n    <tr>\n      <th>Dur. (ms)</th>\n      <td>8987</td>\n      <td>float32</td>\n    </tr>\n    <tr>\n      <th>IMSI</th>\n      <td>8987</td>\n      <td>float32</td>\n    </tr>\n    <tr>\n      <th>MSISDN/Number</th>\n      <td>8987</td>\n      <td>float32</td>\n    </tr>\n    <tr>\n      <th>IMEI</th>\n      <td>8987</td>\n      <td>float32</td>\n    </tr>\n    <tr>\n      <th>Last Location Name</th>\n      <td>10100</td>\n      <td>object</td>\n    </tr>\n    <tr>\n      <th>Avg RTT DL (ms)</th>\n      <td>8987</td>\n      <td>float32</td>\n    </tr>\n    <tr>\n      <th>Avg RTT UL (ms)</th>\n      <td>8987</td>\n      <td>float32</td>\n    </tr>\n    <tr>\n      <th>Avg Bearer TP DL (kbps)</th>\n      <td>8987</td>\n      <td>float32</td>\n    </tr>\n    <tr>\n      <th>Avg Bearer TP UL (kbps)</th>\n      <td>8987</td>\n      <td>float32</td>\n    </tr>\n    <tr>\n      <th>DL TP &lt; 50 Kbps (%)</th>\n      <td>8987</td>\n      <td>float32</td>\n    </tr>\n    <tr>\n      <th>50 Kbps &lt; DL TP &lt; 250 Kbps (%)</th>\n      <td>8987</td>\n      <td>float32</td>\n    </tr>\n    <tr>\n      <th>250 Kbps &lt; DL TP &lt; 1 Mbps (%)</th>\n      <td>8987</td>\n      <td>float32</td>\n    </tr>\n    <tr>\n      <th>DL TP &gt; 1 Mbps (%)</th>\n      <td>8987</td>\n      <td>float32</td>\n    </tr>\n    <tr>\n      <th>UL TP &lt; 10 Kbps (%)</th>\n      <td>8987</td>\n      <td>float32</td>\n    </tr>\n    <tr>\n      <th>10 Kbps &lt; UL TP &lt; 50 Kbps (%)</th>\n      <td>8987</td>\n      <td>float32</td>\n    </tr>\n    <tr>\n      <th>50 Kbps &lt; UL TP &lt; 300 Kbps (%)</th>\n      <td>8987</td>\n      <td>float32</td>\n    </tr>\n    <tr>\n      <th>UL TP &gt; 300 Kbps (%)</th>\n      <td>8987</td>\n      <td>float32</td>\n    </tr>\n    <tr>\n      <th>Activity Duration DL (ms)</th>\n      <td>8987</td>\n      <td>float32</td>\n    </tr>\n    <tr>\n      <th>Activity Duration UL (ms)</th>\n      <td>8987</td>\n      <td>float32</td>\n    </tr>\n    <tr>\n      <th>Dur. (ms).1</th>\n      <td>8987</td>\n      <td>float32</td>\n    </tr>\n    <tr>\n      <th>Handset Manufacturer</th>\n      <td>9558</td>\n      <td>object</td>\n    </tr>\n    <tr>\n      <th>Handset Type</th>\n      <td>9558</td>\n      <td>object</td>\n    </tr>\n    <tr>\n      <th>Nb of sec with Vol DL &lt; 6250B</th>\n      <td>8987</td>\n      <td>float32</td>\n    </tr>\n    <tr>\n      <th>Nb of sec with Vol UL &lt; 1250B</th>\n      <td>8987</td>\n      <td>float32</td>\n    </tr>\n    <tr>\n      <th>Social Media DL (Bytes)</th>\n      <td>8987</td>\n      <td>float32</td>\n    </tr>\n    <tr>\n      <th>Social Media UL (Bytes)</th>\n      <td>8987</td>\n      <td>float32</td>\n    </tr>\n    <tr>\n      <th>Google DL (Bytes)</th>\n      <td>8987</td>\n      <td>float32</td>\n    </tr>\n    <tr>\n      <th>Google UL (Bytes)</th>\n      <td>8987</td>\n      <td>float32</td>\n    </tr>\n    <tr>\n      <th>Email DL (Bytes)</th>\n      <td>8987</td>\n      <td>float32</td>\n    </tr>\n    <tr>\n      <th>Email UL (Bytes)</th>\n      <td>8987</td>\n      <td>float32</td>\n    </tr>\n    <tr>\n      <th>Youtube DL (Bytes)</th>\n      <td>8987</td>\n      <td>float32</td>\n    </tr>\n    <tr>\n      <th>Youtube UL (Bytes)</th>\n      <td>8987</td>\n      <td>float32</td>\n    </tr>\n    <tr>\n      <th>Netflix DL (Bytes)</th>\n      <td>8987</td>\n      <td>float32</td>\n    </tr>\n    <tr>\n      <th>Netflix UL (Bytes)</th>\n      <td>8987</td>\n      <td>float32</td>\n    </tr>\n    <tr>\n      <th>Gaming DL (Bytes)</th>\n      <td>8987</td>\n      <td>float32</td>\n    </tr>\n    <tr>\n      <th>Gaming UL (Bytes)</th>\n      <td>8987</td>\n      <td>float32</td>\n    </tr>\n    <tr>\n      <th>Other DL (Bytes)</th>\n      <td>8987</td>\n      <td>float32</td>\n    </tr>\n    <tr>\n      <th>Other UL (Bytes)</th>\n      <td>8987</td>\n      <td>float32</td>\n    </tr>\n    <tr>\n      <th>Total UL (Bytes)</th>\n      <td>8987</td>\n      <td>float32</td>\n    </tr>\n    <tr>\n      <th>Total DL (Bytes)</th>\n      <td>8987</td>\n      <td>float32</td>\n    </tr>\n  </tbody>\n</table>\n</div>"
     },
     "metadata": {},
     "execution_count": 53
    }
   ],
   "source": [
    "explorer.get_column_based_missing_values()"
   ]
  },
  {
   "source": [
    "Check if skew for numeric missing values and if not fill missing values with mean value but if skew use median"
   ],
   "cell_type": "markdown",
   "metadata": {}
  },
  {
   "cell_type": "code",
   "execution_count": 24,
   "metadata": {
    "tags": []
   },
   "outputs": [],
   "source": [
    "cleaner.remove_duplicates()"
   ]
  },
  {
   "cell_type": "code",
   "execution_count": 25,
   "metadata": {},
   "outputs": [
    {
     "output_type": "execute_result",
     "data": {
      "text/plain": [
       "                   Bearer Id               Start  Start ms  \\\n",
       "109933  13114483567213099008 2019-04-27 18:00:30     490.0   \n",
       "15891   13042425959254300672 2019-04-24 19:03:07      91.0   \n",
       "70061    7349883254758320128 2019-04-26 08:14:18     121.0   \n",
       "115537  13042425974568800256 2019-04-28 00:59:33     656.0   \n",
       "53425   13042425961433499648 2019-04-25 09:00:53     856.0   \n",
       "13790   13114483553136599040 2019-04-24 18:25:52      83.0   \n",
       "97425    7349883259806629888 2019-04-27 16:53:37     706.0   \n",
       "267     13114483546530500608 2019-04-23 11:44:39     515.0   \n",
       "47287    7349883251150860288 2019-04-25 07:24:07     970.0   \n",
       "53660   13114483555598999552 2019-04-25 09:32:10     917.0   \n",
       "\n",
       "                       End  End ms  Dur. (ms)          IMSI  MSISDN/Number  \\\n",
       "109933 2019-04-29 07:58:48   444.0   136697.0  2.082017e+14   3.365862e+10   \n",
       "15891  2019-04-25 01:45:26   974.0    24139.0  2.082017e+14   3.366059e+10   \n",
       "70061  2019-04-27 08:07:30   588.0    85992.0  2.082003e+14   3.366438e+10   \n",
       "115537 2019-04-29 00:59:33   623.0    86399.0  2.082018e+14   3.365993e+10   \n",
       "53425  2019-04-27 15:21:31   983.0   195638.0  2.082015e+14   3.364838e+10   \n",
       "13790  2019-04-25 05:09:44   939.0    38632.0  2.082010e+14   3.366081e+10   \n",
       "97425  2019-04-28 03:11:19   745.0    37062.0  2.082021e+14   3.366055e+10   \n",
       "267    2019-04-25 04:31:01   907.0   146782.0  2.082018e+14   3.366148e+10   \n",
       "47287  2019-04-26 08:09:31   945.0    89123.0  2.082018e+14   3.365045e+10   \n",
       "53660  2019-04-27 02:52:29   883.0   148818.0  2.082015e+14   3.378691e+10   \n",
       "\n",
       "                IMEI Last Location Name  Avg RTT DL (ms)  Avg RTT UL (ms)  \\\n",
       "109933  3.590391e+13            L42048A             45.0              5.0   \n",
       "15891   3.529471e+13            D93726C             60.0             12.0   \n",
       "70061   3.529911e+13            D10560B             45.0              5.0   \n",
       "115537  8.639551e+13            T76876B            179.0              4.0   \n",
       "53425   3.579731e+13            T42169C             33.0             36.0   \n",
       "13790   3.594021e+13            L70862B             55.0              5.0   \n",
       "97425   3.567651e+13            D10114A             37.0              0.0   \n",
       "267     3.592281e+13            D93064B             37.0              5.0   \n",
       "47287   3.533251e+13            D62020A             31.0              7.0   \n",
       "53660   3.586241e+13            D42018C             45.0              5.0   \n",
       "\n",
       "        Avg Bearer TP DL (kbps)  Avg Bearer TP UL (kbps)  DL TP < 50 Kbps (%)  \\\n",
       "109933                     33.0                     33.0                100.0   \n",
       "15891                    4738.0                    539.0                 98.0   \n",
       "70061                      51.0                     40.0                100.0   \n",
       "115537                  16057.0                  11126.0                 42.0   \n",
       "53425                   40629.0                   2935.0                 65.0   \n",
       "13790                      28.0                     52.0                100.0   \n",
       "97425                      74.0                     54.0                100.0   \n",
       "267                        63.0                     54.0                100.0   \n",
       "47287                   84444.0                  10325.0                 95.0   \n",
       "53660                      60.0                     70.0                100.0   \n",
       "\n",
       "        50 Kbps < DL TP < 250 Kbps (%)  250 Kbps < DL TP < 1 Mbps (%)  \\\n",
       "109933                             0.0                            0.0   \n",
       "15891                              1.0                            0.0   \n",
       "70061                              0.0                            0.0   \n",
       "115537                            25.0                           25.0   \n",
       "53425                             28.0                            5.0   \n",
       "13790                              0.0                            0.0   \n",
       "97425                              0.0                            0.0   \n",
       "267                                0.0                            0.0   \n",
       "47287                              2.0                            1.0   \n",
       "53660                              0.0                            0.0   \n",
       "\n",
       "        DL TP > 1 Mbps (%)  UL TP < 10 Kbps (%)  \\\n",
       "109933                 0.0                100.0   \n",
       "15891                  0.0                 99.0   \n",
       "70061                  0.0                100.0   \n",
       "115537                 6.0                 95.0   \n",
       "53425                  1.0                 98.0   \n",
       "13790                  0.0                100.0   \n",
       "97425                  0.0                100.0   \n",
       "267                    0.0                100.0   \n",
       "47287                  0.0                 98.0   \n",
       "53660                  0.0                100.0   \n",
       "\n",
       "        10 Kbps < UL TP < 50 Kbps (%)  50 Kbps < UL TP < 300 Kbps (%)  \\\n",
       "109933                            0.0                             0.0   \n",
       "15891                             0.0                             0.0   \n",
       "70061                             0.0                             0.0   \n",
       "115537                            1.0                             0.0   \n",
       "53425                             0.0                             0.0   \n",
       "13790                             0.0                             0.0   \n",
       "97425                             0.0                             0.0   \n",
       "267                               0.0                             0.0   \n",
       "47287                             0.0                             0.0   \n",
       "53660                             0.0                             0.0   \n",
       "\n",
       "        UL TP > 300 Kbps (%)  Activity Duration DL (ms)  \\\n",
       "109933                   0.0                    23004.0   \n",
       "15891                    0.0                   249214.0   \n",
       "70061                    0.0                    14560.0   \n",
       "115537                   1.0                  1572550.0   \n",
       "53425                    0.0                   593762.0   \n",
       "13790                    0.0                    11722.0   \n",
       "97425                    0.0                     5882.0   \n",
       "267                      0.0                     3179.0   \n",
       "47287                    0.0                   199506.0   \n",
       "53660                    0.0                    72158.0   \n",
       "\n",
       "        Activity Duration UL (ms)  Dur. (ms).1 Handset Manufacturer  \\\n",
       "109933                    24841.0  136697952.0              Samsung   \n",
       "15891                    248694.0   24139884.0              Samsung   \n",
       "70061                     14974.0   85992464.0                Apple   \n",
       "115537                   372666.0   86399968.0               Huawei   \n",
       "53425                    324205.0  195638128.0              Samsung   \n",
       "13790                     14079.0   38632856.0                Apple   \n",
       "97425                      7088.0   37062040.0                Apple   \n",
       "267                       37766.0  146782400.0                Apple   \n",
       "47287                    179347.0   89123976.0            undefined   \n",
       "53660                    122162.0  148818960.0              Samsung   \n",
       "\n",
       "                             Handset Type  Nb of sec with Vol DL < 6250B  \\\n",
       "109933       Samsung Galaxy S8 (Sm-G950F)                          112.0   \n",
       "15891         Samsung Galaxy J5 (Sm-J530)                          524.0   \n",
       "70061              Apple iPhone 8 (A1905)                           71.0   \n",
       "115537                       Huawei E5573                         1095.0   \n",
       "53425   Samsung Galaxy S7 Edge (Sm-G935X)                         1560.0   \n",
       "13790         Apple iPhone 8 Plus (A1897)                           47.0   \n",
       "97425              Apple iPhone 8 (A1905)                           42.0   \n",
       "267                Apple iPhone 6 (A1586)                           21.0   \n",
       "47287                           undefined                          946.0   \n",
       "53660                   Samsung Galaxy S9                          334.0   \n",
       "\n",
       "        Nb of sec with Vol UL < 1250B  Social Media DL (Bytes)  \\\n",
       "109933                          119.0                1913600.0   \n",
       "15891                           603.0                1971587.0   \n",
       "70061                            62.0                 714489.0   \n",
       "115537                         2408.0                2113291.0   \n",
       "53425                          2143.0                 105287.0   \n",
       "13790                            48.0                1347076.0   \n",
       "97425                            43.0                 439417.0   \n",
       "267                             164.0                1738836.0   \n",
       "47287                           930.0                3521282.0   \n",
       "53660                           422.0                2986409.0   \n",
       "\n",
       "        Social Media UL (Bytes)  Google DL (Bytes)  Google UL (Bytes)  \\\n",
       "109933                  61007.0          5901934.0          2357790.0   \n",
       "15891                   25683.0          2058305.0          2436896.0   \n",
       "70061                   42734.0         10709319.0          1033185.0   \n",
       "115537                  44667.0          3889871.0          1718630.0   \n",
       "53425                   46739.0          7885674.0          3542404.0   \n",
       "13790                   62504.0          9302958.0          2231587.0   \n",
       "97425                   18417.0          2037958.0          1214986.0   \n",
       "267                     34334.0          9979458.0           138283.0   \n",
       "47287                   62712.0         11001622.0          2115006.0   \n",
       "53660                   43914.0           487744.0            43479.0   \n",
       "\n",
       "        Email DL (Bytes)  Email UL (Bytes)  Youtube DL (Bytes)  \\\n",
       "109933         1654013.0          584869.0            667085.0   \n",
       "15891           331631.0           60703.0          22034666.0   \n",
       "70061           756097.0          451230.0           2287986.0   \n",
       "115537          390318.0          813820.0            292894.0   \n",
       "53425           332807.0           87878.0           4087276.0   \n",
       "13790           273557.0          714549.0          16832792.0   \n",
       "97425           768167.0          160285.0           1821724.0   \n",
       "267            3376519.0          685533.0          21723356.0   \n",
       "47287          2250434.0          282218.0           5948547.0   \n",
       "53660          3172775.0          571079.0           9622155.0   \n",
       "\n",
       "        Youtube UL (Bytes)  Netflix DL (Bytes)  Netflix UL (Bytes)  \\\n",
       "109933          14247579.0           9993676.0           7254077.0   \n",
       "15891           21957660.0           5077128.0          18596980.0   \n",
       "70061           14005921.0           3236654.0          15725235.0   \n",
       "115537           1803419.0           7959566.0          18453680.0   \n",
       "53425           18990340.0           2241349.0          17479100.0   \n",
       "13790            2856364.0          17254014.0            128044.0   \n",
       "97425           11293934.0          22124772.0           4868421.0   \n",
       "267              2748753.0          16655984.0            173865.0   \n",
       "47287            7385567.0          18409602.0          16803914.0   \n",
       "53660            1120046.0          16731146.0          10267790.0   \n",
       "\n",
       "        Gaming DL (Bytes)  Gaming UL (Bytes)  Other DL (Bytes)  \\\n",
       "109933        376796096.0          9155175.0       670626752.0   \n",
       "15891         101381680.0         14215283.0       633695552.0   \n",
       "70061         630536448.0          9388303.0       114103520.0   \n",
       "115537         20439148.0          1813549.0       106026040.0   \n",
       "53425         471660576.0          1424504.0       156634880.0   \n",
       "13790         411125888.0          3205726.0         1450588.0   \n",
       "97425         545783680.0         15073860.0       171313920.0   \n",
       "267           220522656.0         15687654.0        11007141.0   \n",
       "47287         308336928.0         10085192.0       201068688.0   \n",
       "53660          26678160.0          4519743.0       234737872.0   \n",
       "\n",
       "        Other UL (Bytes)  Total UL (Bytes)  Total DL (Bytes)  \n",
       "109933          443607.0        34104104.0       396926400.0  \n",
       "15891          4630985.0        61924192.0       132854992.0  \n",
       "70061          6632945.0        47279552.0       648240960.0  \n",
       "115537         6563204.0        31210968.0        35085088.0  \n",
       "53425         10098652.0        51669616.0       486312960.0  \n",
       "13790         16039849.0        25238624.0       456136288.0  \n",
       "97425         11948681.0        44578584.0       572975744.0  \n",
       "267             658718.0        20127140.0       273996800.0  \n",
       "47287          7719018.0        44453628.0       349468416.0  \n",
       "53660          9145792.0        25711844.0        59678388.0  "
      ],
      "text/html": "<div>\n<style scoped>\n    .dataframe tbody tr th:only-of-type {\n        vertical-align: middle;\n    }\n\n    .dataframe tbody tr th {\n        vertical-align: top;\n    }\n\n    .dataframe thead th {\n        text-align: right;\n    }\n</style>\n<table border=\"1\" class=\"dataframe\">\n  <thead>\n    <tr style=\"text-align: right;\">\n      <th></th>\n      <th>Bearer Id</th>\n      <th>Start</th>\n      <th>Start ms</th>\n      <th>End</th>\n      <th>End ms</th>\n      <th>Dur. (ms)</th>\n      <th>IMSI</th>\n      <th>MSISDN/Number</th>\n      <th>IMEI</th>\n      <th>Last Location Name</th>\n      <th>Avg RTT DL (ms)</th>\n      <th>Avg RTT UL (ms)</th>\n      <th>Avg Bearer TP DL (kbps)</th>\n      <th>Avg Bearer TP UL (kbps)</th>\n      <th>DL TP &lt; 50 Kbps (%)</th>\n      <th>50 Kbps &lt; DL TP &lt; 250 Kbps (%)</th>\n      <th>250 Kbps &lt; DL TP &lt; 1 Mbps (%)</th>\n      <th>DL TP &gt; 1 Mbps (%)</th>\n      <th>UL TP &lt; 10 Kbps (%)</th>\n      <th>10 Kbps &lt; UL TP &lt; 50 Kbps (%)</th>\n      <th>50 Kbps &lt; UL TP &lt; 300 Kbps (%)</th>\n      <th>UL TP &gt; 300 Kbps (%)</th>\n      <th>Activity Duration DL (ms)</th>\n      <th>Activity Duration UL (ms)</th>\n      <th>Dur. (ms).1</th>\n      <th>Handset Manufacturer</th>\n      <th>Handset Type</th>\n      <th>Nb of sec with Vol DL &lt; 6250B</th>\n      <th>Nb of sec with Vol UL &lt; 1250B</th>\n      <th>Social Media DL (Bytes)</th>\n      <th>Social Media UL (Bytes)</th>\n      <th>Google DL (Bytes)</th>\n      <th>Google UL (Bytes)</th>\n      <th>Email DL (Bytes)</th>\n      <th>Email UL (Bytes)</th>\n      <th>Youtube DL (Bytes)</th>\n      <th>Youtube UL (Bytes)</th>\n      <th>Netflix DL (Bytes)</th>\n      <th>Netflix UL (Bytes)</th>\n      <th>Gaming DL (Bytes)</th>\n      <th>Gaming UL (Bytes)</th>\n      <th>Other DL (Bytes)</th>\n      <th>Other UL (Bytes)</th>\n      <th>Total UL (Bytes)</th>\n      <th>Total DL (Bytes)</th>\n    </tr>\n  </thead>\n  <tbody>\n    <tr>\n      <th>109933</th>\n      <td>13114483567213099008</td>\n      <td>2019-04-27 18:00:30</td>\n      <td>490.0</td>\n      <td>2019-04-29 07:58:48</td>\n      <td>444.0</td>\n      <td>136697.0</td>\n      <td>2.082017e+14</td>\n      <td>3.365862e+10</td>\n      <td>3.590391e+13</td>\n      <td>L42048A</td>\n      <td>45.0</td>\n      <td>5.0</td>\n      <td>33.0</td>\n      <td>33.0</td>\n      <td>100.0</td>\n      <td>0.0</td>\n      <td>0.0</td>\n      <td>0.0</td>\n      <td>100.0</td>\n      <td>0.0</td>\n      <td>0.0</td>\n      <td>0.0</td>\n      <td>23004.0</td>\n      <td>24841.0</td>\n      <td>136697952.0</td>\n      <td>Samsung</td>\n      <td>Samsung Galaxy S8 (Sm-G950F)</td>\n      <td>112.0</td>\n      <td>119.0</td>\n      <td>1913600.0</td>\n      <td>61007.0</td>\n      <td>5901934.0</td>\n      <td>2357790.0</td>\n      <td>1654013.0</td>\n      <td>584869.0</td>\n      <td>667085.0</td>\n      <td>14247579.0</td>\n      <td>9993676.0</td>\n      <td>7254077.0</td>\n      <td>376796096.0</td>\n      <td>9155175.0</td>\n      <td>670626752.0</td>\n      <td>443607.0</td>\n      <td>34104104.0</td>\n      <td>396926400.0</td>\n    </tr>\n    <tr>\n      <th>15891</th>\n      <td>13042425959254300672</td>\n      <td>2019-04-24 19:03:07</td>\n      <td>91.0</td>\n      <td>2019-04-25 01:45:26</td>\n      <td>974.0</td>\n      <td>24139.0</td>\n      <td>2.082017e+14</td>\n      <td>3.366059e+10</td>\n      <td>3.529471e+13</td>\n      <td>D93726C</td>\n      <td>60.0</td>\n      <td>12.0</td>\n      <td>4738.0</td>\n      <td>539.0</td>\n      <td>98.0</td>\n      <td>1.0</td>\n      <td>0.0</td>\n      <td>0.0</td>\n      <td>99.0</td>\n      <td>0.0</td>\n      <td>0.0</td>\n      <td>0.0</td>\n      <td>249214.0</td>\n      <td>248694.0</td>\n      <td>24139884.0</td>\n      <td>Samsung</td>\n      <td>Samsung Galaxy J5 (Sm-J530)</td>\n      <td>524.0</td>\n      <td>603.0</td>\n      <td>1971587.0</td>\n      <td>25683.0</td>\n      <td>2058305.0</td>\n      <td>2436896.0</td>\n      <td>331631.0</td>\n      <td>60703.0</td>\n      <td>22034666.0</td>\n      <td>21957660.0</td>\n      <td>5077128.0</td>\n      <td>18596980.0</td>\n      <td>101381680.0</td>\n      <td>14215283.0</td>\n      <td>633695552.0</td>\n      <td>4630985.0</td>\n      <td>61924192.0</td>\n      <td>132854992.0</td>\n    </tr>\n    <tr>\n      <th>70061</th>\n      <td>7349883254758320128</td>\n      <td>2019-04-26 08:14:18</td>\n      <td>121.0</td>\n      <td>2019-04-27 08:07:30</td>\n      <td>588.0</td>\n      <td>85992.0</td>\n      <td>2.082003e+14</td>\n      <td>3.366438e+10</td>\n      <td>3.529911e+13</td>\n      <td>D10560B</td>\n      <td>45.0</td>\n      <td>5.0</td>\n      <td>51.0</td>\n      <td>40.0</td>\n      <td>100.0</td>\n      <td>0.0</td>\n      <td>0.0</td>\n      <td>0.0</td>\n      <td>100.0</td>\n      <td>0.0</td>\n      <td>0.0</td>\n      <td>0.0</td>\n      <td>14560.0</td>\n      <td>14974.0</td>\n      <td>85992464.0</td>\n      <td>Apple</td>\n      <td>Apple iPhone 8 (A1905)</td>\n      <td>71.0</td>\n      <td>62.0</td>\n      <td>714489.0</td>\n      <td>42734.0</td>\n      <td>10709319.0</td>\n      <td>1033185.0</td>\n      <td>756097.0</td>\n      <td>451230.0</td>\n      <td>2287986.0</td>\n      <td>14005921.0</td>\n      <td>3236654.0</td>\n      <td>15725235.0</td>\n      <td>630536448.0</td>\n      <td>9388303.0</td>\n      <td>114103520.0</td>\n      <td>6632945.0</td>\n      <td>47279552.0</td>\n      <td>648240960.0</td>\n    </tr>\n    <tr>\n      <th>115537</th>\n      <td>13042425974568800256</td>\n      <td>2019-04-28 00:59:33</td>\n      <td>656.0</td>\n      <td>2019-04-29 00:59:33</td>\n      <td>623.0</td>\n      <td>86399.0</td>\n      <td>2.082018e+14</td>\n      <td>3.365993e+10</td>\n      <td>8.639551e+13</td>\n      <td>T76876B</td>\n      <td>179.0</td>\n      <td>4.0</td>\n      <td>16057.0</td>\n      <td>11126.0</td>\n      <td>42.0</td>\n      <td>25.0</td>\n      <td>25.0</td>\n      <td>6.0</td>\n      <td>95.0</td>\n      <td>1.0</td>\n      <td>0.0</td>\n      <td>1.0</td>\n      <td>1572550.0</td>\n      <td>372666.0</td>\n      <td>86399968.0</td>\n      <td>Huawei</td>\n      <td>Huawei E5573</td>\n      <td>1095.0</td>\n      <td>2408.0</td>\n      <td>2113291.0</td>\n      <td>44667.0</td>\n      <td>3889871.0</td>\n      <td>1718630.0</td>\n      <td>390318.0</td>\n      <td>813820.0</td>\n      <td>292894.0</td>\n      <td>1803419.0</td>\n      <td>7959566.0</td>\n      <td>18453680.0</td>\n      <td>20439148.0</td>\n      <td>1813549.0</td>\n      <td>106026040.0</td>\n      <td>6563204.0</td>\n      <td>31210968.0</td>\n      <td>35085088.0</td>\n    </tr>\n    <tr>\n      <th>53425</th>\n      <td>13042425961433499648</td>\n      <td>2019-04-25 09:00:53</td>\n      <td>856.0</td>\n      <td>2019-04-27 15:21:31</td>\n      <td>983.0</td>\n      <td>195638.0</td>\n      <td>2.082015e+14</td>\n      <td>3.364838e+10</td>\n      <td>3.579731e+13</td>\n      <td>T42169C</td>\n      <td>33.0</td>\n      <td>36.0</td>\n      <td>40629.0</td>\n      <td>2935.0</td>\n      <td>65.0</td>\n      <td>28.0</td>\n      <td>5.0</td>\n      <td>1.0</td>\n      <td>98.0</td>\n      <td>0.0</td>\n      <td>0.0</td>\n      <td>0.0</td>\n      <td>593762.0</td>\n      <td>324205.0</td>\n      <td>195638128.0</td>\n      <td>Samsung</td>\n      <td>Samsung Galaxy S7 Edge (Sm-G935X)</td>\n      <td>1560.0</td>\n      <td>2143.0</td>\n      <td>105287.0</td>\n      <td>46739.0</td>\n      <td>7885674.0</td>\n      <td>3542404.0</td>\n      <td>332807.0</td>\n      <td>87878.0</td>\n      <td>4087276.0</td>\n      <td>18990340.0</td>\n      <td>2241349.0</td>\n      <td>17479100.0</td>\n      <td>471660576.0</td>\n      <td>1424504.0</td>\n      <td>156634880.0</td>\n      <td>10098652.0</td>\n      <td>51669616.0</td>\n      <td>486312960.0</td>\n    </tr>\n    <tr>\n      <th>13790</th>\n      <td>13114483553136599040</td>\n      <td>2019-04-24 18:25:52</td>\n      <td>83.0</td>\n      <td>2019-04-25 05:09:44</td>\n      <td>939.0</td>\n      <td>38632.0</td>\n      <td>2.082010e+14</td>\n      <td>3.366081e+10</td>\n      <td>3.594021e+13</td>\n      <td>L70862B</td>\n      <td>55.0</td>\n      <td>5.0</td>\n      <td>28.0</td>\n      <td>52.0</td>\n      <td>100.0</td>\n      <td>0.0</td>\n      <td>0.0</td>\n      <td>0.0</td>\n      <td>100.0</td>\n      <td>0.0</td>\n      <td>0.0</td>\n      <td>0.0</td>\n      <td>11722.0</td>\n      <td>14079.0</td>\n      <td>38632856.0</td>\n      <td>Apple</td>\n      <td>Apple iPhone 8 Plus (A1897)</td>\n      <td>47.0</td>\n      <td>48.0</td>\n      <td>1347076.0</td>\n      <td>62504.0</td>\n      <td>9302958.0</td>\n      <td>2231587.0</td>\n      <td>273557.0</td>\n      <td>714549.0</td>\n      <td>16832792.0</td>\n      <td>2856364.0</td>\n      <td>17254014.0</td>\n      <td>128044.0</td>\n      <td>411125888.0</td>\n      <td>3205726.0</td>\n      <td>1450588.0</td>\n      <td>16039849.0</td>\n      <td>25238624.0</td>\n      <td>456136288.0</td>\n    </tr>\n    <tr>\n      <th>97425</th>\n      <td>7349883259806629888</td>\n      <td>2019-04-27 16:53:37</td>\n      <td>706.0</td>\n      <td>2019-04-28 03:11:19</td>\n      <td>745.0</td>\n      <td>37062.0</td>\n      <td>2.082021e+14</td>\n      <td>3.366055e+10</td>\n      <td>3.567651e+13</td>\n      <td>D10114A</td>\n      <td>37.0</td>\n      <td>0.0</td>\n      <td>74.0</td>\n      <td>54.0</td>\n      <td>100.0</td>\n      <td>0.0</td>\n      <td>0.0</td>\n      <td>0.0</td>\n      <td>100.0</td>\n      <td>0.0</td>\n      <td>0.0</td>\n      <td>0.0</td>\n      <td>5882.0</td>\n      <td>7088.0</td>\n      <td>37062040.0</td>\n      <td>Apple</td>\n      <td>Apple iPhone 8 (A1905)</td>\n      <td>42.0</td>\n      <td>43.0</td>\n      <td>439417.0</td>\n      <td>18417.0</td>\n      <td>2037958.0</td>\n      <td>1214986.0</td>\n      <td>768167.0</td>\n      <td>160285.0</td>\n      <td>1821724.0</td>\n      <td>11293934.0</td>\n      <td>22124772.0</td>\n      <td>4868421.0</td>\n      <td>545783680.0</td>\n      <td>15073860.0</td>\n      <td>171313920.0</td>\n      <td>11948681.0</td>\n      <td>44578584.0</td>\n      <td>572975744.0</td>\n    </tr>\n    <tr>\n      <th>267</th>\n      <td>13114483546530500608</td>\n      <td>2019-04-23 11:44:39</td>\n      <td>515.0</td>\n      <td>2019-04-25 04:31:01</td>\n      <td>907.0</td>\n      <td>146782.0</td>\n      <td>2.082018e+14</td>\n      <td>3.366148e+10</td>\n      <td>3.592281e+13</td>\n      <td>D93064B</td>\n      <td>37.0</td>\n      <td>5.0</td>\n      <td>63.0</td>\n      <td>54.0</td>\n      <td>100.0</td>\n      <td>0.0</td>\n      <td>0.0</td>\n      <td>0.0</td>\n      <td>100.0</td>\n      <td>0.0</td>\n      <td>0.0</td>\n      <td>0.0</td>\n      <td>3179.0</td>\n      <td>37766.0</td>\n      <td>146782400.0</td>\n      <td>Apple</td>\n      <td>Apple iPhone 6 (A1586)</td>\n      <td>21.0</td>\n      <td>164.0</td>\n      <td>1738836.0</td>\n      <td>34334.0</td>\n      <td>9979458.0</td>\n      <td>138283.0</td>\n      <td>3376519.0</td>\n      <td>685533.0</td>\n      <td>21723356.0</td>\n      <td>2748753.0</td>\n      <td>16655984.0</td>\n      <td>173865.0</td>\n      <td>220522656.0</td>\n      <td>15687654.0</td>\n      <td>11007141.0</td>\n      <td>658718.0</td>\n      <td>20127140.0</td>\n      <td>273996800.0</td>\n    </tr>\n    <tr>\n      <th>47287</th>\n      <td>7349883251150860288</td>\n      <td>2019-04-25 07:24:07</td>\n      <td>970.0</td>\n      <td>2019-04-26 08:09:31</td>\n      <td>945.0</td>\n      <td>89123.0</td>\n      <td>2.082018e+14</td>\n      <td>3.365045e+10</td>\n      <td>3.533251e+13</td>\n      <td>D62020A</td>\n      <td>31.0</td>\n      <td>7.0</td>\n      <td>84444.0</td>\n      <td>10325.0</td>\n      <td>95.0</td>\n      <td>2.0</td>\n      <td>1.0</td>\n      <td>0.0</td>\n      <td>98.0</td>\n      <td>0.0</td>\n      <td>0.0</td>\n      <td>0.0</td>\n      <td>199506.0</td>\n      <td>179347.0</td>\n      <td>89123976.0</td>\n      <td>undefined</td>\n      <td>undefined</td>\n      <td>946.0</td>\n      <td>930.0</td>\n      <td>3521282.0</td>\n      <td>62712.0</td>\n      <td>11001622.0</td>\n      <td>2115006.0</td>\n      <td>2250434.0</td>\n      <td>282218.0</td>\n      <td>5948547.0</td>\n      <td>7385567.0</td>\n      <td>18409602.0</td>\n      <td>16803914.0</td>\n      <td>308336928.0</td>\n      <td>10085192.0</td>\n      <td>201068688.0</td>\n      <td>7719018.0</td>\n      <td>44453628.0</td>\n      <td>349468416.0</td>\n    </tr>\n    <tr>\n      <th>53660</th>\n      <td>13114483555598999552</td>\n      <td>2019-04-25 09:32:10</td>\n      <td>917.0</td>\n      <td>2019-04-27 02:52:29</td>\n      <td>883.0</td>\n      <td>148818.0</td>\n      <td>2.082015e+14</td>\n      <td>3.378691e+10</td>\n      <td>3.586241e+13</td>\n      <td>D42018C</td>\n      <td>45.0</td>\n      <td>5.0</td>\n      <td>60.0</td>\n      <td>70.0</td>\n      <td>100.0</td>\n      <td>0.0</td>\n      <td>0.0</td>\n      <td>0.0</td>\n      <td>100.0</td>\n      <td>0.0</td>\n      <td>0.0</td>\n      <td>0.0</td>\n      <td>72158.0</td>\n      <td>122162.0</td>\n      <td>148818960.0</td>\n      <td>Samsung</td>\n      <td>Samsung Galaxy S9</td>\n      <td>334.0</td>\n      <td>422.0</td>\n      <td>2986409.0</td>\n      <td>43914.0</td>\n      <td>487744.0</td>\n      <td>43479.0</td>\n      <td>3172775.0</td>\n      <td>571079.0</td>\n      <td>9622155.0</td>\n      <td>1120046.0</td>\n      <td>16731146.0</td>\n      <td>10267790.0</td>\n      <td>26678160.0</td>\n      <td>4519743.0</td>\n      <td>234737872.0</td>\n      <td>9145792.0</td>\n      <td>25711844.0</td>\n      <td>59678388.0</td>\n    </tr>\n  </tbody>\n</table>\n</div>"
     },
     "metadata": {},
     "execution_count": 25
    }
   ],
   "source": [
    "cleaner.fill_numeric_values(explorer.get_columns_with_missing_values())\n",
    "cleaner.df.sample(10)"
   ]
  },
  {
   "cell_type": "code",
   "execution_count": 26,
   "metadata": {},
   "outputs": [
    {
     "output_type": "execute_result",
     "data": {
      "text/plain": [
       "['Last Location Name', 'Handset Manufacturer', 'Handset Type']"
      ]
     },
     "metadata": {},
     "execution_count": 26
    }
   ],
   "source": [
    "explorer = DataInfo(cleaner.df)\n",
    "explorer.get_columns_with_missing_values()"
   ]
  },
  {
   "cell_type": "code",
   "execution_count": 27,
   "metadata": {},
   "outputs": [
    {
     "output_type": "execute_result",
     "data": {
      "text/plain": [
       "D41377B             80\n",
       "D17085A             59\n",
       "D72396C             57\n",
       "9164566985995010    55\n",
       "D73604C             55\n",
       "                    ..\n",
       "V89810A              1\n",
       "G62353C              1\n",
       "G12591C              1\n",
       "T12840B              1\n",
       "L16751B              1\n",
       "Name: Last Location Name, Length: 45547, dtype: int64"
      ]
     },
     "metadata": {},
     "execution_count": 27
    }
   ],
   "source": [
    "explorer.df['Last Location Name'].value_counts()"
   ]
  },
  {
   "cell_type": "code",
   "execution_count": 28,
   "metadata": {},
   "outputs": [
    {
     "output_type": "execute_result",
     "data": {
      "text/plain": [
       "Apple                                              59565\n",
       "Samsung                                            40839\n",
       "Huawei                                             34423\n",
       "undefined                                           8987\n",
       "Sony Mobile Communications Ab                        980\n",
       "                                                   ...  \n",
       "Sintave Technology (Group) Co Ltd                      1\n",
       "Shanghai Chengyu Media Technology Co Ltd               1\n",
       "M S Soha Enterprise                                    1\n",
       "Essential Products Inc.                                1\n",
       "Shenzhen Chainway Information Technology Co Ltd        1\n",
       "Name: Handset Manufacturer, Length: 170, dtype: int64"
      ]
     },
     "metadata": {},
     "execution_count": 28
    }
   ],
   "source": [
    "explorer.df['Handset Manufacturer'].value_counts()"
   ]
  },
  {
   "cell_type": "code",
   "execution_count": 29,
   "metadata": {},
   "outputs": [
    {
     "output_type": "execute_result",
     "data": {
      "text/plain": [
       "Huawei B528S-23A                       19752\n",
       "Apple iPhone 6S (A1688)                 9419\n",
       "Apple iPhone 6 (A1586)                  9023\n",
       "undefined                               8987\n",
       "Apple iPhone 7 (A1778)                  6326\n",
       "                                       ...  \n",
       "Razer Inc Razer Phone                      1\n",
       "Asustek Asus Zenfone 5 Lite Zc600Kl        1\n",
       "Acer Liquid Z630                           1\n",
       "Infinix Technolo. Note 3 Pro               1\n",
       "Ddm Brands Llc Andy C5V                    1\n",
       "Name: Handset Type, Length: 1396, dtype: int64"
      ]
     },
     "metadata": {},
     "execution_count": 29
    }
   ],
   "source": [
    "explorer.df['Handset Type'].value_counts()"
   ]
  },
  {
   "cell_type": "code",
   "execution_count": 33,
   "metadata": {},
   "outputs": [
    {
     "output_type": "stream",
     "name": "stderr",
     "text": [
      "C:\\Python38\\lib\\site-packages\\pandas\\core\\frame.py:4462: SettingWithCopyWarning: \nA value is trying to be set on a copy of a slice from a DataFrame\n\nSee the caveats in the documentation: https://pandas.pydata.org/pandas-docs/stable/user_guide/indexing.html#returning-a-view-versus-a-copy\n  return super().fillna(\n"
     ]
    },
    {
     "output_type": "execute_result",
     "data": {
      "text/plain": [
       "                   Bearer Id               Start  Start ms  \\\n",
       "0       13114483460844900352 2019-04-04 12:01:18     770.0   \n",
       "1       13114483482878900224 2019-04-09 13:04:04     235.0   \n",
       "2       13114483484080500736 2019-04-09 17:42:11       1.0   \n",
       "3                       None                 NaT       NaN   \n",
       "4       13114483499480700928 2019-04-12 20:10:23     565.0   \n",
       "...                      ...                 ...       ...   \n",
       "149995                  None                 NaT       NaN   \n",
       "149996   7277825670196679680 2019-04-29 07:28:42     451.0   \n",
       "149997   7349883264234609664 2019-04-29 07:28:42     483.0   \n",
       "149998  13114483573367300096 2019-04-29 07:28:43     283.0   \n",
       "149999  13114483573367300096 2019-04-29 07:28:43     696.0   \n",
       "\n",
       "                       End  End ms  Dur. (ms)          IMSI  MSISDN/Number  \\\n",
       "0      2019-04-25 14:35:31   662.0  1823652.0  2.082014e+14   3.366496e+10   \n",
       "1      2019-04-25 08:15:48   606.0  1365104.0  2.082019e+14   3.368185e+10   \n",
       "2      2019-04-25 11:58:13   652.0  1361762.0  2.082003e+14   3.376063e+10   \n",
       "3                      NaT     NaN        NaN           NaN            NaN   \n",
       "4      2019-04-25 10:40:32   954.0  1089009.0  2.082014e+14   3.369979e+10   \n",
       "...                    ...     ...        ...           ...            ...   \n",
       "149995                 NaT     NaN        NaN           NaN            NaN   \n",
       "149996 2019-04-30 06:02:33   214.0    81230.0  2.082022e+14   3.365069e+10   \n",
       "149997 2019-04-30 10:41:33   187.0    97970.0  2.082019e+14   3.366345e+10   \n",
       "149998 2019-04-30 10:46:12   810.0    98249.0  2.082017e+14   3.362189e+10   \n",
       "149999 2019-04-30 10:40:34   327.0    97910.0  2.082021e+14   3.361962e+10   \n",
       "\n",
       "                IMEI Last Location Name  Avg RTT DL (ms)  Avg RTT UL (ms)  \\\n",
       "0       3.552121e+13   9164566995485190             42.0              5.0   \n",
       "1       3.579401e+13            L77566A             65.0              5.0   \n",
       "2       3.528151e+13            D42335A             45.0              5.0   \n",
       "3                NaN               None              NaN              NaN   \n",
       "4       3.540701e+13            D88865A             45.0              5.0   \n",
       "...              ...                ...              ...              ...   \n",
       "149995           NaN               None              NaN              NaN   \n",
       "149996  3.548311e+13            D20434A             32.0              0.0   \n",
       "149997  3.566051e+13            D10223C             27.0              2.0   \n",
       "149998  3.572121e+13            T51102A             43.0              6.0   \n",
       "149999  8.618620e+13            L88342B             37.0              5.0   \n",
       "\n",
       "        Avg Bearer TP DL (kbps)  Avg Bearer TP UL (kbps)  DL TP < 50 Kbps (%)  \\\n",
       "0                          23.0                     44.0                100.0   \n",
       "1                          16.0                     26.0                100.0   \n",
       "2                           6.0                      9.0                100.0   \n",
       "3                           NaN                      NaN                  NaN   \n",
       "4                           6.0                      9.0                100.0   \n",
       "...                         ...                      ...                  ...   \n",
       "149995                      NaN                      NaN                  NaN   \n",
       "149996                     52.0                     65.0                100.0   \n",
       "149997                     23.0                     54.0                100.0   \n",
       "149998                     43.0                     47.0                100.0   \n",
       "149999                     34.0                     37.0                100.0   \n",
       "\n",
       "        50 Kbps < DL TP < 250 Kbps (%)  250 Kbps < DL TP < 1 Mbps (%)  \\\n",
       "0                                  0.0                            0.0   \n",
       "1                                  0.0                            0.0   \n",
       "2                                  0.0                            0.0   \n",
       "3                                  NaN                            NaN   \n",
       "4                                  0.0                            0.0   \n",
       "...                                ...                            ...   \n",
       "149995                             NaN                            NaN   \n",
       "149996                             0.0                            0.0   \n",
       "149997                             0.0                            0.0   \n",
       "149998                             0.0                            0.0   \n",
       "149999                             0.0                            0.0   \n",
       "\n",
       "        DL TP > 1 Mbps (%)  UL TP < 10 Kbps (%)  \\\n",
       "0                      0.0                100.0   \n",
       "1                      0.0                100.0   \n",
       "2                      0.0                100.0   \n",
       "3                      NaN                  NaN   \n",
       "4                      0.0                100.0   \n",
       "...                    ...                  ...   \n",
       "149995                 NaN                  NaN   \n",
       "149996                 0.0                100.0   \n",
       "149997                 0.0                100.0   \n",
       "149998                 0.0                100.0   \n",
       "149999                 0.0                100.0   \n",
       "\n",
       "        10 Kbps < UL TP < 50 Kbps (%)  50 Kbps < UL TP < 300 Kbps (%)  \\\n",
       "0                                 0.0                             0.0   \n",
       "1                                 0.0                             0.0   \n",
       "2                                 0.0                             0.0   \n",
       "3                                 NaN                             NaN   \n",
       "4                                 0.0                             0.0   \n",
       "...                               ...                             ...   \n",
       "149995                            NaN                             NaN   \n",
       "149996                            0.0                             0.0   \n",
       "149997                            0.0                             0.0   \n",
       "149998                            0.0                             0.0   \n",
       "149999                            0.0                             0.0   \n",
       "\n",
       "        UL TP > 300 Kbps (%)  Activity Duration DL (ms)  \\\n",
       "0                        0.0                    37624.0   \n",
       "1                        0.0                      168.0   \n",
       "2                        0.0                        0.0   \n",
       "3                        NaN                        NaN   \n",
       "4                        0.0                        0.0   \n",
       "...                      ...                        ...   \n",
       "149995                   NaN                        NaN   \n",
       "149996                   0.0                    42376.0   \n",
       "149997                   0.0                    17264.0   \n",
       "149998                   0.0                    25003.0   \n",
       "149999                   0.0                    13405.0   \n",
       "\n",
       "        Activity Duration UL (ms)   Dur. (ms).1 Handset Manufacturer  \\\n",
       "0                         38787.0  1.823653e+09              Samsung   \n",
       "1                          3560.0  1.365104e+09              Samsung   \n",
       "2                             0.0  1.361763e+09              Samsung   \n",
       "3                             NaN           NaN                 None   \n",
       "4                             0.0  1.089009e+09              Samsung   \n",
       "...                           ...           ...                  ...   \n",
       "149995                        NaN           NaN                 None   \n",
       "149996                    41915.0  8.123076e+07                Apple   \n",
       "149997                    16759.0  9.797070e+07                Apple   \n",
       "149998                    28640.0  9.824953e+07                Apple   \n",
       "149999                    34088.0  9.791063e+07               Huawei   \n",
       "\n",
       "                       Handset Type  Nb of sec with Vol DL < 6250B  \\\n",
       "0        Samsung Galaxy A5 Sm-A520F                          213.0   \n",
       "1       Samsung Galaxy J5 (Sm-J530)                          971.0   \n",
       "2          Samsung Galaxy A8 (2018)                          751.0   \n",
       "3                              None                            NaN   \n",
       "4                  Samsung Sm-G390F                          607.0   \n",
       "...                             ...                            ...   \n",
       "149995                         None                            NaN   \n",
       "149996  Apple iPhone 8 Plus (A1897)                          223.0   \n",
       "149997      Apple iPhone Se (A1723)                          105.0   \n",
       "149998      Apple iPhone Xs (A2097)                          104.0   \n",
       "149999               Huawei Fig-Lx1                           43.0   \n",
       "\n",
       "        Nb of sec with Vol UL < 1250B  Social Media DL (Bytes)  \\\n",
       "0                               214.0                1545765.0   \n",
       "1                              1022.0                1926113.0   \n",
       "2                               695.0                1684053.0   \n",
       "3                                 NaN                      NaN   \n",
       "4                               604.0                 862600.0   \n",
       "...                               ...                      ...   \n",
       "149995                            NaN                      NaN   \n",
       "149996                          229.0                3464974.0   \n",
       "149997                          102.0                2344568.0   \n",
       "149998                          108.0                1245845.0   \n",
       "149999                           82.0                 801547.0   \n",
       "\n",
       "        Social Media UL (Bytes)  Google DL (Bytes)  Google UL (Bytes)  \\\n",
       "0                       24420.0          1634479.0          1271433.0   \n",
       "1                        7165.0          3493924.0           920172.0   \n",
       "2                       42224.0          8535055.0          1694064.0   \n",
       "3                           NaN                NaN                NaN   \n",
       "4                       50188.0          6248284.0          1500559.0   \n",
       "...                         ...                ...                ...   \n",
       "149995                      NaN                NaN                NaN   \n",
       "149996                  52091.0          9967603.0          2817311.0   \n",
       "149997                   7613.0          2229420.0          2185941.0   \n",
       "149998                  14394.0          3850890.0          2734579.0   \n",
       "149999                  21562.0          4189773.0          3567494.0   \n",
       "\n",
       "        Email DL (Bytes)  Email UL (Bytes)  Youtube DL (Bytes)  \\\n",
       "0              3563542.0          137762.0          15854611.0   \n",
       "1               629046.0          308339.0          20247396.0   \n",
       "2              2690151.0          672973.0          19725660.0   \n",
       "3                    NaN               NaN                 NaN   \n",
       "4              1936496.0          173853.0          15259380.0   \n",
       "...                  ...               ...                 ...   \n",
       "149995               NaN               NaN                 NaN   \n",
       "149996           57639.0          633237.0          16191667.0   \n",
       "149997         1954414.0          167304.0          13877234.0   \n",
       "149998         1525734.0          532543.0          22660510.0   \n",
       "149999         2228270.0          622644.0           8817106.0   \n",
       "\n",
       "        Youtube UL (Bytes)  Netflix DL (Bytes)  Netflix UL (Bytes)  \\\n",
       "0                2501332.0           8198936.0           9656251.0   \n",
       "1               19111728.0          18338412.0          17227132.0   \n",
       "2               14699576.0          17587794.0           6163408.0   \n",
       "3                      NaN                 NaN                 NaN   \n",
       "4               18962872.0          17124580.0            415218.0   \n",
       "...                    ...                 ...                 ...   \n",
       "149995                 NaN                 NaN                 NaN   \n",
       "149996          11763428.0          17883704.0          19678160.0   \n",
       "149997           8288284.0          19350146.0          21293148.0   \n",
       "149998           1855903.0           9963942.0           5065760.0   \n",
       "149999           8305402.0           3322253.0          13172589.0   \n",
       "\n",
       "        Gaming DL (Bytes)  Gaming UL (Bytes)  Other DL (Bytes)  \\\n",
       "0             278082304.0         14344150.0       171744448.0   \n",
       "1             608750080.0          1170709.0       526904224.0   \n",
       "2             229584624.0           395630.0       410692576.0   \n",
       "3                     NaN                NaN               NaN   \n",
       "4             527707264.0          3529801.0       550709504.0   \n",
       "...                   ...                ...               ...   \n",
       "149995                NaN                NaN               NaN   \n",
       "149996        526609664.0          9197207.0         3264510.0   \n",
       "149997        626893056.0          4735033.0       712180416.0   \n",
       "149998        553539456.0         13394316.0       121100856.0   \n",
       "149999        352536960.0          2529475.0       814713088.0   \n",
       "\n",
       "        Other UL (Bytes)  Total UL (Bytes)  Total DL (Bytes)  \n",
       "0              8814393.0        36749740.0       308879648.0  \n",
       "1             15055145.0        53800392.0       653384960.0  \n",
       "2              4215763.0        27883638.0       279807328.0  \n",
       "3                    NaN               NaN               NaN  \n",
       "4             13910322.0        38542816.0       569138560.0  \n",
       "...                  ...               ...               ...  \n",
       "149995               NaN               NaN               NaN  \n",
       "149996        13487416.0        57628852.0       574175232.0  \n",
       "149997         2457758.0        39135080.0       666648832.0  \n",
       "149998        11314729.0        34912224.0       592786432.0  \n",
       "149999         1406930.0        29626096.0       371895936.0  \n",
       "\n",
       "[150000 rows x 45 columns]"
      ],
      "text/html": "<div>\n<style scoped>\n    .dataframe tbody tr th:only-of-type {\n        vertical-align: middle;\n    }\n\n    .dataframe tbody tr th {\n        vertical-align: top;\n    }\n\n    .dataframe thead th {\n        text-align: right;\n    }\n</style>\n<table border=\"1\" class=\"dataframe\">\n  <thead>\n    <tr style=\"text-align: right;\">\n      <th></th>\n      <th>Bearer Id</th>\n      <th>Start</th>\n      <th>Start ms</th>\n      <th>End</th>\n      <th>End ms</th>\n      <th>Dur. (ms)</th>\n      <th>IMSI</th>\n      <th>MSISDN/Number</th>\n      <th>IMEI</th>\n      <th>Last Location Name</th>\n      <th>Avg RTT DL (ms)</th>\n      <th>Avg RTT UL (ms)</th>\n      <th>Avg Bearer TP DL (kbps)</th>\n      <th>Avg Bearer TP UL (kbps)</th>\n      <th>DL TP &lt; 50 Kbps (%)</th>\n      <th>50 Kbps &lt; DL TP &lt; 250 Kbps (%)</th>\n      <th>250 Kbps &lt; DL TP &lt; 1 Mbps (%)</th>\n      <th>DL TP &gt; 1 Mbps (%)</th>\n      <th>UL TP &lt; 10 Kbps (%)</th>\n      <th>10 Kbps &lt; UL TP &lt; 50 Kbps (%)</th>\n      <th>50 Kbps &lt; UL TP &lt; 300 Kbps (%)</th>\n      <th>UL TP &gt; 300 Kbps (%)</th>\n      <th>Activity Duration DL (ms)</th>\n      <th>Activity Duration UL (ms)</th>\n      <th>Dur. (ms).1</th>\n      <th>Handset Manufacturer</th>\n      <th>Handset Type</th>\n      <th>Nb of sec with Vol DL &lt; 6250B</th>\n      <th>Nb of sec with Vol UL &lt; 1250B</th>\n      <th>Social Media DL (Bytes)</th>\n      <th>Social Media UL (Bytes)</th>\n      <th>Google DL (Bytes)</th>\n      <th>Google UL (Bytes)</th>\n      <th>Email DL (Bytes)</th>\n      <th>Email UL (Bytes)</th>\n      <th>Youtube DL (Bytes)</th>\n      <th>Youtube UL (Bytes)</th>\n      <th>Netflix DL (Bytes)</th>\n      <th>Netflix UL (Bytes)</th>\n      <th>Gaming DL (Bytes)</th>\n      <th>Gaming UL (Bytes)</th>\n      <th>Other DL (Bytes)</th>\n      <th>Other UL (Bytes)</th>\n      <th>Total UL (Bytes)</th>\n      <th>Total DL (Bytes)</th>\n    </tr>\n  </thead>\n  <tbody>\n    <tr>\n      <th>0</th>\n      <td>13114483460844900352</td>\n      <td>2019-04-04 12:01:18</td>\n      <td>770.0</td>\n      <td>2019-04-25 14:35:31</td>\n      <td>662.0</td>\n      <td>1823652.0</td>\n      <td>2.082014e+14</td>\n      <td>3.366496e+10</td>\n      <td>3.552121e+13</td>\n      <td>9164566995485190</td>\n      <td>42.0</td>\n      <td>5.0</td>\n      <td>23.0</td>\n      <td>44.0</td>\n      <td>100.0</td>\n      <td>0.0</td>\n      <td>0.0</td>\n      <td>0.0</td>\n      <td>100.0</td>\n      <td>0.0</td>\n      <td>0.0</td>\n      <td>0.0</td>\n      <td>37624.0</td>\n      <td>38787.0</td>\n      <td>1.823653e+09</td>\n      <td>Samsung</td>\n      <td>Samsung Galaxy A5 Sm-A520F</td>\n      <td>213.0</td>\n      <td>214.0</td>\n      <td>1545765.0</td>\n      <td>24420.0</td>\n      <td>1634479.0</td>\n      <td>1271433.0</td>\n      <td>3563542.0</td>\n      <td>137762.0</td>\n      <td>15854611.0</td>\n      <td>2501332.0</td>\n      <td>8198936.0</td>\n      <td>9656251.0</td>\n      <td>278082304.0</td>\n      <td>14344150.0</td>\n      <td>171744448.0</td>\n      <td>8814393.0</td>\n      <td>36749740.0</td>\n      <td>308879648.0</td>\n    </tr>\n    <tr>\n      <th>1</th>\n      <td>13114483482878900224</td>\n      <td>2019-04-09 13:04:04</td>\n      <td>235.0</td>\n      <td>2019-04-25 08:15:48</td>\n      <td>606.0</td>\n      <td>1365104.0</td>\n      <td>2.082019e+14</td>\n      <td>3.368185e+10</td>\n      <td>3.579401e+13</td>\n      <td>L77566A</td>\n      <td>65.0</td>\n      <td>5.0</td>\n      <td>16.0</td>\n      <td>26.0</td>\n      <td>100.0</td>\n      <td>0.0</td>\n      <td>0.0</td>\n      <td>0.0</td>\n      <td>100.0</td>\n      <td>0.0</td>\n      <td>0.0</td>\n      <td>0.0</td>\n      <td>168.0</td>\n      <td>3560.0</td>\n      <td>1.365104e+09</td>\n      <td>Samsung</td>\n      <td>Samsung Galaxy J5 (Sm-J530)</td>\n      <td>971.0</td>\n      <td>1022.0</td>\n      <td>1926113.0</td>\n      <td>7165.0</td>\n      <td>3493924.0</td>\n      <td>920172.0</td>\n      <td>629046.0</td>\n      <td>308339.0</td>\n      <td>20247396.0</td>\n      <td>19111728.0</td>\n      <td>18338412.0</td>\n      <td>17227132.0</td>\n      <td>608750080.0</td>\n      <td>1170709.0</td>\n      <td>526904224.0</td>\n      <td>15055145.0</td>\n      <td>53800392.0</td>\n      <td>653384960.0</td>\n    </tr>\n    <tr>\n      <th>2</th>\n      <td>13114483484080500736</td>\n      <td>2019-04-09 17:42:11</td>\n      <td>1.0</td>\n      <td>2019-04-25 11:58:13</td>\n      <td>652.0</td>\n      <td>1361762.0</td>\n      <td>2.082003e+14</td>\n      <td>3.376063e+10</td>\n      <td>3.528151e+13</td>\n      <td>D42335A</td>\n      <td>45.0</td>\n      <td>5.0</td>\n      <td>6.0</td>\n      <td>9.0</td>\n      <td>100.0</td>\n      <td>0.0</td>\n      <td>0.0</td>\n      <td>0.0</td>\n      <td>100.0</td>\n      <td>0.0</td>\n      <td>0.0</td>\n      <td>0.0</td>\n      <td>0.0</td>\n      <td>0.0</td>\n      <td>1.361763e+09</td>\n      <td>Samsung</td>\n      <td>Samsung Galaxy A8 (2018)</td>\n      <td>751.0</td>\n      <td>695.0</td>\n      <td>1684053.0</td>\n      <td>42224.0</td>\n      <td>8535055.0</td>\n      <td>1694064.0</td>\n      <td>2690151.0</td>\n      <td>672973.0</td>\n      <td>19725660.0</td>\n      <td>14699576.0</td>\n      <td>17587794.0</td>\n      <td>6163408.0</td>\n      <td>229584624.0</td>\n      <td>395630.0</td>\n      <td>410692576.0</td>\n      <td>4215763.0</td>\n      <td>27883638.0</td>\n      <td>279807328.0</td>\n    </tr>\n    <tr>\n      <th>3</th>\n      <td>None</td>\n      <td>NaT</td>\n      <td>NaN</td>\n      <td>NaT</td>\n      <td>NaN</td>\n      <td>NaN</td>\n      <td>NaN</td>\n      <td>NaN</td>\n      <td>NaN</td>\n      <td>None</td>\n      <td>NaN</td>\n      <td>NaN</td>\n      <td>NaN</td>\n      <td>NaN</td>\n      <td>NaN</td>\n      <td>NaN</td>\n      <td>NaN</td>\n      <td>NaN</td>\n      <td>NaN</td>\n      <td>NaN</td>\n      <td>NaN</td>\n      <td>NaN</td>\n      <td>NaN</td>\n      <td>NaN</td>\n      <td>NaN</td>\n      <td>None</td>\n      <td>None</td>\n      <td>NaN</td>\n      <td>NaN</td>\n      <td>NaN</td>\n      <td>NaN</td>\n      <td>NaN</td>\n      <td>NaN</td>\n      <td>NaN</td>\n      <td>NaN</td>\n      <td>NaN</td>\n      <td>NaN</td>\n      <td>NaN</td>\n      <td>NaN</td>\n      <td>NaN</td>\n      <td>NaN</td>\n      <td>NaN</td>\n      <td>NaN</td>\n      <td>NaN</td>\n      <td>NaN</td>\n    </tr>\n    <tr>\n      <th>4</th>\n      <td>13114483499480700928</td>\n      <td>2019-04-12 20:10:23</td>\n      <td>565.0</td>\n      <td>2019-04-25 10:40:32</td>\n      <td>954.0</td>\n      <td>1089009.0</td>\n      <td>2.082014e+14</td>\n      <td>3.369979e+10</td>\n      <td>3.540701e+13</td>\n      <td>D88865A</td>\n      <td>45.0</td>\n      <td>5.0</td>\n      <td>6.0</td>\n      <td>9.0</td>\n      <td>100.0</td>\n      <td>0.0</td>\n      <td>0.0</td>\n      <td>0.0</td>\n      <td>100.0</td>\n      <td>0.0</td>\n      <td>0.0</td>\n      <td>0.0</td>\n      <td>0.0</td>\n      <td>0.0</td>\n      <td>1.089009e+09</td>\n      <td>Samsung</td>\n      <td>Samsung Sm-G390F</td>\n      <td>607.0</td>\n      <td>604.0</td>\n      <td>862600.0</td>\n      <td>50188.0</td>\n      <td>6248284.0</td>\n      <td>1500559.0</td>\n      <td>1936496.0</td>\n      <td>173853.0</td>\n      <td>15259380.0</td>\n      <td>18962872.0</td>\n      <td>17124580.0</td>\n      <td>415218.0</td>\n      <td>527707264.0</td>\n      <td>3529801.0</td>\n      <td>550709504.0</td>\n      <td>13910322.0</td>\n      <td>38542816.0</td>\n      <td>569138560.0</td>\n    </tr>\n    <tr>\n      <th>...</th>\n      <td>...</td>\n      <td>...</td>\n      <td>...</td>\n      <td>...</td>\n      <td>...</td>\n      <td>...</td>\n      <td>...</td>\n      <td>...</td>\n      <td>...</td>\n      <td>...</td>\n      <td>...</td>\n      <td>...</td>\n      <td>...</td>\n      <td>...</td>\n      <td>...</td>\n      <td>...</td>\n      <td>...</td>\n      <td>...</td>\n      <td>...</td>\n      <td>...</td>\n      <td>...</td>\n      <td>...</td>\n      <td>...</td>\n      <td>...</td>\n      <td>...</td>\n      <td>...</td>\n      <td>...</td>\n      <td>...</td>\n      <td>...</td>\n      <td>...</td>\n      <td>...</td>\n      <td>...</td>\n      <td>...</td>\n      <td>...</td>\n      <td>...</td>\n      <td>...</td>\n      <td>...</td>\n      <td>...</td>\n      <td>...</td>\n      <td>...</td>\n      <td>...</td>\n      <td>...</td>\n      <td>...</td>\n      <td>...</td>\n      <td>...</td>\n    </tr>\n    <tr>\n      <th>149995</th>\n      <td>None</td>\n      <td>NaT</td>\n      <td>NaN</td>\n      <td>NaT</td>\n      <td>NaN</td>\n      <td>NaN</td>\n      <td>NaN</td>\n      <td>NaN</td>\n      <td>NaN</td>\n      <td>None</td>\n      <td>NaN</td>\n      <td>NaN</td>\n      <td>NaN</td>\n      <td>NaN</td>\n      <td>NaN</td>\n      <td>NaN</td>\n      <td>NaN</td>\n      <td>NaN</td>\n      <td>NaN</td>\n      <td>NaN</td>\n      <td>NaN</td>\n      <td>NaN</td>\n      <td>NaN</td>\n      <td>NaN</td>\n      <td>NaN</td>\n      <td>None</td>\n      <td>None</td>\n      <td>NaN</td>\n      <td>NaN</td>\n      <td>NaN</td>\n      <td>NaN</td>\n      <td>NaN</td>\n      <td>NaN</td>\n      <td>NaN</td>\n      <td>NaN</td>\n      <td>NaN</td>\n      <td>NaN</td>\n      <td>NaN</td>\n      <td>NaN</td>\n      <td>NaN</td>\n      <td>NaN</td>\n      <td>NaN</td>\n      <td>NaN</td>\n      <td>NaN</td>\n      <td>NaN</td>\n    </tr>\n    <tr>\n      <th>149996</th>\n      <td>7277825670196679680</td>\n      <td>2019-04-29 07:28:42</td>\n      <td>451.0</td>\n      <td>2019-04-30 06:02:33</td>\n      <td>214.0</td>\n      <td>81230.0</td>\n      <td>2.082022e+14</td>\n      <td>3.365069e+10</td>\n      <td>3.548311e+13</td>\n      <td>D20434A</td>\n      <td>32.0</td>\n      <td>0.0</td>\n      <td>52.0</td>\n      <td>65.0</td>\n      <td>100.0</td>\n      <td>0.0</td>\n      <td>0.0</td>\n      <td>0.0</td>\n      <td>100.0</td>\n      <td>0.0</td>\n      <td>0.0</td>\n      <td>0.0</td>\n      <td>42376.0</td>\n      <td>41915.0</td>\n      <td>8.123076e+07</td>\n      <td>Apple</td>\n      <td>Apple iPhone 8 Plus (A1897)</td>\n      <td>223.0</td>\n      <td>229.0</td>\n      <td>3464974.0</td>\n      <td>52091.0</td>\n      <td>9967603.0</td>\n      <td>2817311.0</td>\n      <td>57639.0</td>\n      <td>633237.0</td>\n      <td>16191667.0</td>\n      <td>11763428.0</td>\n      <td>17883704.0</td>\n      <td>19678160.0</td>\n      <td>526609664.0</td>\n      <td>9197207.0</td>\n      <td>3264510.0</td>\n      <td>13487416.0</td>\n      <td>57628852.0</td>\n      <td>574175232.0</td>\n    </tr>\n    <tr>\n      <th>149997</th>\n      <td>7349883264234609664</td>\n      <td>2019-04-29 07:28:42</td>\n      <td>483.0</td>\n      <td>2019-04-30 10:41:33</td>\n      <td>187.0</td>\n      <td>97970.0</td>\n      <td>2.082019e+14</td>\n      <td>3.366345e+10</td>\n      <td>3.566051e+13</td>\n      <td>D10223C</td>\n      <td>27.0</td>\n      <td>2.0</td>\n      <td>23.0</td>\n      <td>54.0</td>\n      <td>100.0</td>\n      <td>0.0</td>\n      <td>0.0</td>\n      <td>0.0</td>\n      <td>100.0</td>\n      <td>0.0</td>\n      <td>0.0</td>\n      <td>0.0</td>\n      <td>17264.0</td>\n      <td>16759.0</td>\n      <td>9.797070e+07</td>\n      <td>Apple</td>\n      <td>Apple iPhone Se (A1723)</td>\n      <td>105.0</td>\n      <td>102.0</td>\n      <td>2344568.0</td>\n      <td>7613.0</td>\n      <td>2229420.0</td>\n      <td>2185941.0</td>\n      <td>1954414.0</td>\n      <td>167304.0</td>\n      <td>13877234.0</td>\n      <td>8288284.0</td>\n      <td>19350146.0</td>\n      <td>21293148.0</td>\n      <td>626893056.0</td>\n      <td>4735033.0</td>\n      <td>712180416.0</td>\n      <td>2457758.0</td>\n      <td>39135080.0</td>\n      <td>666648832.0</td>\n    </tr>\n    <tr>\n      <th>149998</th>\n      <td>13114483573367300096</td>\n      <td>2019-04-29 07:28:43</td>\n      <td>283.0</td>\n      <td>2019-04-30 10:46:12</td>\n      <td>810.0</td>\n      <td>98249.0</td>\n      <td>2.082017e+14</td>\n      <td>3.362189e+10</td>\n      <td>3.572121e+13</td>\n      <td>T51102A</td>\n      <td>43.0</td>\n      <td>6.0</td>\n      <td>43.0</td>\n      <td>47.0</td>\n      <td>100.0</td>\n      <td>0.0</td>\n      <td>0.0</td>\n      <td>0.0</td>\n      <td>100.0</td>\n      <td>0.0</td>\n      <td>0.0</td>\n      <td>0.0</td>\n      <td>25003.0</td>\n      <td>28640.0</td>\n      <td>9.824953e+07</td>\n      <td>Apple</td>\n      <td>Apple iPhone Xs (A2097)</td>\n      <td>104.0</td>\n      <td>108.0</td>\n      <td>1245845.0</td>\n      <td>14394.0</td>\n      <td>3850890.0</td>\n      <td>2734579.0</td>\n      <td>1525734.0</td>\n      <td>532543.0</td>\n      <td>22660510.0</td>\n      <td>1855903.0</td>\n      <td>9963942.0</td>\n      <td>5065760.0</td>\n      <td>553539456.0</td>\n      <td>13394316.0</td>\n      <td>121100856.0</td>\n      <td>11314729.0</td>\n      <td>34912224.0</td>\n      <td>592786432.0</td>\n    </tr>\n    <tr>\n      <th>149999</th>\n      <td>13114483573367300096</td>\n      <td>2019-04-29 07:28:43</td>\n      <td>696.0</td>\n      <td>2019-04-30 10:40:34</td>\n      <td>327.0</td>\n      <td>97910.0</td>\n      <td>2.082021e+14</td>\n      <td>3.361962e+10</td>\n      <td>8.618620e+13</td>\n      <td>L88342B</td>\n      <td>37.0</td>\n      <td>5.0</td>\n      <td>34.0</td>\n      <td>37.0</td>\n      <td>100.0</td>\n      <td>0.0</td>\n      <td>0.0</td>\n      <td>0.0</td>\n      <td>100.0</td>\n      <td>0.0</td>\n      <td>0.0</td>\n      <td>0.0</td>\n      <td>13405.0</td>\n      <td>34088.0</td>\n      <td>9.791063e+07</td>\n      <td>Huawei</td>\n      <td>Huawei Fig-Lx1</td>\n      <td>43.0</td>\n      <td>82.0</td>\n      <td>801547.0</td>\n      <td>21562.0</td>\n      <td>4189773.0</td>\n      <td>3567494.0</td>\n      <td>2228270.0</td>\n      <td>622644.0</td>\n      <td>8817106.0</td>\n      <td>8305402.0</td>\n      <td>3322253.0</td>\n      <td>13172589.0</td>\n      <td>352536960.0</td>\n      <td>2529475.0</td>\n      <td>814713088.0</td>\n      <td>1406930.0</td>\n      <td>29626096.0</td>\n      <td>371895936.0</td>\n    </tr>\n  </tbody>\n</table>\n<p>150000 rows × 45 columns</p>\n</div>"
     },
     "metadata": {},
     "execution_count": 33
    }
   ],
   "source": [
    "cleaner.fill_non_numeric_values(explorer.get_columns_with_missing_values(),[\"undefined\"],ffill=True,bfill=True)"
   ]
  },
  {
   "cell_type": "code",
   "execution_count": null,
   "metadata": {},
   "outputs": [],
   "source": []
  },
  {
   "cell_type": "code",
   "execution_count": 31,
   "metadata": {},
   "outputs": [
    {
     "output_type": "execute_result",
     "data": {
      "text/plain": [
       "Apple                                              59565\n",
       "Samsung                                            40839\n",
       "Huawei                                             34423\n",
       "undefined                                           8987\n",
       "Sony Mobile Communications Ab                        980\n",
       "                                                   ...  \n",
       "Sintave Technology (Group) Co Ltd                      1\n",
       "Shanghai Chengyu Media Technology Co Ltd               1\n",
       "M S Soha Enterprise                                    1\n",
       "Essential Products Inc.                                1\n",
       "Shenzhen Chainway Information Technology Co Ltd        1\n",
       "Name: Handset Manufacturer, Length: 170, dtype: int64"
      ]
     },
     "metadata": {},
     "execution_count": 31
    }
   ],
   "source": [
    "telData['Handset Manufacturer'].value_counts()"
   ]
  },
  {
   "cell_type": "code",
   "execution_count": null,
   "metadata": {},
   "outputs": [],
   "source": []
  }
 ]
}