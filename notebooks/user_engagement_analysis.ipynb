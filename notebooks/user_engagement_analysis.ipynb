{
 "metadata": {
  "language_info": {
   "codemirror_mode": {
    "name": "ipython",
    "version": 3
   },
   "file_extension": ".py",
   "mimetype": "text/x-python",
   "name": "python",
   "nbconvert_exporter": "python",
   "pygments_lexer": "ipython3",
   "version": "3.8.4"
  },
  "orig_nbformat": 4,
  "kernelspec": {
   "name": "python3",
   "display_name": "Python 3.8.4 64-bit"
  },
  "interpreter": {
   "hash": "2db524e06e9f5f4ffedc911c917cb75e12dbc923643829bf417064a77eb14d37"
  }
 },
 "nbformat": 4,
 "nbformat_minor": 2,
 "cells": [
  {
   "source": [
    "## User Engagement analysis"
   ],
   "cell_type": "markdown",
   "metadata": {}
  },
  {
   "cell_type": "code",
   "execution_count": 1,
   "metadata": {},
   "outputs": [],
   "source": [
    "import sys\n",
    "sys.path.insert(0,'../scripts')"
   ]
  },
  {
   "cell_type": "code",
   "execution_count": 2,
   "metadata": {},
   "outputs": [],
   "source": [
    "# Setting Notebook preference options, and\n",
    "# Importing External Modules\n",
    "import pandas as pd\n",
    "from sklearn.decomposition import PCA\n",
    "import matplotlib.pyplot as plt\n",
    "from sklearn.cluster import KMeans\n",
    "pd.set_option('max_column', None)\n",
    "# pd.set_option('display.float_format', '{:.2f}'.format)\n",
    "%matplotlib inline"
   ]
  },
  {
   "cell_type": "code",
   "execution_count": 3,
   "metadata": {},
   "outputs": [],
   "source": [
    "# Importing Local Modules\n",
    "from data_loader import load_df_from_csv\n",
    "from data_information import DataInfo\n",
    "from data_cleaner import DataCleaner\n",
    "from data_manipulation import DataManipulator\n",
    "import graph_utils"
   ]
  },
  {
   "source": [
    "We are gonna track the user’s engagement using the following engagement metrics: \n",
    "- sessions frequency (by xDr session identifier which is bearer id)\n",
    "- the duration of the session (by Total Duration of the xDR (in ms) which is Total Duration in our clean data)\n",
    "- the sessions total traffic (download and upload (bytes)) (by the sum of Total DL (Bytes) and Total UL (Bytes) which in Total Data (MegaBytes) in our clean data)\n"
   ],
   "cell_type": "markdown",
   "metadata": {}
  },
  {
   "cell_type": "code",
   "execution_count": 4,
   "metadata": {},
   "outputs": [],
   "source": [
    "#Fetching and selecting the specified metric columns only\n",
    "clean_data = load_df_from_csv(\"../data/teleCo_clean_data.csv\")\n",
    "cleaner = DataCleaner(clean_data)\n",
    "cleaner.remove_unwanted_columns(cleaner.df.columns[0])\n",
    "clean_df = cleaner.df\n",
    "# df = cleaner.change_columns_type_to(['IMSI','Handset Manufacturer','Handset Type','IMEI','MSISDN/Number','Bearer Id'],'category')\n",
    "# df = cleaner.df.loc[:,['Bearer Id','Total Duration (hr)','Total Data (MegaBytes)']]"
   ]
  },
  {
   "cell_type": "code",
   "execution_count": 5,
   "metadata": {},
   "outputs": [
    {
     "output_type": "execute_result",
     "data": {
      "text/plain": [
       "               Bearer Id  Total Duration (hr)  Total Data (MegaBytes)\n",
       "MSISDN/Number                                                        \n",
       "3.360100e+10           2            82.764198             1035.550171\n",
       "3.360100e+10           1            37.491493              595.966492\n",
       "3.360101e+10           3            24.161798             1879.731689\n",
       "3.360101e+10           2            70.550858              615.217224\n",
       "3.360101e+10           3            59.655693              987.383423\n",
       "...                  ...                  ...                     ...\n",
       "3.378998e+10           2            58.441708             1094.693359\n",
       "3.379000e+10           2            41.610931             1194.948975\n",
       "3.197021e+12           1           243.718155              232.123978\n",
       "3.370000e+14           1            70.286171              596.287842\n",
       "8.823971e+14           1           241.623398              139.153641\n",
       "\n",
       "[35090 rows x 3 columns]"
      ],
      "text/html": "<div>\n<style scoped>\n    .dataframe tbody tr th:only-of-type {\n        vertical-align: middle;\n    }\n\n    .dataframe tbody tr th {\n        vertical-align: top;\n    }\n\n    .dataframe thead th {\n        text-align: right;\n    }\n</style>\n<table border=\"1\" class=\"dataframe\">\n  <thead>\n    <tr style=\"text-align: right;\">\n      <th></th>\n      <th>Bearer Id</th>\n      <th>Total Duration (hr)</th>\n      <th>Total Data (MegaBytes)</th>\n    </tr>\n    <tr>\n      <th>MSISDN/Number</th>\n      <th></th>\n      <th></th>\n      <th></th>\n    </tr>\n  </thead>\n  <tbody>\n    <tr>\n      <th>3.360100e+10</th>\n      <td>2</td>\n      <td>82.764198</td>\n      <td>1035.550171</td>\n    </tr>\n    <tr>\n      <th>3.360100e+10</th>\n      <td>1</td>\n      <td>37.491493</td>\n      <td>595.966492</td>\n    </tr>\n    <tr>\n      <th>3.360101e+10</th>\n      <td>3</td>\n      <td>24.161798</td>\n      <td>1879.731689</td>\n    </tr>\n    <tr>\n      <th>3.360101e+10</th>\n      <td>2</td>\n      <td>70.550858</td>\n      <td>615.217224</td>\n    </tr>\n    <tr>\n      <th>3.360101e+10</th>\n      <td>3</td>\n      <td>59.655693</td>\n      <td>987.383423</td>\n    </tr>\n    <tr>\n      <th>...</th>\n      <td>...</td>\n      <td>...</td>\n      <td>...</td>\n    </tr>\n    <tr>\n      <th>3.378998e+10</th>\n      <td>2</td>\n      <td>58.441708</td>\n      <td>1094.693359</td>\n    </tr>\n    <tr>\n      <th>3.379000e+10</th>\n      <td>2</td>\n      <td>41.610931</td>\n      <td>1194.948975</td>\n    </tr>\n    <tr>\n      <th>3.197021e+12</th>\n      <td>1</td>\n      <td>243.718155</td>\n      <td>232.123978</td>\n    </tr>\n    <tr>\n      <th>3.370000e+14</th>\n      <td>1</td>\n      <td>70.286171</td>\n      <td>596.287842</td>\n    </tr>\n    <tr>\n      <th>8.823971e+14</th>\n      <td>1</td>\n      <td>241.623398</td>\n      <td>139.153641</td>\n    </tr>\n  </tbody>\n</table>\n<p>35090 rows × 3 columns</p>\n</div>"
     },
     "metadata": {},
     "execution_count": 5
    }
   ],
   "source": [
    "df = clean_df.copy(deep=True)\n",
    "aggs_by_col = {'Bearer Id':'count', \n",
    "               'Total Duration (hr)':'sum',\n",
    "               'Total Data (MegaBytes)':'sum'\n",
    "               }\n",
    "\n",
    "df = df.groupby('MSISDN/Number').agg(aggs_by_col)\n",
    "df"
   ]
  },
  {
   "source": [
    "### Top 10 users based on Each Metric"
   ],
   "cell_type": "markdown",
   "metadata": {}
  },
  {
   "source": [
    "#### Based on Frequency on Sessions (Bearer Id count)"
   ],
   "cell_type": "markdown",
   "metadata": {}
  },
  {
   "cell_type": "code",
   "execution_count": 6,
   "metadata": {},
   "outputs": [
    {
     "output_type": "execute_result",
     "data": {
      "text/plain": [
       "               Bearer Id\n",
       "MSISDN/Number           \n",
       "3.366371e+10        1082\n",
       "3.376161e+10          66\n",
       "3.365849e+10          42\n",
       "3.376121e+10          39\n",
       "3.365936e+10          38\n",
       "3.376161e+10          37\n",
       "3.366186e+10          36\n",
       "3.376359e+10          35\n",
       "3.365807e+10          34\n",
       "3.376156e+10          34"
      ],
      "text/html": "<div>\n<style scoped>\n    .dataframe tbody tr th:only-of-type {\n        vertical-align: middle;\n    }\n\n    .dataframe tbody tr th {\n        vertical-align: top;\n    }\n\n    .dataframe thead th {\n        text-align: right;\n    }\n</style>\n<table border=\"1\" class=\"dataframe\">\n  <thead>\n    <tr style=\"text-align: right;\">\n      <th></th>\n      <th>Bearer Id</th>\n    </tr>\n    <tr>\n      <th>MSISDN/Number</th>\n      <th></th>\n    </tr>\n  </thead>\n  <tbody>\n    <tr>\n      <th>3.366371e+10</th>\n      <td>1082</td>\n    </tr>\n    <tr>\n      <th>3.376161e+10</th>\n      <td>66</td>\n    </tr>\n    <tr>\n      <th>3.365849e+10</th>\n      <td>42</td>\n    </tr>\n    <tr>\n      <th>3.376121e+10</th>\n      <td>39</td>\n    </tr>\n    <tr>\n      <th>3.365936e+10</th>\n      <td>38</td>\n    </tr>\n    <tr>\n      <th>3.376161e+10</th>\n      <td>37</td>\n    </tr>\n    <tr>\n      <th>3.366186e+10</th>\n      <td>36</td>\n    </tr>\n    <tr>\n      <th>3.376359e+10</th>\n      <td>35</td>\n    </tr>\n    <tr>\n      <th>3.365807e+10</th>\n      <td>34</td>\n    </tr>\n    <tr>\n      <th>3.376156e+10</th>\n      <td>34</td>\n    </tr>\n  </tbody>\n</table>\n</div>"
     },
     "metadata": {},
     "execution_count": 6
    }
   ],
   "source": [
    "dataManipulator = DataManipulator(df)\n",
    "dataManipulator.get_top_sorted_by_column('Bearer Id',length=10)"
   ]
  },
  {
   "source": [
    "#### Based on Duration of Session (Total Duration (hr))"
   ],
   "cell_type": "markdown",
   "metadata": {}
  },
  {
   "cell_type": "code",
   "execution_count": 7,
   "metadata": {},
   "outputs": [
    {
     "output_type": "execute_result",
     "data": {
      "text/plain": [
       "               Total Duration (hr)\n",
       "MSISDN/Number                     \n",
       "3.366371e+10          20619.708984\n",
       "3.362578e+10           5177.816406\n",
       "3.361489e+10           2916.683105\n",
       "3.376054e+10           2705.370361\n",
       "3.366716e+10           2574.032959\n",
       "3.362632e+10           2442.204590\n",
       "3.366469e+10           2148.354004\n",
       "3.366284e+10           2139.246826\n",
       "3.366746e+10           1953.496338\n",
       "3.365922e+10           1860.037109"
      ],
      "text/html": "<div>\n<style scoped>\n    .dataframe tbody tr th:only-of-type {\n        vertical-align: middle;\n    }\n\n    .dataframe tbody tr th {\n        vertical-align: top;\n    }\n\n    .dataframe thead th {\n        text-align: right;\n    }\n</style>\n<table border=\"1\" class=\"dataframe\">\n  <thead>\n    <tr style=\"text-align: right;\">\n      <th></th>\n      <th>Total Duration (hr)</th>\n    </tr>\n    <tr>\n      <th>MSISDN/Number</th>\n      <th></th>\n    </tr>\n  </thead>\n  <tbody>\n    <tr>\n      <th>3.366371e+10</th>\n      <td>20619.708984</td>\n    </tr>\n    <tr>\n      <th>3.362578e+10</th>\n      <td>5177.816406</td>\n    </tr>\n    <tr>\n      <th>3.361489e+10</th>\n      <td>2916.683105</td>\n    </tr>\n    <tr>\n      <th>3.376054e+10</th>\n      <td>2705.370361</td>\n    </tr>\n    <tr>\n      <th>3.366716e+10</th>\n      <td>2574.032959</td>\n    </tr>\n    <tr>\n      <th>3.362632e+10</th>\n      <td>2442.204590</td>\n    </tr>\n    <tr>\n      <th>3.366469e+10</th>\n      <td>2148.354004</td>\n    </tr>\n    <tr>\n      <th>3.366284e+10</th>\n      <td>2139.246826</td>\n    </tr>\n    <tr>\n      <th>3.366746e+10</th>\n      <td>1953.496338</td>\n    </tr>\n    <tr>\n      <th>3.365922e+10</th>\n      <td>1860.037109</td>\n    </tr>\n  </tbody>\n</table>\n</div>"
     },
     "metadata": {},
     "execution_count": 7
    }
   ],
   "source": [
    "dataManipulator.get_top_sorted_by_column('Total Duration (hr)',length=10)"
   ]
  },
  {
   "source": [
    "#### Based on sessions total traffic (Total Data (MegaBytes))"
   ],
   "cell_type": "markdown",
   "metadata": {}
  },
  {
   "cell_type": "code",
   "execution_count": 8,
   "metadata": {},
   "outputs": [
    {
     "output_type": "execute_result",
     "data": {
      "text/plain": [
       "               Total Data (MegaBytes)\n",
       "MSISDN/Number                        \n",
       "3.366371e+10            539359.125000\n",
       "3.376161e+10             35921.710938\n",
       "3.365849e+10             20849.119141\n",
       "3.365936e+10             19890.169922\n",
       "3.376121e+10             19655.876953\n",
       "3.365807e+10             19553.611328\n",
       "3.376375e+10             18489.074219\n",
       "3.369881e+10             17485.138672\n",
       "3.365097e+10             16954.798828\n",
       "3.366186e+10             16555.832031"
      ],
      "text/html": "<div>\n<style scoped>\n    .dataframe tbody tr th:only-of-type {\n        vertical-align: middle;\n    }\n\n    .dataframe tbody tr th {\n        vertical-align: top;\n    }\n\n    .dataframe thead th {\n        text-align: right;\n    }\n</style>\n<table border=\"1\" class=\"dataframe\">\n  <thead>\n    <tr style=\"text-align: right;\">\n      <th></th>\n      <th>Total Data (MegaBytes)</th>\n    </tr>\n    <tr>\n      <th>MSISDN/Number</th>\n      <th></th>\n    </tr>\n  </thead>\n  <tbody>\n    <tr>\n      <th>3.366371e+10</th>\n      <td>539359.125000</td>\n    </tr>\n    <tr>\n      <th>3.376161e+10</th>\n      <td>35921.710938</td>\n    </tr>\n    <tr>\n      <th>3.365849e+10</th>\n      <td>20849.119141</td>\n    </tr>\n    <tr>\n      <th>3.365936e+10</th>\n      <td>19890.169922</td>\n    </tr>\n    <tr>\n      <th>3.376121e+10</th>\n      <td>19655.876953</td>\n    </tr>\n    <tr>\n      <th>3.365807e+10</th>\n      <td>19553.611328</td>\n    </tr>\n    <tr>\n      <th>3.376375e+10</th>\n      <td>18489.074219</td>\n    </tr>\n    <tr>\n      <th>3.369881e+10</th>\n      <td>17485.138672</td>\n    </tr>\n    <tr>\n      <th>3.365097e+10</th>\n      <td>16954.798828</td>\n    </tr>\n    <tr>\n      <th>3.366186e+10</th>\n      <td>16555.832031</td>\n    </tr>\n  </tbody>\n</table>\n</div>"
     },
     "metadata": {},
     "execution_count": 8
    }
   ],
   "source": [
    "dataManipulator.get_top_sorted_by_column('Total Data (MegaBytes)',length=10)"
   ]
  },
  {
   "source": [
    "### Normalizing each engagement metric"
   ],
   "cell_type": "markdown",
   "metadata": {}
  },
  {
   "source": [
    "#### Normalizing Bearer Id"
   ],
   "cell_type": "markdown",
   "metadata": {}
  },
  {
   "cell_type": "code",
   "execution_count": 9,
   "metadata": {},
   "outputs": [],
   "source": [
    "# graph_utils.plot_hist(df, column='Bearer Id', color='red')"
   ]
  },
  {
   "cell_type": "code",
   "execution_count": 10,
   "metadata": {},
   "outputs": [],
   "source": [
    "# graph_utils.plot_hist(df, column='Total Duration (hr)', color='red')"
   ]
  },
  {
   "cell_type": "code",
   "execution_count": 11,
   "metadata": {},
   "outputs": [],
   "source": [
    "# graph_utils.plot_hist(df, column='Total Data (MegaBytes)', color='red')"
   ]
  },
  {
   "cell_type": "code",
   "execution_count": 12,
   "metadata": {},
   "outputs": [],
   "source": [
    "# imp_df = df.copy(deep=True)\n",
    "# dataManipulator = DataManipulator(imp_df)"
   ]
  },
  {
   "cell_type": "code",
   "execution_count": 13,
   "metadata": {},
   "outputs": [],
   "source": [
    "# scaled_df = dataManipulator.scale_column('Bearer Id')\n",
    "# scaled_df = dataManipulator.scale_column('Total Duration (hr)')\n",
    "# scaled_df = dataManipulator.scale_column('Total Data (MegaBytes)')\n",
    "# scaled_df"
   ]
  },
  {
   "cell_type": "code",
   "execution_count": 14,
   "metadata": {},
   "outputs": [],
   "source": [
    "# graph_utils.plot_hist(scaled_df, column='Bearer Id', color='yellow')"
   ]
  },
  {
   "cell_type": "code",
   "execution_count": 15,
   "metadata": {},
   "outputs": [],
   "source": [
    "# dataManipulator = DataManipulator(scaled_df)\n",
    "# normalized_df = dataManipulator.normalize_column('Bearer Id')\n",
    "# normalized_df = dataManipulator.normalize_column('Total Duration (hr)')\n",
    "# normalized_df = dataManipulator.normalize_column('Total Data (MegaBytes)')\n",
    "# normalized_df"
   ]
  },
  {
   "cell_type": "code",
   "execution_count": 16,
   "metadata": {},
   "outputs": [],
   "source": [
    "# graph_utils.plot_hist(normalized_df, column='Bearer Id', color='green')"
   ]
  },
  {
   "cell_type": "code",
   "execution_count": 17,
   "metadata": {},
   "outputs": [],
   "source": [
    "# graph_utils.plot_hist(normalized_df, column='Total Duration (hr)', color='green')"
   ]
  },
  {
   "cell_type": "code",
   "execution_count": 18,
   "metadata": {},
   "outputs": [],
   "source": [
    "# graph_utils.plot_hist(normalized_df, column='Total Data (MegaBytes)', color='green')"
   ]
  },
  {
   "cell_type": "code",
   "execution_count": null,
   "metadata": {},
   "outputs": [],
   "source": []
  },
  {
   "source": [
    "### Standardizing the Data"
   ],
   "cell_type": "markdown",
   "metadata": {}
  },
  {
   "cell_type": "code",
   "execution_count": 19,
   "metadata": {},
   "outputs": [],
   "source": [
    "standard_df = df.copy(deep=True)\n",
    "dataManipulator = DataManipulator(standard_df)"
   ]
  },
  {
   "cell_type": "code",
   "execution_count": 20,
   "metadata": {},
   "outputs": [
    {
     "output_type": "execute_result",
     "data": {
      "text/plain": [
       "               Bearer Id  Total Duration (hr)  Total Data (MegaBytes)\n",
       "MSISDN/Number                                                        \n",
       "3.360100e+10   -0.307711            -0.215304               -0.291806\n",
       "3.360100e+10   -0.442985            -0.450458               -0.410171\n",
       "3.360101e+10   -0.172437            -0.519694               -0.064496\n",
       "3.360101e+10   -0.307711            -0.278742               -0.404987\n",
       "3.360101e+10   -0.172437            -0.335333               -0.304775\n",
       "...                  ...                  ...                     ...\n",
       "3.378998e+10   -0.307711            -0.341639               -0.275880\n",
       "3.379000e+10   -0.307711            -0.429061               -0.248885\n",
       "3.197021e+12   -0.442985             0.620718               -0.508141\n",
       "3.370000e+14   -0.442985            -0.280117               -0.410084\n",
       "8.823971e+14   -0.442985             0.609838               -0.533175\n",
       "\n",
       "[35090 rows x 3 columns]"
      ],
      "text/html": "<div>\n<style scoped>\n    .dataframe tbody tr th:only-of-type {\n        vertical-align: middle;\n    }\n\n    .dataframe tbody tr th {\n        vertical-align: top;\n    }\n\n    .dataframe thead th {\n        text-align: right;\n    }\n</style>\n<table border=\"1\" class=\"dataframe\">\n  <thead>\n    <tr style=\"text-align: right;\">\n      <th></th>\n      <th>Bearer Id</th>\n      <th>Total Duration (hr)</th>\n      <th>Total Data (MegaBytes)</th>\n    </tr>\n    <tr>\n      <th>MSISDN/Number</th>\n      <th></th>\n      <th></th>\n      <th></th>\n    </tr>\n  </thead>\n  <tbody>\n    <tr>\n      <th>3.360100e+10</th>\n      <td>-0.307711</td>\n      <td>-0.215304</td>\n      <td>-0.291806</td>\n    </tr>\n    <tr>\n      <th>3.360100e+10</th>\n      <td>-0.442985</td>\n      <td>-0.450458</td>\n      <td>-0.410171</td>\n    </tr>\n    <tr>\n      <th>3.360101e+10</th>\n      <td>-0.172437</td>\n      <td>-0.519694</td>\n      <td>-0.064496</td>\n    </tr>\n    <tr>\n      <th>3.360101e+10</th>\n      <td>-0.307711</td>\n      <td>-0.278742</td>\n      <td>-0.404987</td>\n    </tr>\n    <tr>\n      <th>3.360101e+10</th>\n      <td>-0.172437</td>\n      <td>-0.335333</td>\n      <td>-0.304775</td>\n    </tr>\n    <tr>\n      <th>...</th>\n      <td>...</td>\n      <td>...</td>\n      <td>...</td>\n    </tr>\n    <tr>\n      <th>3.378998e+10</th>\n      <td>-0.307711</td>\n      <td>-0.341639</td>\n      <td>-0.275880</td>\n    </tr>\n    <tr>\n      <th>3.379000e+10</th>\n      <td>-0.307711</td>\n      <td>-0.429061</td>\n      <td>-0.248885</td>\n    </tr>\n    <tr>\n      <th>3.197021e+12</th>\n      <td>-0.442985</td>\n      <td>0.620718</td>\n      <td>-0.508141</td>\n    </tr>\n    <tr>\n      <th>3.370000e+14</th>\n      <td>-0.442985</td>\n      <td>-0.280117</td>\n      <td>-0.410084</td>\n    </tr>\n    <tr>\n      <th>8.823971e+14</th>\n      <td>-0.442985</td>\n      <td>0.609838</td>\n      <td>-0.533175</td>\n    </tr>\n  </tbody>\n</table>\n<p>35090 rows × 3 columns</p>\n</div>"
     },
     "metadata": {},
     "execution_count": 20
    }
   ],
   "source": [
    "std_df = dataManipulator.standardize_column('Bearer Id')\n",
    "std_df = dataManipulator.standardize_column('Total Duration (hr)')\n",
    "std_df = dataManipulator.standardize_column('Total Data (MegaBytes)')\n",
    "std_df"
   ]
  },
  {
   "cell_type": "code",
   "execution_count": 21,
   "metadata": {},
   "outputs": [],
   "source": [
    "# graph_utils.plot_hist(std_df, column='Bearer Id', color='green')"
   ]
  },
  {
   "source": [
    "### Clustering to 3 Groups"
   ],
   "cell_type": "markdown",
   "metadata": {}
  },
  {
   "cell_type": "code",
   "execution_count": 22,
   "metadata": {},
   "outputs": [],
   "source": [
    "clust_df = std_df.copy(deep=True)\n",
    "# clust_df = clust_df.iloc[:,1:]"
   ]
  },
  {
   "cell_type": "code",
   "execution_count": 23,
   "metadata": {},
   "outputs": [],
   "source": [
    "# kmeans = KMeans(n_clusters=3).fit(clust_df)\n",
    "# centroids = kmeans.cluster_centers_\n",
    "# print(centroids)\n",
    "# # clust_df['Bearer Id']\n",
    "# plt.figure(figsize=(10,5))\n",
    "# plt.scatter(clust_df['Bearer Id'], clust_df['Total Duration (hr)'], clust_df['Total Data (MegaBytes)'], c= kmeans.labels_.astype(float), alpha=0.5)\n",
    "# plt.scatter(centroids[:, 0], centroids[:, 1], centroids[:,2], c='red')\n",
    "# plt.show()"
   ]
  },
  {
   "source": [
    "### 10 Most Engaged Users Per Application"
   ],
   "cell_type": "markdown",
   "metadata": {}
  },
  {
   "cell_type": "code",
   "execution_count": 24,
   "metadata": {},
   "outputs": [],
   "source": [
    "engage_df = clean_df.copy(deep=True)"
   ]
  },
  {
   "cell_type": "code",
   "execution_count": 25,
   "metadata": {},
   "outputs": [
    {
     "output_type": "execute_result",
     "data": {
      "text/plain": [
       "               Total Social Media Data (MegaBytes)  \\\n",
       "MSISDN/Number                                        \n",
       "3.360100e+10                              4.892700   \n",
       "3.360100e+10                              3.195623   \n",
       "3.360101e+10                              3.192836   \n",
       "3.360101e+10                              3.792912   \n",
       "3.360101e+10                              4.552319   \n",
       "...                                            ...   \n",
       "3.378998e+10                              4.250312   \n",
       "3.379000e+10                              0.798752   \n",
       "3.197021e+12                              0.715224   \n",
       "3.370000e+14                              0.521566   \n",
       "8.823971e+14                              1.546088   \n",
       "\n",
       "               Total Google Data (MegaBytes)  Total Email Data (MegaBytes)  \\\n",
       "MSISDN/Number                                                                \n",
       "3.360100e+10                        9.723868                      4.639143   \n",
       "3.360100e+10                        3.443126                      3.205380   \n",
       "3.360101e+10                       28.178108                      5.590139   \n",
       "3.360101e+10                       15.263134                      7.848596   \n",
       "3.360101e+10                       22.220016                      3.574522   \n",
       "...                                      ...                           ...   \n",
       "3.378998e+10                       10.246473                      5.315327   \n",
       "3.379000e+10                       12.960974                      3.521012   \n",
       "3.197021e+12                       10.438660                      1.520771   \n",
       "3.370000e+14                        9.830617                      3.318582   \n",
       "8.823971e+14                        9.218647                      3.330974   \n",
       "\n",
       "               Total Youtube Data (MegaBytes)  Total Netflix Data (MegaBytes)  \\\n",
       "MSISDN/Number                                                                   \n",
       "3.360100e+10                        34.056770                       38.402744   \n",
       "3.360100e+10                        21.333570                       19.353901   \n",
       "3.360101e+10                        48.510323                       51.143818   \n",
       "3.360101e+10                        34.347122                       30.315502   \n",
       "3.360101e+10                        45.324074                       61.105236   \n",
       "...                                       ...                             ...   \n",
       "3.378998e+10                        38.012810                       51.950310   \n",
       "3.379000e+10                        46.499413                       23.433598   \n",
       "3.197021e+12                        11.959905                       26.592300   \n",
       "3.370000e+14                        36.734940                       30.905043   \n",
       "8.823971e+14                        40.940708                       28.846230   \n",
       "\n",
       "               Total Gaming Data (MegaBytes)  Total Other Data (MegaBytes)  \n",
       "MSISDN/Number                                                               \n",
       "3.360100e+10                      932.208740                    668.280884  \n",
       "3.360100e+10                      538.827698                    501.693665  \n",
       "3.360101e+10                     1705.923950                    840.084229  \n",
       "3.360101e+10                      511.635773                    492.372772  \n",
       "3.360101e+10                      830.825439                    403.090271  \n",
       "...                                      ...                           ...  \n",
       "3.378998e+10                      972.344971                   1075.140381  \n",
       "3.379000e+10                     1097.364746                    506.397949  \n",
       "3.197021e+12                      178.048737                    470.526489  \n",
       "3.370000e+14                      510.142700                    149.188446  \n",
       "8.823971e+14                       43.070259                    401.360443  \n",
       "\n",
       "[35090 rows x 7 columns]"
      ],
      "text/html": "<div>\n<style scoped>\n    .dataframe tbody tr th:only-of-type {\n        vertical-align: middle;\n    }\n\n    .dataframe tbody tr th {\n        vertical-align: top;\n    }\n\n    .dataframe thead th {\n        text-align: right;\n    }\n</style>\n<table border=\"1\" class=\"dataframe\">\n  <thead>\n    <tr style=\"text-align: right;\">\n      <th></th>\n      <th>Total Social Media Data (MegaBytes)</th>\n      <th>Total Google Data (MegaBytes)</th>\n      <th>Total Email Data (MegaBytes)</th>\n      <th>Total Youtube Data (MegaBytes)</th>\n      <th>Total Netflix Data (MegaBytes)</th>\n      <th>Total Gaming Data (MegaBytes)</th>\n      <th>Total Other Data (MegaBytes)</th>\n    </tr>\n    <tr>\n      <th>MSISDN/Number</th>\n      <th></th>\n      <th></th>\n      <th></th>\n      <th></th>\n      <th></th>\n      <th></th>\n      <th></th>\n    </tr>\n  </thead>\n  <tbody>\n    <tr>\n      <th>3.360100e+10</th>\n      <td>4.892700</td>\n      <td>9.723868</td>\n      <td>4.639143</td>\n      <td>34.056770</td>\n      <td>38.402744</td>\n      <td>932.208740</td>\n      <td>668.280884</td>\n    </tr>\n    <tr>\n      <th>3.360100e+10</th>\n      <td>3.195623</td>\n      <td>3.443126</td>\n      <td>3.205380</td>\n      <td>21.333570</td>\n      <td>19.353901</td>\n      <td>538.827698</td>\n      <td>501.693665</td>\n    </tr>\n    <tr>\n      <th>3.360101e+10</th>\n      <td>3.192836</td>\n      <td>28.178108</td>\n      <td>5.590139</td>\n      <td>48.510323</td>\n      <td>51.143818</td>\n      <td>1705.923950</td>\n      <td>840.084229</td>\n    </tr>\n    <tr>\n      <th>3.360101e+10</th>\n      <td>3.792912</td>\n      <td>15.263134</td>\n      <td>7.848596</td>\n      <td>34.347122</td>\n      <td>30.315502</td>\n      <td>511.635773</td>\n      <td>492.372772</td>\n    </tr>\n    <tr>\n      <th>3.360101e+10</th>\n      <td>4.552319</td>\n      <td>22.220016</td>\n      <td>3.574522</td>\n      <td>45.324074</td>\n      <td>61.105236</td>\n      <td>830.825439</td>\n      <td>403.090271</td>\n    </tr>\n    <tr>\n      <th>...</th>\n      <td>...</td>\n      <td>...</td>\n      <td>...</td>\n      <td>...</td>\n      <td>...</td>\n      <td>...</td>\n      <td>...</td>\n    </tr>\n    <tr>\n      <th>3.378998e+10</th>\n      <td>4.250312</td>\n      <td>10.246473</td>\n      <td>5.315327</td>\n      <td>38.012810</td>\n      <td>51.950310</td>\n      <td>972.344971</td>\n      <td>1075.140381</td>\n    </tr>\n    <tr>\n      <th>3.379000e+10</th>\n      <td>0.798752</td>\n      <td>12.960974</td>\n      <td>3.521012</td>\n      <td>46.499413</td>\n      <td>23.433598</td>\n      <td>1097.364746</td>\n      <td>506.397949</td>\n    </tr>\n    <tr>\n      <th>3.197021e+12</th>\n      <td>0.715224</td>\n      <td>10.438660</td>\n      <td>1.520771</td>\n      <td>11.959905</td>\n      <td>26.592300</td>\n      <td>178.048737</td>\n      <td>470.526489</td>\n    </tr>\n    <tr>\n      <th>3.370000e+14</th>\n      <td>0.521566</td>\n      <td>9.830617</td>\n      <td>3.318582</td>\n      <td>36.734940</td>\n      <td>30.905043</td>\n      <td>510.142700</td>\n      <td>149.188446</td>\n    </tr>\n    <tr>\n      <th>8.823971e+14</th>\n      <td>1.546088</td>\n      <td>9.218647</td>\n      <td>3.330974</td>\n      <td>40.940708</td>\n      <td>28.846230</td>\n      <td>43.070259</td>\n      <td>401.360443</td>\n    </tr>\n  </tbody>\n</table>\n<p>35090 rows × 7 columns</p>\n</div>"
     },
     "metadata": {},
     "execution_count": 25
    }
   ],
   "source": [
    "aggs_by_col = {'Total Social Media Data (MegaBytes)':'sum',\n",
    "'Total Google Data (MegaBytes)':'sum',\n",
    "'Total Email Data (MegaBytes)':'sum',\n",
    "'Total Youtube Data (MegaBytes)':'sum',\n",
    "'Total Netflix Data (MegaBytes)':'sum',\n",
    "'Total Gaming Data (MegaBytes)':'sum',\n",
    "'Total Other Data (MegaBytes)':'sum',}\n",
    "\n",
    "engage_df = engage_df.groupby('MSISDN/Number').agg(aggs_by_col)\n",
    "engage_df"
   ]
  },
  {
   "source": [
    "#### Top 10 Users Engaged in Social Media Activities"
   ],
   "cell_type": "markdown",
   "metadata": {}
  },
  {
   "cell_type": "code",
   "execution_count": 26,
   "metadata": {},
   "outputs": [
    {
     "output_type": "execute_result",
     "data": {
      "text/plain": [
       "               Total Social Media Data (MegaBytes)\n",
       "MSISDN/Number                                     \n",
       "3.366371e+10                           2007.446899\n",
       "3.376161e+10                            135.010193\n",
       "3.365849e+10                             82.558983\n",
       "3.365936e+10                             71.180473\n",
       "3.376121e+10                             69.073807\n",
       "3.369937e+10                             67.056389\n",
       "3.376359e+10                             66.869164\n",
       "3.365974e+10                             65.040726\n",
       "3.365897e+10                             64.874496\n",
       "3.376117e+10                             64.214035"
      ],
      "text/html": "<div>\n<style scoped>\n    .dataframe tbody tr th:only-of-type {\n        vertical-align: middle;\n    }\n\n    .dataframe tbody tr th {\n        vertical-align: top;\n    }\n\n    .dataframe thead th {\n        text-align: right;\n    }\n</style>\n<table border=\"1\" class=\"dataframe\">\n  <thead>\n    <tr style=\"text-align: right;\">\n      <th></th>\n      <th>Total Social Media Data (MegaBytes)</th>\n    </tr>\n    <tr>\n      <th>MSISDN/Number</th>\n      <th></th>\n    </tr>\n  </thead>\n  <tbody>\n    <tr>\n      <th>3.366371e+10</th>\n      <td>2007.446899</td>\n    </tr>\n    <tr>\n      <th>3.376161e+10</th>\n      <td>135.010193</td>\n    </tr>\n    <tr>\n      <th>3.365849e+10</th>\n      <td>82.558983</td>\n    </tr>\n    <tr>\n      <th>3.365936e+10</th>\n      <td>71.180473</td>\n    </tr>\n    <tr>\n      <th>3.376121e+10</th>\n      <td>69.073807</td>\n    </tr>\n    <tr>\n      <th>3.369937e+10</th>\n      <td>67.056389</td>\n    </tr>\n    <tr>\n      <th>3.376359e+10</th>\n      <td>66.869164</td>\n    </tr>\n    <tr>\n      <th>3.365974e+10</th>\n      <td>65.040726</td>\n    </tr>\n    <tr>\n      <th>3.365897e+10</th>\n      <td>64.874496</td>\n    </tr>\n    <tr>\n      <th>3.376117e+10</th>\n      <td>64.214035</td>\n    </tr>\n  </tbody>\n</table>\n</div>"
     },
     "metadata": {},
     "execution_count": 26
    }
   ],
   "source": [
    "dataManipulator = DataManipulator(engage_df)\n",
    "dataManipulator.get_top_sorted_by_column('Total Social Media Data (MegaBytes)',length=10)"
   ]
  },
  {
   "source": [
    "#### Top 10 Users Engaged in Google related Activities"
   ],
   "cell_type": "markdown",
   "metadata": {}
  },
  {
   "cell_type": "code",
   "execution_count": 27,
   "metadata": {},
   "outputs": [
    {
     "output_type": "execute_result",
     "data": {
      "text/plain": [
       "               Total Google Data (MegaBytes)\n",
       "MSISDN/Number                               \n",
       "3.366371e+10                     8362.255859\n",
       "3.376161e+10                      502.805359\n",
       "3.365849e+10                      327.268799\n",
       "3.365936e+10                      321.206635\n",
       "3.366186e+10                      309.193909\n",
       "3.376121e+10                      304.814941\n",
       "3.366198e+10                      299.508728\n",
       "3.376359e+10                      297.376709\n",
       "3.369937e+10                      287.444244\n",
       "3.376156e+10                      283.509491"
      ],
      "text/html": "<div>\n<style scoped>\n    .dataframe tbody tr th:only-of-type {\n        vertical-align: middle;\n    }\n\n    .dataframe tbody tr th {\n        vertical-align: top;\n    }\n\n    .dataframe thead th {\n        text-align: right;\n    }\n</style>\n<table border=\"1\" class=\"dataframe\">\n  <thead>\n    <tr style=\"text-align: right;\">\n      <th></th>\n      <th>Total Google Data (MegaBytes)</th>\n    </tr>\n    <tr>\n      <th>MSISDN/Number</th>\n      <th></th>\n    </tr>\n  </thead>\n  <tbody>\n    <tr>\n      <th>3.366371e+10</th>\n      <td>8362.255859</td>\n    </tr>\n    <tr>\n      <th>3.376161e+10</th>\n      <td>502.805359</td>\n    </tr>\n    <tr>\n      <th>3.365849e+10</th>\n      <td>327.268799</td>\n    </tr>\n    <tr>\n      <th>3.365936e+10</th>\n      <td>321.206635</td>\n    </tr>\n    <tr>\n      <th>3.366186e+10</th>\n      <td>309.193909</td>\n    </tr>\n    <tr>\n      <th>3.376121e+10</th>\n      <td>304.814941</td>\n    </tr>\n    <tr>\n      <th>3.366198e+10</th>\n      <td>299.508728</td>\n    </tr>\n    <tr>\n      <th>3.376359e+10</th>\n      <td>297.376709</td>\n    </tr>\n    <tr>\n      <th>3.369937e+10</th>\n      <td>287.444244</td>\n    </tr>\n    <tr>\n      <th>3.376156e+10</th>\n      <td>283.509491</td>\n    </tr>\n  </tbody>\n</table>\n</div>"
     },
     "metadata": {},
     "execution_count": 27
    }
   ],
   "source": [
    "dataManipulator.get_top_sorted_by_column('Total Google Data (MegaBytes)',length=10)"
   ]
  },
  {
   "source": [
    "#### Top 10 Users Engaged in Email related Activities"
   ],
   "cell_type": "markdown",
   "metadata": {}
  },
  {
   "source": [
    "dataManipulator.get_top_sorted_by_column('Total Email Data (MegaBytes)',length=10)"
   ],
   "cell_type": "code",
   "metadata": {},
   "execution_count": 28,
   "outputs": [
    {
     "output_type": "execute_result",
     "data": {
      "text/plain": [
       "               Total Email Data (MegaBytes)\n",
       "MSISDN/Number                              \n",
       "3.366371e+10                    2437.863770\n",
       "3.376161e+10                     132.267807\n",
       "3.365849e+10                      97.276932\n",
       "3.376121e+10                      90.701691\n",
       "3.376359e+10                      85.602600\n",
       "3.376161e+10                      82.620430\n",
       "3.365936e+10                      80.730927\n",
       "3.369937e+10                      80.438919\n",
       "3.376217e+10                      77.374176\n",
       "3.365046e+10                      77.223694"
      ],
      "text/html": "<div>\n<style scoped>\n    .dataframe tbody tr th:only-of-type {\n        vertical-align: middle;\n    }\n\n    .dataframe tbody tr th {\n        vertical-align: top;\n    }\n\n    .dataframe thead th {\n        text-align: right;\n    }\n</style>\n<table border=\"1\" class=\"dataframe\">\n  <thead>\n    <tr style=\"text-align: right;\">\n      <th></th>\n      <th>Total Email Data (MegaBytes)</th>\n    </tr>\n    <tr>\n      <th>MSISDN/Number</th>\n      <th></th>\n    </tr>\n  </thead>\n  <tbody>\n    <tr>\n      <th>3.366371e+10</th>\n      <td>2437.863770</td>\n    </tr>\n    <tr>\n      <th>3.376161e+10</th>\n      <td>132.267807</td>\n    </tr>\n    <tr>\n      <th>3.365849e+10</th>\n      <td>97.276932</td>\n    </tr>\n    <tr>\n      <th>3.376121e+10</th>\n      <td>90.701691</td>\n    </tr>\n    <tr>\n      <th>3.376359e+10</th>\n      <td>85.602600</td>\n    </tr>\n    <tr>\n      <th>3.376161e+10</th>\n      <td>82.620430</td>\n    </tr>\n    <tr>\n      <th>3.365936e+10</th>\n      <td>80.730927</td>\n    </tr>\n    <tr>\n      <th>3.369937e+10</th>\n      <td>80.438919</td>\n    </tr>\n    <tr>\n      <th>3.376217e+10</th>\n      <td>77.374176</td>\n    </tr>\n    <tr>\n      <th>3.365046e+10</th>\n      <td>77.223694</td>\n    </tr>\n  </tbody>\n</table>\n</div>"
     },
     "metadata": {},
     "execution_count": 28
    }
   ]
  },
  {
   "source": [
    "#### Top 10 Users Engaged in Youtube Activity"
   ],
   "cell_type": "markdown",
   "metadata": {}
  },
  {
   "cell_type": "code",
   "execution_count": 29,
   "metadata": {},
   "outputs": [
    {
     "output_type": "execute_result",
     "data": {
      "text/plain": [
       "               Total Youtube Data (MegaBytes)\n",
       "MSISDN/Number                                \n",
       "3.366371e+10                     24713.966797\n",
       "3.376161e+10                      1469.307617\n",
       "3.365849e+10                       930.591675\n",
       "3.365936e+10                       894.547668\n",
       "3.366186e+10                       894.369995\n",
       "3.376359e+10                       848.222107\n",
       "3.376121e+10                       810.869141\n",
       "3.376161e+10                       797.843018\n",
       "3.369937e+10                       790.606079\n",
       "3.376156e+10                       777.957031"
      ],
      "text/html": "<div>\n<style scoped>\n    .dataframe tbody tr th:only-of-type {\n        vertical-align: middle;\n    }\n\n    .dataframe tbody tr th {\n        vertical-align: top;\n    }\n\n    .dataframe thead th {\n        text-align: right;\n    }\n</style>\n<table border=\"1\" class=\"dataframe\">\n  <thead>\n    <tr style=\"text-align: right;\">\n      <th></th>\n      <th>Total Youtube Data (MegaBytes)</th>\n    </tr>\n    <tr>\n      <th>MSISDN/Number</th>\n      <th></th>\n    </tr>\n  </thead>\n  <tbody>\n    <tr>\n      <th>3.366371e+10</th>\n      <td>24713.966797</td>\n    </tr>\n    <tr>\n      <th>3.376161e+10</th>\n      <td>1469.307617</td>\n    </tr>\n    <tr>\n      <th>3.365849e+10</th>\n      <td>930.591675</td>\n    </tr>\n    <tr>\n      <th>3.365936e+10</th>\n      <td>894.547668</td>\n    </tr>\n    <tr>\n      <th>3.366186e+10</th>\n      <td>894.369995</td>\n    </tr>\n    <tr>\n      <th>3.376359e+10</th>\n      <td>848.222107</td>\n    </tr>\n    <tr>\n      <th>3.376121e+10</th>\n      <td>810.869141</td>\n    </tr>\n    <tr>\n      <th>3.376161e+10</th>\n      <td>797.843018</td>\n    </tr>\n    <tr>\n      <th>3.369937e+10</th>\n      <td>790.606079</td>\n    </tr>\n    <tr>\n      <th>3.376156e+10</th>\n      <td>777.957031</td>\n    </tr>\n  </tbody>\n</table>\n</div>"
     },
     "metadata": {},
     "execution_count": 29
    }
   ],
   "source": [
    "dataManipulator.get_top_sorted_by_column('Total Youtube Data (MegaBytes)',length=10)"
   ]
  },
  {
   "source": [
    "#### Top 10 Users Engaged in Netflix Activity"
   ],
   "cell_type": "markdown",
   "metadata": {}
  },
  {
   "source": [
    "dataManipulator.get_top_sorted_by_column('Total Netflix Data (MegaBytes)',length=10)"
   ],
   "cell_type": "code",
   "metadata": {},
   "execution_count": 30,
   "outputs": [
    {
     "output_type": "execute_result",
     "data": {
      "text/plain": [
       "               Total Netflix Data (MegaBytes)\n",
       "MSISDN/Number                                \n",
       "3.366371e+10                     24631.017578\n",
       "3.376161e+10                      1466.310913\n",
       "3.365849e+10                      1016.661377\n",
       "3.376121e+10                       965.793762\n",
       "3.376161e+10                       896.031799\n",
       "3.365936e+10                       825.937439\n",
       "3.376359e+10                       788.857117\n",
       "3.365807e+10                       770.539185\n",
       "3.365881e+10                       769.578247\n",
       "3.366186e+10                       769.344604"
      ],
      "text/html": "<div>\n<style scoped>\n    .dataframe tbody tr th:only-of-type {\n        vertical-align: middle;\n    }\n\n    .dataframe tbody tr th {\n        vertical-align: top;\n    }\n\n    .dataframe thead th {\n        text-align: right;\n    }\n</style>\n<table border=\"1\" class=\"dataframe\">\n  <thead>\n    <tr style=\"text-align: right;\">\n      <th></th>\n      <th>Total Netflix Data (MegaBytes)</th>\n    </tr>\n    <tr>\n      <th>MSISDN/Number</th>\n      <th></th>\n    </tr>\n  </thead>\n  <tbody>\n    <tr>\n      <th>3.366371e+10</th>\n      <td>24631.017578</td>\n    </tr>\n    <tr>\n      <th>3.376161e+10</th>\n      <td>1466.310913</td>\n    </tr>\n    <tr>\n      <th>3.365849e+10</th>\n      <td>1016.661377</td>\n    </tr>\n    <tr>\n      <th>3.376121e+10</th>\n      <td>965.793762</td>\n    </tr>\n    <tr>\n      <th>3.376161e+10</th>\n      <td>896.031799</td>\n    </tr>\n    <tr>\n      <th>3.365936e+10</th>\n      <td>825.937439</td>\n    </tr>\n    <tr>\n      <th>3.376359e+10</th>\n      <td>788.857117</td>\n    </tr>\n    <tr>\n      <th>3.365807e+10</th>\n      <td>770.539185</td>\n    </tr>\n    <tr>\n      <th>3.365881e+10</th>\n      <td>769.578247</td>\n    </tr>\n    <tr>\n      <th>3.366186e+10</th>\n      <td>769.344604</td>\n    </tr>\n  </tbody>\n</table>\n</div>"
     },
     "metadata": {},
     "execution_count": 30
    }
   ]
  },
  {
   "source": [
    "#### Top 10 Users Engaged in Gaming related Activities"
   ],
   "cell_type": "markdown",
   "metadata": {}
  },
  {
   "source": [
    "dataManipulator.get_top_sorted_by_column('Total Gaming Data (MegaBytes)',length=10)"
   ],
   "cell_type": "code",
   "metadata": {},
   "execution_count": 31,
   "outputs": [
    {
     "output_type": "execute_result",
     "data": {
      "text/plain": [
       "               Total Gaming Data (MegaBytes)\n",
       "MSISDN/Number                               \n",
       "3.366371e+10                   468035.000000\n",
       "3.376161e+10                    31686.835938\n",
       "3.365849e+10                    18006.138672\n",
       "3.365936e+10                    17439.513672\n",
       "3.365807e+10                    17377.496094\n",
       "3.376121e+10                    17087.294922\n",
       "3.376375e+10                    16462.654297\n",
       "3.369881e+10                    15350.951172\n",
       "3.365097e+10                    15141.359375\n",
       "3.365895e+10                    14561.867188"
      ],
      "text/html": "<div>\n<style scoped>\n    .dataframe tbody tr th:only-of-type {\n        vertical-align: middle;\n    }\n\n    .dataframe tbody tr th {\n        vertical-align: top;\n    }\n\n    .dataframe thead th {\n        text-align: right;\n    }\n</style>\n<table border=\"1\" class=\"dataframe\">\n  <thead>\n    <tr style=\"text-align: right;\">\n      <th></th>\n      <th>Total Gaming Data (MegaBytes)</th>\n    </tr>\n    <tr>\n      <th>MSISDN/Number</th>\n      <th></th>\n    </tr>\n  </thead>\n  <tbody>\n    <tr>\n      <th>3.366371e+10</th>\n      <td>468035.000000</td>\n    </tr>\n    <tr>\n      <th>3.376161e+10</th>\n      <td>31686.835938</td>\n    </tr>\n    <tr>\n      <th>3.365849e+10</th>\n      <td>18006.138672</td>\n    </tr>\n    <tr>\n      <th>3.365936e+10</th>\n      <td>17439.513672</td>\n    </tr>\n    <tr>\n      <th>3.365807e+10</th>\n      <td>17377.496094</td>\n    </tr>\n    <tr>\n      <th>3.376121e+10</th>\n      <td>17087.294922</td>\n    </tr>\n    <tr>\n      <th>3.376375e+10</th>\n      <td>16462.654297</td>\n    </tr>\n    <tr>\n      <th>3.369881e+10</th>\n      <td>15350.951172</td>\n    </tr>\n    <tr>\n      <th>3.365097e+10</th>\n      <td>15141.359375</td>\n    </tr>\n    <tr>\n      <th>3.365895e+10</th>\n      <td>14561.867188</td>\n    </tr>\n  </tbody>\n</table>\n</div>"
     },
     "metadata": {},
     "execution_count": 31
    }
   ]
  },
  {
   "source": [
    "#### Top 10 Users Engaged in Other Activities"
   ],
   "cell_type": "markdown",
   "metadata": {}
  },
  {
   "source": [
    "dataManipulator.get_top_sorted_by_column('Total Other Data (MegaBytes)',length=10)"
   ],
   "cell_type": "code",
   "metadata": {},
   "execution_count": 32,
   "outputs": [
    {
     "output_type": "execute_result",
     "data": {
      "text/plain": [
       "               Total Other Data (MegaBytes)\n",
       "MSISDN/Number                              \n",
       "3.366371e+10                  458101.250000\n",
       "3.376161e+10                   28293.603516\n",
       "3.376121e+10                   19020.855469\n",
       "3.365849e+10                   18238.222656\n",
       "3.365936e+10                   16596.996094\n",
       "3.366186e+10                   16430.119141\n",
       "3.376156e+10                   15776.853516\n",
       "3.366198e+10                   15324.666016\n",
       "3.376117e+10                   15104.711914\n",
       "3.369881e+10                   15037.552734"
      ],
      "text/html": "<div>\n<style scoped>\n    .dataframe tbody tr th:only-of-type {\n        vertical-align: middle;\n    }\n\n    .dataframe tbody tr th {\n        vertical-align: top;\n    }\n\n    .dataframe thead th {\n        text-align: right;\n    }\n</style>\n<table border=\"1\" class=\"dataframe\">\n  <thead>\n    <tr style=\"text-align: right;\">\n      <th></th>\n      <th>Total Other Data (MegaBytes)</th>\n    </tr>\n    <tr>\n      <th>MSISDN/Number</th>\n      <th></th>\n    </tr>\n  </thead>\n  <tbody>\n    <tr>\n      <th>3.366371e+10</th>\n      <td>458101.250000</td>\n    </tr>\n    <tr>\n      <th>3.376161e+10</th>\n      <td>28293.603516</td>\n    </tr>\n    <tr>\n      <th>3.376121e+10</th>\n      <td>19020.855469</td>\n    </tr>\n    <tr>\n      <th>3.365849e+10</th>\n      <td>18238.222656</td>\n    </tr>\n    <tr>\n      <th>3.365936e+10</th>\n      <td>16596.996094</td>\n    </tr>\n    <tr>\n      <th>3.366186e+10</th>\n      <td>16430.119141</td>\n    </tr>\n    <tr>\n      <th>3.376156e+10</th>\n      <td>15776.853516</td>\n    </tr>\n    <tr>\n      <th>3.366198e+10</th>\n      <td>15324.666016</td>\n    </tr>\n    <tr>\n      <th>3.376117e+10</th>\n      <td>15104.711914</td>\n    </tr>\n    <tr>\n      <th>3.369881e+10</th>\n      <td>15037.552734</td>\n    </tr>\n  </tbody>\n</table>\n</div>"
     },
     "metadata": {},
     "execution_count": 32
    }
   ]
  },
  {
   "source": [
    "### Top 3 Most Used Applications "
   ],
   "cell_type": "markdown",
   "metadata": {}
  },
  {
   "cell_type": "code",
   "execution_count": 39,
   "metadata": {},
   "outputs": [],
   "source": [
    "most_used_df = clean_df.copy(deep=True)\n",
    "most_used_df = most_used_df.loc[:,['Total Google Data (MegaBytes)','Total Email Data (MegaBytes)','Total Youtube Data (MegaBytes)','Total Netflix Data (MegaBytes)','Total Gaming Data (MegaBytes)','Total Other Data (MegaBytes)']]"
   ]
  },
  {
   "cell_type": "code",
   "execution_count": 46,
   "metadata": {},
   "outputs": [
    {
     "output_type": "execute_result",
     "data": {
      "text/plain": [
       "                                Total Data (MegaBytes)\n",
       "Total Gaming Data (MegaBytes)              64549960.00\n",
       "Total Other Data (MegaBytes)               64404792.00\n",
       "Total Youtube Data (MegaBytes)              3396522.25\n",
       "Total Netflix Data (MegaBytes)              3394291.00"
      ],
      "text/html": "<div>\n<style scoped>\n    .dataframe tbody tr th:only-of-type {\n        vertical-align: middle;\n    }\n\n    .dataframe tbody tr th {\n        vertical-align: top;\n    }\n\n    .dataframe thead th {\n        text-align: right;\n    }\n</style>\n<table border=\"1\" class=\"dataframe\">\n  <thead>\n    <tr style=\"text-align: right;\">\n      <th></th>\n      <th>Total Data (MegaBytes)</th>\n    </tr>\n  </thead>\n  <tbody>\n    <tr>\n      <th>Total Gaming Data (MegaBytes)</th>\n      <td>64549960.00</td>\n    </tr>\n    <tr>\n      <th>Total Other Data (MegaBytes)</th>\n      <td>64404792.00</td>\n    </tr>\n    <tr>\n      <th>Total Youtube Data (MegaBytes)</th>\n      <td>3396522.25</td>\n    </tr>\n    <tr>\n      <th>Total Netflix Data (MegaBytes)</th>\n      <td>3394291.00</td>\n    </tr>\n  </tbody>\n</table>\n</div>"
     },
     "metadata": {},
     "execution_count": 46
    }
   ],
   "source": [
    "total_app_data_usage = pd.DataFrame(most_used_df.sum(), columns=['Total Data (MegaBytes)'])\n",
    "total_app_data_usage.sort_values(by='Total Data (MegaBytes)',ascending=False).iloc[:4,:]"
   ]
  },
  {
   "source": [
    "The Top 3 Most Used Applications are Gaming, Youtube, Netflix in order respectively (considering Other is not really an application)"
   ],
   "cell_type": "markdown",
   "metadata": {}
  }
 ]
}