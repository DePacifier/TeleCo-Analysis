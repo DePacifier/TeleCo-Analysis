{
 "metadata": {
  "language_info": {
   "codemirror_mode": {
    "name": "ipython",
    "version": 3
   },
   "file_extension": ".py",
   "mimetype": "text/x-python",
   "name": "python",
   "nbconvert_exporter": "python",
   "pygments_lexer": "ipython3",
   "version": "3.8.4"
  },
  "orig_nbformat": 4,
  "kernelspec": {
   "name": "python3",
   "display_name": "Python 3.8.4 64-bit"
  },
  "interpreter": {
   "hash": "2db524e06e9f5f4ffedc911c917cb75e12dbc923643829bf417064a77eb14d37"
  }
 },
 "nbformat": 4,
 "nbformat_minor": 2,
 "cells": [
  {
   "source": [
    "## Loading Data First"
   ],
   "cell_type": "markdown",
   "metadata": {}
  },
  {
   "cell_type": "code",
   "execution_count": 1,
   "metadata": {},
   "outputs": [],
   "source": [
    "import sys\n",
    "sys.path.insert(0,'../scripts/')"
   ]
  },
  {
   "cell_type": "code",
   "execution_count": 2,
   "metadata": {},
   "outputs": [],
   "source": [
    "import pandas as pd"
   ]
  },
  {
   "cell_type": "code",
   "execution_count": 3,
   "metadata": {},
   "outputs": [],
   "source": [
    "from data_loader import load_df_from_csv, load_df_from_excel"
   ]
  },
  {
   "cell_type": "code",
   "execution_count": 4,
   "metadata": {},
   "outputs": [
    {
     "output_type": "execute_result",
     "data": {
      "text/plain": [
       "      Fields  \\\n",
       "0  bearer id   \n",
       "1  Dur. (ms)   \n",
       "2      Start   \n",
       "3   Start ms   \n",
       "4        End   \n",
       "\n",
       "                                                             Description  \n",
       "0                                                 xDr session identifier  \n",
       "1                                      Total Duration of the xDR (in ms)  \n",
       "2                          Start time of the xDR (first frame timestamp)  \n",
       "3  Milliseconds offset of start time for the xDR (first frame timestamp)  \n",
       "4                             End time of the xDR (last frame timestamp)  "
      ],
      "text/html": "<div>\n<style scoped>\n    .dataframe tbody tr th:only-of-type {\n        vertical-align: middle;\n    }\n\n    .dataframe tbody tr th {\n        vertical-align: top;\n    }\n\n    .dataframe thead th {\n        text-align: right;\n    }\n</style>\n<table border=\"1\" class=\"dataframe\">\n  <thead>\n    <tr style=\"text-align: right;\">\n      <th></th>\n      <th>Fields</th>\n      <th>Description</th>\n    </tr>\n  </thead>\n  <tbody>\n    <tr>\n      <th>0</th>\n      <td>bearer id</td>\n      <td>xDr session identifier</td>\n    </tr>\n    <tr>\n      <th>1</th>\n      <td>Dur. (ms)</td>\n      <td>Total Duration of the xDR (in ms)</td>\n    </tr>\n    <tr>\n      <th>2</th>\n      <td>Start</td>\n      <td>Start time of the xDR (first frame timestamp)</td>\n    </tr>\n    <tr>\n      <th>3</th>\n      <td>Start ms</td>\n      <td>Milliseconds offset of start time for the xDR (first frame timestamp)</td>\n    </tr>\n    <tr>\n      <th>4</th>\n      <td>End</td>\n      <td>End time of the xDR (last frame timestamp)</td>\n    </tr>\n  </tbody>\n</table>\n</div>"
     },
     "metadata": {},
     "execution_count": 4
    }
   ],
   "source": [
    "fields_description = load_df_from_csv(\"../data/fields_description.csv\")\n",
    "pd.set_option('display.max_colwidth', None)\n",
    "fields_description.head()"
   ]
  },
  {
   "cell_type": "code",
   "execution_count": 5,
   "metadata": {},
   "outputs": [
    {
     "output_type": "execute_result",
     "data": {
      "text/plain": [
       "              Bearer Id               Start  Start ms                 End  \\\n",
       "0  13114483460844900352 2019-04-04 12:01:18     770.0 2019-04-25 14:35:31   \n",
       "1  13114483482878900224 2019-04-09 13:04:04     235.0 2019-04-25 08:15:48   \n",
       "2  13114483484080500736 2019-04-09 17:42:11       1.0 2019-04-25 11:58:13   \n",
       "3  13114483485442799616 2019-04-10 00:31:25     486.0 2019-04-25 07:36:35   \n",
       "4  13114483499480700928 2019-04-12 20:10:23     565.0 2019-04-25 10:40:32   \n",
       "\n",
       "   End ms  Dur. (ms)          IMSI  MSISDN/Number          IMEI  \\\n",
       "0   662.0  1823652.0  2.082014e+14   3.366496e+10  3.552121e+13   \n",
       "1   606.0  1365104.0  2.082019e+14   3.368185e+10  3.579401e+13   \n",
       "2   652.0  1361762.0  2.082003e+14   3.376063e+10  3.528151e+13   \n",
       "3   171.0  1321509.0  2.082014e+14   3.375034e+10  3.535661e+13   \n",
       "4   954.0  1089009.0  2.082014e+14   3.369980e+10  3.540701e+13   \n",
       "\n",
       "  Last Location Name  Avg RTT DL (ms)  Avg RTT UL (ms)  \\\n",
       "0   9164566995485190             42.0              5.0   \n",
       "1            L77566A             65.0              5.0   \n",
       "2            D42335A              NaN              NaN   \n",
       "3            T21824A              NaN              NaN   \n",
       "4            D88865A              NaN              NaN   \n",
       "\n",
       "   Avg Bearer TP DL (kbps)  Avg Bearer TP UL (kbps)  \\\n",
       "0                     23.0                     44.0   \n",
       "1                     16.0                     26.0   \n",
       "2                      6.0                      9.0   \n",
       "3                     44.0                     44.0   \n",
       "4                      6.0                      9.0   \n",
       "\n",
       "   TCP DL Retrans. Vol (Bytes)  TCP UL Retrans. Vol (Bytes)  \\\n",
       "0                          NaN                          NaN   \n",
       "1                          NaN                          NaN   \n",
       "2                          NaN                          NaN   \n",
       "3                          NaN                          NaN   \n",
       "4                          NaN                          NaN   \n",
       "\n",
       "   DL TP < 50 Kbps (%)  50 Kbps < DL TP < 250 Kbps (%)  \\\n",
       "0                100.0                             0.0   \n",
       "1                100.0                             0.0   \n",
       "2                100.0                             0.0   \n",
       "3                100.0                             0.0   \n",
       "4                100.0                             0.0   \n",
       "\n",
       "   250 Kbps < DL TP < 1 Mbps (%)  DL TP > 1 Mbps (%)  UL TP < 10 Kbps (%)  \\\n",
       "0                            0.0                 0.0                100.0   \n",
       "1                            0.0                 0.0                100.0   \n",
       "2                            0.0                 0.0                100.0   \n",
       "3                            0.0                 0.0                100.0   \n",
       "4                            0.0                 0.0                100.0   \n",
       "\n",
       "   10 Kbps < UL TP < 50 Kbps (%)  50 Kbps < UL TP < 300 Kbps (%)  \\\n",
       "0                            0.0                             0.0   \n",
       "1                            0.0                             0.0   \n",
       "2                            0.0                             0.0   \n",
       "3                            0.0                             0.0   \n",
       "4                            0.0                             0.0   \n",
       "\n",
       "   UL TP > 300 Kbps (%)  HTTP DL (Bytes)  HTTP UL (Bytes)  \\\n",
       "0                   0.0              NaN              NaN   \n",
       "1                   0.0              NaN              NaN   \n",
       "2                   0.0              NaN              NaN   \n",
       "3                   0.0              NaN              NaN   \n",
       "4                   0.0              NaN              NaN   \n",
       "\n",
       "   Activity Duration DL (ms)  Activity Duration UL (ms)   Dur. (ms).1  \\\n",
       "0                    37624.0                    38787.0  1.823653e+09   \n",
       "1                      168.0                     3560.0  1.365104e+09   \n",
       "2                        0.0                        0.0  1.361763e+09   \n",
       "3                     3330.0                    37882.0  1.321510e+09   \n",
       "4                        0.0                        0.0  1.089009e+09   \n",
       "\n",
       "  Handset Manufacturer                 Handset Type  \\\n",
       "0              Samsung   Samsung Galaxy A5 Sm-A520F   \n",
       "1              Samsung  Samsung Galaxy J5 (Sm-J530)   \n",
       "2              Samsung     Samsung Galaxy A8 (2018)   \n",
       "3            undefined                    undefined   \n",
       "4              Samsung             Samsung Sm-G390F   \n",
       "\n",
       "   Nb of sec with 125000B < Vol DL  Nb of sec with 1250B < Vol UL < 6250B  \\\n",
       "0                              NaN                                    NaN   \n",
       "1                              NaN                                    NaN   \n",
       "2                              NaN                                    NaN   \n",
       "3                              NaN                                    NaN   \n",
       "4                              NaN                                    NaN   \n",
       "\n",
       "   Nb of sec with 31250B < Vol DL < 125000B  Nb of sec with 37500B < Vol UL  \\\n",
       "0                                       NaN                             NaN   \n",
       "1                                       NaN                             NaN   \n",
       "2                                       NaN                             NaN   \n",
       "3                                       NaN                             NaN   \n",
       "4                                       NaN                             NaN   \n",
       "\n",
       "   Nb of sec with 6250B < Vol DL < 31250B  \\\n",
       "0                                     NaN   \n",
       "1                                     NaN   \n",
       "2                                     NaN   \n",
       "3                                     NaN   \n",
       "4                                     NaN   \n",
       "\n",
       "   Nb of sec with 6250B < Vol UL < 37500B  Nb of sec with Vol DL < 6250B  \\\n",
       "0                                     NaN                          213.0   \n",
       "1                                     NaN                          971.0   \n",
       "2                                     NaN                          751.0   \n",
       "3                                     NaN                           17.0   \n",
       "4                                     NaN                          607.0   \n",
       "\n",
       "   Nb of sec with Vol UL < 1250B  Social Media DL (Bytes)  \\\n",
       "0                          214.0                1545765.0   \n",
       "1                         1022.0                1926113.0   \n",
       "2                          695.0                1684053.0   \n",
       "3                          207.0                 644121.0   \n",
       "4                          604.0                 862600.0   \n",
       "\n",
       "   Social Media UL (Bytes)  Google DL (Bytes)  Google UL (Bytes)  \\\n",
       "0                  24420.0          1634479.0          1271433.0   \n",
       "1                   7165.0          3493924.0           920172.0   \n",
       "2                  42224.0          8535055.0          1694064.0   \n",
       "3                  13372.0          9023734.0          2788027.0   \n",
       "4                  50188.0          6248284.0          1500559.0   \n",
       "\n",
       "   Email DL (Bytes)  Email UL (Bytes)  Youtube DL (Bytes)  Youtube UL (Bytes)  \\\n",
       "0         3563542.0          137762.0          15854611.0           2501332.0   \n",
       "1          629046.0          308339.0          20247395.0          19111729.0   \n",
       "2         2690151.0          672973.0          19725661.0          14699576.0   \n",
       "3         1439754.0          631229.0          21388122.0          15146643.0   \n",
       "4         1936496.0          173853.0          15259380.0          18962873.0   \n",
       "\n",
       "   Netflix DL (Bytes)  Netflix UL (Bytes)  Gaming DL (Bytes)  \\\n",
       "0           8198936.0           9656251.0        278082303.0   \n",
       "1          18338413.0          17227132.0        608750074.0   \n",
       "2          17587794.0           6163408.0        229584621.0   \n",
       "3          13994646.0           1097942.0        799538153.0   \n",
       "4          17124581.0            415218.0        527707248.0   \n",
       "\n",
       "   Gaming UL (Bytes)  Other DL (Bytes)  Other UL (Bytes)  Total UL (Bytes)  \\\n",
       "0         14344150.0       171744450.0         8814393.0        36749741.0   \n",
       "1          1170709.0       526904238.0        15055145.0        53800391.0   \n",
       "2           395630.0       410692588.0         4215763.0        27883638.0   \n",
       "3         10849722.0       749039933.0        12797283.0        43324218.0   \n",
       "4          3529801.0       550709500.0        13910322.0        38542814.0   \n",
       "\n",
       "   Total DL (Bytes)  \n",
       "0       308879636.0  \n",
       "1       653384965.0  \n",
       "2       279807335.0  \n",
       "3       846028530.0  \n",
       "4       569138589.0  "
      ],
      "text/html": "<div>\n<style scoped>\n    .dataframe tbody tr th:only-of-type {\n        vertical-align: middle;\n    }\n\n    .dataframe tbody tr th {\n        vertical-align: top;\n    }\n\n    .dataframe thead th {\n        text-align: right;\n    }\n</style>\n<table border=\"1\" class=\"dataframe\">\n  <thead>\n    <tr style=\"text-align: right;\">\n      <th></th>\n      <th>Bearer Id</th>\n      <th>Start</th>\n      <th>Start ms</th>\n      <th>End</th>\n      <th>End ms</th>\n      <th>Dur. (ms)</th>\n      <th>IMSI</th>\n      <th>MSISDN/Number</th>\n      <th>IMEI</th>\n      <th>Last Location Name</th>\n      <th>Avg RTT DL (ms)</th>\n      <th>Avg RTT UL (ms)</th>\n      <th>Avg Bearer TP DL (kbps)</th>\n      <th>Avg Bearer TP UL (kbps)</th>\n      <th>TCP DL Retrans. Vol (Bytes)</th>\n      <th>TCP UL Retrans. Vol (Bytes)</th>\n      <th>DL TP &lt; 50 Kbps (%)</th>\n      <th>50 Kbps &lt; DL TP &lt; 250 Kbps (%)</th>\n      <th>250 Kbps &lt; DL TP &lt; 1 Mbps (%)</th>\n      <th>DL TP &gt; 1 Mbps (%)</th>\n      <th>UL TP &lt; 10 Kbps (%)</th>\n      <th>10 Kbps &lt; UL TP &lt; 50 Kbps (%)</th>\n      <th>50 Kbps &lt; UL TP &lt; 300 Kbps (%)</th>\n      <th>UL TP &gt; 300 Kbps (%)</th>\n      <th>HTTP DL (Bytes)</th>\n      <th>HTTP UL (Bytes)</th>\n      <th>Activity Duration DL (ms)</th>\n      <th>Activity Duration UL (ms)</th>\n      <th>Dur. (ms).1</th>\n      <th>Handset Manufacturer</th>\n      <th>Handset Type</th>\n      <th>Nb of sec with 125000B &lt; Vol DL</th>\n      <th>Nb of sec with 1250B &lt; Vol UL &lt; 6250B</th>\n      <th>Nb of sec with 31250B &lt; Vol DL &lt; 125000B</th>\n      <th>Nb of sec with 37500B &lt; Vol UL</th>\n      <th>Nb of sec with 6250B &lt; Vol DL &lt; 31250B</th>\n      <th>Nb of sec with 6250B &lt; Vol UL &lt; 37500B</th>\n      <th>Nb of sec with Vol DL &lt; 6250B</th>\n      <th>Nb of sec with Vol UL &lt; 1250B</th>\n      <th>Social Media DL (Bytes)</th>\n      <th>Social Media UL (Bytes)</th>\n      <th>Google DL (Bytes)</th>\n      <th>Google UL (Bytes)</th>\n      <th>Email DL (Bytes)</th>\n      <th>Email UL (Bytes)</th>\n      <th>Youtube DL (Bytes)</th>\n      <th>Youtube UL (Bytes)</th>\n      <th>Netflix DL (Bytes)</th>\n      <th>Netflix UL (Bytes)</th>\n      <th>Gaming DL (Bytes)</th>\n      <th>Gaming UL (Bytes)</th>\n      <th>Other DL (Bytes)</th>\n      <th>Other UL (Bytes)</th>\n      <th>Total UL (Bytes)</th>\n      <th>Total DL (Bytes)</th>\n    </tr>\n  </thead>\n  <tbody>\n    <tr>\n      <th>0</th>\n      <td>13114483460844900352</td>\n      <td>2019-04-04 12:01:18</td>\n      <td>770.0</td>\n      <td>2019-04-25 14:35:31</td>\n      <td>662.0</td>\n      <td>1823652.0</td>\n      <td>2.082014e+14</td>\n      <td>3.366496e+10</td>\n      <td>3.552121e+13</td>\n      <td>9164566995485190</td>\n      <td>42.0</td>\n      <td>5.0</td>\n      <td>23.0</td>\n      <td>44.0</td>\n      <td>NaN</td>\n      <td>NaN</td>\n      <td>100.0</td>\n      <td>0.0</td>\n      <td>0.0</td>\n      <td>0.0</td>\n      <td>100.0</td>\n      <td>0.0</td>\n      <td>0.0</td>\n      <td>0.0</td>\n      <td>NaN</td>\n      <td>NaN</td>\n      <td>37624.0</td>\n      <td>38787.0</td>\n      <td>1.823653e+09</td>\n      <td>Samsung</td>\n      <td>Samsung Galaxy A5 Sm-A520F</td>\n      <td>NaN</td>\n      <td>NaN</td>\n      <td>NaN</td>\n      <td>NaN</td>\n      <td>NaN</td>\n      <td>NaN</td>\n      <td>213.0</td>\n      <td>214.0</td>\n      <td>1545765.0</td>\n      <td>24420.0</td>\n      <td>1634479.0</td>\n      <td>1271433.0</td>\n      <td>3563542.0</td>\n      <td>137762.0</td>\n      <td>15854611.0</td>\n      <td>2501332.0</td>\n      <td>8198936.0</td>\n      <td>9656251.0</td>\n      <td>278082303.0</td>\n      <td>14344150.0</td>\n      <td>171744450.0</td>\n      <td>8814393.0</td>\n      <td>36749741.0</td>\n      <td>308879636.0</td>\n    </tr>\n    <tr>\n      <th>1</th>\n      <td>13114483482878900224</td>\n      <td>2019-04-09 13:04:04</td>\n      <td>235.0</td>\n      <td>2019-04-25 08:15:48</td>\n      <td>606.0</td>\n      <td>1365104.0</td>\n      <td>2.082019e+14</td>\n      <td>3.368185e+10</td>\n      <td>3.579401e+13</td>\n      <td>L77566A</td>\n      <td>65.0</td>\n      <td>5.0</td>\n      <td>16.0</td>\n      <td>26.0</td>\n      <td>NaN</td>\n      <td>NaN</td>\n      <td>100.0</td>\n      <td>0.0</td>\n      <td>0.0</td>\n      <td>0.0</td>\n      <td>100.0</td>\n      <td>0.0</td>\n      <td>0.0</td>\n      <td>0.0</td>\n      <td>NaN</td>\n      <td>NaN</td>\n      <td>168.0</td>\n      <td>3560.0</td>\n      <td>1.365104e+09</td>\n      <td>Samsung</td>\n      <td>Samsung Galaxy J5 (Sm-J530)</td>\n      <td>NaN</td>\n      <td>NaN</td>\n      <td>NaN</td>\n      <td>NaN</td>\n      <td>NaN</td>\n      <td>NaN</td>\n      <td>971.0</td>\n      <td>1022.0</td>\n      <td>1926113.0</td>\n      <td>7165.0</td>\n      <td>3493924.0</td>\n      <td>920172.0</td>\n      <td>629046.0</td>\n      <td>308339.0</td>\n      <td>20247395.0</td>\n      <td>19111729.0</td>\n      <td>18338413.0</td>\n      <td>17227132.0</td>\n      <td>608750074.0</td>\n      <td>1170709.0</td>\n      <td>526904238.0</td>\n      <td>15055145.0</td>\n      <td>53800391.0</td>\n      <td>653384965.0</td>\n    </tr>\n    <tr>\n      <th>2</th>\n      <td>13114483484080500736</td>\n      <td>2019-04-09 17:42:11</td>\n      <td>1.0</td>\n      <td>2019-04-25 11:58:13</td>\n      <td>652.0</td>\n      <td>1361762.0</td>\n      <td>2.082003e+14</td>\n      <td>3.376063e+10</td>\n      <td>3.528151e+13</td>\n      <td>D42335A</td>\n      <td>NaN</td>\n      <td>NaN</td>\n      <td>6.0</td>\n      <td>9.0</td>\n      <td>NaN</td>\n      <td>NaN</td>\n      <td>100.0</td>\n      <td>0.0</td>\n      <td>0.0</td>\n      <td>0.0</td>\n      <td>100.0</td>\n      <td>0.0</td>\n      <td>0.0</td>\n      <td>0.0</td>\n      <td>NaN</td>\n      <td>NaN</td>\n      <td>0.0</td>\n      <td>0.0</td>\n      <td>1.361763e+09</td>\n      <td>Samsung</td>\n      <td>Samsung Galaxy A8 (2018)</td>\n      <td>NaN</td>\n      <td>NaN</td>\n      <td>NaN</td>\n      <td>NaN</td>\n      <td>NaN</td>\n      <td>NaN</td>\n      <td>751.0</td>\n      <td>695.0</td>\n      <td>1684053.0</td>\n      <td>42224.0</td>\n      <td>8535055.0</td>\n      <td>1694064.0</td>\n      <td>2690151.0</td>\n      <td>672973.0</td>\n      <td>19725661.0</td>\n      <td>14699576.0</td>\n      <td>17587794.0</td>\n      <td>6163408.0</td>\n      <td>229584621.0</td>\n      <td>395630.0</td>\n      <td>410692588.0</td>\n      <td>4215763.0</td>\n      <td>27883638.0</td>\n      <td>279807335.0</td>\n    </tr>\n    <tr>\n      <th>3</th>\n      <td>13114483485442799616</td>\n      <td>2019-04-10 00:31:25</td>\n      <td>486.0</td>\n      <td>2019-04-25 07:36:35</td>\n      <td>171.0</td>\n      <td>1321509.0</td>\n      <td>2.082014e+14</td>\n      <td>3.375034e+10</td>\n      <td>3.535661e+13</td>\n      <td>T21824A</td>\n      <td>NaN</td>\n      <td>NaN</td>\n      <td>44.0</td>\n      <td>44.0</td>\n      <td>NaN</td>\n      <td>NaN</td>\n      <td>100.0</td>\n      <td>0.0</td>\n      <td>0.0</td>\n      <td>0.0</td>\n      <td>100.0</td>\n      <td>0.0</td>\n      <td>0.0</td>\n      <td>0.0</td>\n      <td>NaN</td>\n      <td>NaN</td>\n      <td>3330.0</td>\n      <td>37882.0</td>\n      <td>1.321510e+09</td>\n      <td>undefined</td>\n      <td>undefined</td>\n      <td>NaN</td>\n      <td>NaN</td>\n      <td>NaN</td>\n      <td>NaN</td>\n      <td>NaN</td>\n      <td>NaN</td>\n      <td>17.0</td>\n      <td>207.0</td>\n      <td>644121.0</td>\n      <td>13372.0</td>\n      <td>9023734.0</td>\n      <td>2788027.0</td>\n      <td>1439754.0</td>\n      <td>631229.0</td>\n      <td>21388122.0</td>\n      <td>15146643.0</td>\n      <td>13994646.0</td>\n      <td>1097942.0</td>\n      <td>799538153.0</td>\n      <td>10849722.0</td>\n      <td>749039933.0</td>\n      <td>12797283.0</td>\n      <td>43324218.0</td>\n      <td>846028530.0</td>\n    </tr>\n    <tr>\n      <th>4</th>\n      <td>13114483499480700928</td>\n      <td>2019-04-12 20:10:23</td>\n      <td>565.0</td>\n      <td>2019-04-25 10:40:32</td>\n      <td>954.0</td>\n      <td>1089009.0</td>\n      <td>2.082014e+14</td>\n      <td>3.369980e+10</td>\n      <td>3.540701e+13</td>\n      <td>D88865A</td>\n      <td>NaN</td>\n      <td>NaN</td>\n      <td>6.0</td>\n      <td>9.0</td>\n      <td>NaN</td>\n      <td>NaN</td>\n      <td>100.0</td>\n      <td>0.0</td>\n      <td>0.0</td>\n      <td>0.0</td>\n      <td>100.0</td>\n      <td>0.0</td>\n      <td>0.0</td>\n      <td>0.0</td>\n      <td>NaN</td>\n      <td>NaN</td>\n      <td>0.0</td>\n      <td>0.0</td>\n      <td>1.089009e+09</td>\n      <td>Samsung</td>\n      <td>Samsung Sm-G390F</td>\n      <td>NaN</td>\n      <td>NaN</td>\n      <td>NaN</td>\n      <td>NaN</td>\n      <td>NaN</td>\n      <td>NaN</td>\n      <td>607.0</td>\n      <td>604.0</td>\n      <td>862600.0</td>\n      <td>50188.0</td>\n      <td>6248284.0</td>\n      <td>1500559.0</td>\n      <td>1936496.0</td>\n      <td>173853.0</td>\n      <td>15259380.0</td>\n      <td>18962873.0</td>\n      <td>17124581.0</td>\n      <td>415218.0</td>\n      <td>527707248.0</td>\n      <td>3529801.0</td>\n      <td>550709500.0</td>\n      <td>13910322.0</td>\n      <td>38542814.0</td>\n      <td>569138589.0</td>\n    </tr>\n  </tbody>\n</table>\n</div>"
     },
     "metadata": {},
     "execution_count": 5
    }
   ],
   "source": [
    "telData = load_df_from_excel(\"../data/teleCo_data.xlsx\")\n",
    "pd.set_option('max_column', None)\n",
    "telData.head()"
   ]
  },
  {
   "source": [
    "Before Cleaning a dataset, you need to explore what has been stored in it. The column names, how many data points, number of colum etc. All these questions needs to be answered"
   ],
   "cell_type": "markdown",
   "metadata": {}
  },
  {
   "source": [
    "For better understanding of the columns, exploring the data description [here](https://docs.google.com/spreadsheets/d/1pcNqeUeIph6xAQzlI54KCvi8HM91SUNeeDbdOq3rvbE/edit?usp=sharing) will help"
   ],
   "cell_type": "markdown",
   "metadata": {}
  },
  {
   "cell_type": "code",
   "execution_count": 6,
   "metadata": {},
   "outputs": [],
   "source": [
    "from data_information import DataInfo\n",
    "explorer = DataInfo(telData)"
   ]
  },
  {
   "cell_type": "code",
   "execution_count": 7,
   "metadata": {},
   "outputs": [
    {
     "output_type": "stream",
     "name": "stdout",
     "text": [
      "Columns Listed in the DataFrame are: \n"
     ]
    },
    {
     "output_type": "execute_result",
     "data": {
      "text/plain": [
       "['Bearer Id',\n",
       " 'Start',\n",
       " 'Start ms',\n",
       " 'End',\n",
       " 'End ms',\n",
       " 'Dur. (ms)',\n",
       " 'IMSI',\n",
       " 'MSISDN/Number',\n",
       " 'IMEI',\n",
       " 'Last Location Name',\n",
       " 'Avg RTT DL (ms)',\n",
       " 'Avg RTT UL (ms)',\n",
       " 'Avg Bearer TP DL (kbps)',\n",
       " 'Avg Bearer TP UL (kbps)',\n",
       " 'TCP DL Retrans. Vol (Bytes)',\n",
       " 'TCP UL Retrans. Vol (Bytes)',\n",
       " 'DL TP < 50 Kbps (%)',\n",
       " '50 Kbps < DL TP < 250 Kbps (%)',\n",
       " '250 Kbps < DL TP < 1 Mbps (%)',\n",
       " 'DL TP > 1 Mbps (%)',\n",
       " 'UL TP < 10 Kbps (%)',\n",
       " '10 Kbps < UL TP < 50 Kbps (%)',\n",
       " '50 Kbps < UL TP < 300 Kbps (%)',\n",
       " 'UL TP > 300 Kbps (%)',\n",
       " 'HTTP DL (Bytes)',\n",
       " 'HTTP UL (Bytes)',\n",
       " 'Activity Duration DL (ms)',\n",
       " 'Activity Duration UL (ms)',\n",
       " 'Dur. (ms).1',\n",
       " 'Handset Manufacturer',\n",
       " 'Handset Type',\n",
       " 'Nb of sec with 125000B < Vol DL',\n",
       " 'Nb of sec with 1250B < Vol UL < 6250B',\n",
       " 'Nb of sec with 31250B < Vol DL < 125000B',\n",
       " 'Nb of sec with 37500B < Vol UL',\n",
       " 'Nb of sec with 6250B < Vol DL < 31250B',\n",
       " 'Nb of sec with 6250B < Vol UL < 37500B',\n",
       " 'Nb of sec with Vol DL < 6250B',\n",
       " 'Nb of sec with Vol UL < 1250B',\n",
       " 'Social Media DL (Bytes)',\n",
       " 'Social Media UL (Bytes)',\n",
       " 'Google DL (Bytes)',\n",
       " 'Google UL (Bytes)',\n",
       " 'Email DL (Bytes)',\n",
       " 'Email UL (Bytes)',\n",
       " 'Youtube DL (Bytes)',\n",
       " 'Youtube UL (Bytes)',\n",
       " 'Netflix DL (Bytes)',\n",
       " 'Netflix UL (Bytes)',\n",
       " 'Gaming DL (Bytes)',\n",
       " 'Gaming UL (Bytes)',\n",
       " 'Other DL (Bytes)',\n",
       " 'Other UL (Bytes)',\n",
       " 'Total UL (Bytes)',\n",
       " 'Total DL (Bytes)']"
      ]
     },
     "metadata": {},
     "execution_count": 7
    }
   ],
   "source": [
    "explorer.get_columns()"
   ]
  },
  {
   "cell_type": "code",
   "execution_count": 8,
   "metadata": {},
   "outputs": [
    {
     "output_type": "stream",
     "name": "stdout",
     "text": [
      "The DataFrame containes 150001 rows and 55 columns.\nCurrent DataFrame Memory Usage:\n98683855\nCurrent DataFrame Memory Usage of columns is :\nDataFrame Information: \n<class 'pandas.core.frame.DataFrame'>\nRangeIndex: 150001 entries, 0 to 150000\nData columns (total 55 columns):\n #   Column                                    Non-Null Count   Dtype         \n---  ------                                    --------------   -----         \n 0   Bearer Id                                 150001 non-null  object        \n 1   Start                                     150000 non-null  datetime64[ns]\n 2   Start ms                                  150000 non-null  float64       \n 3   End                                       150000 non-null  datetime64[ns]\n 4   End ms                                    150000 non-null  float64       \n 5   Dur. (ms)                                 150000 non-null  float64       \n 6   IMSI                                      149431 non-null  float64       \n 7   MSISDN/Number                             148935 non-null  float64       \n 8   IMEI                                      149429 non-null  float64       \n 9   Last Location Name                        148848 non-null  object        \n 10  Avg RTT DL (ms)                           122172 non-null  float64       \n 11  Avg RTT UL (ms)                           122189 non-null  float64       \n 12  Avg Bearer TP DL (kbps)                   150000 non-null  float64       \n 13  Avg Bearer TP UL (kbps)                   150000 non-null  float64       \n 14  TCP DL Retrans. Vol (Bytes)               61855 non-null   float64       \n 15  TCP UL Retrans. Vol (Bytes)               53352 non-null   float64       \n 16  DL TP < 50 Kbps (%)                       149247 non-null  float64       \n 17  50 Kbps < DL TP < 250 Kbps (%)            149247 non-null  float64       \n 18  250 Kbps < DL TP < 1 Mbps (%)             149247 non-null  float64       \n 19  DL TP > 1 Mbps (%)                        149247 non-null  float64       \n 20  UL TP < 10 Kbps (%)                       149209 non-null  float64       \n 21  10 Kbps < UL TP < 50 Kbps (%)             149209 non-null  float64       \n 22  50 Kbps < UL TP < 300 Kbps (%)            149209 non-null  float64       \n 23  UL TP > 300 Kbps (%)                      149209 non-null  float64       \n 24  HTTP DL (Bytes)                           68527 non-null   float64       \n 25  HTTP UL (Bytes)                           68191 non-null   float64       \n 26  Activity Duration DL (ms)                 150000 non-null  float64       \n 27  Activity Duration UL (ms)                 150000 non-null  float64       \n 28  Dur. (ms).1                               150000 non-null  float64       \n 29  Handset Manufacturer                      149429 non-null  object        \n 30  Handset Type                              149429 non-null  object        \n 31  Nb of sec with 125000B < Vol DL           52463 non-null   float64       \n 32  Nb of sec with 1250B < Vol UL < 6250B     57107 non-null   float64       \n 33  Nb of sec with 31250B < Vol DL < 125000B  56415 non-null   float64       \n 34  Nb of sec with 37500B < Vol UL            19747 non-null   float64       \n 35  Nb of sec with 6250B < Vol DL < 31250B    61684 non-null   float64       \n 36  Nb of sec with 6250B < Vol UL < 37500B    38158 non-null   float64       \n 37  Nb of sec with Vol DL < 6250B             149246 non-null  float64       \n 38  Nb of sec with Vol UL < 1250B             149208 non-null  float64       \n 39  Social Media DL (Bytes)                   150001 non-null  float64       \n 40  Social Media UL (Bytes)                   150001 non-null  float64       \n 41  Google DL (Bytes)                         150001 non-null  float64       \n 42  Google UL (Bytes)                         150001 non-null  float64       \n 43  Email DL (Bytes)                          150001 non-null  float64       \n 44  Email UL (Bytes)                          150001 non-null  float64       \n 45  Youtube DL (Bytes)                        150001 non-null  float64       \n 46  Youtube UL (Bytes)                        150001 non-null  float64       \n 47  Netflix DL (Bytes)                        150001 non-null  float64       \n 48  Netflix UL (Bytes)                        150001 non-null  float64       \n 49  Gaming DL (Bytes)                         150001 non-null  float64       \n 50  Gaming UL (Bytes)                         150001 non-null  float64       \n 51  Other DL (Bytes)                          150001 non-null  float64       \n 52  Other UL (Bytes)                          150001 non-null  float64       \n 53  Total UL (Bytes)                          150000 non-null  float64       \n 54  Total DL (Bytes)                          150000 non-null  float64       \ndtypes: datetime64[ns](2), float64(49), object(4)\nmemory usage: 62.9+ MB\n"
     ]
    }
   ],
   "source": [
    "explorer.get_basic_description()"
   ]
  },
  {
   "cell_type": "code",
   "execution_count": 9,
   "metadata": {},
   "outputs": [
    {
     "output_type": "stream",
     "name": "stdout",
     "text": [
      "DataFrame Description: \n"
     ]
    },
    {
     "output_type": "execute_result",
     "data": {
      "text/plain": [
       "            Start ms         End ms     Dur. (ms)          IMSI  \\\n",
       "count  150000.000000  150000.000000  1.500000e+05  1.494310e+05   \n",
       "mean      499.188200     498.800880  1.046086e+05  2.082016e+14   \n",
       "std       288.611834     288.097653  8.103762e+04  2.148809e+10   \n",
       "min         0.000000       0.000000  7.142000e+03  2.040471e+14   \n",
       "25%       250.000000     251.000000  5.744050e+04  2.082014e+14   \n",
       "50%       499.000000     500.000000  8.639900e+04  2.082015e+14   \n",
       "75%       749.000000     750.000000  1.324302e+05  2.082018e+14   \n",
       "max       999.000000     999.000000  1.859336e+06  2.140743e+14   \n",
       "\n",
       "       MSISDN/Number          IMEI  Avg RTT DL (ms)  Avg RTT UL (ms)  \\\n",
       "count   1.489350e+05  1.494290e+05    122172.000000    122189.000000   \n",
       "mean    4.188282e+10  4.847455e+13       109.795706        17.662883   \n",
       "std     2.447443e+12  2.241637e+13       619.782739        84.793524   \n",
       "min     3.360100e+10  4.400152e+11         0.000000         0.000000   \n",
       "25%     3.365130e+10  3.546071e+13        32.000000         2.000000   \n",
       "50%     3.366371e+10  3.572201e+13        45.000000         5.000000   \n",
       "75%     3.368349e+10  8.611970e+13        70.000000        15.000000   \n",
       "max     8.823971e+14  9.900120e+13     96923.000000      7120.000000   \n",
       "\n",
       "       Avg Bearer TP DL (kbps)  Avg Bearer TP UL (kbps)  \\\n",
       "count            150000.000000            150000.000000   \n",
       "mean              13300.045927              1770.428647   \n",
       "std               23971.878541              4625.355500   \n",
       "min                   0.000000                 0.000000   \n",
       "25%                  43.000000                47.000000   \n",
       "50%                  63.000000                63.000000   \n",
       "75%               19710.750000              1120.000000   \n",
       "max              378160.000000             58613.000000   \n",
       "\n",
       "       TCP DL Retrans. Vol (Bytes)  TCP UL Retrans. Vol (Bytes)  \\\n",
       "count                 6.185500e+04                 5.335200e+04   \n",
       "mean                  2.080991e+07                 7.596587e+05   \n",
       "std                   1.825665e+08                 2.645305e+07   \n",
       "min                   2.000000e+00                 1.000000e+00   \n",
       "25%                   3.565150e+04                 4.694750e+03   \n",
       "50%                   5.687300e+05                 2.094950e+04   \n",
       "75%                   3.768308e+06                 8.402025e+04   \n",
       "max                   4.294426e+09                 2.908226e+09   \n",
       "\n",
       "       DL TP < 50 Kbps (%)  50 Kbps < DL TP < 250 Kbps (%)  \\\n",
       "count        149247.000000                   149247.000000   \n",
       "mean             92.844754                        3.069355   \n",
       "std              13.038031                        6.215233   \n",
       "min               0.000000                        0.000000   \n",
       "25%              91.000000                        0.000000   \n",
       "50%             100.000000                        0.000000   \n",
       "75%             100.000000                        4.000000   \n",
       "max             100.000000                       93.000000   \n",
       "\n",
       "       250 Kbps < DL TP < 1 Mbps (%)  DL TP > 1 Mbps (%)  UL TP < 10 Kbps (%)  \\\n",
       "count                  149247.000000       149247.000000        149209.000000   \n",
       "mean                        1.717341            1.609654            98.530142   \n",
       "std                         4.159538            4.828890             4.634285   \n",
       "min                         0.000000            0.000000             0.000000   \n",
       "25%                         0.000000            0.000000            99.000000   \n",
       "50%                         0.000000            0.000000           100.000000   \n",
       "75%                         1.000000            0.000000           100.000000   \n",
       "max                       100.000000           94.000000           100.000000   \n",
       "\n",
       "       10 Kbps < UL TP < 50 Kbps (%)  50 Kbps < UL TP < 300 Kbps (%)  \\\n",
       "count                  149209.000000                   149209.000000   \n",
       "mean                        0.776749                        0.147987   \n",
       "std                         3.225176                        1.624523   \n",
       "min                         0.000000                        0.000000   \n",
       "25%                         0.000000                        0.000000   \n",
       "50%                         0.000000                        0.000000   \n",
       "75%                         0.000000                        0.000000   \n",
       "max                        98.000000                      100.000000   \n",
       "\n",
       "       UL TP > 300 Kbps (%)  HTTP DL (Bytes)  HTTP UL (Bytes)  \\\n",
       "count         149209.000000     6.852700e+04     6.819100e+04   \n",
       "mean               0.078923     1.144710e+08     3.242301e+06   \n",
       "std                1.295396     9.631946e+08     1.957064e+07   \n",
       "min                0.000000     4.000000e+01     4.000000e+01   \n",
       "25%                0.000000     1.124035e+05     2.432200e+04   \n",
       "50%                0.000000     1.941949e+06     2.297330e+05   \n",
       "75%                0.000000     2.504290e+07     1.542827e+06   \n",
       "max               96.000000     7.253064e+10     1.491890e+09   \n",
       "\n",
       "       Activity Duration DL (ms)  Activity Duration UL (ms)   Dur. (ms).1  \\\n",
       "count               1.500000e+05               1.500000e+05  1.500000e+05   \n",
       "mean                1.829177e+06               1.408880e+06  1.046091e+08   \n",
       "std                 5.696395e+06               4.643231e+06  8.103761e+07   \n",
       "min                 0.000000e+00               0.000000e+00  7.142988e+06   \n",
       "25%                 1.487775e+04               2.153975e+04  5.744079e+07   \n",
       "50%                 3.930450e+04               4.679350e+04  8.639998e+07   \n",
       "75%                 6.796095e+05               5.990952e+05  1.324308e+08   \n",
       "max                 1.365365e+08               1.449113e+08  1.859336e+09   \n",
       "\n",
       "       Nb of sec with 125000B < Vol DL  Nb of sec with 1250B < Vol UL < 6250B  \\\n",
       "count                     52463.000000                           57107.000000   \n",
       "mean                        989.699998                             340.434395   \n",
       "std                        2546.524440                            1445.365032   \n",
       "min                           1.000000                               1.000000   \n",
       "25%                          20.000000                              10.000000   \n",
       "50%                         128.000000                              52.000000   \n",
       "75%                         693.500000                             203.000000   \n",
       "max                       81476.000000                           85412.000000   \n",
       "\n",
       "       Nb of sec with 31250B < Vol DL < 125000B  \\\n",
       "count                              56415.000000   \n",
       "mean                                 810.837401   \n",
       "std                                 1842.162008   \n",
       "min                                    1.000000   \n",
       "25%                                   26.000000   \n",
       "50%                                  164.000000   \n",
       "75%                                  757.000000   \n",
       "max                                58525.000000   \n",
       "\n",
       "       Nb of sec with 37500B < Vol UL  Nb of sec with 6250B < Vol DL < 31250B  \\\n",
       "count                    19747.000000                            61684.000000   \n",
       "mean                       149.257052                              965.464756   \n",
       "std                       1219.112287                             1946.387608   \n",
       "min                          1.000000                                1.000000   \n",
       "25%                          2.000000                               39.000000   \n",
       "50%                          8.000000                              288.000000   \n",
       "75%                         35.000000                             1092.000000   \n",
       "max                      50553.000000                            66913.000000   \n",
       "\n",
       "       Nb of sec with 6250B < Vol UL < 37500B  Nb of sec with Vol DL < 6250B  \\\n",
       "count                            38158.000000                  149246.000000   \n",
       "mean                               141.304812                    3719.787552   \n",
       "std                                993.349688                    9171.609010   \n",
       "min                                  1.000000                       1.000000   \n",
       "25%                                  3.000000                      87.000000   \n",
       "50%                                  8.000000                     203.000000   \n",
       "75%                                 31.000000                    2650.000000   \n",
       "max                              49565.000000                  604061.000000   \n",
       "\n",
       "       Nb of sec with Vol UL < 1250B  Social Media DL (Bytes)  \\\n",
       "count                  149208.000000             1.500010e+05   \n",
       "mean                     4022.083454             1.795322e+06   \n",
       "std                     10160.324314             1.035482e+06   \n",
       "min                         1.000000             1.200000e+01   \n",
       "25%                       106.000000             8.991480e+05   \n",
       "50%                       217.000000             1.794369e+06   \n",
       "75%                      2451.000000             2.694938e+06   \n",
       "max                    604122.000000             3.586064e+06   \n",
       "\n",
       "       Social Media UL (Bytes)  Google DL (Bytes)  Google UL (Bytes)  \\\n",
       "count            150001.000000       1.500010e+05       1.500010e+05   \n",
       "mean              32928.434380       5.750753e+06       2.056542e+06   \n",
       "std               19006.178256       3.309097e+06       1.189917e+06   \n",
       "min                   0.000000       2.070000e+02       3.000000e+00   \n",
       "25%               16448.000000       2.882393e+06       1.024279e+06   \n",
       "50%               32920.000000       5.765829e+06       2.054573e+06   \n",
       "75%               49334.000000       8.623552e+06       3.088454e+06   \n",
       "max               65870.000000       1.146283e+07       4.121357e+06   \n",
       "\n",
       "       Email DL (Bytes)  Email UL (Bytes)  Youtube DL (Bytes)  \\\n",
       "count      1.500010e+05     150001.000000        1.500010e+05   \n",
       "mean       1.791729e+06     467373.441940        1.163407e+07   \n",
       "std        1.035840e+06     269969.307031        6.710569e+06   \n",
       "min        1.400000e+01          2.000000        5.300000e+01   \n",
       "25%        8.927930e+05     233383.000000        5.833501e+06   \n",
       "50%        1.793505e+06     466250.000000        1.161602e+07   \n",
       "75%        2.689327e+06     700440.000000        1.744852e+07   \n",
       "max        3.586146e+06     936418.000000        2.325910e+07   \n",
       "\n",
       "       Youtube UL (Bytes)  Netflix DL (Bytes)  Netflix UL (Bytes)  \\\n",
       "count        1.500010e+05        1.500010e+05        1.500010e+05   \n",
       "mean         1.100941e+07        1.162685e+07        1.100175e+07   \n",
       "std          6.345423e+06        6.725218e+06        6.359490e+06   \n",
       "min          1.050000e+02        4.200000e+01        3.500000e+01   \n",
       "25%          5.517965e+06        5.777156e+06        5.475981e+06   \n",
       "50%          1.101345e+07        1.164222e+07        1.099638e+07   \n",
       "75%          1.651556e+07        1.747048e+07        1.650727e+07   \n",
       "max          2.201196e+07        2.325919e+07        2.201196e+07   \n",
       "\n",
       "       Gaming DL (Bytes)  Gaming UL (Bytes)  Other DL (Bytes)  \\\n",
       "count       1.500010e+05       1.500010e+05      1.500010e+05   \n",
       "mean        4.220447e+08       8.288398e+06      4.211005e+08   \n",
       "std         2.439675e+08       4.782700e+06      2.432050e+08   \n",
       "min         2.516000e+03       5.900000e+01      3.290000e+03   \n",
       "25%         2.104733e+08       4.128476e+06      2.101869e+08   \n",
       "50%         4.234081e+08       8.291208e+06      4.218030e+08   \n",
       "75%         6.331742e+08       1.243162e+07      6.316918e+08   \n",
       "max         8.434419e+08       1.655879e+07      8.434425e+08   \n",
       "\n",
       "       Other UL (Bytes)  Total UL (Bytes)  Total DL (Bytes)  \n",
       "count      1.500010e+05      1.500000e+05      1.500000e+05  \n",
       "mean       8.264799e+06      4.112121e+07      4.546434e+08  \n",
       "std        4.769004e+06      1.127639e+07      2.441429e+08  \n",
       "min        1.480000e+02      2.866892e+06      7.114041e+06  \n",
       "25%        4.145943e+06      3.322201e+07      2.431068e+08  \n",
       "50%        8.267071e+06      4.114331e+07      4.558411e+08  \n",
       "75%        1.238415e+07      4.903424e+07      6.657055e+08  \n",
       "max        1.655882e+07      7.833131e+07      9.029696e+08  "
      ],
      "text/html": "<div>\n<style scoped>\n    .dataframe tbody tr th:only-of-type {\n        vertical-align: middle;\n    }\n\n    .dataframe tbody tr th {\n        vertical-align: top;\n    }\n\n    .dataframe thead th {\n        text-align: right;\n    }\n</style>\n<table border=\"1\" class=\"dataframe\">\n  <thead>\n    <tr style=\"text-align: right;\">\n      <th></th>\n      <th>Start ms</th>\n      <th>End ms</th>\n      <th>Dur. (ms)</th>\n      <th>IMSI</th>\n      <th>MSISDN/Number</th>\n      <th>IMEI</th>\n      <th>Avg RTT DL (ms)</th>\n      <th>Avg RTT UL (ms)</th>\n      <th>Avg Bearer TP DL (kbps)</th>\n      <th>Avg Bearer TP UL (kbps)</th>\n      <th>TCP DL Retrans. Vol (Bytes)</th>\n      <th>TCP UL Retrans. Vol (Bytes)</th>\n      <th>DL TP &lt; 50 Kbps (%)</th>\n      <th>50 Kbps &lt; DL TP &lt; 250 Kbps (%)</th>\n      <th>250 Kbps &lt; DL TP &lt; 1 Mbps (%)</th>\n      <th>DL TP &gt; 1 Mbps (%)</th>\n      <th>UL TP &lt; 10 Kbps (%)</th>\n      <th>10 Kbps &lt; UL TP &lt; 50 Kbps (%)</th>\n      <th>50 Kbps &lt; UL TP &lt; 300 Kbps (%)</th>\n      <th>UL TP &gt; 300 Kbps (%)</th>\n      <th>HTTP DL (Bytes)</th>\n      <th>HTTP UL (Bytes)</th>\n      <th>Activity Duration DL (ms)</th>\n      <th>Activity Duration UL (ms)</th>\n      <th>Dur. (ms).1</th>\n      <th>Nb of sec with 125000B &lt; Vol DL</th>\n      <th>Nb of sec with 1250B &lt; Vol UL &lt; 6250B</th>\n      <th>Nb of sec with 31250B &lt; Vol DL &lt; 125000B</th>\n      <th>Nb of sec with 37500B &lt; Vol UL</th>\n      <th>Nb of sec with 6250B &lt; Vol DL &lt; 31250B</th>\n      <th>Nb of sec with 6250B &lt; Vol UL &lt; 37500B</th>\n      <th>Nb of sec with Vol DL &lt; 6250B</th>\n      <th>Nb of sec with Vol UL &lt; 1250B</th>\n      <th>Social Media DL (Bytes)</th>\n      <th>Social Media UL (Bytes)</th>\n      <th>Google DL (Bytes)</th>\n      <th>Google UL (Bytes)</th>\n      <th>Email DL (Bytes)</th>\n      <th>Email UL (Bytes)</th>\n      <th>Youtube DL (Bytes)</th>\n      <th>Youtube UL (Bytes)</th>\n      <th>Netflix DL (Bytes)</th>\n      <th>Netflix UL (Bytes)</th>\n      <th>Gaming DL (Bytes)</th>\n      <th>Gaming UL (Bytes)</th>\n      <th>Other DL (Bytes)</th>\n      <th>Other UL (Bytes)</th>\n      <th>Total UL (Bytes)</th>\n      <th>Total DL (Bytes)</th>\n    </tr>\n  </thead>\n  <tbody>\n    <tr>\n      <th>count</th>\n      <td>150000.000000</td>\n      <td>150000.000000</td>\n      <td>1.500000e+05</td>\n      <td>1.494310e+05</td>\n      <td>1.489350e+05</td>\n      <td>1.494290e+05</td>\n      <td>122172.000000</td>\n      <td>122189.000000</td>\n      <td>150000.000000</td>\n      <td>150000.000000</td>\n      <td>6.185500e+04</td>\n      <td>5.335200e+04</td>\n      <td>149247.000000</td>\n      <td>149247.000000</td>\n      <td>149247.000000</td>\n      <td>149247.000000</td>\n      <td>149209.000000</td>\n      <td>149209.000000</td>\n      <td>149209.000000</td>\n      <td>149209.000000</td>\n      <td>6.852700e+04</td>\n      <td>6.819100e+04</td>\n      <td>1.500000e+05</td>\n      <td>1.500000e+05</td>\n      <td>1.500000e+05</td>\n      <td>52463.000000</td>\n      <td>57107.000000</td>\n      <td>56415.000000</td>\n      <td>19747.000000</td>\n      <td>61684.000000</td>\n      <td>38158.000000</td>\n      <td>149246.000000</td>\n      <td>149208.000000</td>\n      <td>1.500010e+05</td>\n      <td>150001.000000</td>\n      <td>1.500010e+05</td>\n      <td>1.500010e+05</td>\n      <td>1.500010e+05</td>\n      <td>150001.000000</td>\n      <td>1.500010e+05</td>\n      <td>1.500010e+05</td>\n      <td>1.500010e+05</td>\n      <td>1.500010e+05</td>\n      <td>1.500010e+05</td>\n      <td>1.500010e+05</td>\n      <td>1.500010e+05</td>\n      <td>1.500010e+05</td>\n      <td>1.500000e+05</td>\n      <td>1.500000e+05</td>\n    </tr>\n    <tr>\n      <th>mean</th>\n      <td>499.188200</td>\n      <td>498.800880</td>\n      <td>1.046086e+05</td>\n      <td>2.082016e+14</td>\n      <td>4.188282e+10</td>\n      <td>4.847455e+13</td>\n      <td>109.795706</td>\n      <td>17.662883</td>\n      <td>13300.045927</td>\n      <td>1770.428647</td>\n      <td>2.080991e+07</td>\n      <td>7.596587e+05</td>\n      <td>92.844754</td>\n      <td>3.069355</td>\n      <td>1.717341</td>\n      <td>1.609654</td>\n      <td>98.530142</td>\n      <td>0.776749</td>\n      <td>0.147987</td>\n      <td>0.078923</td>\n      <td>1.144710e+08</td>\n      <td>3.242301e+06</td>\n      <td>1.829177e+06</td>\n      <td>1.408880e+06</td>\n      <td>1.046091e+08</td>\n      <td>989.699998</td>\n      <td>340.434395</td>\n      <td>810.837401</td>\n      <td>149.257052</td>\n      <td>965.464756</td>\n      <td>141.304812</td>\n      <td>3719.787552</td>\n      <td>4022.083454</td>\n      <td>1.795322e+06</td>\n      <td>32928.434380</td>\n      <td>5.750753e+06</td>\n      <td>2.056542e+06</td>\n      <td>1.791729e+06</td>\n      <td>467373.441940</td>\n      <td>1.163407e+07</td>\n      <td>1.100941e+07</td>\n      <td>1.162685e+07</td>\n      <td>1.100175e+07</td>\n      <td>4.220447e+08</td>\n      <td>8.288398e+06</td>\n      <td>4.211005e+08</td>\n      <td>8.264799e+06</td>\n      <td>4.112121e+07</td>\n      <td>4.546434e+08</td>\n    </tr>\n    <tr>\n      <th>std</th>\n      <td>288.611834</td>\n      <td>288.097653</td>\n      <td>8.103762e+04</td>\n      <td>2.148809e+10</td>\n      <td>2.447443e+12</td>\n      <td>2.241637e+13</td>\n      <td>619.782739</td>\n      <td>84.793524</td>\n      <td>23971.878541</td>\n      <td>4625.355500</td>\n      <td>1.825665e+08</td>\n      <td>2.645305e+07</td>\n      <td>13.038031</td>\n      <td>6.215233</td>\n      <td>4.159538</td>\n      <td>4.828890</td>\n      <td>4.634285</td>\n      <td>3.225176</td>\n      <td>1.624523</td>\n      <td>1.295396</td>\n      <td>9.631946e+08</td>\n      <td>1.957064e+07</td>\n      <td>5.696395e+06</td>\n      <td>4.643231e+06</td>\n      <td>8.103761e+07</td>\n      <td>2546.524440</td>\n      <td>1445.365032</td>\n      <td>1842.162008</td>\n      <td>1219.112287</td>\n      <td>1946.387608</td>\n      <td>993.349688</td>\n      <td>9171.609010</td>\n      <td>10160.324314</td>\n      <td>1.035482e+06</td>\n      <td>19006.178256</td>\n      <td>3.309097e+06</td>\n      <td>1.189917e+06</td>\n      <td>1.035840e+06</td>\n      <td>269969.307031</td>\n      <td>6.710569e+06</td>\n      <td>6.345423e+06</td>\n      <td>6.725218e+06</td>\n      <td>6.359490e+06</td>\n      <td>2.439675e+08</td>\n      <td>4.782700e+06</td>\n      <td>2.432050e+08</td>\n      <td>4.769004e+06</td>\n      <td>1.127639e+07</td>\n      <td>2.441429e+08</td>\n    </tr>\n    <tr>\n      <th>min</th>\n      <td>0.000000</td>\n      <td>0.000000</td>\n      <td>7.142000e+03</td>\n      <td>2.040471e+14</td>\n      <td>3.360100e+10</td>\n      <td>4.400152e+11</td>\n      <td>0.000000</td>\n      <td>0.000000</td>\n      <td>0.000000</td>\n      <td>0.000000</td>\n      <td>2.000000e+00</td>\n      <td>1.000000e+00</td>\n      <td>0.000000</td>\n      <td>0.000000</td>\n      <td>0.000000</td>\n      <td>0.000000</td>\n      <td>0.000000</td>\n      <td>0.000000</td>\n      <td>0.000000</td>\n      <td>0.000000</td>\n      <td>4.000000e+01</td>\n      <td>4.000000e+01</td>\n      <td>0.000000e+00</td>\n      <td>0.000000e+00</td>\n      <td>7.142988e+06</td>\n      <td>1.000000</td>\n      <td>1.000000</td>\n      <td>1.000000</td>\n      <td>1.000000</td>\n      <td>1.000000</td>\n      <td>1.000000</td>\n      <td>1.000000</td>\n      <td>1.000000</td>\n      <td>1.200000e+01</td>\n      <td>0.000000</td>\n      <td>2.070000e+02</td>\n      <td>3.000000e+00</td>\n      <td>1.400000e+01</td>\n      <td>2.000000</td>\n      <td>5.300000e+01</td>\n      <td>1.050000e+02</td>\n      <td>4.200000e+01</td>\n      <td>3.500000e+01</td>\n      <td>2.516000e+03</td>\n      <td>5.900000e+01</td>\n      <td>3.290000e+03</td>\n      <td>1.480000e+02</td>\n      <td>2.866892e+06</td>\n      <td>7.114041e+06</td>\n    </tr>\n    <tr>\n      <th>25%</th>\n      <td>250.000000</td>\n      <td>251.000000</td>\n      <td>5.744050e+04</td>\n      <td>2.082014e+14</td>\n      <td>3.365130e+10</td>\n      <td>3.546071e+13</td>\n      <td>32.000000</td>\n      <td>2.000000</td>\n      <td>43.000000</td>\n      <td>47.000000</td>\n      <td>3.565150e+04</td>\n      <td>4.694750e+03</td>\n      <td>91.000000</td>\n      <td>0.000000</td>\n      <td>0.000000</td>\n      <td>0.000000</td>\n      <td>99.000000</td>\n      <td>0.000000</td>\n      <td>0.000000</td>\n      <td>0.000000</td>\n      <td>1.124035e+05</td>\n      <td>2.432200e+04</td>\n      <td>1.487775e+04</td>\n      <td>2.153975e+04</td>\n      <td>5.744079e+07</td>\n      <td>20.000000</td>\n      <td>10.000000</td>\n      <td>26.000000</td>\n      <td>2.000000</td>\n      <td>39.000000</td>\n      <td>3.000000</td>\n      <td>87.000000</td>\n      <td>106.000000</td>\n      <td>8.991480e+05</td>\n      <td>16448.000000</td>\n      <td>2.882393e+06</td>\n      <td>1.024279e+06</td>\n      <td>8.927930e+05</td>\n      <td>233383.000000</td>\n      <td>5.833501e+06</td>\n      <td>5.517965e+06</td>\n      <td>5.777156e+06</td>\n      <td>5.475981e+06</td>\n      <td>2.104733e+08</td>\n      <td>4.128476e+06</td>\n      <td>2.101869e+08</td>\n      <td>4.145943e+06</td>\n      <td>3.322201e+07</td>\n      <td>2.431068e+08</td>\n    </tr>\n    <tr>\n      <th>50%</th>\n      <td>499.000000</td>\n      <td>500.000000</td>\n      <td>8.639900e+04</td>\n      <td>2.082015e+14</td>\n      <td>3.366371e+10</td>\n      <td>3.572201e+13</td>\n      <td>45.000000</td>\n      <td>5.000000</td>\n      <td>63.000000</td>\n      <td>63.000000</td>\n      <td>5.687300e+05</td>\n      <td>2.094950e+04</td>\n      <td>100.000000</td>\n      <td>0.000000</td>\n      <td>0.000000</td>\n      <td>0.000000</td>\n      <td>100.000000</td>\n      <td>0.000000</td>\n      <td>0.000000</td>\n      <td>0.000000</td>\n      <td>1.941949e+06</td>\n      <td>2.297330e+05</td>\n      <td>3.930450e+04</td>\n      <td>4.679350e+04</td>\n      <td>8.639998e+07</td>\n      <td>128.000000</td>\n      <td>52.000000</td>\n      <td>164.000000</td>\n      <td>8.000000</td>\n      <td>288.000000</td>\n      <td>8.000000</td>\n      <td>203.000000</td>\n      <td>217.000000</td>\n      <td>1.794369e+06</td>\n      <td>32920.000000</td>\n      <td>5.765829e+06</td>\n      <td>2.054573e+06</td>\n      <td>1.793505e+06</td>\n      <td>466250.000000</td>\n      <td>1.161602e+07</td>\n      <td>1.101345e+07</td>\n      <td>1.164222e+07</td>\n      <td>1.099638e+07</td>\n      <td>4.234081e+08</td>\n      <td>8.291208e+06</td>\n      <td>4.218030e+08</td>\n      <td>8.267071e+06</td>\n      <td>4.114331e+07</td>\n      <td>4.558411e+08</td>\n    </tr>\n    <tr>\n      <th>75%</th>\n      <td>749.000000</td>\n      <td>750.000000</td>\n      <td>1.324302e+05</td>\n      <td>2.082018e+14</td>\n      <td>3.368349e+10</td>\n      <td>8.611970e+13</td>\n      <td>70.000000</td>\n      <td>15.000000</td>\n      <td>19710.750000</td>\n      <td>1120.000000</td>\n      <td>3.768308e+06</td>\n      <td>8.402025e+04</td>\n      <td>100.000000</td>\n      <td>4.000000</td>\n      <td>1.000000</td>\n      <td>0.000000</td>\n      <td>100.000000</td>\n      <td>0.000000</td>\n      <td>0.000000</td>\n      <td>0.000000</td>\n      <td>2.504290e+07</td>\n      <td>1.542827e+06</td>\n      <td>6.796095e+05</td>\n      <td>5.990952e+05</td>\n      <td>1.324308e+08</td>\n      <td>693.500000</td>\n      <td>203.000000</td>\n      <td>757.000000</td>\n      <td>35.000000</td>\n      <td>1092.000000</td>\n      <td>31.000000</td>\n      <td>2650.000000</td>\n      <td>2451.000000</td>\n      <td>2.694938e+06</td>\n      <td>49334.000000</td>\n      <td>8.623552e+06</td>\n      <td>3.088454e+06</td>\n      <td>2.689327e+06</td>\n      <td>700440.000000</td>\n      <td>1.744852e+07</td>\n      <td>1.651556e+07</td>\n      <td>1.747048e+07</td>\n      <td>1.650727e+07</td>\n      <td>6.331742e+08</td>\n      <td>1.243162e+07</td>\n      <td>6.316918e+08</td>\n      <td>1.238415e+07</td>\n      <td>4.903424e+07</td>\n      <td>6.657055e+08</td>\n    </tr>\n    <tr>\n      <th>max</th>\n      <td>999.000000</td>\n      <td>999.000000</td>\n      <td>1.859336e+06</td>\n      <td>2.140743e+14</td>\n      <td>8.823971e+14</td>\n      <td>9.900120e+13</td>\n      <td>96923.000000</td>\n      <td>7120.000000</td>\n      <td>378160.000000</td>\n      <td>58613.000000</td>\n      <td>4.294426e+09</td>\n      <td>2.908226e+09</td>\n      <td>100.000000</td>\n      <td>93.000000</td>\n      <td>100.000000</td>\n      <td>94.000000</td>\n      <td>100.000000</td>\n      <td>98.000000</td>\n      <td>100.000000</td>\n      <td>96.000000</td>\n      <td>7.253064e+10</td>\n      <td>1.491890e+09</td>\n      <td>1.365365e+08</td>\n      <td>1.449113e+08</td>\n      <td>1.859336e+09</td>\n      <td>81476.000000</td>\n      <td>85412.000000</td>\n      <td>58525.000000</td>\n      <td>50553.000000</td>\n      <td>66913.000000</td>\n      <td>49565.000000</td>\n      <td>604061.000000</td>\n      <td>604122.000000</td>\n      <td>3.586064e+06</td>\n      <td>65870.000000</td>\n      <td>1.146283e+07</td>\n      <td>4.121357e+06</td>\n      <td>3.586146e+06</td>\n      <td>936418.000000</td>\n      <td>2.325910e+07</td>\n      <td>2.201196e+07</td>\n      <td>2.325919e+07</td>\n      <td>2.201196e+07</td>\n      <td>8.434419e+08</td>\n      <td>1.655879e+07</td>\n      <td>8.434425e+08</td>\n      <td>1.655882e+07</td>\n      <td>7.833131e+07</td>\n      <td>9.029696e+08</td>\n    </tr>\n  </tbody>\n</table>\n</div>"
     },
     "metadata": {},
     "execution_count": 9
    }
   ],
   "source": [
    "explorer.get_description()"
   ]
  },
  {
   "cell_type": "code",
   "execution_count": 10,
   "metadata": {},
   "outputs": [
    {
     "output_type": "execute_result",
     "data": {
      "text/plain": [
       "count     150001\n",
       "unique    134709\n",
       "top             \n",
       "freq         991\n",
       "Name: Bearer Id, dtype: object"
      ]
     },
     "metadata": {},
     "execution_count": 10
    }
   ],
   "source": [
    "explorer.get_column_description('Bearer Id')"
   ]
  },
  {
   "cell_type": "code",
   "execution_count": 11,
   "metadata": {},
   "outputs": [
    {
     "output_type": "stream",
     "name": "stdout",
     "text": [
      "Current DataFrame Memory Usage of columns is :\n"
     ]
    },
    {
     "output_type": "execute_result",
     "data": {
      "text/plain": [
       "Index                                           128\n",
       "Bearer Id                                   1200008\n",
       "Start                                       1200008\n",
       "Start ms                                    1200008\n",
       "End                                         1200008\n",
       "End ms                                      1200008\n",
       "Dur. (ms)                                   1200008\n",
       "IMSI                                        1200008\n",
       "MSISDN/Number                               1200008\n",
       "IMEI                                        1200008\n",
       "Last Location Name                          1200008\n",
       "Avg RTT DL (ms)                             1200008\n",
       "Avg RTT UL (ms)                             1200008\n",
       "Avg Bearer TP DL (kbps)                     1200008\n",
       "Avg Bearer TP UL (kbps)                     1200008\n",
       "TCP DL Retrans. Vol (Bytes)                 1200008\n",
       "TCP UL Retrans. Vol (Bytes)                 1200008\n",
       "DL TP < 50 Kbps (%)                         1200008\n",
       "50 Kbps < DL TP < 250 Kbps (%)              1200008\n",
       "250 Kbps < DL TP < 1 Mbps (%)               1200008\n",
       "DL TP > 1 Mbps (%)                          1200008\n",
       "UL TP < 10 Kbps (%)                         1200008\n",
       "10 Kbps < UL TP < 50 Kbps (%)               1200008\n",
       "50 Kbps < UL TP < 300 Kbps (%)              1200008\n",
       "UL TP > 300 Kbps (%)                        1200008\n",
       "HTTP DL (Bytes)                             1200008\n",
       "HTTP UL (Bytes)                             1200008\n",
       "Activity Duration DL (ms)                   1200008\n",
       "Activity Duration UL (ms)                   1200008\n",
       "Dur. (ms).1                                 1200008\n",
       "Handset Manufacturer                        1200008\n",
       "Handset Type                                1200008\n",
       "Nb of sec with 125000B < Vol DL             1200008\n",
       "Nb of sec with 1250B < Vol UL < 6250B       1200008\n",
       "Nb of sec with 31250B < Vol DL < 125000B    1200008\n",
       "Nb of sec with 37500B < Vol UL              1200008\n",
       "Nb of sec with 6250B < Vol DL < 31250B      1200008\n",
       "Nb of sec with 6250B < Vol UL < 37500B      1200008\n",
       "Nb of sec with Vol DL < 6250B               1200008\n",
       "Nb of sec with Vol UL < 1250B               1200008\n",
       "Social Media DL (Bytes)                     1200008\n",
       "Social Media UL (Bytes)                     1200008\n",
       "Google DL (Bytes)                           1200008\n",
       "Google UL (Bytes)                           1200008\n",
       "Email DL (Bytes)                            1200008\n",
       "Email UL (Bytes)                            1200008\n",
       "Youtube DL (Bytes)                          1200008\n",
       "Youtube UL (Bytes)                          1200008\n",
       "Netflix DL (Bytes)                          1200008\n",
       "Netflix UL (Bytes)                          1200008\n",
       "Gaming DL (Bytes)                           1200008\n",
       "Gaming UL (Bytes)                           1200008\n",
       "Other DL (Bytes)                            1200008\n",
       "Other UL (Bytes)                            1200008\n",
       "Total UL (Bytes)                            1200008\n",
       "Total DL (Bytes)                            1200008\n",
       "dtype: int64"
      ]
     },
     "metadata": {},
     "execution_count": 11
    }
   ],
   "source": [
    "# Data Inforamtion regarding null-values and type based on Columns\n",
    "explorer.get_memory_usage()"
   ]
  },
  {
   "source": [
    "## Handling Missing Values"
   ],
   "cell_type": "markdown",
   "metadata": {}
  },
  {
   "cell_type": "code",
   "execution_count": 12,
   "metadata": {},
   "outputs": [
    {
     "output_type": "stream",
     "name": "stdout",
     "text": [
      "The total number of missing values is 1030401\n12.49 % missing values.\n"
     ]
    },
    {
     "output_type": "execute_result",
     "data": {
      "text/plain": [
       "1030401"
      ]
     },
     "metadata": {},
     "execution_count": 12
    }
   ],
   "source": [
    "explorer.get_total_missing_values()"
   ]
  },
  {
   "cell_type": "code",
   "execution_count": 13,
   "metadata": {},
   "outputs": [
    {
     "output_type": "execute_result",
     "data": {
      "text/plain": [
       "['Start',\n",
       " 'Start ms',\n",
       " 'End',\n",
       " 'End ms',\n",
       " 'Dur. (ms)',\n",
       " 'IMSI',\n",
       " 'MSISDN/Number',\n",
       " 'IMEI',\n",
       " 'Last Location Name',\n",
       " 'Avg RTT DL (ms)',\n",
       " 'Avg RTT UL (ms)',\n",
       " 'Avg Bearer TP DL (kbps)',\n",
       " 'Avg Bearer TP UL (kbps)',\n",
       " 'TCP DL Retrans. Vol (Bytes)',\n",
       " 'TCP UL Retrans. Vol (Bytes)',\n",
       " 'DL TP < 50 Kbps (%)',\n",
       " '50 Kbps < DL TP < 250 Kbps (%)',\n",
       " '250 Kbps < DL TP < 1 Mbps (%)',\n",
       " 'DL TP > 1 Mbps (%)',\n",
       " 'UL TP < 10 Kbps (%)',\n",
       " '10 Kbps < UL TP < 50 Kbps (%)',\n",
       " '50 Kbps < UL TP < 300 Kbps (%)',\n",
       " 'UL TP > 300 Kbps (%)',\n",
       " 'HTTP DL (Bytes)',\n",
       " 'HTTP UL (Bytes)',\n",
       " 'Activity Duration DL (ms)',\n",
       " 'Activity Duration UL (ms)',\n",
       " 'Dur. (ms).1',\n",
       " 'Handset Manufacturer',\n",
       " 'Handset Type',\n",
       " 'Nb of sec with 125000B < Vol DL',\n",
       " 'Nb of sec with 1250B < Vol UL < 6250B',\n",
       " 'Nb of sec with 31250B < Vol DL < 125000B',\n",
       " 'Nb of sec with 37500B < Vol UL',\n",
       " 'Nb of sec with 6250B < Vol DL < 31250B',\n",
       " 'Nb of sec with 6250B < Vol UL < 37500B',\n",
       " 'Nb of sec with Vol DL < 6250B',\n",
       " 'Nb of sec with Vol UL < 1250B',\n",
       " 'Total UL (Bytes)',\n",
       " 'Total DL (Bytes)']"
      ]
     },
     "metadata": {},
     "execution_count": 13
    }
   ],
   "source": [
    "explorer.get_columns_with_missing_values()"
   ]
  },
  {
   "cell_type": "code",
   "execution_count": 14,
   "metadata": {},
   "outputs": [
    {
     "output_type": "execute_result",
     "data": {
      "text/plain": [
       "Bearer Id                                        0\n",
       "Start                                            1\n",
       "Start ms                                         1\n",
       "End                                              1\n",
       "End ms                                           1\n",
       "Dur. (ms)                                        1\n",
       "IMSI                                           570\n",
       "MSISDN/Number                                 1066\n",
       "IMEI                                           572\n",
       "Last Location Name                            1153\n",
       "Avg RTT DL (ms)                              27829\n",
       "Avg RTT UL (ms)                              27812\n",
       "Avg Bearer TP DL (kbps)                          1\n",
       "Avg Bearer TP UL (kbps)                          1\n",
       "TCP DL Retrans. Vol (Bytes)                  88146\n",
       "TCP UL Retrans. Vol (Bytes)                  96649\n",
       "DL TP < 50 Kbps (%)                            754\n",
       "50 Kbps < DL TP < 250 Kbps (%)                 754\n",
       "250 Kbps < DL TP < 1 Mbps (%)                  754\n",
       "DL TP > 1 Mbps (%)                             754\n",
       "UL TP < 10 Kbps (%)                            792\n",
       "10 Kbps < UL TP < 50 Kbps (%)                  792\n",
       "50 Kbps < UL TP < 300 Kbps (%)                 792\n",
       "UL TP > 300 Kbps (%)                           792\n",
       "HTTP DL (Bytes)                              81474\n",
       "HTTP UL (Bytes)                              81810\n",
       "Activity Duration DL (ms)                        1\n",
       "Activity Duration UL (ms)                        1\n",
       "Dur. (ms).1                                      1\n",
       "Handset Manufacturer                           572\n",
       "Handset Type                                   572\n",
       "Nb of sec with 125000B < Vol DL              97538\n",
       "Nb of sec with 1250B < Vol UL < 6250B        92894\n",
       "Nb of sec with 31250B < Vol DL < 125000B     93586\n",
       "Nb of sec with 37500B < Vol UL              130254\n",
       "Nb of sec with 6250B < Vol DL < 31250B       88317\n",
       "Nb of sec with 6250B < Vol UL < 37500B      111843\n",
       "Nb of sec with Vol DL < 6250B                  755\n",
       "Nb of sec with Vol UL < 1250B                  793\n",
       "Social Media DL (Bytes)                          0\n",
       "Social Media UL (Bytes)                          0\n",
       "Google DL (Bytes)                                0\n",
       "Google UL (Bytes)                                0\n",
       "Email DL (Bytes)                                 0\n",
       "Email UL (Bytes)                                 0\n",
       "Youtube DL (Bytes)                               0\n",
       "Youtube UL (Bytes)                               0\n",
       "Netflix DL (Bytes)                               0\n",
       "Netflix UL (Bytes)                               0\n",
       "Gaming DL (Bytes)                                0\n",
       "Gaming UL (Bytes)                                0\n",
       "Other DL (Bytes)                                 0\n",
       "Other UL (Bytes)                                 0\n",
       "Total UL (Bytes)                                 1\n",
       "Total DL (Bytes)                                 1\n",
       "dtype: int64"
      ]
     },
     "metadata": {},
     "execution_count": 14
    }
   ],
   "source": [
    "explorer.get_column_based_missing_values()"
   ]
  },
  {
   "cell_type": "code",
   "execution_count": 15,
   "metadata": {},
   "outputs": [
    {
     "output_type": "execute_result",
     "data": {
      "text/plain": [
       "                                          total_missing_values  \\\n",
       "Bearer Id                                                    0   \n",
       "Start                                                        1   \n",
       "Start ms                                                     1   \n",
       "End                                                          1   \n",
       "End ms                                                       1   \n",
       "Dur. (ms)                                                    1   \n",
       "IMSI                                                       570   \n",
       "MSISDN/Number                                             1066   \n",
       "IMEI                                                       572   \n",
       "Last Location Name                                        1153   \n",
       "Avg RTT DL (ms)                                          27829   \n",
       "Avg RTT UL (ms)                                          27812   \n",
       "Avg Bearer TP DL (kbps)                                      1   \n",
       "Avg Bearer TP UL (kbps)                                      1   \n",
       "TCP DL Retrans. Vol (Bytes)                              88146   \n",
       "TCP UL Retrans. Vol (Bytes)                              96649   \n",
       "DL TP < 50 Kbps (%)                                        754   \n",
       "50 Kbps < DL TP < 250 Kbps (%)                             754   \n",
       "250 Kbps < DL TP < 1 Mbps (%)                              754   \n",
       "DL TP > 1 Mbps (%)                                         754   \n",
       "UL TP < 10 Kbps (%)                                        792   \n",
       "10 Kbps < UL TP < 50 Kbps (%)                              792   \n",
       "50 Kbps < UL TP < 300 Kbps (%)                             792   \n",
       "UL TP > 300 Kbps (%)                                       792   \n",
       "HTTP DL (Bytes)                                          81474   \n",
       "HTTP UL (Bytes)                                          81810   \n",
       "Activity Duration DL (ms)                                    1   \n",
       "Activity Duration UL (ms)                                    1   \n",
       "Dur. (ms).1                                                  1   \n",
       "Handset Manufacturer                                       572   \n",
       "Handset Type                                               572   \n",
       "Nb of sec with 125000B < Vol DL                          97538   \n",
       "Nb of sec with 1250B < Vol UL < 6250B                    92894   \n",
       "Nb of sec with 31250B < Vol DL < 125000B                 93586   \n",
       "Nb of sec with 37500B < Vol UL                          130254   \n",
       "Nb of sec with 6250B < Vol DL < 31250B                   88317   \n",
       "Nb of sec with 6250B < Vol UL < 37500B                  111843   \n",
       "Nb of sec with Vol DL < 6250B                              755   \n",
       "Nb of sec with Vol UL < 1250B                              793   \n",
       "Social Media DL (Bytes)                                      0   \n",
       "Social Media UL (Bytes)                                      0   \n",
       "Google DL (Bytes)                                            0   \n",
       "Google UL (Bytes)                                            0   \n",
       "Email DL (Bytes)                                             0   \n",
       "Email UL (Bytes)                                             0   \n",
       "Youtube DL (Bytes)                                           0   \n",
       "Youtube UL (Bytes)                                           0   \n",
       "Netflix DL (Bytes)                                           0   \n",
       "Netflix UL (Bytes)                                           0   \n",
       "Gaming DL (Bytes)                                            0   \n",
       "Gaming UL (Bytes)                                            0   \n",
       "Other DL (Bytes)                                             0   \n",
       "Other UL (Bytes)                                             0   \n",
       "Total UL (Bytes)                                             1   \n",
       "Total DL (Bytes)                                             1   \n",
       "\n",
       "                                         missing_percentage  \n",
       "Bearer Id                                             0.0 %  \n",
       "Start                                                 0.0 %  \n",
       "Start ms                                              0.0 %  \n",
       "End                                                   0.0 %  \n",
       "End ms                                                0.0 %  \n",
       "Dur. (ms)                                             0.0 %  \n",
       "IMSI                                                 0.38 %  \n",
       "MSISDN/Number                                        0.71 %  \n",
       "IMEI                                                 0.38 %  \n",
       "Last Location Name                                   0.77 %  \n",
       "Avg RTT DL (ms)                                     18.55 %  \n",
       "Avg RTT UL (ms)                                     18.54 %  \n",
       "Avg Bearer TP DL (kbps)                               0.0 %  \n",
       "Avg Bearer TP UL (kbps)                               0.0 %  \n",
       "TCP DL Retrans. Vol (Bytes)                         58.76 %  \n",
       "TCP UL Retrans. Vol (Bytes)                         64.43 %  \n",
       "DL TP < 50 Kbps (%)                                   0.5 %  \n",
       "50 Kbps < DL TP < 250 Kbps (%)                        0.5 %  \n",
       "250 Kbps < DL TP < 1 Mbps (%)                         0.5 %  \n",
       "DL TP > 1 Mbps (%)                                    0.5 %  \n",
       "UL TP < 10 Kbps (%)                                  0.53 %  \n",
       "10 Kbps < UL TP < 50 Kbps (%)                        0.53 %  \n",
       "50 Kbps < UL TP < 300 Kbps (%)                       0.53 %  \n",
       "UL TP > 300 Kbps (%)                                 0.53 %  \n",
       "HTTP DL (Bytes)                                     54.32 %  \n",
       "HTTP UL (Bytes)                                     54.54 %  \n",
       "Activity Duration DL (ms)                             0.0 %  \n",
       "Activity Duration UL (ms)                             0.0 %  \n",
       "Dur. (ms).1                                           0.0 %  \n",
       "Handset Manufacturer                                 0.38 %  \n",
       "Handset Type                                         0.38 %  \n",
       "Nb of sec with 125000B < Vol DL                     65.02 %  \n",
       "Nb of sec with 1250B < Vol UL < 6250B               61.93 %  \n",
       "Nb of sec with 31250B < Vol DL < 125000B            62.39 %  \n",
       "Nb of sec with 37500B < Vol UL                      86.84 %  \n",
       "Nb of sec with 6250B < Vol DL < 31250B              58.88 %  \n",
       "Nb of sec with 6250B < Vol UL < 37500B              74.56 %  \n",
       "Nb of sec with Vol DL < 6250B                         0.5 %  \n",
       "Nb of sec with Vol UL < 1250B                        0.53 %  \n",
       "Social Media DL (Bytes)                               0.0 %  \n",
       "Social Media UL (Bytes)                               0.0 %  \n",
       "Google DL (Bytes)                                     0.0 %  \n",
       "Google UL (Bytes)                                     0.0 %  \n",
       "Email DL (Bytes)                                      0.0 %  \n",
       "Email UL (Bytes)                                      0.0 %  \n",
       "Youtube DL (Bytes)                                    0.0 %  \n",
       "Youtube UL (Bytes)                                    0.0 %  \n",
       "Netflix DL (Bytes)                                    0.0 %  \n",
       "Netflix UL (Bytes)                                    0.0 %  \n",
       "Gaming DL (Bytes)                                     0.0 %  \n",
       "Gaming UL (Bytes)                                     0.0 %  \n",
       "Other DL (Bytes)                                      0.0 %  \n",
       "Other UL (Bytes)                                      0.0 %  \n",
       "Total UL (Bytes)                                      0.0 %  \n",
       "Total DL (Bytes)                                      0.0 %  "
      ],
      "text/html": "<div>\n<style scoped>\n    .dataframe tbody tr th:only-of-type {\n        vertical-align: middle;\n    }\n\n    .dataframe tbody tr th {\n        vertical-align: top;\n    }\n\n    .dataframe thead th {\n        text-align: right;\n    }\n</style>\n<table border=\"1\" class=\"dataframe\">\n  <thead>\n    <tr style=\"text-align: right;\">\n      <th></th>\n      <th>total_missing_values</th>\n      <th>missing_percentage</th>\n    </tr>\n  </thead>\n  <tbody>\n    <tr>\n      <th>Bearer Id</th>\n      <td>0</td>\n      <td>0.0 %</td>\n    </tr>\n    <tr>\n      <th>Start</th>\n      <td>1</td>\n      <td>0.0 %</td>\n    </tr>\n    <tr>\n      <th>Start ms</th>\n      <td>1</td>\n      <td>0.0 %</td>\n    </tr>\n    <tr>\n      <th>End</th>\n      <td>1</td>\n      <td>0.0 %</td>\n    </tr>\n    <tr>\n      <th>End ms</th>\n      <td>1</td>\n      <td>0.0 %</td>\n    </tr>\n    <tr>\n      <th>Dur. (ms)</th>\n      <td>1</td>\n      <td>0.0 %</td>\n    </tr>\n    <tr>\n      <th>IMSI</th>\n      <td>570</td>\n      <td>0.38 %</td>\n    </tr>\n    <tr>\n      <th>MSISDN/Number</th>\n      <td>1066</td>\n      <td>0.71 %</td>\n    </tr>\n    <tr>\n      <th>IMEI</th>\n      <td>572</td>\n      <td>0.38 %</td>\n    </tr>\n    <tr>\n      <th>Last Location Name</th>\n      <td>1153</td>\n      <td>0.77 %</td>\n    </tr>\n    <tr>\n      <th>Avg RTT DL (ms)</th>\n      <td>27829</td>\n      <td>18.55 %</td>\n    </tr>\n    <tr>\n      <th>Avg RTT UL (ms)</th>\n      <td>27812</td>\n      <td>18.54 %</td>\n    </tr>\n    <tr>\n      <th>Avg Bearer TP DL (kbps)</th>\n      <td>1</td>\n      <td>0.0 %</td>\n    </tr>\n    <tr>\n      <th>Avg Bearer TP UL (kbps)</th>\n      <td>1</td>\n      <td>0.0 %</td>\n    </tr>\n    <tr>\n      <th>TCP DL Retrans. Vol (Bytes)</th>\n      <td>88146</td>\n      <td>58.76 %</td>\n    </tr>\n    <tr>\n      <th>TCP UL Retrans. Vol (Bytes)</th>\n      <td>96649</td>\n      <td>64.43 %</td>\n    </tr>\n    <tr>\n      <th>DL TP &lt; 50 Kbps (%)</th>\n      <td>754</td>\n      <td>0.5 %</td>\n    </tr>\n    <tr>\n      <th>50 Kbps &lt; DL TP &lt; 250 Kbps (%)</th>\n      <td>754</td>\n      <td>0.5 %</td>\n    </tr>\n    <tr>\n      <th>250 Kbps &lt; DL TP &lt; 1 Mbps (%)</th>\n      <td>754</td>\n      <td>0.5 %</td>\n    </tr>\n    <tr>\n      <th>DL TP &gt; 1 Mbps (%)</th>\n      <td>754</td>\n      <td>0.5 %</td>\n    </tr>\n    <tr>\n      <th>UL TP &lt; 10 Kbps (%)</th>\n      <td>792</td>\n      <td>0.53 %</td>\n    </tr>\n    <tr>\n      <th>10 Kbps &lt; UL TP &lt; 50 Kbps (%)</th>\n      <td>792</td>\n      <td>0.53 %</td>\n    </tr>\n    <tr>\n      <th>50 Kbps &lt; UL TP &lt; 300 Kbps (%)</th>\n      <td>792</td>\n      <td>0.53 %</td>\n    </tr>\n    <tr>\n      <th>UL TP &gt; 300 Kbps (%)</th>\n      <td>792</td>\n      <td>0.53 %</td>\n    </tr>\n    <tr>\n      <th>HTTP DL (Bytes)</th>\n      <td>81474</td>\n      <td>54.32 %</td>\n    </tr>\n    <tr>\n      <th>HTTP UL (Bytes)</th>\n      <td>81810</td>\n      <td>54.54 %</td>\n    </tr>\n    <tr>\n      <th>Activity Duration DL (ms)</th>\n      <td>1</td>\n      <td>0.0 %</td>\n    </tr>\n    <tr>\n      <th>Activity Duration UL (ms)</th>\n      <td>1</td>\n      <td>0.0 %</td>\n    </tr>\n    <tr>\n      <th>Dur. (ms).1</th>\n      <td>1</td>\n      <td>0.0 %</td>\n    </tr>\n    <tr>\n      <th>Handset Manufacturer</th>\n      <td>572</td>\n      <td>0.38 %</td>\n    </tr>\n    <tr>\n      <th>Handset Type</th>\n      <td>572</td>\n      <td>0.38 %</td>\n    </tr>\n    <tr>\n      <th>Nb of sec with 125000B &lt; Vol DL</th>\n      <td>97538</td>\n      <td>65.02 %</td>\n    </tr>\n    <tr>\n      <th>Nb of sec with 1250B &lt; Vol UL &lt; 6250B</th>\n      <td>92894</td>\n      <td>61.93 %</td>\n    </tr>\n    <tr>\n      <th>Nb of sec with 31250B &lt; Vol DL &lt; 125000B</th>\n      <td>93586</td>\n      <td>62.39 %</td>\n    </tr>\n    <tr>\n      <th>Nb of sec with 37500B &lt; Vol UL</th>\n      <td>130254</td>\n      <td>86.84 %</td>\n    </tr>\n    <tr>\n      <th>Nb of sec with 6250B &lt; Vol DL &lt; 31250B</th>\n      <td>88317</td>\n      <td>58.88 %</td>\n    </tr>\n    <tr>\n      <th>Nb of sec with 6250B &lt; Vol UL &lt; 37500B</th>\n      <td>111843</td>\n      <td>74.56 %</td>\n    </tr>\n    <tr>\n      <th>Nb of sec with Vol DL &lt; 6250B</th>\n      <td>755</td>\n      <td>0.5 %</td>\n    </tr>\n    <tr>\n      <th>Nb of sec with Vol UL &lt; 1250B</th>\n      <td>793</td>\n      <td>0.53 %</td>\n    </tr>\n    <tr>\n      <th>Social Media DL (Bytes)</th>\n      <td>0</td>\n      <td>0.0 %</td>\n    </tr>\n    <tr>\n      <th>Social Media UL (Bytes)</th>\n      <td>0</td>\n      <td>0.0 %</td>\n    </tr>\n    <tr>\n      <th>Google DL (Bytes)</th>\n      <td>0</td>\n      <td>0.0 %</td>\n    </tr>\n    <tr>\n      <th>Google UL (Bytes)</th>\n      <td>0</td>\n      <td>0.0 %</td>\n    </tr>\n    <tr>\n      <th>Email DL (Bytes)</th>\n      <td>0</td>\n      <td>0.0 %</td>\n    </tr>\n    <tr>\n      <th>Email UL (Bytes)</th>\n      <td>0</td>\n      <td>0.0 %</td>\n    </tr>\n    <tr>\n      <th>Youtube DL (Bytes)</th>\n      <td>0</td>\n      <td>0.0 %</td>\n    </tr>\n    <tr>\n      <th>Youtube UL (Bytes)</th>\n      <td>0</td>\n      <td>0.0 %</td>\n    </tr>\n    <tr>\n      <th>Netflix DL (Bytes)</th>\n      <td>0</td>\n      <td>0.0 %</td>\n    </tr>\n    <tr>\n      <th>Netflix UL (Bytes)</th>\n      <td>0</td>\n      <td>0.0 %</td>\n    </tr>\n    <tr>\n      <th>Gaming DL (Bytes)</th>\n      <td>0</td>\n      <td>0.0 %</td>\n    </tr>\n    <tr>\n      <th>Gaming UL (Bytes)</th>\n      <td>0</td>\n      <td>0.0 %</td>\n    </tr>\n    <tr>\n      <th>Other DL (Bytes)</th>\n      <td>0</td>\n      <td>0.0 %</td>\n    </tr>\n    <tr>\n      <th>Other UL (Bytes)</th>\n      <td>0</td>\n      <td>0.0 %</td>\n    </tr>\n    <tr>\n      <th>Total UL (Bytes)</th>\n      <td>1</td>\n      <td>0.0 %</td>\n    </tr>\n    <tr>\n      <th>Total DL (Bytes)</th>\n      <td>1</td>\n      <td>0.0 %</td>\n    </tr>\n  </tbody>\n</table>\n</div>"
     },
     "metadata": {},
     "execution_count": 15
    }
   ],
   "source": [
    "explorer.get_column_based_missing_percentage()"
   ]
  },
  {
   "cell_type": "code",
   "execution_count": 16,
   "metadata": {},
   "outputs": [
    {
     "output_type": "execute_result",
     "data": {
      "text/plain": [
       "Index(['TCP DL Retrans. Vol (Bytes)', 'TCP UL Retrans. Vol (Bytes)',\n",
       "       'HTTP DL (Bytes)', 'HTTP UL (Bytes)', 'Nb of sec with 125000B < Vol DL',\n",
       "       'Nb of sec with 1250B < Vol UL < 6250B',\n",
       "       'Nb of sec with 31250B < Vol DL < 125000B',\n",
       "       'Nb of sec with 37500B < Vol UL',\n",
       "       'Nb of sec with 6250B < Vol DL < 31250B',\n",
       "       'Nb of sec with 6250B < Vol UL < 37500B'],\n",
       "      dtype='object')"
      ]
     },
     "metadata": {},
     "execution_count": 16
    }
   ],
   "source": [
    "explorer.get_columns_missing_percentage_greater_than(30.0)"
   ]
  },
  {
   "cell_type": "code",
   "execution_count": 17,
   "metadata": {},
   "outputs": [
    {
     "output_type": "execute_result",
     "data": {
      "text/plain": [
       "(150001, 45)"
      ]
     },
     "metadata": {},
     "execution_count": 17
    }
   ],
   "source": [
    "telData.drop(explorer.get_columns_missing_percentage_greater_than(30.0),axis=1, inplace=True)\n",
    "telData.shape"
   ]
  },
  {
   "cell_type": "code",
   "execution_count": 18,
   "metadata": {},
   "outputs": [],
   "source": [
    "telData.drop([telData.index[-1]], inplace=True)"
   ]
  },
  {
   "cell_type": "code",
   "execution_count": 19,
   "metadata": {},
   "outputs": [],
   "source": [
    "explorer = DataInfo(telData)"
   ]
  },
  {
   "cell_type": "code",
   "execution_count": 20,
   "metadata": {},
   "outputs": [
    {
     "output_type": "error",
     "ename": "SyntaxError",
     "evalue": "invalid syntax (<ipython-input-20-5f4455b603bd>, line 1)",
     "traceback": [
      "\u001b[1;36m  File \u001b[1;32m\"<ipython-input-20-5f4455b603bd>\"\u001b[1;36m, line \u001b[1;32m1\u001b[0m\n\u001b[1;33m    explorer.\u001b[0m\n\u001b[1;37m             ^\u001b[0m\n\u001b[1;31mSyntaxError\u001b[0m\u001b[1;31m:\u001b[0m invalid syntax\n"
     ]
    }
   ],
   "source": [
    "explorer."
   ]
  },
  {
   "cell_type": "code",
   "execution_count": 43,
   "metadata": {},
   "outputs": [
    {
     "output_type": "execute_result",
     "data": {
      "text/plain": [
       "Bearer Id                             0\n",
       "Start                                 0\n",
       "Start ms                              0\n",
       "End                                   0\n",
       "End ms                                0\n",
       "Dur. (ms)                             0\n",
       "IMSI                                569\n",
       "MSISDN/Number                      1065\n",
       "IMEI                                571\n",
       "Last Location Name                 1152\n",
       "Avg RTT DL (ms)                   27828\n",
       "Avg RTT UL (ms)                   27811\n",
       "Avg Bearer TP DL (kbps)               0\n",
       "Avg Bearer TP UL (kbps)               0\n",
       "DL TP < 50 Kbps (%)                 753\n",
       "50 Kbps < DL TP < 250 Kbps (%)      753\n",
       "250 Kbps < DL TP < 1 Mbps (%)       753\n",
       "DL TP > 1 Mbps (%)                  753\n",
       "UL TP < 10 Kbps (%)                 791\n",
       "10 Kbps < UL TP < 50 Kbps (%)       791\n",
       "50 Kbps < UL TP < 300 Kbps (%)      791\n",
       "UL TP > 300 Kbps (%)                791\n",
       "Activity Duration DL (ms)             0\n",
       "Activity Duration UL (ms)             0\n",
       "Dur. (ms).1                           0\n",
       "Handset Manufacturer                571\n",
       "Handset Type                        571\n",
       "Nb of sec with Vol DL < 6250B       754\n",
       "Nb of sec with Vol UL < 1250B       792\n",
       "Social Media DL (Bytes)               0\n",
       "Social Media UL (Bytes)               0\n",
       "Google DL (Bytes)                     0\n",
       "Google UL (Bytes)                     0\n",
       "Email DL (Bytes)                      0\n",
       "Email UL (Bytes)                      0\n",
       "Youtube DL (Bytes)                    0\n",
       "Youtube UL (Bytes)                    0\n",
       "Netflix DL (Bytes)                    0\n",
       "Netflix UL (Bytes)                    0\n",
       "Gaming DL (Bytes)                     0\n",
       "Gaming UL (Bytes)                     0\n",
       "Other DL (Bytes)                      0\n",
       "Other UL (Bytes)                      0\n",
       "Total UL (Bytes)                      0\n",
       "Total DL (Bytes)                      0\n",
       "dtype: int64"
      ]
     },
     "metadata": {},
     "execution_count": 43
    }
   ],
   "source": [
    "explorer.get_column_based_missing_values()\n"
   ]
  },
  {
   "cell_type": "code",
   "execution_count": 49,
   "metadata": {},
   "outputs": [
    {
     "output_type": "execute_result",
     "data": {
      "text/plain": [
       "['IMSI',\n",
       " 'MSISDN/Number',\n",
       " 'IMEI',\n",
       " 'Last Location Name',\n",
       " 'Avg RTT DL (ms)',\n",
       " 'Avg RTT UL (ms)',\n",
       " 'DL TP < 50 Kbps (%)',\n",
       " '50 Kbps < DL TP < 250 Kbps (%)',\n",
       " '250 Kbps < DL TP < 1 Mbps (%)',\n",
       " 'DL TP > 1 Mbps (%)',\n",
       " 'UL TP < 10 Kbps (%)',\n",
       " '10 Kbps < UL TP < 50 Kbps (%)',\n",
       " '50 Kbps < UL TP < 300 Kbps (%)',\n",
       " 'UL TP > 300 Kbps (%)',\n",
       " 'Handset Manufacturer',\n",
       " 'Handset Type',\n",
       " 'Nb of sec with Vol DL < 6250B',\n",
       " 'Nb of sec with Vol UL < 1250B']"
      ]
     },
     "metadata": {},
     "execution_count": 49
    }
   ],
   "source": [
    "explorer.get_columns_with_missing_values()"
   ]
  },
  {
   "cell_type": "code",
   "execution_count": null,
   "metadata": {},
   "outputs": [],
   "source": []
  }
 ]
}