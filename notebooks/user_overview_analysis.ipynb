{
 "metadata": {
  "language_info": {
   "codemirror_mode": {
    "name": "ipython",
    "version": 3
   },
   "file_extension": ".py",
   "mimetype": "text/x-python",
   "name": "python",
   "nbconvert_exporter": "python",
   "pygments_lexer": "ipython3",
   "version": "3.8.4"
  },
  "orig_nbformat": 4,
  "kernelspec": {
   "name": "python3",
   "display_name": "Python 3.8.4 64-bit"
  },
  "interpreter": {
   "hash": "2db524e06e9f5f4ffedc911c917cb75e12dbc923643829bf417064a77eb14d37"
  }
 },
 "nbformat": 4,
 "nbformat_minor": 2,
 "cells": [
  {
   "source": [
    "# TeleCo Company: Data Analysis"
   ],
   "cell_type": "markdown",
   "metadata": {}
  },
  {
   "source": [
    "## Loading Data"
   ],
   "cell_type": "markdown",
   "metadata": {}
  },
  {
   "cell_type": "code",
   "execution_count": 1,
   "metadata": {},
   "outputs": [],
   "source": [
    "import sys\n",
    "sys.path.insert(0,'../scripts/')"
   ]
  },
  {
   "cell_type": "code",
   "execution_count": 2,
   "metadata": {},
   "outputs": [],
   "source": [
    "import pandas as pd"
   ]
  },
  {
   "cell_type": "code",
   "execution_count": 3,
   "metadata": {},
   "outputs": [],
   "source": [
    "from data_loader import load_df_from_csv, load_df_from_excel"
   ]
  },
  {
   "cell_type": "code",
   "execution_count": 4,
   "metadata": {},
   "outputs": [
    {
     "output_type": "execute_result",
     "data": {
      "text/plain": [
       "      Fields  \\\n",
       "0  bearer id   \n",
       "1  Dur. (ms)   \n",
       "2      Start   \n",
       "3   Start ms   \n",
       "4        End   \n",
       "\n",
       "                                                             Description  \n",
       "0                                                 xDr session identifier  \n",
       "1                                      Total Duration of the xDR (in ms)  \n",
       "2                          Start time of the xDR (first frame timestamp)  \n",
       "3  Milliseconds offset of start time for the xDR (first frame timestamp)  \n",
       "4                             End time of the xDR (last frame timestamp)  "
      ],
      "text/html": "<div>\n<style scoped>\n    .dataframe tbody tr th:only-of-type {\n        vertical-align: middle;\n    }\n\n    .dataframe tbody tr th {\n        vertical-align: top;\n    }\n\n    .dataframe thead th {\n        text-align: right;\n    }\n</style>\n<table border=\"1\" class=\"dataframe\">\n  <thead>\n    <tr style=\"text-align: right;\">\n      <th></th>\n      <th>Fields</th>\n      <th>Description</th>\n    </tr>\n  </thead>\n  <tbody>\n    <tr>\n      <th>0</th>\n      <td>bearer id</td>\n      <td>xDr session identifier</td>\n    </tr>\n    <tr>\n      <th>1</th>\n      <td>Dur. (ms)</td>\n      <td>Total Duration of the xDR (in ms)</td>\n    </tr>\n    <tr>\n      <th>2</th>\n      <td>Start</td>\n      <td>Start time of the xDR (first frame timestamp)</td>\n    </tr>\n    <tr>\n      <th>3</th>\n      <td>Start ms</td>\n      <td>Milliseconds offset of start time for the xDR (first frame timestamp)</td>\n    </tr>\n    <tr>\n      <th>4</th>\n      <td>End</td>\n      <td>End time of the xDR (last frame timestamp)</td>\n    </tr>\n  </tbody>\n</table>\n</div>"
     },
     "metadata": {},
     "execution_count": 4
    }
   ],
   "source": [
    "fields_description = load_df_from_csv(\"../data/fields_description.csv\")\n",
    "pd.set_option('display.max_colwidth', None)\n",
    "fields_description.head()"
   ]
  },
  {
   "cell_type": "code",
   "execution_count": 5,
   "metadata": {},
   "outputs": [
    {
     "output_type": "execute_result",
     "data": {
      "text/plain": [
       "              Bearer Id               Start  Start ms                 End  \\\n",
       "0  13114483460844900352 2019-04-04 12:01:18     770.0 2019-04-25 14:35:31   \n",
       "1  13114483482878900224 2019-04-09 13:04:04     235.0 2019-04-25 08:15:48   \n",
       "2  13114483484080500736 2019-04-09 17:42:11       1.0 2019-04-25 11:58:13   \n",
       "3  13114483485442799616 2019-04-10 00:31:25     486.0 2019-04-25 07:36:35   \n",
       "4  13114483499480700928 2019-04-12 20:10:23     565.0 2019-04-25 10:40:32   \n",
       "\n",
       "   End ms  Dur. (ms)          IMSI  MSISDN/Number          IMEI  \\\n",
       "0   662.0  1823652.0  2.082014e+14   3.366496e+10  3.552121e+13   \n",
       "1   606.0  1365104.0  2.082019e+14   3.368185e+10  3.579401e+13   \n",
       "2   652.0  1361762.0  2.082003e+14   3.376063e+10  3.528151e+13   \n",
       "3   171.0  1321509.0  2.082014e+14   3.375034e+10  3.535661e+13   \n",
       "4   954.0  1089009.0  2.082014e+14   3.369979e+10  3.540701e+13   \n",
       "\n",
       "  Last Location Name  Avg RTT DL (ms)  Avg RTT UL (ms)  \\\n",
       "0   9164566995485190             42.0              5.0   \n",
       "1            L77566A             65.0              5.0   \n",
       "2            D42335A              NaN              NaN   \n",
       "3            T21824A              NaN              NaN   \n",
       "4            D88865A              NaN              NaN   \n",
       "\n",
       "   Avg Bearer TP DL (kbps)  Avg Bearer TP UL (kbps)  \\\n",
       "0                     23.0                     44.0   \n",
       "1                     16.0                     26.0   \n",
       "2                      6.0                      9.0   \n",
       "3                     44.0                     44.0   \n",
       "4                      6.0                      9.0   \n",
       "\n",
       "   TCP DL Retrans. Vol (Bytes)  TCP UL Retrans. Vol (Bytes)  \\\n",
       "0                          NaN                          NaN   \n",
       "1                          NaN                          NaN   \n",
       "2                          NaN                          NaN   \n",
       "3                          NaN                          NaN   \n",
       "4                          NaN                          NaN   \n",
       "\n",
       "   DL TP < 50 Kbps (%)  50 Kbps < DL TP < 250 Kbps (%)  \\\n",
       "0                100.0                             0.0   \n",
       "1                100.0                             0.0   \n",
       "2                100.0                             0.0   \n",
       "3                100.0                             0.0   \n",
       "4                100.0                             0.0   \n",
       "\n",
       "   250 Kbps < DL TP < 1 Mbps (%)  DL TP > 1 Mbps (%)  UL TP < 10 Kbps (%)  \\\n",
       "0                            0.0                 0.0                100.0   \n",
       "1                            0.0                 0.0                100.0   \n",
       "2                            0.0                 0.0                100.0   \n",
       "3                            0.0                 0.0                100.0   \n",
       "4                            0.0                 0.0                100.0   \n",
       "\n",
       "   10 Kbps < UL TP < 50 Kbps (%)  50 Kbps < UL TP < 300 Kbps (%)  \\\n",
       "0                            0.0                             0.0   \n",
       "1                            0.0                             0.0   \n",
       "2                            0.0                             0.0   \n",
       "3                            0.0                             0.0   \n",
       "4                            0.0                             0.0   \n",
       "\n",
       "   UL TP > 300 Kbps (%)  HTTP DL (Bytes)  HTTP UL (Bytes)  \\\n",
       "0                   0.0              NaN              NaN   \n",
       "1                   0.0              NaN              NaN   \n",
       "2                   0.0              NaN              NaN   \n",
       "3                   0.0              NaN              NaN   \n",
       "4                   0.0              NaN              NaN   \n",
       "\n",
       "   Activity Duration DL (ms)  Activity Duration UL (ms)   Dur. (ms).1  \\\n",
       "0                    37624.0                    38787.0  1.823653e+09   \n",
       "1                      168.0                     3560.0  1.365104e+09   \n",
       "2                        0.0                        0.0  1.361763e+09   \n",
       "3                     3330.0                    37882.0  1.321510e+09   \n",
       "4                        0.0                        0.0  1.089009e+09   \n",
       "\n",
       "  Handset Manufacturer                 Handset Type  \\\n",
       "0              Samsung   Samsung Galaxy A5 Sm-A520F   \n",
       "1              Samsung  Samsung Galaxy J5 (Sm-J530)   \n",
       "2              Samsung     Samsung Galaxy A8 (2018)   \n",
       "3                  NaN                          NaN   \n",
       "4              Samsung             Samsung Sm-G390F   \n",
       "\n",
       "   Nb of sec with 125000B < Vol DL  Nb of sec with 1250B < Vol UL < 6250B  \\\n",
       "0                              NaN                                    NaN   \n",
       "1                              NaN                                    NaN   \n",
       "2                              NaN                                    NaN   \n",
       "3                              NaN                                    NaN   \n",
       "4                              NaN                                    NaN   \n",
       "\n",
       "   Nb of sec with 31250B < Vol DL < 125000B  Nb of sec with 37500B < Vol UL  \\\n",
       "0                                       NaN                             NaN   \n",
       "1                                       NaN                             NaN   \n",
       "2                                       NaN                             NaN   \n",
       "3                                       NaN                             NaN   \n",
       "4                                       NaN                             NaN   \n",
       "\n",
       "   Nb of sec with 6250B < Vol DL < 31250B  \\\n",
       "0                                     NaN   \n",
       "1                                     NaN   \n",
       "2                                     NaN   \n",
       "3                                     NaN   \n",
       "4                                     NaN   \n",
       "\n",
       "   Nb of sec with 6250B < Vol UL < 37500B  Nb of sec with Vol DL < 6250B  \\\n",
       "0                                     NaN                          213.0   \n",
       "1                                     NaN                          971.0   \n",
       "2                                     NaN                          751.0   \n",
       "3                                     NaN                           17.0   \n",
       "4                                     NaN                          607.0   \n",
       "\n",
       "   Nb of sec with Vol UL < 1250B  Social Media DL (Bytes)  \\\n",
       "0                          214.0                1545765.0   \n",
       "1                         1022.0                1926113.0   \n",
       "2                          695.0                1684053.0   \n",
       "3                          207.0                 644121.0   \n",
       "4                          604.0                 862600.0   \n",
       "\n",
       "   Social Media UL (Bytes)  Google DL (Bytes)  Google UL (Bytes)  \\\n",
       "0                  24420.0          1634479.0          1271433.0   \n",
       "1                   7165.0          3493924.0           920172.0   \n",
       "2                  42224.0          8535055.0          1694064.0   \n",
       "3                  13372.0          9023734.0          2788027.0   \n",
       "4                  50188.0          6248284.0          1500559.0   \n",
       "\n",
       "   Email DL (Bytes)  Email UL (Bytes)  Youtube DL (Bytes)  Youtube UL (Bytes)  \\\n",
       "0         3563542.0          137762.0          15854611.0           2501332.0   \n",
       "1          629046.0          308339.0          20247396.0          19111728.0   \n",
       "2         2690151.0          672973.0          19725660.0          14699576.0   \n",
       "3         1439754.0          631229.0          21388122.0          15146643.0   \n",
       "4         1936496.0          173853.0          15259380.0          18962872.0   \n",
       "\n",
       "   Netflix DL (Bytes)  Netflix UL (Bytes)  Gaming DL (Bytes)  \\\n",
       "0           8198936.0           9656251.0        278082304.0   \n",
       "1          18338412.0          17227132.0        608750080.0   \n",
       "2          17587794.0           6163408.0        229584624.0   \n",
       "3          13994646.0           1097942.0        799538176.0   \n",
       "4          17124580.0            415218.0        527707264.0   \n",
       "\n",
       "   Gaming UL (Bytes)  Other DL (Bytes)  Other UL (Bytes)  Total UL (Bytes)  \\\n",
       "0         14344150.0       171744448.0         8814393.0        36749740.0   \n",
       "1          1170709.0       526904224.0        15055145.0        53800392.0   \n",
       "2           395630.0       410692576.0         4215763.0        27883638.0   \n",
       "3         10849722.0       749039936.0        12797283.0        43324216.0   \n",
       "4          3529801.0       550709504.0        13910322.0        38542816.0   \n",
       "\n",
       "   Total DL (Bytes)  \n",
       "0       308879648.0  \n",
       "1       653384960.0  \n",
       "2       279807328.0  \n",
       "3       846028544.0  \n",
       "4       569138560.0  "
      ],
      "text/html": "<div>\n<style scoped>\n    .dataframe tbody tr th:only-of-type {\n        vertical-align: middle;\n    }\n\n    .dataframe tbody tr th {\n        vertical-align: top;\n    }\n\n    .dataframe thead th {\n        text-align: right;\n    }\n</style>\n<table border=\"1\" class=\"dataframe\">\n  <thead>\n    <tr style=\"text-align: right;\">\n      <th></th>\n      <th>Bearer Id</th>\n      <th>Start</th>\n      <th>Start ms</th>\n      <th>End</th>\n      <th>End ms</th>\n      <th>Dur. (ms)</th>\n      <th>IMSI</th>\n      <th>MSISDN/Number</th>\n      <th>IMEI</th>\n      <th>Last Location Name</th>\n      <th>Avg RTT DL (ms)</th>\n      <th>Avg RTT UL (ms)</th>\n      <th>Avg Bearer TP DL (kbps)</th>\n      <th>Avg Bearer TP UL (kbps)</th>\n      <th>TCP DL Retrans. Vol (Bytes)</th>\n      <th>TCP UL Retrans. Vol (Bytes)</th>\n      <th>DL TP &lt; 50 Kbps (%)</th>\n      <th>50 Kbps &lt; DL TP &lt; 250 Kbps (%)</th>\n      <th>250 Kbps &lt; DL TP &lt; 1 Mbps (%)</th>\n      <th>DL TP &gt; 1 Mbps (%)</th>\n      <th>UL TP &lt; 10 Kbps (%)</th>\n      <th>10 Kbps &lt; UL TP &lt; 50 Kbps (%)</th>\n      <th>50 Kbps &lt; UL TP &lt; 300 Kbps (%)</th>\n      <th>UL TP &gt; 300 Kbps (%)</th>\n      <th>HTTP DL (Bytes)</th>\n      <th>HTTP UL (Bytes)</th>\n      <th>Activity Duration DL (ms)</th>\n      <th>Activity Duration UL (ms)</th>\n      <th>Dur. (ms).1</th>\n      <th>Handset Manufacturer</th>\n      <th>Handset Type</th>\n      <th>Nb of sec with 125000B &lt; Vol DL</th>\n      <th>Nb of sec with 1250B &lt; Vol UL &lt; 6250B</th>\n      <th>Nb of sec with 31250B &lt; Vol DL &lt; 125000B</th>\n      <th>Nb of sec with 37500B &lt; Vol UL</th>\n      <th>Nb of sec with 6250B &lt; Vol DL &lt; 31250B</th>\n      <th>Nb of sec with 6250B &lt; Vol UL &lt; 37500B</th>\n      <th>Nb of sec with Vol DL &lt; 6250B</th>\n      <th>Nb of sec with Vol UL &lt; 1250B</th>\n      <th>Social Media DL (Bytes)</th>\n      <th>Social Media UL (Bytes)</th>\n      <th>Google DL (Bytes)</th>\n      <th>Google UL (Bytes)</th>\n      <th>Email DL (Bytes)</th>\n      <th>Email UL (Bytes)</th>\n      <th>Youtube DL (Bytes)</th>\n      <th>Youtube UL (Bytes)</th>\n      <th>Netflix DL (Bytes)</th>\n      <th>Netflix UL (Bytes)</th>\n      <th>Gaming DL (Bytes)</th>\n      <th>Gaming UL (Bytes)</th>\n      <th>Other DL (Bytes)</th>\n      <th>Other UL (Bytes)</th>\n      <th>Total UL (Bytes)</th>\n      <th>Total DL (Bytes)</th>\n    </tr>\n  </thead>\n  <tbody>\n    <tr>\n      <th>0</th>\n      <td>13114483460844900352</td>\n      <td>2019-04-04 12:01:18</td>\n      <td>770.0</td>\n      <td>2019-04-25 14:35:31</td>\n      <td>662.0</td>\n      <td>1823652.0</td>\n      <td>2.082014e+14</td>\n      <td>3.366496e+10</td>\n      <td>3.552121e+13</td>\n      <td>9164566995485190</td>\n      <td>42.0</td>\n      <td>5.0</td>\n      <td>23.0</td>\n      <td>44.0</td>\n      <td>NaN</td>\n      <td>NaN</td>\n      <td>100.0</td>\n      <td>0.0</td>\n      <td>0.0</td>\n      <td>0.0</td>\n      <td>100.0</td>\n      <td>0.0</td>\n      <td>0.0</td>\n      <td>0.0</td>\n      <td>NaN</td>\n      <td>NaN</td>\n      <td>37624.0</td>\n      <td>38787.0</td>\n      <td>1.823653e+09</td>\n      <td>Samsung</td>\n      <td>Samsung Galaxy A5 Sm-A520F</td>\n      <td>NaN</td>\n      <td>NaN</td>\n      <td>NaN</td>\n      <td>NaN</td>\n      <td>NaN</td>\n      <td>NaN</td>\n      <td>213.0</td>\n      <td>214.0</td>\n      <td>1545765.0</td>\n      <td>24420.0</td>\n      <td>1634479.0</td>\n      <td>1271433.0</td>\n      <td>3563542.0</td>\n      <td>137762.0</td>\n      <td>15854611.0</td>\n      <td>2501332.0</td>\n      <td>8198936.0</td>\n      <td>9656251.0</td>\n      <td>278082304.0</td>\n      <td>14344150.0</td>\n      <td>171744448.0</td>\n      <td>8814393.0</td>\n      <td>36749740.0</td>\n      <td>308879648.0</td>\n    </tr>\n    <tr>\n      <th>1</th>\n      <td>13114483482878900224</td>\n      <td>2019-04-09 13:04:04</td>\n      <td>235.0</td>\n      <td>2019-04-25 08:15:48</td>\n      <td>606.0</td>\n      <td>1365104.0</td>\n      <td>2.082019e+14</td>\n      <td>3.368185e+10</td>\n      <td>3.579401e+13</td>\n      <td>L77566A</td>\n      <td>65.0</td>\n      <td>5.0</td>\n      <td>16.0</td>\n      <td>26.0</td>\n      <td>NaN</td>\n      <td>NaN</td>\n      <td>100.0</td>\n      <td>0.0</td>\n      <td>0.0</td>\n      <td>0.0</td>\n      <td>100.0</td>\n      <td>0.0</td>\n      <td>0.0</td>\n      <td>0.0</td>\n      <td>NaN</td>\n      <td>NaN</td>\n      <td>168.0</td>\n      <td>3560.0</td>\n      <td>1.365104e+09</td>\n      <td>Samsung</td>\n      <td>Samsung Galaxy J5 (Sm-J530)</td>\n      <td>NaN</td>\n      <td>NaN</td>\n      <td>NaN</td>\n      <td>NaN</td>\n      <td>NaN</td>\n      <td>NaN</td>\n      <td>971.0</td>\n      <td>1022.0</td>\n      <td>1926113.0</td>\n      <td>7165.0</td>\n      <td>3493924.0</td>\n      <td>920172.0</td>\n      <td>629046.0</td>\n      <td>308339.0</td>\n      <td>20247396.0</td>\n      <td>19111728.0</td>\n      <td>18338412.0</td>\n      <td>17227132.0</td>\n      <td>608750080.0</td>\n      <td>1170709.0</td>\n      <td>526904224.0</td>\n      <td>15055145.0</td>\n      <td>53800392.0</td>\n      <td>653384960.0</td>\n    </tr>\n    <tr>\n      <th>2</th>\n      <td>13114483484080500736</td>\n      <td>2019-04-09 17:42:11</td>\n      <td>1.0</td>\n      <td>2019-04-25 11:58:13</td>\n      <td>652.0</td>\n      <td>1361762.0</td>\n      <td>2.082003e+14</td>\n      <td>3.376063e+10</td>\n      <td>3.528151e+13</td>\n      <td>D42335A</td>\n      <td>NaN</td>\n      <td>NaN</td>\n      <td>6.0</td>\n      <td>9.0</td>\n      <td>NaN</td>\n      <td>NaN</td>\n      <td>100.0</td>\n      <td>0.0</td>\n      <td>0.0</td>\n      <td>0.0</td>\n      <td>100.0</td>\n      <td>0.0</td>\n      <td>0.0</td>\n      <td>0.0</td>\n      <td>NaN</td>\n      <td>NaN</td>\n      <td>0.0</td>\n      <td>0.0</td>\n      <td>1.361763e+09</td>\n      <td>Samsung</td>\n      <td>Samsung Galaxy A8 (2018)</td>\n      <td>NaN</td>\n      <td>NaN</td>\n      <td>NaN</td>\n      <td>NaN</td>\n      <td>NaN</td>\n      <td>NaN</td>\n      <td>751.0</td>\n      <td>695.0</td>\n      <td>1684053.0</td>\n      <td>42224.0</td>\n      <td>8535055.0</td>\n      <td>1694064.0</td>\n      <td>2690151.0</td>\n      <td>672973.0</td>\n      <td>19725660.0</td>\n      <td>14699576.0</td>\n      <td>17587794.0</td>\n      <td>6163408.0</td>\n      <td>229584624.0</td>\n      <td>395630.0</td>\n      <td>410692576.0</td>\n      <td>4215763.0</td>\n      <td>27883638.0</td>\n      <td>279807328.0</td>\n    </tr>\n    <tr>\n      <th>3</th>\n      <td>13114483485442799616</td>\n      <td>2019-04-10 00:31:25</td>\n      <td>486.0</td>\n      <td>2019-04-25 07:36:35</td>\n      <td>171.0</td>\n      <td>1321509.0</td>\n      <td>2.082014e+14</td>\n      <td>3.375034e+10</td>\n      <td>3.535661e+13</td>\n      <td>T21824A</td>\n      <td>NaN</td>\n      <td>NaN</td>\n      <td>44.0</td>\n      <td>44.0</td>\n      <td>NaN</td>\n      <td>NaN</td>\n      <td>100.0</td>\n      <td>0.0</td>\n      <td>0.0</td>\n      <td>0.0</td>\n      <td>100.0</td>\n      <td>0.0</td>\n      <td>0.0</td>\n      <td>0.0</td>\n      <td>NaN</td>\n      <td>NaN</td>\n      <td>3330.0</td>\n      <td>37882.0</td>\n      <td>1.321510e+09</td>\n      <td>NaN</td>\n      <td>NaN</td>\n      <td>NaN</td>\n      <td>NaN</td>\n      <td>NaN</td>\n      <td>NaN</td>\n      <td>NaN</td>\n      <td>NaN</td>\n      <td>17.0</td>\n      <td>207.0</td>\n      <td>644121.0</td>\n      <td>13372.0</td>\n      <td>9023734.0</td>\n      <td>2788027.0</td>\n      <td>1439754.0</td>\n      <td>631229.0</td>\n      <td>21388122.0</td>\n      <td>15146643.0</td>\n      <td>13994646.0</td>\n      <td>1097942.0</td>\n      <td>799538176.0</td>\n      <td>10849722.0</td>\n      <td>749039936.0</td>\n      <td>12797283.0</td>\n      <td>43324216.0</td>\n      <td>846028544.0</td>\n    </tr>\n    <tr>\n      <th>4</th>\n      <td>13114483499480700928</td>\n      <td>2019-04-12 20:10:23</td>\n      <td>565.0</td>\n      <td>2019-04-25 10:40:32</td>\n      <td>954.0</td>\n      <td>1089009.0</td>\n      <td>2.082014e+14</td>\n      <td>3.369979e+10</td>\n      <td>3.540701e+13</td>\n      <td>D88865A</td>\n      <td>NaN</td>\n      <td>NaN</td>\n      <td>6.0</td>\n      <td>9.0</td>\n      <td>NaN</td>\n      <td>NaN</td>\n      <td>100.0</td>\n      <td>0.0</td>\n      <td>0.0</td>\n      <td>0.0</td>\n      <td>100.0</td>\n      <td>0.0</td>\n      <td>0.0</td>\n      <td>0.0</td>\n      <td>NaN</td>\n      <td>NaN</td>\n      <td>0.0</td>\n      <td>0.0</td>\n      <td>1.089009e+09</td>\n      <td>Samsung</td>\n      <td>Samsung Sm-G390F</td>\n      <td>NaN</td>\n      <td>NaN</td>\n      <td>NaN</td>\n      <td>NaN</td>\n      <td>NaN</td>\n      <td>NaN</td>\n      <td>607.0</td>\n      <td>604.0</td>\n      <td>862600.0</td>\n      <td>50188.0</td>\n      <td>6248284.0</td>\n      <td>1500559.0</td>\n      <td>1936496.0</td>\n      <td>173853.0</td>\n      <td>15259380.0</td>\n      <td>18962872.0</td>\n      <td>17124580.0</td>\n      <td>415218.0</td>\n      <td>527707264.0</td>\n      <td>3529801.0</td>\n      <td>550709504.0</td>\n      <td>13910322.0</td>\n      <td>38542816.0</td>\n      <td>569138560.0</td>\n    </tr>\n  </tbody>\n</table>\n</div>"
     },
     "metadata": {},
     "execution_count": 5
    }
   ],
   "source": [
    "telData = load_df_from_excel(\"../data/teleCo_data.xlsx\", na_values=['undefined'])\n",
    "pd.set_option('max_column', None)\n",
    "telData.head()"
   ]
  },
  {
   "source": [
    "### Guidance Sub-tasks"
   ],
   "cell_type": "markdown",
   "metadata": {}
  },
  {
   "source": [
    "#### Top 10 Handsets used by customers"
   ],
   "cell_type": "markdown",
   "metadata": {}
  },
  {
   "cell_type": "code",
   "execution_count": 34,
   "metadata": {},
   "outputs": [
    {
     "output_type": "execute_result",
     "data": {
      "text/plain": [
       "Huawei B528S-23A                19752\n",
       "Apple iPhone 6S (A1688)          9419\n",
       "Apple iPhone 6 (A1586)           9023\n",
       "Apple iPhone 7 (A1778)           6326\n",
       "Apple iPhone Se (A1723)          5187\n",
       "Apple iPhone 8 (A1905)           4993\n",
       "Apple iPhone Xr (A2105)          4568\n",
       "Samsung Galaxy S8 (Sm-G950F)     4520\n",
       "Apple iPhone X (A1901)           3813\n",
       "Samsung Galaxy A5 Sm-A520F       3724\n",
       "Name: Handset Type, dtype: int64"
      ]
     },
     "metadata": {},
     "execution_count": 34
    }
   ],
   "source": [
    "hand_set = telData['Handset Type'].value_counts()[:10]\n",
    "hand_set"
   ]
  },
  {
   "source": [
    "#### Top 3 Handset Manufacturers"
   ],
   "cell_type": "markdown",
   "metadata": {}
  },
  {
   "cell_type": "code",
   "execution_count": 32,
   "metadata": {},
   "outputs": [
    {
     "output_type": "execute_result",
     "data": {
      "text/plain": [
       "Apple      59565\n",
       "Samsung    40839\n",
       "Huawei     34423\n",
       "Name: Handset Manufacturer, dtype: int64"
      ]
     },
     "metadata": {},
     "execution_count": 32
    }
   ],
   "source": [
    "hand_set_manuf = telData['Handset Manufacturer'].value_counts()[:3]\n",
    "hand_set_manuf\n"
   ]
  },
  {
   "source": [
    "#### Top 5 Handset per top 3 Handset Manufacturer"
   ],
   "cell_type": "markdown",
   "metadata": {}
  },
  {
   "cell_type": "code",
   "execution_count": 115,
   "metadata": {},
   "outputs": [
    {
     "output_type": "execute_result",
     "data": {
      "text/plain": [
       "Huawei B528S-23A           19752\n",
       "Apple iPhone 6S (A1688)     9419\n",
       "Apple iPhone 6 (A1586)      9023\n",
       "Apple iPhone 7 (A1778)      6326\n",
       "Apple iPhone Se (A1723)     5187\n",
       "dtype: int64"
      ]
     },
     "metadata": {},
     "execution_count": 115
    }
   ],
   "source": [
    "new_df = telData.loc[:,['Handset Type','Handset Manufacturer']]\r\n",
    "value = new_df.groupby(['Handset Manufacturer', 'Handset Type']).size()\r\n",
    "total_list = pd.Series(dtype='object')\r\n",
    "for i in hand_set_manuf.index:\r\n",
    "    total_list = total_list.append(value[i])\r\n",
    "total_list.sort_values(ascending=False)[:5]"
   ]
  },
  {
   "source": [
    "#### Interpretation and Recommendation"
   ],
   "cell_type": "markdown",
   "metadata": {}
  },
  {
   "source": [
    "The phones widely used in the network are manufactured by the Apple, Samsung and Huawei, contributing for 164,827 users. The most used phone is Hwawei B528S-23A covering 19752 of the phones followed by Apple iPhpone 6S, 6, 7 and Se. The Huawei B528S-23A is favoured by users, so we know that selling similar Huawei phones, make promotions on its newer version if it comes and selling the same phone are profitable. We also can infer that iPhones are the next widely used phones and can implement similar marketing or business ideas to them as well. "
   ],
   "cell_type": "markdown",
   "metadata": {}
  },
  {
   "source": [
    "## Variable Identification"
   ],
   "cell_type": "markdown",
   "metadata": {}
  },
  {
   "source": [
    "For better understanding of the columns, exploring the data description [here](https://docs.google.com/spreadsheets/d/1pcNqeUeIph6xAQzlI54KCvi8HM91SUNeeDbdOq3rvbE/edit?usp=sharing) will help"
   ],
   "cell_type": "markdown",
   "metadata": {}
  },
  {
   "source": [
    "## Data Understanding"
   ],
   "cell_type": "markdown",
   "metadata": {}
  },
  {
   "cell_type": "code",
   "execution_count": 6,
   "metadata": {},
   "outputs": [],
   "source": [
    "from data_information import DataInfo\n",
    "explorer = DataInfo(telData)"
   ]
  },
  {
   "cell_type": "code",
   "execution_count": 7,
   "metadata": {},
   "outputs": [
    {
     "output_type": "stream",
     "name": "stdout",
     "text": [
      "Columns Listed in the DataFrame are: \n"
     ]
    },
    {
     "output_type": "execute_result",
     "data": {
      "text/plain": [
       "['Bearer Id',\n",
       " 'Start',\n",
       " 'Start ms',\n",
       " 'End',\n",
       " 'End ms',\n",
       " 'Dur. (ms)',\n",
       " 'IMSI',\n",
       " 'MSISDN/Number',\n",
       " 'IMEI',\n",
       " 'Last Location Name',\n",
       " 'Avg RTT DL (ms)',\n",
       " 'Avg RTT UL (ms)',\n",
       " 'Avg Bearer TP DL (kbps)',\n",
       " 'Avg Bearer TP UL (kbps)',\n",
       " 'TCP DL Retrans. Vol (Bytes)',\n",
       " 'TCP UL Retrans. Vol (Bytes)',\n",
       " 'DL TP < 50 Kbps (%)',\n",
       " '50 Kbps < DL TP < 250 Kbps (%)',\n",
       " '250 Kbps < DL TP < 1 Mbps (%)',\n",
       " 'DL TP > 1 Mbps (%)',\n",
       " 'UL TP < 10 Kbps (%)',\n",
       " '10 Kbps < UL TP < 50 Kbps (%)',\n",
       " '50 Kbps < UL TP < 300 Kbps (%)',\n",
       " 'UL TP > 300 Kbps (%)',\n",
       " 'HTTP DL (Bytes)',\n",
       " 'HTTP UL (Bytes)',\n",
       " 'Activity Duration DL (ms)',\n",
       " 'Activity Duration UL (ms)',\n",
       " 'Dur. (ms).1',\n",
       " 'Handset Manufacturer',\n",
       " 'Handset Type',\n",
       " 'Nb of sec with 125000B < Vol DL',\n",
       " 'Nb of sec with 1250B < Vol UL < 6250B',\n",
       " 'Nb of sec with 31250B < Vol DL < 125000B',\n",
       " 'Nb of sec with 37500B < Vol UL',\n",
       " 'Nb of sec with 6250B < Vol DL < 31250B',\n",
       " 'Nb of sec with 6250B < Vol UL < 37500B',\n",
       " 'Nb of sec with Vol DL < 6250B',\n",
       " 'Nb of sec with Vol UL < 1250B',\n",
       " 'Social Media DL (Bytes)',\n",
       " 'Social Media UL (Bytes)',\n",
       " 'Google DL (Bytes)',\n",
       " 'Google UL (Bytes)',\n",
       " 'Email DL (Bytes)',\n",
       " 'Email UL (Bytes)',\n",
       " 'Youtube DL (Bytes)',\n",
       " 'Youtube UL (Bytes)',\n",
       " 'Netflix DL (Bytes)',\n",
       " 'Netflix UL (Bytes)',\n",
       " 'Gaming DL (Bytes)',\n",
       " 'Gaming UL (Bytes)',\n",
       " 'Other DL (Bytes)',\n",
       " 'Other UL (Bytes)',\n",
       " 'Total UL (Bytes)',\n",
       " 'Total DL (Bytes)']"
      ]
     },
     "metadata": {},
     "execution_count": 7
    }
   ],
   "source": [
    "explorer.get_columns()"
   ]
  },
  {
   "cell_type": "code",
   "execution_count": 8,
   "metadata": {},
   "outputs": [
    {
     "output_type": "stream",
     "name": "stdout",
     "text": [
      "The DataFrame containes 150001 rows and 55 columns.\nCurrent DataFrame Memory Usage:\n68672543\nCurrent DataFrame Memory Usage of columns is :\nDataFrame Information: \n<class 'pandas.core.frame.DataFrame'>\nRangeIndex: 150001 entries, 0 to 150000\nData columns (total 55 columns):\n #   Column                                    Non-Null Count   Dtype         \n---  ------                                    --------------   -----         \n 0   Bearer Id                                 150001 non-null  object        \n 1   Start                                     150000 non-null  datetime64[ns]\n 2   Start ms                                  150000 non-null  float32       \n 3   End                                       150000 non-null  datetime64[ns]\n 4   End ms                                    150000 non-null  float32       \n 5   Dur. (ms)                                 150000 non-null  float32       \n 6   IMSI                                      149431 non-null  float32       \n 7   MSISDN/Number                             148935 non-null  float32       \n 8   IMEI                                      149429 non-null  float32       \n 9   Last Location Name                        148848 non-null  object        \n 10  Avg RTT DL (ms)                           122172 non-null  float32       \n 11  Avg RTT UL (ms)                           122189 non-null  float32       \n 12  Avg Bearer TP DL (kbps)                   150000 non-null  float32       \n 13  Avg Bearer TP UL (kbps)                   150000 non-null  float32       \n 14  TCP DL Retrans. Vol (Bytes)               61855 non-null   float32       \n 15  TCP UL Retrans. Vol (Bytes)               53352 non-null   float32       \n 16  DL TP < 50 Kbps (%)                       149247 non-null  float32       \n 17  50 Kbps < DL TP < 250 Kbps (%)            149247 non-null  float32       \n 18  250 Kbps < DL TP < 1 Mbps (%)             149247 non-null  float32       \n 19  DL TP > 1 Mbps (%)                        149247 non-null  float32       \n 20  UL TP < 10 Kbps (%)                       149209 non-null  float32       \n 21  10 Kbps < UL TP < 50 Kbps (%)             149209 non-null  float32       \n 22  50 Kbps < UL TP < 300 Kbps (%)            149209 non-null  float32       \n 23  UL TP > 300 Kbps (%)                      149209 non-null  float32       \n 24  HTTP DL (Bytes)                           68527 non-null   float32       \n 25  HTTP UL (Bytes)                           68191 non-null   float32       \n 26  Activity Duration DL (ms)                 150000 non-null  float32       \n 27  Activity Duration UL (ms)                 150000 non-null  float32       \n 28  Dur. (ms).1                               150000 non-null  float32       \n 29  Handset Manufacturer                      140442 non-null  object        \n 30  Handset Type                              140442 non-null  object        \n 31  Nb of sec with 125000B < Vol DL           52463 non-null   float32       \n 32  Nb of sec with 1250B < Vol UL < 6250B     57107 non-null   float32       \n 33  Nb of sec with 31250B < Vol DL < 125000B  56415 non-null   float32       \n 34  Nb of sec with 37500B < Vol UL            19747 non-null   float32       \n 35  Nb of sec with 6250B < Vol DL < 31250B    61684 non-null   float32       \n 36  Nb of sec with 6250B < Vol UL < 37500B    38158 non-null   float32       \n 37  Nb of sec with Vol DL < 6250B             149246 non-null  float32       \n 38  Nb of sec with Vol UL < 1250B             149208 non-null  float32       \n 39  Social Media DL (Bytes)                   150001 non-null  float32       \n 40  Social Media UL (Bytes)                   150001 non-null  float32       \n 41  Google DL (Bytes)                         150001 non-null  float32       \n 42  Google UL (Bytes)                         150001 non-null  float32       \n 43  Email DL (Bytes)                          150001 non-null  float32       \n 44  Email UL (Bytes)                          150001 non-null  float32       \n 45  Youtube DL (Bytes)                        150001 non-null  float32       \n 46  Youtube UL (Bytes)                        150001 non-null  float32       \n 47  Netflix DL (Bytes)                        150001 non-null  float32       \n 48  Netflix UL (Bytes)                        150001 non-null  float32       \n 49  Gaming DL (Bytes)                         150001 non-null  float32       \n 50  Gaming UL (Bytes)                         150001 non-null  float32       \n 51  Other DL (Bytes)                          150001 non-null  float32       \n 52  Other UL (Bytes)                          150001 non-null  float32       \n 53  Total UL (Bytes)                          150000 non-null  float32       \n 54  Total DL (Bytes)                          150000 non-null  float32       \ndtypes: datetime64[ns](2), float32(49), object(4)\nmemory usage: 34.9+ MB\n"
     ]
    }
   ],
   "source": [
    "explorer.get_basic_description()"
   ]
  },
  {
   "cell_type": "code",
   "execution_count": 9,
   "metadata": {},
   "outputs": [
    {
     "output_type": "stream",
     "name": "stdout",
     "text": [
      "DataFrame Description: \n"
     ]
    },
    {
     "output_type": "execute_result",
     "data": {
      "text/plain": [
       "            Start ms         End ms     Dur. (ms)          IMSI  \\\n",
       "count  150000.000000  150000.000000  1.500000e+05  1.494310e+05   \n",
       "mean      499.188263     498.800903  1.046086e+05  2.082016e+14   \n",
       "std       288.611816     288.097656  8.103762e+04  2.148807e+10   \n",
       "min         0.000000       0.000000  7.142000e+03  2.040471e+14   \n",
       "25%       250.000000     251.000000  5.744050e+04  2.082014e+14   \n",
       "50%       499.000000     500.000000  8.639900e+04  2.082015e+14   \n",
       "75%       749.000000     750.000000  1.324302e+05  2.082018e+14   \n",
       "max       999.000000     999.000000  1.859336e+06  2.140743e+14   \n",
       "\n",
       "       MSISDN/Number          IMEI  Avg RTT DL (ms)  Avg RTT UL (ms)  \\\n",
       "count   1.489350e+05  1.494290e+05    122172.000000    122189.000000   \n",
       "mean    4.188282e+10  4.847454e+13       109.795708        17.662884   \n",
       "std     2.447443e+12  2.241637e+13       619.782715        84.793526   \n",
       "min     3.360100e+10  4.400152e+11         0.000000         0.000000   \n",
       "25%     3.365129e+10  3.546071e+13        32.000000         2.000000   \n",
       "50%     3.366371e+10  3.572201e+13        45.000000         5.000000   \n",
       "75%     3.368349e+10  8.611971e+13        70.000000        15.000000   \n",
       "max     8.823971e+14  9.900120e+13     96923.000000      7120.000000   \n",
       "\n",
       "       Avg Bearer TP DL (kbps)  Avg Bearer TP UL (kbps)  \\\n",
       "count            150000.000000            150000.000000   \n",
       "mean              13300.045898              1770.428589   \n",
       "std               23971.878906              4625.355469   \n",
       "min                   0.000000                 0.000000   \n",
       "25%                  43.000000                47.000000   \n",
       "50%                  63.000000                63.000000   \n",
       "75%               19710.750000              1120.000000   \n",
       "max              378160.000000             58613.000000   \n",
       "\n",
       "       TCP DL Retrans. Vol (Bytes)  TCP UL Retrans. Vol (Bytes)  \\\n",
       "count                 6.185500e+04                 5.335200e+04   \n",
       "mean                  2.080991e+07                 7.596587e+05   \n",
       "std                   1.825665e+08                 2.645305e+07   \n",
       "min                   2.000000e+00                 1.000000e+00   \n",
       "25%                   3.565150e+04                 4.694750e+03   \n",
       "50%                   5.687300e+05                 2.094950e+04   \n",
       "75%                   3.768308e+06                 8.402025e+04   \n",
       "max                   4.294426e+09                 2.908226e+09   \n",
       "\n",
       "       DL TP < 50 Kbps (%)  50 Kbps < DL TP < 250 Kbps (%)  \\\n",
       "count        149247.000000                   149247.000000   \n",
       "mean             92.844757                        3.069355   \n",
       "std              13.038032                        6.215232   \n",
       "min               0.000000                        0.000000   \n",
       "25%              91.000000                        0.000000   \n",
       "50%             100.000000                        0.000000   \n",
       "75%             100.000000                        4.000000   \n",
       "max             100.000000                       93.000000   \n",
       "\n",
       "       250 Kbps < DL TP < 1 Mbps (%)  DL TP > 1 Mbps (%)  UL TP < 10 Kbps (%)  \\\n",
       "count                  149247.000000       149247.000000        149209.000000   \n",
       "mean                        1.717341            1.609654            98.530144   \n",
       "std                         4.159538            4.828890             4.634285   \n",
       "min                         0.000000            0.000000             0.000000   \n",
       "25%                         0.000000            0.000000            99.000000   \n",
       "50%                         0.000000            0.000000           100.000000   \n",
       "75%                         1.000000            0.000000           100.000000   \n",
       "max                       100.000000           94.000000           100.000000   \n",
       "\n",
       "       10 Kbps < UL TP < 50 Kbps (%)  50 Kbps < UL TP < 300 Kbps (%)  \\\n",
       "count                  149209.000000                   149209.000000   \n",
       "mean                        0.776749                        0.147987   \n",
       "std                         3.225177                        1.624523   \n",
       "min                         0.000000                        0.000000   \n",
       "25%                         0.000000                        0.000000   \n",
       "50%                         0.000000                        0.000000   \n",
       "75%                         0.000000                        0.000000   \n",
       "max                        98.000000                      100.000000   \n",
       "\n",
       "       UL TP > 300 Kbps (%)  HTTP DL (Bytes)  HTTP UL (Bytes)  \\\n",
       "count         149209.000000     6.852700e+04     6.819100e+04   \n",
       "mean               0.078923     1.144710e+08     3.242301e+06   \n",
       "std                1.295396     9.631946e+08     1.957064e+07   \n",
       "min                0.000000     4.000000e+01     4.000000e+01   \n",
       "25%                0.000000     1.124035e+05     2.432200e+04   \n",
       "50%                0.000000     1.941949e+06     2.297330e+05   \n",
       "75%                0.000000     2.504290e+07     1.542827e+06   \n",
       "max               96.000000     7.253063e+10     1.491890e+09   \n",
       "\n",
       "       Activity Duration DL (ms)  Activity Duration UL (ms)   Dur. (ms).1  \\\n",
       "count               1.500000e+05               1.500000e+05  1.500000e+05   \n",
       "mean                1.829177e+06               1.408880e+06  1.046091e+08   \n",
       "std                 5.696396e+06               4.643230e+06  8.103762e+07   \n",
       "min                 0.000000e+00               0.000000e+00  7.142988e+06   \n",
       "25%                 1.487775e+04               2.153975e+04  5.744078e+07   \n",
       "50%                 3.930450e+04               4.679350e+04  8.639998e+07   \n",
       "75%                 6.796095e+05               5.990952e+05  1.324308e+08   \n",
       "max                 1.365365e+08               1.449113e+08  1.859336e+09   \n",
       "\n",
       "       Nb of sec with 125000B < Vol DL  Nb of sec with 1250B < Vol UL < 6250B  \\\n",
       "count                     52463.000000                           57107.000000   \n",
       "mean                        989.699890                             340.434418   \n",
       "std                        2546.524414                            1445.364990   \n",
       "min                           1.000000                               1.000000   \n",
       "25%                          20.000000                              10.000000   \n",
       "50%                         128.000000                              52.000000   \n",
       "75%                         693.500000                             203.000000   \n",
       "max                       81476.000000                           85412.000000   \n",
       "\n",
       "       Nb of sec with 31250B < Vol DL < 125000B  \\\n",
       "count                              56415.000000   \n",
       "mean                                 810.837341   \n",
       "std                                 1842.161987   \n",
       "min                                    1.000000   \n",
       "25%                                   26.000000   \n",
       "50%                                  164.000000   \n",
       "75%                                  757.000000   \n",
       "max                                58525.000000   \n",
       "\n",
       "       Nb of sec with 37500B < Vol UL  Nb of sec with 6250B < Vol DL < 31250B  \\\n",
       "count                    19747.000000                            61684.000000   \n",
       "mean                       149.257050                              965.464783   \n",
       "std                       1219.112305                             1946.387573   \n",
       "min                          1.000000                                1.000000   \n",
       "25%                          2.000000                               39.000000   \n",
       "50%                          8.000000                              288.000000   \n",
       "75%                         35.000000                             1092.000000   \n",
       "max                      50553.000000                            66913.000000   \n",
       "\n",
       "       Nb of sec with 6250B < Vol UL < 37500B  Nb of sec with Vol DL < 6250B  \\\n",
       "count                             38158.00000                  149246.000000   \n",
       "mean                                141.30481                    3719.787842   \n",
       "std                                 993.34967                    9171.608398   \n",
       "min                                   1.00000                       1.000000   \n",
       "25%                                   3.00000                      87.000000   \n",
       "50%                                   8.00000                     203.000000   \n",
       "75%                                  31.00000                    2650.000000   \n",
       "max                               49565.00000                  604061.000000   \n",
       "\n",
       "       Nb of sec with Vol UL < 1250B  Social Media DL (Bytes)  \\\n",
       "count                  149208.000000                150001.00   \n",
       "mean                     4022.083008               1795321.75   \n",
       "std                     10160.324219               1035482.25   \n",
       "min                         1.000000                    12.00   \n",
       "25%                       106.000000                899148.00   \n",
       "50%                       217.000000               1794369.00   \n",
       "75%                      2451.000000               2694938.00   \n",
       "max                    604122.000000               3586064.00   \n",
       "\n",
       "       Social Media UL (Bytes)  Google DL (Bytes)  Google UL (Bytes)  \\\n",
       "count            150001.000000           150001.0         150001.000   \n",
       "mean              32928.433594          5750752.0        2056541.625   \n",
       "std               19006.177734          3309097.0        1189916.875   \n",
       "min                   0.000000              207.0              3.000   \n",
       "25%               16448.000000          2882393.0        1024279.000   \n",
       "50%               32920.000000          5765829.0        2054573.000   \n",
       "75%               49334.000000          8623552.0        3088454.000   \n",
       "max               65870.000000         11462832.0        4121357.000   \n",
       "\n",
       "       Email DL (Bytes)  Email UL (Bytes)  Youtube DL (Bytes)  \\\n",
       "count        150001.000      150001.00000            150001.0   \n",
       "mean        1791728.875      467373.46875          11634072.0   \n",
       "std         1035839.500      269969.31250           6710569.0   \n",
       "min              14.000           2.00000                53.0   \n",
       "25%          892793.000      233383.00000           5833501.0   \n",
       "50%         1793505.000      466250.00000          11616019.0   \n",
       "75%         2689327.000      700440.00000          17448518.0   \n",
       "max         3586146.000      936418.00000          23259098.0   \n",
       "\n",
       "       Youtube UL (Bytes)  Netflix DL (Bytes)  Netflix UL (Bytes)  \\\n",
       "count            150001.0            150001.0            150001.0   \n",
       "mean           11009408.0          11626851.0          11001756.0   \n",
       "std             6345423.0           6725218.0           6359490.0   \n",
       "min                 105.0                42.0                35.0   \n",
       "25%             5517965.0           5777156.0           5475981.0   \n",
       "50%            11013447.0          11642217.0          10996384.0   \n",
       "75%            16515562.0          17470478.0          16507268.0   \n",
       "max            22011962.0          23259188.0          22011956.0   \n",
       "\n",
       "       Gaming DL (Bytes)  Gaming UL (Bytes)  Other DL (Bytes)  \\\n",
       "count           150001.0           150001.0          150001.0   \n",
       "mean         422044736.0          8288398.0       421100512.0   \n",
       "std          243967488.0          4782699.5       243205008.0   \n",
       "min               2516.0               59.0            3290.0   \n",
       "25%          210473248.0          4128476.0       210186880.0   \n",
       "50%          423408096.0          8291208.0       421803008.0   \n",
       "75%          633174144.0         12431624.0       631691776.0   \n",
       "max          843441920.0         16558794.0       843442496.0   \n",
       "\n",
       "       Other UL (Bytes)  Total UL (Bytes)  Total DL (Bytes)  \n",
       "count          150001.0          150000.0          150000.0  \n",
       "mean          8264799.0        41121208.0       454643424.0  \n",
       "std           4769003.5        11276387.0       244142880.0  \n",
       "min               148.0         2866892.0         7114041.0  \n",
       "25%           4145943.0        33222010.0       243106800.0  \n",
       "50%           8267071.0        41143312.0       455841088.0  \n",
       "75%          12384148.0        49034240.0       665705536.0  \n",
       "max          16558816.0        78331312.0       902969600.0  "
      ],
      "text/html": "<div>\n<style scoped>\n    .dataframe tbody tr th:only-of-type {\n        vertical-align: middle;\n    }\n\n    .dataframe tbody tr th {\n        vertical-align: top;\n    }\n\n    .dataframe thead th {\n        text-align: right;\n    }\n</style>\n<table border=\"1\" class=\"dataframe\">\n  <thead>\n    <tr style=\"text-align: right;\">\n      <th></th>\n      <th>Start ms</th>\n      <th>End ms</th>\n      <th>Dur. (ms)</th>\n      <th>IMSI</th>\n      <th>MSISDN/Number</th>\n      <th>IMEI</th>\n      <th>Avg RTT DL (ms)</th>\n      <th>Avg RTT UL (ms)</th>\n      <th>Avg Bearer TP DL (kbps)</th>\n      <th>Avg Bearer TP UL (kbps)</th>\n      <th>TCP DL Retrans. Vol (Bytes)</th>\n      <th>TCP UL Retrans. Vol (Bytes)</th>\n      <th>DL TP &lt; 50 Kbps (%)</th>\n      <th>50 Kbps &lt; DL TP &lt; 250 Kbps (%)</th>\n      <th>250 Kbps &lt; DL TP &lt; 1 Mbps (%)</th>\n      <th>DL TP &gt; 1 Mbps (%)</th>\n      <th>UL TP &lt; 10 Kbps (%)</th>\n      <th>10 Kbps &lt; UL TP &lt; 50 Kbps (%)</th>\n      <th>50 Kbps &lt; UL TP &lt; 300 Kbps (%)</th>\n      <th>UL TP &gt; 300 Kbps (%)</th>\n      <th>HTTP DL (Bytes)</th>\n      <th>HTTP UL (Bytes)</th>\n      <th>Activity Duration DL (ms)</th>\n      <th>Activity Duration UL (ms)</th>\n      <th>Dur. (ms).1</th>\n      <th>Nb of sec with 125000B &lt; Vol DL</th>\n      <th>Nb of sec with 1250B &lt; Vol UL &lt; 6250B</th>\n      <th>Nb of sec with 31250B &lt; Vol DL &lt; 125000B</th>\n      <th>Nb of sec with 37500B &lt; Vol UL</th>\n      <th>Nb of sec with 6250B &lt; Vol DL &lt; 31250B</th>\n      <th>Nb of sec with 6250B &lt; Vol UL &lt; 37500B</th>\n      <th>Nb of sec with Vol DL &lt; 6250B</th>\n      <th>Nb of sec with Vol UL &lt; 1250B</th>\n      <th>Social Media DL (Bytes)</th>\n      <th>Social Media UL (Bytes)</th>\n      <th>Google DL (Bytes)</th>\n      <th>Google UL (Bytes)</th>\n      <th>Email DL (Bytes)</th>\n      <th>Email UL (Bytes)</th>\n      <th>Youtube DL (Bytes)</th>\n      <th>Youtube UL (Bytes)</th>\n      <th>Netflix DL (Bytes)</th>\n      <th>Netflix UL (Bytes)</th>\n      <th>Gaming DL (Bytes)</th>\n      <th>Gaming UL (Bytes)</th>\n      <th>Other DL (Bytes)</th>\n      <th>Other UL (Bytes)</th>\n      <th>Total UL (Bytes)</th>\n      <th>Total DL (Bytes)</th>\n    </tr>\n  </thead>\n  <tbody>\n    <tr>\n      <th>count</th>\n      <td>150000.000000</td>\n      <td>150000.000000</td>\n      <td>1.500000e+05</td>\n      <td>1.494310e+05</td>\n      <td>1.489350e+05</td>\n      <td>1.494290e+05</td>\n      <td>122172.000000</td>\n      <td>122189.000000</td>\n      <td>150000.000000</td>\n      <td>150000.000000</td>\n      <td>6.185500e+04</td>\n      <td>5.335200e+04</td>\n      <td>149247.000000</td>\n      <td>149247.000000</td>\n      <td>149247.000000</td>\n      <td>149247.000000</td>\n      <td>149209.000000</td>\n      <td>149209.000000</td>\n      <td>149209.000000</td>\n      <td>149209.000000</td>\n      <td>6.852700e+04</td>\n      <td>6.819100e+04</td>\n      <td>1.500000e+05</td>\n      <td>1.500000e+05</td>\n      <td>1.500000e+05</td>\n      <td>52463.000000</td>\n      <td>57107.000000</td>\n      <td>56415.000000</td>\n      <td>19747.000000</td>\n      <td>61684.000000</td>\n      <td>38158.00000</td>\n      <td>149246.000000</td>\n      <td>149208.000000</td>\n      <td>150001.00</td>\n      <td>150001.000000</td>\n      <td>150001.0</td>\n      <td>150001.000</td>\n      <td>150001.000</td>\n      <td>150001.00000</td>\n      <td>150001.0</td>\n      <td>150001.0</td>\n      <td>150001.0</td>\n      <td>150001.0</td>\n      <td>150001.0</td>\n      <td>150001.0</td>\n      <td>150001.0</td>\n      <td>150001.0</td>\n      <td>150000.0</td>\n      <td>150000.0</td>\n    </tr>\n    <tr>\n      <th>mean</th>\n      <td>499.188263</td>\n      <td>498.800903</td>\n      <td>1.046086e+05</td>\n      <td>2.082016e+14</td>\n      <td>4.188282e+10</td>\n      <td>4.847454e+13</td>\n      <td>109.795708</td>\n      <td>17.662884</td>\n      <td>13300.045898</td>\n      <td>1770.428589</td>\n      <td>2.080991e+07</td>\n      <td>7.596587e+05</td>\n      <td>92.844757</td>\n      <td>3.069355</td>\n      <td>1.717341</td>\n      <td>1.609654</td>\n      <td>98.530144</td>\n      <td>0.776749</td>\n      <td>0.147987</td>\n      <td>0.078923</td>\n      <td>1.144710e+08</td>\n      <td>3.242301e+06</td>\n      <td>1.829177e+06</td>\n      <td>1.408880e+06</td>\n      <td>1.046091e+08</td>\n      <td>989.699890</td>\n      <td>340.434418</td>\n      <td>810.837341</td>\n      <td>149.257050</td>\n      <td>965.464783</td>\n      <td>141.30481</td>\n      <td>3719.787842</td>\n      <td>4022.083008</td>\n      <td>1795321.75</td>\n      <td>32928.433594</td>\n      <td>5750752.0</td>\n      <td>2056541.625</td>\n      <td>1791728.875</td>\n      <td>467373.46875</td>\n      <td>11634072.0</td>\n      <td>11009408.0</td>\n      <td>11626851.0</td>\n      <td>11001756.0</td>\n      <td>422044736.0</td>\n      <td>8288398.0</td>\n      <td>421100512.0</td>\n      <td>8264799.0</td>\n      <td>41121208.0</td>\n      <td>454643424.0</td>\n    </tr>\n    <tr>\n      <th>std</th>\n      <td>288.611816</td>\n      <td>288.097656</td>\n      <td>8.103762e+04</td>\n      <td>2.148807e+10</td>\n      <td>2.447443e+12</td>\n      <td>2.241637e+13</td>\n      <td>619.782715</td>\n      <td>84.793526</td>\n      <td>23971.878906</td>\n      <td>4625.355469</td>\n      <td>1.825665e+08</td>\n      <td>2.645305e+07</td>\n      <td>13.038032</td>\n      <td>6.215232</td>\n      <td>4.159538</td>\n      <td>4.828890</td>\n      <td>4.634285</td>\n      <td>3.225177</td>\n      <td>1.624523</td>\n      <td>1.295396</td>\n      <td>9.631946e+08</td>\n      <td>1.957064e+07</td>\n      <td>5.696396e+06</td>\n      <td>4.643230e+06</td>\n      <td>8.103762e+07</td>\n      <td>2546.524414</td>\n      <td>1445.364990</td>\n      <td>1842.161987</td>\n      <td>1219.112305</td>\n      <td>1946.387573</td>\n      <td>993.34967</td>\n      <td>9171.608398</td>\n      <td>10160.324219</td>\n      <td>1035482.25</td>\n      <td>19006.177734</td>\n      <td>3309097.0</td>\n      <td>1189916.875</td>\n      <td>1035839.500</td>\n      <td>269969.31250</td>\n      <td>6710569.0</td>\n      <td>6345423.0</td>\n      <td>6725218.0</td>\n      <td>6359490.0</td>\n      <td>243967488.0</td>\n      <td>4782699.5</td>\n      <td>243205008.0</td>\n      <td>4769003.5</td>\n      <td>11276387.0</td>\n      <td>244142880.0</td>\n    </tr>\n    <tr>\n      <th>min</th>\n      <td>0.000000</td>\n      <td>0.000000</td>\n      <td>7.142000e+03</td>\n      <td>2.040471e+14</td>\n      <td>3.360100e+10</td>\n      <td>4.400152e+11</td>\n      <td>0.000000</td>\n      <td>0.000000</td>\n      <td>0.000000</td>\n      <td>0.000000</td>\n      <td>2.000000e+00</td>\n      <td>1.000000e+00</td>\n      <td>0.000000</td>\n      <td>0.000000</td>\n      <td>0.000000</td>\n      <td>0.000000</td>\n      <td>0.000000</td>\n      <td>0.000000</td>\n      <td>0.000000</td>\n      <td>0.000000</td>\n      <td>4.000000e+01</td>\n      <td>4.000000e+01</td>\n      <td>0.000000e+00</td>\n      <td>0.000000e+00</td>\n      <td>7.142988e+06</td>\n      <td>1.000000</td>\n      <td>1.000000</td>\n      <td>1.000000</td>\n      <td>1.000000</td>\n      <td>1.000000</td>\n      <td>1.00000</td>\n      <td>1.000000</td>\n      <td>1.000000</td>\n      <td>12.00</td>\n      <td>0.000000</td>\n      <td>207.0</td>\n      <td>3.000</td>\n      <td>14.000</td>\n      <td>2.00000</td>\n      <td>53.0</td>\n      <td>105.0</td>\n      <td>42.0</td>\n      <td>35.0</td>\n      <td>2516.0</td>\n      <td>59.0</td>\n      <td>3290.0</td>\n      <td>148.0</td>\n      <td>2866892.0</td>\n      <td>7114041.0</td>\n    </tr>\n    <tr>\n      <th>25%</th>\n      <td>250.000000</td>\n      <td>251.000000</td>\n      <td>5.744050e+04</td>\n      <td>2.082014e+14</td>\n      <td>3.365129e+10</td>\n      <td>3.546071e+13</td>\n      <td>32.000000</td>\n      <td>2.000000</td>\n      <td>43.000000</td>\n      <td>47.000000</td>\n      <td>3.565150e+04</td>\n      <td>4.694750e+03</td>\n      <td>91.000000</td>\n      <td>0.000000</td>\n      <td>0.000000</td>\n      <td>0.000000</td>\n      <td>99.000000</td>\n      <td>0.000000</td>\n      <td>0.000000</td>\n      <td>0.000000</td>\n      <td>1.124035e+05</td>\n      <td>2.432200e+04</td>\n      <td>1.487775e+04</td>\n      <td>2.153975e+04</td>\n      <td>5.744078e+07</td>\n      <td>20.000000</td>\n      <td>10.000000</td>\n      <td>26.000000</td>\n      <td>2.000000</td>\n      <td>39.000000</td>\n      <td>3.00000</td>\n      <td>87.000000</td>\n      <td>106.000000</td>\n      <td>899148.00</td>\n      <td>16448.000000</td>\n      <td>2882393.0</td>\n      <td>1024279.000</td>\n      <td>892793.000</td>\n      <td>233383.00000</td>\n      <td>5833501.0</td>\n      <td>5517965.0</td>\n      <td>5777156.0</td>\n      <td>5475981.0</td>\n      <td>210473248.0</td>\n      <td>4128476.0</td>\n      <td>210186880.0</td>\n      <td>4145943.0</td>\n      <td>33222010.0</td>\n      <td>243106800.0</td>\n    </tr>\n    <tr>\n      <th>50%</th>\n      <td>499.000000</td>\n      <td>500.000000</td>\n      <td>8.639900e+04</td>\n      <td>2.082015e+14</td>\n      <td>3.366371e+10</td>\n      <td>3.572201e+13</td>\n      <td>45.000000</td>\n      <td>5.000000</td>\n      <td>63.000000</td>\n      <td>63.000000</td>\n      <td>5.687300e+05</td>\n      <td>2.094950e+04</td>\n      <td>100.000000</td>\n      <td>0.000000</td>\n      <td>0.000000</td>\n      <td>0.000000</td>\n      <td>100.000000</td>\n      <td>0.000000</td>\n      <td>0.000000</td>\n      <td>0.000000</td>\n      <td>1.941949e+06</td>\n      <td>2.297330e+05</td>\n      <td>3.930450e+04</td>\n      <td>4.679350e+04</td>\n      <td>8.639998e+07</td>\n      <td>128.000000</td>\n      <td>52.000000</td>\n      <td>164.000000</td>\n      <td>8.000000</td>\n      <td>288.000000</td>\n      <td>8.00000</td>\n      <td>203.000000</td>\n      <td>217.000000</td>\n      <td>1794369.00</td>\n      <td>32920.000000</td>\n      <td>5765829.0</td>\n      <td>2054573.000</td>\n      <td>1793505.000</td>\n      <td>466250.00000</td>\n      <td>11616019.0</td>\n      <td>11013447.0</td>\n      <td>11642217.0</td>\n      <td>10996384.0</td>\n      <td>423408096.0</td>\n      <td>8291208.0</td>\n      <td>421803008.0</td>\n      <td>8267071.0</td>\n      <td>41143312.0</td>\n      <td>455841088.0</td>\n    </tr>\n    <tr>\n      <th>75%</th>\n      <td>749.000000</td>\n      <td>750.000000</td>\n      <td>1.324302e+05</td>\n      <td>2.082018e+14</td>\n      <td>3.368349e+10</td>\n      <td>8.611971e+13</td>\n      <td>70.000000</td>\n      <td>15.000000</td>\n      <td>19710.750000</td>\n      <td>1120.000000</td>\n      <td>3.768308e+06</td>\n      <td>8.402025e+04</td>\n      <td>100.000000</td>\n      <td>4.000000</td>\n      <td>1.000000</td>\n      <td>0.000000</td>\n      <td>100.000000</td>\n      <td>0.000000</td>\n      <td>0.000000</td>\n      <td>0.000000</td>\n      <td>2.504290e+07</td>\n      <td>1.542827e+06</td>\n      <td>6.796095e+05</td>\n      <td>5.990952e+05</td>\n      <td>1.324308e+08</td>\n      <td>693.500000</td>\n      <td>203.000000</td>\n      <td>757.000000</td>\n      <td>35.000000</td>\n      <td>1092.000000</td>\n      <td>31.00000</td>\n      <td>2650.000000</td>\n      <td>2451.000000</td>\n      <td>2694938.00</td>\n      <td>49334.000000</td>\n      <td>8623552.0</td>\n      <td>3088454.000</td>\n      <td>2689327.000</td>\n      <td>700440.00000</td>\n      <td>17448518.0</td>\n      <td>16515562.0</td>\n      <td>17470478.0</td>\n      <td>16507268.0</td>\n      <td>633174144.0</td>\n      <td>12431624.0</td>\n      <td>631691776.0</td>\n      <td>12384148.0</td>\n      <td>49034240.0</td>\n      <td>665705536.0</td>\n    </tr>\n    <tr>\n      <th>max</th>\n      <td>999.000000</td>\n      <td>999.000000</td>\n      <td>1.859336e+06</td>\n      <td>2.140743e+14</td>\n      <td>8.823971e+14</td>\n      <td>9.900120e+13</td>\n      <td>96923.000000</td>\n      <td>7120.000000</td>\n      <td>378160.000000</td>\n      <td>58613.000000</td>\n      <td>4.294426e+09</td>\n      <td>2.908226e+09</td>\n      <td>100.000000</td>\n      <td>93.000000</td>\n      <td>100.000000</td>\n      <td>94.000000</td>\n      <td>100.000000</td>\n      <td>98.000000</td>\n      <td>100.000000</td>\n      <td>96.000000</td>\n      <td>7.253063e+10</td>\n      <td>1.491890e+09</td>\n      <td>1.365365e+08</td>\n      <td>1.449113e+08</td>\n      <td>1.859336e+09</td>\n      <td>81476.000000</td>\n      <td>85412.000000</td>\n      <td>58525.000000</td>\n      <td>50553.000000</td>\n      <td>66913.000000</td>\n      <td>49565.00000</td>\n      <td>604061.000000</td>\n      <td>604122.000000</td>\n      <td>3586064.00</td>\n      <td>65870.000000</td>\n      <td>11462832.0</td>\n      <td>4121357.000</td>\n      <td>3586146.000</td>\n      <td>936418.00000</td>\n      <td>23259098.0</td>\n      <td>22011962.0</td>\n      <td>23259188.0</td>\n      <td>22011956.0</td>\n      <td>843441920.0</td>\n      <td>16558794.0</td>\n      <td>843442496.0</td>\n      <td>16558816.0</td>\n      <td>78331312.0</td>\n      <td>902969600.0</td>\n    </tr>\n  </tbody>\n</table>\n</div>"
     },
     "metadata": {},
     "execution_count": 9
    }
   ],
   "source": [
    "explorer.get_description()"
   ]
  },
  {
   "cell_type": "code",
   "execution_count": 10,
   "metadata": {},
   "outputs": [
    {
     "output_type": "execute_result",
     "data": {
      "text/plain": [
       "count     150001\n",
       "unique    134709\n",
       "top             \n",
       "freq         991\n",
       "Name: Bearer Id, dtype: object"
      ]
     },
     "metadata": {},
     "execution_count": 10
    }
   ],
   "source": [
    "explorer.get_column_description('Bearer Id')"
   ]
  },
  {
   "cell_type": "code",
   "execution_count": 11,
   "metadata": {},
   "outputs": [
    {
     "output_type": "stream",
     "name": "stdout",
     "text": [
      "Current DataFrame Memory Usage of columns is :\n"
     ]
    },
    {
     "output_type": "execute_result",
     "data": {
      "text/plain": [
       "Index                                           128\n",
       "Bearer Id                                   1200008\n",
       "Start                                       1200008\n",
       "Start ms                                     600004\n",
       "End                                         1200008\n",
       "End ms                                       600004\n",
       "Dur. (ms)                                    600004\n",
       "IMSI                                         600004\n",
       "MSISDN/Number                                600004\n",
       "IMEI                                         600004\n",
       "Last Location Name                          1200008\n",
       "Avg RTT DL (ms)                              600004\n",
       "Avg RTT UL (ms)                              600004\n",
       "Avg Bearer TP DL (kbps)                      600004\n",
       "Avg Bearer TP UL (kbps)                      600004\n",
       "TCP DL Retrans. Vol (Bytes)                  600004\n",
       "TCP UL Retrans. Vol (Bytes)                  600004\n",
       "DL TP < 50 Kbps (%)                          600004\n",
       "50 Kbps < DL TP < 250 Kbps (%)               600004\n",
       "250 Kbps < DL TP < 1 Mbps (%)                600004\n",
       "DL TP > 1 Mbps (%)                           600004\n",
       "UL TP < 10 Kbps (%)                          600004\n",
       "10 Kbps < UL TP < 50 Kbps (%)                600004\n",
       "50 Kbps < UL TP < 300 Kbps (%)               600004\n",
       "UL TP > 300 Kbps (%)                         600004\n",
       "HTTP DL (Bytes)                              600004\n",
       "HTTP UL (Bytes)                              600004\n",
       "Activity Duration DL (ms)                    600004\n",
       "Activity Duration UL (ms)                    600004\n",
       "Dur. (ms).1                                  600004\n",
       "Handset Manufacturer                        1200008\n",
       "Handset Type                                1200008\n",
       "Nb of sec with 125000B < Vol DL              600004\n",
       "Nb of sec with 1250B < Vol UL < 6250B        600004\n",
       "Nb of sec with 31250B < Vol DL < 125000B     600004\n",
       "Nb of sec with 37500B < Vol UL               600004\n",
       "Nb of sec with 6250B < Vol DL < 31250B       600004\n",
       "Nb of sec with 6250B < Vol UL < 37500B       600004\n",
       "Nb of sec with Vol DL < 6250B                600004\n",
       "Nb of sec with Vol UL < 1250B                600004\n",
       "Social Media DL (Bytes)                      600004\n",
       "Social Media UL (Bytes)                      600004\n",
       "Google DL (Bytes)                            600004\n",
       "Google UL (Bytes)                            600004\n",
       "Email DL (Bytes)                             600004\n",
       "Email UL (Bytes)                             600004\n",
       "Youtube DL (Bytes)                           600004\n",
       "Youtube UL (Bytes)                           600004\n",
       "Netflix DL (Bytes)                           600004\n",
       "Netflix UL (Bytes)                           600004\n",
       "Gaming DL (Bytes)                            600004\n",
       "Gaming UL (Bytes)                            600004\n",
       "Other DL (Bytes)                             600004\n",
       "Other UL (Bytes)                             600004\n",
       "Total UL (Bytes)                             600004\n",
       "Total DL (Bytes)                             600004\n",
       "dtype: int64"
      ]
     },
     "metadata": {},
     "execution_count": 11
    }
   ],
   "source": [
    "# Data Inforamtion regarding null-values and type based on Columns\n",
    "explorer.get_memory_usage()"
   ]
  },
  {
   "source": [
    "### Task 1.1"
   ],
   "cell_type": "markdown",
   "metadata": {}
  },
  {
   "source": [
    "#### Number of xDR Sessions,Session duration, the total download (DL) and upload (UL) data, the total data volume (in Bytes) during this session for each application Aggregated per User('MSISDN/Number')\n"
   ],
   "cell_type": "markdown",
   "metadata": {}
  },
  {
   "cell_type": "code",
   "execution_count": 143,
   "metadata": {},
   "outputs": [],
   "source": [
    "pd.set_option('display.float_format', '{:.2f}'.format)"
   ]
  },
  {
   "cell_type": "code",
   "execution_count": 144,
   "metadata": {},
   "outputs": [
    {
     "output_type": "execute_result",
     "data": {
      "text/plain": [
       "                    Bearer Id  Dur. (ms)  Total UL (Bytes)  Total DL (Bytes)  \\\n",
       "MSISDN/Number                                                                  \n",
       "33601001472.00              2  297950.00       72157568.00      963392640.00   \n",
       "33601003520.00              1  134969.00       39306820.00      556659648.00   \n",
       "33601007616.00              3   86982.00      114608056.00     1765123584.00   \n",
       "33601009664.00              2  253983.00       60009248.00      555208000.00   \n",
       "33601011712.00              3  214759.00      140257136.00      847126272.00   \n",
       "...                       ...        ...               ...               ...   \n",
       "33789980672.00              2  210389.00       70831424.00     1023862016.00   \n",
       "33789997056.00              2  149798.00       62448672.00     1132500224.00   \n",
       "3197020930048.00            1  877385.00       37295916.00      194828064.00   \n",
       "337000045477888.00          1  253030.00       56652840.00      539635008.00   \n",
       "882397138649088.00          1  869844.00       60456048.00       78697600.00   \n",
       "\n",
       "                    Social Media DL (Bytes)  Social Media UL (Bytes)  \\\n",
       "MSISDN/Number                                                          \n",
       "33601001472.00                   4805052.00                 87648.00   \n",
       "33601003520.00                   3148004.00                 47619.00   \n",
       "33601007616.00                   3112699.00                 80137.00   \n",
       "33601009664.00                   3787122.00                  5790.00   \n",
       "33601011712.00                   4447339.00                104980.00   \n",
       "...                                     ...                      ...   \n",
       "33789980672.00                   4200896.00                 49416.00   \n",
       "33789997056.00                    676534.00                122218.00   \n",
       "3197020930048.00                  668596.00                 46628.00   \n",
       "337000045477888.00                496337.00                 25229.00   \n",
       "882397138649088.00               1500145.00                 45943.00   \n",
       "\n",
       "                    Google DL (Bytes)  Google UL (Bytes)  Email DL (Bytes)  \\\n",
       "MSISDN/Number                                                                \n",
       "33601001472.00             7534820.00         2189048.00        3666221.00   \n",
       "33601003520.00             3343483.00           99643.00        2436500.00   \n",
       "33601007616.00            19666432.00         8511676.00        4426426.00   \n",
       "33601009664.00            11993496.00         3269638.00        6513834.00   \n",
       "33601011712.00            15382479.00         6837538.00        2017004.00   \n",
       "...                               ...                ...               ...   \n",
       "33789980672.00             5035730.00         5210743.00        4750550.00   \n",
       "33789997056.00             8306584.00         4654390.00        2994379.00   \n",
       "3197020930048.00           8572779.00         1865881.00         842279.00   \n",
       "337000045477888.00         8215537.00         1615080.00        2989663.00   \n",
       "882397138649088.00         5985089.00         3233558.00        2518425.00   \n",
       "\n",
       "                    Email UL (Bytes)  Youtube DL (Bytes)  Youtube UL (Bytes)  \\\n",
       "MSISDN/Number                                                                  \n",
       "33601001472.00             972922.00         20224452.00         13832319.00   \n",
       "33601003520.00             768880.00          2137272.00         19196298.00   \n",
       "33601007616.00            1163713.00         14733094.00         33777228.00   \n",
       "33601009664.00            1334762.00         12169742.00         22177380.00   \n",
       "33601011712.00            1557518.00          8090922.00         37233152.00   \n",
       "...                              ...                 ...                 ...   \n",
       "33789980672.00             564777.00         20353018.00         17659794.00   \n",
       "33789997056.00             526633.00         13891172.00         32608242.00   \n",
       "3197020930048.00           678492.00          9839889.00          2120016.00   \n",
       "337000045477888.00         328919.00         16690728.00         20044212.00   \n",
       "882397138649088.00         812549.00         18980320.00         21960390.00   \n",
       "\n",
       "                    Netflix DL (Bytes)  Netflix UL (Bytes)  Gaming DL (Bytes)  \\\n",
       "MSISDN/Number                                                                   \n",
       "33601001472.00             11035674.00         27367070.00       916126464.00   \n",
       "33601003520.00             16525919.00          2827981.00       529068480.00   \n",
       "33601007616.00             26129010.00         25014808.00      1697056000.00   \n",
       "33601009664.00             14569029.00         15746472.00       506174720.00   \n",
       "33601011712.00             14206037.00         46899200.00       802982528.00   \n",
       "...                                ...                 ...                ...   \n",
       "33789980672.00             30828612.00         21121700.00       958693184.00   \n",
       "33789997056.00             21684702.00          1748896.00      1084946944.00   \n",
       "3197020930048.00           10340908.00         16251392.00       164563600.00   \n",
       "337000045477888.00          9983678.00         20921364.00       501259040.00   \n",
       "882397138649088.00         21621336.00          7224894.00        28092282.00   \n",
       "\n",
       "                    Gaming UL (Bytes)  Other DL (Bytes)  Other UL (Bytes)  \n",
       "MSISDN/Number                                                              \n",
       "33601001472.00            16082308.00      656654720.00       11626252.00  \n",
       "33601003520.00             9759228.00      495086496.00        6607171.00  \n",
       "33601007616.00             8868019.00      802891712.00       37192472.00  \n",
       "33601009664.00             5461038.00      480358592.00       12014169.00  \n",
       "33601011712.00            27842948.00      383308448.00       19781800.00  \n",
       "...                               ...               ...               ...  \n",
       "33789980672.00            13651836.00     1062567232.00       12573155.00  \n",
       "33789997056.00            12417718.00      496027392.00       10370574.00  \n",
       "3197020930048.00          13485133.00      467678112.00        2848373.00  \n",
       "337000045477888.00         8883653.00      144354064.00        4834382.00  \n",
       "882397138649088.00        14977978.00      389159712.00       12200737.00  \n",
       "\n",
       "[35090 rows x 18 columns]"
      ],
      "text/html": "<div>\n<style scoped>\n    .dataframe tbody tr th:only-of-type {\n        vertical-align: middle;\n    }\n\n    .dataframe tbody tr th {\n        vertical-align: top;\n    }\n\n    .dataframe thead th {\n        text-align: right;\n    }\n</style>\n<table border=\"1\" class=\"dataframe\">\n  <thead>\n    <tr style=\"text-align: right;\">\n      <th></th>\n      <th>Bearer Id</th>\n      <th>Dur. (ms)</th>\n      <th>Total UL (Bytes)</th>\n      <th>Total DL (Bytes)</th>\n      <th>Social Media DL (Bytes)</th>\n      <th>Social Media UL (Bytes)</th>\n      <th>Google DL (Bytes)</th>\n      <th>Google UL (Bytes)</th>\n      <th>Email DL (Bytes)</th>\n      <th>Email UL (Bytes)</th>\n      <th>Youtube DL (Bytes)</th>\n      <th>Youtube UL (Bytes)</th>\n      <th>Netflix DL (Bytes)</th>\n      <th>Netflix UL (Bytes)</th>\n      <th>Gaming DL (Bytes)</th>\n      <th>Gaming UL (Bytes)</th>\n      <th>Other DL (Bytes)</th>\n      <th>Other UL (Bytes)</th>\n    </tr>\n    <tr>\n      <th>MSISDN/Number</th>\n      <th></th>\n      <th></th>\n      <th></th>\n      <th></th>\n      <th></th>\n      <th></th>\n      <th></th>\n      <th></th>\n      <th></th>\n      <th></th>\n      <th></th>\n      <th></th>\n      <th></th>\n      <th></th>\n      <th></th>\n      <th></th>\n      <th></th>\n      <th></th>\n    </tr>\n  </thead>\n  <tbody>\n    <tr>\n      <th>33601001472.00</th>\n      <td>2</td>\n      <td>297950.00</td>\n      <td>72157568.00</td>\n      <td>963392640.00</td>\n      <td>4805052.00</td>\n      <td>87648.00</td>\n      <td>7534820.00</td>\n      <td>2189048.00</td>\n      <td>3666221.00</td>\n      <td>972922.00</td>\n      <td>20224452.00</td>\n      <td>13832319.00</td>\n      <td>11035674.00</td>\n      <td>27367070.00</td>\n      <td>916126464.00</td>\n      <td>16082308.00</td>\n      <td>656654720.00</td>\n      <td>11626252.00</td>\n    </tr>\n    <tr>\n      <th>33601003520.00</th>\n      <td>1</td>\n      <td>134969.00</td>\n      <td>39306820.00</td>\n      <td>556659648.00</td>\n      <td>3148004.00</td>\n      <td>47619.00</td>\n      <td>3343483.00</td>\n      <td>99643.00</td>\n      <td>2436500.00</td>\n      <td>768880.00</td>\n      <td>2137272.00</td>\n      <td>19196298.00</td>\n      <td>16525919.00</td>\n      <td>2827981.00</td>\n      <td>529068480.00</td>\n      <td>9759228.00</td>\n      <td>495086496.00</td>\n      <td>6607171.00</td>\n    </tr>\n    <tr>\n      <th>33601007616.00</th>\n      <td>3</td>\n      <td>86982.00</td>\n      <td>114608056.00</td>\n      <td>1765123584.00</td>\n      <td>3112699.00</td>\n      <td>80137.00</td>\n      <td>19666432.00</td>\n      <td>8511676.00</td>\n      <td>4426426.00</td>\n      <td>1163713.00</td>\n      <td>14733094.00</td>\n      <td>33777228.00</td>\n      <td>26129010.00</td>\n      <td>25014808.00</td>\n      <td>1697056000.00</td>\n      <td>8868019.00</td>\n      <td>802891712.00</td>\n      <td>37192472.00</td>\n    </tr>\n    <tr>\n      <th>33601009664.00</th>\n      <td>2</td>\n      <td>253983.00</td>\n      <td>60009248.00</td>\n      <td>555208000.00</td>\n      <td>3787122.00</td>\n      <td>5790.00</td>\n      <td>11993496.00</td>\n      <td>3269638.00</td>\n      <td>6513834.00</td>\n      <td>1334762.00</td>\n      <td>12169742.00</td>\n      <td>22177380.00</td>\n      <td>14569029.00</td>\n      <td>15746472.00</td>\n      <td>506174720.00</td>\n      <td>5461038.00</td>\n      <td>480358592.00</td>\n      <td>12014169.00</td>\n    </tr>\n    <tr>\n      <th>33601011712.00</th>\n      <td>3</td>\n      <td>214759.00</td>\n      <td>140257136.00</td>\n      <td>847126272.00</td>\n      <td>4447339.00</td>\n      <td>104980.00</td>\n      <td>15382479.00</td>\n      <td>6837538.00</td>\n      <td>2017004.00</td>\n      <td>1557518.00</td>\n      <td>8090922.00</td>\n      <td>37233152.00</td>\n      <td>14206037.00</td>\n      <td>46899200.00</td>\n      <td>802982528.00</td>\n      <td>27842948.00</td>\n      <td>383308448.00</td>\n      <td>19781800.00</td>\n    </tr>\n    <tr>\n      <th>...</th>\n      <td>...</td>\n      <td>...</td>\n      <td>...</td>\n      <td>...</td>\n      <td>...</td>\n      <td>...</td>\n      <td>...</td>\n      <td>...</td>\n      <td>...</td>\n      <td>...</td>\n      <td>...</td>\n      <td>...</td>\n      <td>...</td>\n      <td>...</td>\n      <td>...</td>\n      <td>...</td>\n      <td>...</td>\n      <td>...</td>\n    </tr>\n    <tr>\n      <th>33789980672.00</th>\n      <td>2</td>\n      <td>210389.00</td>\n      <td>70831424.00</td>\n      <td>1023862016.00</td>\n      <td>4200896.00</td>\n      <td>49416.00</td>\n      <td>5035730.00</td>\n      <td>5210743.00</td>\n      <td>4750550.00</td>\n      <td>564777.00</td>\n      <td>20353018.00</td>\n      <td>17659794.00</td>\n      <td>30828612.00</td>\n      <td>21121700.00</td>\n      <td>958693184.00</td>\n      <td>13651836.00</td>\n      <td>1062567232.00</td>\n      <td>12573155.00</td>\n    </tr>\n    <tr>\n      <th>33789997056.00</th>\n      <td>2</td>\n      <td>149798.00</td>\n      <td>62448672.00</td>\n      <td>1132500224.00</td>\n      <td>676534.00</td>\n      <td>122218.00</td>\n      <td>8306584.00</td>\n      <td>4654390.00</td>\n      <td>2994379.00</td>\n      <td>526633.00</td>\n      <td>13891172.00</td>\n      <td>32608242.00</td>\n      <td>21684702.00</td>\n      <td>1748896.00</td>\n      <td>1084946944.00</td>\n      <td>12417718.00</td>\n      <td>496027392.00</td>\n      <td>10370574.00</td>\n    </tr>\n    <tr>\n      <th>3197020930048.00</th>\n      <td>1</td>\n      <td>877385.00</td>\n      <td>37295916.00</td>\n      <td>194828064.00</td>\n      <td>668596.00</td>\n      <td>46628.00</td>\n      <td>8572779.00</td>\n      <td>1865881.00</td>\n      <td>842279.00</td>\n      <td>678492.00</td>\n      <td>9839889.00</td>\n      <td>2120016.00</td>\n      <td>10340908.00</td>\n      <td>16251392.00</td>\n      <td>164563600.00</td>\n      <td>13485133.00</td>\n      <td>467678112.00</td>\n      <td>2848373.00</td>\n    </tr>\n    <tr>\n      <th>337000045477888.00</th>\n      <td>1</td>\n      <td>253030.00</td>\n      <td>56652840.00</td>\n      <td>539635008.00</td>\n      <td>496337.00</td>\n      <td>25229.00</td>\n      <td>8215537.00</td>\n      <td>1615080.00</td>\n      <td>2989663.00</td>\n      <td>328919.00</td>\n      <td>16690728.00</td>\n      <td>20044212.00</td>\n      <td>9983678.00</td>\n      <td>20921364.00</td>\n      <td>501259040.00</td>\n      <td>8883653.00</td>\n      <td>144354064.00</td>\n      <td>4834382.00</td>\n    </tr>\n    <tr>\n      <th>882397138649088.00</th>\n      <td>1</td>\n      <td>869844.00</td>\n      <td>60456048.00</td>\n      <td>78697600.00</td>\n      <td>1500145.00</td>\n      <td>45943.00</td>\n      <td>5985089.00</td>\n      <td>3233558.00</td>\n      <td>2518425.00</td>\n      <td>812549.00</td>\n      <td>18980320.00</td>\n      <td>21960390.00</td>\n      <td>21621336.00</td>\n      <td>7224894.00</td>\n      <td>28092282.00</td>\n      <td>14977978.00</td>\n      <td>389159712.00</td>\n      <td>12200737.00</td>\n    </tr>\n  </tbody>\n</table>\n<p>35090 rows × 18 columns</p>\n</div>"
     },
     "metadata": {},
     "execution_count": 144
    }
   ],
   "source": [
    "aggs_by_col = {'Bearer Id': 'count', \n",
    "               'Dur. (ms)': 'sum',\n",
    "               'Total UL (Bytes)': 'sum',\n",
    "               'Total DL (Bytes)': 'sum',\n",
    "               'Social Media DL (Bytes)': 'sum',\n",
    "               'Social Media UL (Bytes)': 'sum',\n",
    "               'Google DL (Bytes)': 'sum',\n",
    "               'Google UL (Bytes)': 'sum',\n",
    "               'Email DL (Bytes)': 'sum',\n",
    "               'Email UL (Bytes)': 'sum',\n",
    "               'Youtube DL (Bytes)': 'sum',\n",
    "               'Youtube UL (Bytes)': 'sum',\n",
    "               'Netflix DL (Bytes)': 'sum',\n",
    "               'Netflix UL (Bytes)': 'sum',\n",
    "               'Gaming DL (Bytes)': 'sum',\n",
    "               'Gaming UL (Bytes)': 'sum',\n",
    "               'Other DL (Bytes)': 'sum',\n",
    "               'Other UL (Bytes)': 'sum',\n",
    "               'Gaming DL (Bytes)': 'sum',\n",
    "               'Gaming UL (Bytes)': 'sum',\n",
    "               }\n",
    "\n",
    "ex1 = telData.groupby('MSISDN/Number').agg(aggs_by_col)\n",
    "ex1"
   ]
  },
  {
   "source": [
    "## Data Cleaning and Manipulation"
   ],
   "cell_type": "markdown",
   "metadata": {}
  },
  {
   "cell_type": "code",
   "execution_count": 12,
   "metadata": {},
   "outputs": [
    {
     "output_type": "stream",
     "name": "stdout",
     "text": [
      "The total number of missing values is 1048375\n12.71 % missing values.\n"
     ]
    },
    {
     "output_type": "execute_result",
     "data": {
      "text/plain": [
       "1048375"
      ]
     },
     "metadata": {},
     "execution_count": 12
    }
   ],
   "source": [
    "explorer.get_total_missing_values()"
   ]
  },
  {
   "cell_type": "code",
   "execution_count": 13,
   "metadata": {},
   "outputs": [
    {
     "output_type": "execute_result",
     "data": {
      "text/plain": [
       "['Start',\n",
       " 'Start ms',\n",
       " 'End',\n",
       " 'End ms',\n",
       " 'Dur. (ms)',\n",
       " 'IMSI',\n",
       " 'MSISDN/Number',\n",
       " 'IMEI',\n",
       " 'Last Location Name',\n",
       " 'Avg RTT DL (ms)',\n",
       " 'Avg RTT UL (ms)',\n",
       " 'Avg Bearer TP DL (kbps)',\n",
       " 'Avg Bearer TP UL (kbps)',\n",
       " 'TCP DL Retrans. Vol (Bytes)',\n",
       " 'TCP UL Retrans. Vol (Bytes)',\n",
       " 'DL TP < 50 Kbps (%)',\n",
       " '50 Kbps < DL TP < 250 Kbps (%)',\n",
       " '250 Kbps < DL TP < 1 Mbps (%)',\n",
       " 'DL TP > 1 Mbps (%)',\n",
       " 'UL TP < 10 Kbps (%)',\n",
       " '10 Kbps < UL TP < 50 Kbps (%)',\n",
       " '50 Kbps < UL TP < 300 Kbps (%)',\n",
       " 'UL TP > 300 Kbps (%)',\n",
       " 'HTTP DL (Bytes)',\n",
       " 'HTTP UL (Bytes)',\n",
       " 'Activity Duration DL (ms)',\n",
       " 'Activity Duration UL (ms)',\n",
       " 'Dur. (ms).1',\n",
       " 'Handset Manufacturer',\n",
       " 'Handset Type',\n",
       " 'Nb of sec with 125000B < Vol DL',\n",
       " 'Nb of sec with 1250B < Vol UL < 6250B',\n",
       " 'Nb of sec with 31250B < Vol DL < 125000B',\n",
       " 'Nb of sec with 37500B < Vol UL',\n",
       " 'Nb of sec with 6250B < Vol DL < 31250B',\n",
       " 'Nb of sec with 6250B < Vol UL < 37500B',\n",
       " 'Nb of sec with Vol DL < 6250B',\n",
       " 'Nb of sec with Vol UL < 1250B',\n",
       " 'Total UL (Bytes)',\n",
       " 'Total DL (Bytes)']"
      ]
     },
     "metadata": {},
     "execution_count": 13
    }
   ],
   "source": [
    "explorer.get_columns_with_missing_values()"
   ]
  },
  {
   "cell_type": "code",
   "execution_count": 14,
   "metadata": {},
   "outputs": [
    {
     "output_type": "execute_result",
     "data": {
      "text/plain": [
       "                                          missing_count            type\n",
       "Start                                                 1  datetime64[ns]\n",
       "Start ms                                              1         float32\n",
       "End                                                   1  datetime64[ns]\n",
       "End ms                                                1         float32\n",
       "Dur. (ms)                                             1         float32\n",
       "IMSI                                                570         float32\n",
       "MSISDN/Number                                      1066         float32\n",
       "IMEI                                                572         float32\n",
       "Last Location Name                                 1153          object\n",
       "Avg RTT DL (ms)                                   27829         float32\n",
       "Avg RTT UL (ms)                                   27812         float32\n",
       "Avg Bearer TP DL (kbps)                               1         float32\n",
       "Avg Bearer TP UL (kbps)                               1         float32\n",
       "TCP DL Retrans. Vol (Bytes)                       88146         float32\n",
       "TCP UL Retrans. Vol (Bytes)                       96649         float32\n",
       "DL TP < 50 Kbps (%)                                 754         float32\n",
       "50 Kbps < DL TP < 250 Kbps (%)                      754         float32\n",
       "250 Kbps < DL TP < 1 Mbps (%)                       754         float32\n",
       "DL TP > 1 Mbps (%)                                  754         float32\n",
       "UL TP < 10 Kbps (%)                                 792         float32\n",
       "10 Kbps < UL TP < 50 Kbps (%)                       792         float32\n",
       "50 Kbps < UL TP < 300 Kbps (%)                      792         float32\n",
       "UL TP > 300 Kbps (%)                                792         float32\n",
       "HTTP DL (Bytes)                                   81474         float32\n",
       "HTTP UL (Bytes)                                   81810         float32\n",
       "Activity Duration DL (ms)                             1         float32\n",
       "Activity Duration UL (ms)                             1         float32\n",
       "Dur. (ms).1                                           1         float32\n",
       "Handset Manufacturer                               9559          object\n",
       "Handset Type                                       9559          object\n",
       "Nb of sec with 125000B < Vol DL                   97538         float32\n",
       "Nb of sec with 1250B < Vol UL < 6250B             92894         float32\n",
       "Nb of sec with 31250B < Vol DL < 125000B          93586         float32\n",
       "Nb of sec with 37500B < Vol UL                   130254         float32\n",
       "Nb of sec with 6250B < Vol DL < 31250B            88317         float32\n",
       "Nb of sec with 6250B < Vol UL < 37500B           111843         float32\n",
       "Nb of sec with Vol DL < 6250B                       755         float32\n",
       "Nb of sec with Vol UL < 1250B                       793         float32\n",
       "Total UL (Bytes)                                      1         float32\n",
       "Total DL (Bytes)                                      1         float32"
      ],
      "text/html": "<div>\n<style scoped>\n    .dataframe tbody tr th:only-of-type {\n        vertical-align: middle;\n    }\n\n    .dataframe tbody tr th {\n        vertical-align: top;\n    }\n\n    .dataframe thead th {\n        text-align: right;\n    }\n</style>\n<table border=\"1\" class=\"dataframe\">\n  <thead>\n    <tr style=\"text-align: right;\">\n      <th></th>\n      <th>missing_count</th>\n      <th>type</th>\n    </tr>\n  </thead>\n  <tbody>\n    <tr>\n      <th>Start</th>\n      <td>1</td>\n      <td>datetime64[ns]</td>\n    </tr>\n    <tr>\n      <th>Start ms</th>\n      <td>1</td>\n      <td>float32</td>\n    </tr>\n    <tr>\n      <th>End</th>\n      <td>1</td>\n      <td>datetime64[ns]</td>\n    </tr>\n    <tr>\n      <th>End ms</th>\n      <td>1</td>\n      <td>float32</td>\n    </tr>\n    <tr>\n      <th>Dur. (ms)</th>\n      <td>1</td>\n      <td>float32</td>\n    </tr>\n    <tr>\n      <th>IMSI</th>\n      <td>570</td>\n      <td>float32</td>\n    </tr>\n    <tr>\n      <th>MSISDN/Number</th>\n      <td>1066</td>\n      <td>float32</td>\n    </tr>\n    <tr>\n      <th>IMEI</th>\n      <td>572</td>\n      <td>float32</td>\n    </tr>\n    <tr>\n      <th>Last Location Name</th>\n      <td>1153</td>\n      <td>object</td>\n    </tr>\n    <tr>\n      <th>Avg RTT DL (ms)</th>\n      <td>27829</td>\n      <td>float32</td>\n    </tr>\n    <tr>\n      <th>Avg RTT UL (ms)</th>\n      <td>27812</td>\n      <td>float32</td>\n    </tr>\n    <tr>\n      <th>Avg Bearer TP DL (kbps)</th>\n      <td>1</td>\n      <td>float32</td>\n    </tr>\n    <tr>\n      <th>Avg Bearer TP UL (kbps)</th>\n      <td>1</td>\n      <td>float32</td>\n    </tr>\n    <tr>\n      <th>TCP DL Retrans. Vol (Bytes)</th>\n      <td>88146</td>\n      <td>float32</td>\n    </tr>\n    <tr>\n      <th>TCP UL Retrans. Vol (Bytes)</th>\n      <td>96649</td>\n      <td>float32</td>\n    </tr>\n    <tr>\n      <th>DL TP &lt; 50 Kbps (%)</th>\n      <td>754</td>\n      <td>float32</td>\n    </tr>\n    <tr>\n      <th>50 Kbps &lt; DL TP &lt; 250 Kbps (%)</th>\n      <td>754</td>\n      <td>float32</td>\n    </tr>\n    <tr>\n      <th>250 Kbps &lt; DL TP &lt; 1 Mbps (%)</th>\n      <td>754</td>\n      <td>float32</td>\n    </tr>\n    <tr>\n      <th>DL TP &gt; 1 Mbps (%)</th>\n      <td>754</td>\n      <td>float32</td>\n    </tr>\n    <tr>\n      <th>UL TP &lt; 10 Kbps (%)</th>\n      <td>792</td>\n      <td>float32</td>\n    </tr>\n    <tr>\n      <th>10 Kbps &lt; UL TP &lt; 50 Kbps (%)</th>\n      <td>792</td>\n      <td>float32</td>\n    </tr>\n    <tr>\n      <th>50 Kbps &lt; UL TP &lt; 300 Kbps (%)</th>\n      <td>792</td>\n      <td>float32</td>\n    </tr>\n    <tr>\n      <th>UL TP &gt; 300 Kbps (%)</th>\n      <td>792</td>\n      <td>float32</td>\n    </tr>\n    <tr>\n      <th>HTTP DL (Bytes)</th>\n      <td>81474</td>\n      <td>float32</td>\n    </tr>\n    <tr>\n      <th>HTTP UL (Bytes)</th>\n      <td>81810</td>\n      <td>float32</td>\n    </tr>\n    <tr>\n      <th>Activity Duration DL (ms)</th>\n      <td>1</td>\n      <td>float32</td>\n    </tr>\n    <tr>\n      <th>Activity Duration UL (ms)</th>\n      <td>1</td>\n      <td>float32</td>\n    </tr>\n    <tr>\n      <th>Dur. (ms).1</th>\n      <td>1</td>\n      <td>float32</td>\n    </tr>\n    <tr>\n      <th>Handset Manufacturer</th>\n      <td>9559</td>\n      <td>object</td>\n    </tr>\n    <tr>\n      <th>Handset Type</th>\n      <td>9559</td>\n      <td>object</td>\n    </tr>\n    <tr>\n      <th>Nb of sec with 125000B &lt; Vol DL</th>\n      <td>97538</td>\n      <td>float32</td>\n    </tr>\n    <tr>\n      <th>Nb of sec with 1250B &lt; Vol UL &lt; 6250B</th>\n      <td>92894</td>\n      <td>float32</td>\n    </tr>\n    <tr>\n      <th>Nb of sec with 31250B &lt; Vol DL &lt; 125000B</th>\n      <td>93586</td>\n      <td>float32</td>\n    </tr>\n    <tr>\n      <th>Nb of sec with 37500B &lt; Vol UL</th>\n      <td>130254</td>\n      <td>float32</td>\n    </tr>\n    <tr>\n      <th>Nb of sec with 6250B &lt; Vol DL &lt; 31250B</th>\n      <td>88317</td>\n      <td>float32</td>\n    </tr>\n    <tr>\n      <th>Nb of sec with 6250B &lt; Vol UL &lt; 37500B</th>\n      <td>111843</td>\n      <td>float32</td>\n    </tr>\n    <tr>\n      <th>Nb of sec with Vol DL &lt; 6250B</th>\n      <td>755</td>\n      <td>float32</td>\n    </tr>\n    <tr>\n      <th>Nb of sec with Vol UL &lt; 1250B</th>\n      <td>793</td>\n      <td>float32</td>\n    </tr>\n    <tr>\n      <th>Total UL (Bytes)</th>\n      <td>1</td>\n      <td>float32</td>\n    </tr>\n    <tr>\n      <th>Total DL (Bytes)</th>\n      <td>1</td>\n      <td>float32</td>\n    </tr>\n  </tbody>\n</table>\n</div>"
     },
     "metadata": {},
     "execution_count": 14
    }
   ],
   "source": [
    "explorer.get_column_based_missing_values()"
   ]
  },
  {
   "cell_type": "code",
   "execution_count": 15,
   "metadata": {},
   "outputs": [
    {
     "output_type": "execute_result",
     "data": {
      "text/plain": [
       "                                          total_missing_values  \\\n",
       "Bearer Id                                                    0   \n",
       "Start                                                        1   \n",
       "Start ms                                                     1   \n",
       "End                                                          1   \n",
       "End ms                                                       1   \n",
       "Dur. (ms)                                                    1   \n",
       "IMSI                                                       570   \n",
       "MSISDN/Number                                             1066   \n",
       "IMEI                                                       572   \n",
       "Last Location Name                                        1153   \n",
       "Avg RTT DL (ms)                                          27829   \n",
       "Avg RTT UL (ms)                                          27812   \n",
       "Avg Bearer TP DL (kbps)                                      1   \n",
       "Avg Bearer TP UL (kbps)                                      1   \n",
       "TCP DL Retrans. Vol (Bytes)                              88146   \n",
       "TCP UL Retrans. Vol (Bytes)                              96649   \n",
       "DL TP < 50 Kbps (%)                                        754   \n",
       "50 Kbps < DL TP < 250 Kbps (%)                             754   \n",
       "250 Kbps < DL TP < 1 Mbps (%)                              754   \n",
       "DL TP > 1 Mbps (%)                                         754   \n",
       "UL TP < 10 Kbps (%)                                        792   \n",
       "10 Kbps < UL TP < 50 Kbps (%)                              792   \n",
       "50 Kbps < UL TP < 300 Kbps (%)                             792   \n",
       "UL TP > 300 Kbps (%)                                       792   \n",
       "HTTP DL (Bytes)                                          81474   \n",
       "HTTP UL (Bytes)                                          81810   \n",
       "Activity Duration DL (ms)                                    1   \n",
       "Activity Duration UL (ms)                                    1   \n",
       "Dur. (ms).1                                                  1   \n",
       "Handset Manufacturer                                      9559   \n",
       "Handset Type                                              9559   \n",
       "Nb of sec with 125000B < Vol DL                          97538   \n",
       "Nb of sec with 1250B < Vol UL < 6250B                    92894   \n",
       "Nb of sec with 31250B < Vol DL < 125000B                 93586   \n",
       "Nb of sec with 37500B < Vol UL                          130254   \n",
       "Nb of sec with 6250B < Vol DL < 31250B                   88317   \n",
       "Nb of sec with 6250B < Vol UL < 37500B                  111843   \n",
       "Nb of sec with Vol DL < 6250B                              755   \n",
       "Nb of sec with Vol UL < 1250B                              793   \n",
       "Social Media DL (Bytes)                                      0   \n",
       "Social Media UL (Bytes)                                      0   \n",
       "Google DL (Bytes)                                            0   \n",
       "Google UL (Bytes)                                            0   \n",
       "Email DL (Bytes)                                             0   \n",
       "Email UL (Bytes)                                             0   \n",
       "Youtube DL (Bytes)                                           0   \n",
       "Youtube UL (Bytes)                                           0   \n",
       "Netflix DL (Bytes)                                           0   \n",
       "Netflix UL (Bytes)                                           0   \n",
       "Gaming DL (Bytes)                                            0   \n",
       "Gaming UL (Bytes)                                            0   \n",
       "Other DL (Bytes)                                             0   \n",
       "Other UL (Bytes)                                             0   \n",
       "Total UL (Bytes)                                             1   \n",
       "Total DL (Bytes)                                             1   \n",
       "\n",
       "                                         missing_percentage  \n",
       "Bearer Id                                             0.0 %  \n",
       "Start                                                 0.0 %  \n",
       "Start ms                                              0.0 %  \n",
       "End                                                   0.0 %  \n",
       "End ms                                                0.0 %  \n",
       "Dur. (ms)                                             0.0 %  \n",
       "IMSI                                                 0.38 %  \n",
       "MSISDN/Number                                        0.71 %  \n",
       "IMEI                                                 0.38 %  \n",
       "Last Location Name                                   0.77 %  \n",
       "Avg RTT DL (ms)                                     18.55 %  \n",
       "Avg RTT UL (ms)                                     18.54 %  \n",
       "Avg Bearer TP DL (kbps)                               0.0 %  \n",
       "Avg Bearer TP UL (kbps)                               0.0 %  \n",
       "TCP DL Retrans. Vol (Bytes)                         58.76 %  \n",
       "TCP UL Retrans. Vol (Bytes)                         64.43 %  \n",
       "DL TP < 50 Kbps (%)                                   0.5 %  \n",
       "50 Kbps < DL TP < 250 Kbps (%)                        0.5 %  \n",
       "250 Kbps < DL TP < 1 Mbps (%)                         0.5 %  \n",
       "DL TP > 1 Mbps (%)                                    0.5 %  \n",
       "UL TP < 10 Kbps (%)                                  0.53 %  \n",
       "10 Kbps < UL TP < 50 Kbps (%)                        0.53 %  \n",
       "50 Kbps < UL TP < 300 Kbps (%)                       0.53 %  \n",
       "UL TP > 300 Kbps (%)                                 0.53 %  \n",
       "HTTP DL (Bytes)                                     54.32 %  \n",
       "HTTP UL (Bytes)                                     54.54 %  \n",
       "Activity Duration DL (ms)                             0.0 %  \n",
       "Activity Duration UL (ms)                             0.0 %  \n",
       "Dur. (ms).1                                           0.0 %  \n",
       "Handset Manufacturer                                 6.37 %  \n",
       "Handset Type                                         6.37 %  \n",
       "Nb of sec with 125000B < Vol DL                     65.02 %  \n",
       "Nb of sec with 1250B < Vol UL < 6250B               61.93 %  \n",
       "Nb of sec with 31250B < Vol DL < 125000B            62.39 %  \n",
       "Nb of sec with 37500B < Vol UL                      86.84 %  \n",
       "Nb of sec with 6250B < Vol DL < 31250B              58.88 %  \n",
       "Nb of sec with 6250B < Vol UL < 37500B              74.56 %  \n",
       "Nb of sec with Vol DL < 6250B                         0.5 %  \n",
       "Nb of sec with Vol UL < 1250B                        0.53 %  \n",
       "Social Media DL (Bytes)                               0.0 %  \n",
       "Social Media UL (Bytes)                               0.0 %  \n",
       "Google DL (Bytes)                                     0.0 %  \n",
       "Google UL (Bytes)                                     0.0 %  \n",
       "Email DL (Bytes)                                      0.0 %  \n",
       "Email UL (Bytes)                                      0.0 %  \n",
       "Youtube DL (Bytes)                                    0.0 %  \n",
       "Youtube UL (Bytes)                                    0.0 %  \n",
       "Netflix DL (Bytes)                                    0.0 %  \n",
       "Netflix UL (Bytes)                                    0.0 %  \n",
       "Gaming DL (Bytes)                                     0.0 %  \n",
       "Gaming UL (Bytes)                                     0.0 %  \n",
       "Other DL (Bytes)                                      0.0 %  \n",
       "Other UL (Bytes)                                      0.0 %  \n",
       "Total UL (Bytes)                                      0.0 %  \n",
       "Total DL (Bytes)                                      0.0 %  "
      ],
      "text/html": "<div>\n<style scoped>\n    .dataframe tbody tr th:only-of-type {\n        vertical-align: middle;\n    }\n\n    .dataframe tbody tr th {\n        vertical-align: top;\n    }\n\n    .dataframe thead th {\n        text-align: right;\n    }\n</style>\n<table border=\"1\" class=\"dataframe\">\n  <thead>\n    <tr style=\"text-align: right;\">\n      <th></th>\n      <th>total_missing_values</th>\n      <th>missing_percentage</th>\n    </tr>\n  </thead>\n  <tbody>\n    <tr>\n      <th>Bearer Id</th>\n      <td>0</td>\n      <td>0.0 %</td>\n    </tr>\n    <tr>\n      <th>Start</th>\n      <td>1</td>\n      <td>0.0 %</td>\n    </tr>\n    <tr>\n      <th>Start ms</th>\n      <td>1</td>\n      <td>0.0 %</td>\n    </tr>\n    <tr>\n      <th>End</th>\n      <td>1</td>\n      <td>0.0 %</td>\n    </tr>\n    <tr>\n      <th>End ms</th>\n      <td>1</td>\n      <td>0.0 %</td>\n    </tr>\n    <tr>\n      <th>Dur. (ms)</th>\n      <td>1</td>\n      <td>0.0 %</td>\n    </tr>\n    <tr>\n      <th>IMSI</th>\n      <td>570</td>\n      <td>0.38 %</td>\n    </tr>\n    <tr>\n      <th>MSISDN/Number</th>\n      <td>1066</td>\n      <td>0.71 %</td>\n    </tr>\n    <tr>\n      <th>IMEI</th>\n      <td>572</td>\n      <td>0.38 %</td>\n    </tr>\n    <tr>\n      <th>Last Location Name</th>\n      <td>1153</td>\n      <td>0.77 %</td>\n    </tr>\n    <tr>\n      <th>Avg RTT DL (ms)</th>\n      <td>27829</td>\n      <td>18.55 %</td>\n    </tr>\n    <tr>\n      <th>Avg RTT UL (ms)</th>\n      <td>27812</td>\n      <td>18.54 %</td>\n    </tr>\n    <tr>\n      <th>Avg Bearer TP DL (kbps)</th>\n      <td>1</td>\n      <td>0.0 %</td>\n    </tr>\n    <tr>\n      <th>Avg Bearer TP UL (kbps)</th>\n      <td>1</td>\n      <td>0.0 %</td>\n    </tr>\n    <tr>\n      <th>TCP DL Retrans. Vol (Bytes)</th>\n      <td>88146</td>\n      <td>58.76 %</td>\n    </tr>\n    <tr>\n      <th>TCP UL Retrans. Vol (Bytes)</th>\n      <td>96649</td>\n      <td>64.43 %</td>\n    </tr>\n    <tr>\n      <th>DL TP &lt; 50 Kbps (%)</th>\n      <td>754</td>\n      <td>0.5 %</td>\n    </tr>\n    <tr>\n      <th>50 Kbps &lt; DL TP &lt; 250 Kbps (%)</th>\n      <td>754</td>\n      <td>0.5 %</td>\n    </tr>\n    <tr>\n      <th>250 Kbps &lt; DL TP &lt; 1 Mbps (%)</th>\n      <td>754</td>\n      <td>0.5 %</td>\n    </tr>\n    <tr>\n      <th>DL TP &gt; 1 Mbps (%)</th>\n      <td>754</td>\n      <td>0.5 %</td>\n    </tr>\n    <tr>\n      <th>UL TP &lt; 10 Kbps (%)</th>\n      <td>792</td>\n      <td>0.53 %</td>\n    </tr>\n    <tr>\n      <th>10 Kbps &lt; UL TP &lt; 50 Kbps (%)</th>\n      <td>792</td>\n      <td>0.53 %</td>\n    </tr>\n    <tr>\n      <th>50 Kbps &lt; UL TP &lt; 300 Kbps (%)</th>\n      <td>792</td>\n      <td>0.53 %</td>\n    </tr>\n    <tr>\n      <th>UL TP &gt; 300 Kbps (%)</th>\n      <td>792</td>\n      <td>0.53 %</td>\n    </tr>\n    <tr>\n      <th>HTTP DL (Bytes)</th>\n      <td>81474</td>\n      <td>54.32 %</td>\n    </tr>\n    <tr>\n      <th>HTTP UL (Bytes)</th>\n      <td>81810</td>\n      <td>54.54 %</td>\n    </tr>\n    <tr>\n      <th>Activity Duration DL (ms)</th>\n      <td>1</td>\n      <td>0.0 %</td>\n    </tr>\n    <tr>\n      <th>Activity Duration UL (ms)</th>\n      <td>1</td>\n      <td>0.0 %</td>\n    </tr>\n    <tr>\n      <th>Dur. (ms).1</th>\n      <td>1</td>\n      <td>0.0 %</td>\n    </tr>\n    <tr>\n      <th>Handset Manufacturer</th>\n      <td>9559</td>\n      <td>6.37 %</td>\n    </tr>\n    <tr>\n      <th>Handset Type</th>\n      <td>9559</td>\n      <td>6.37 %</td>\n    </tr>\n    <tr>\n      <th>Nb of sec with 125000B &lt; Vol DL</th>\n      <td>97538</td>\n      <td>65.02 %</td>\n    </tr>\n    <tr>\n      <th>Nb of sec with 1250B &lt; Vol UL &lt; 6250B</th>\n      <td>92894</td>\n      <td>61.93 %</td>\n    </tr>\n    <tr>\n      <th>Nb of sec with 31250B &lt; Vol DL &lt; 125000B</th>\n      <td>93586</td>\n      <td>62.39 %</td>\n    </tr>\n    <tr>\n      <th>Nb of sec with 37500B &lt; Vol UL</th>\n      <td>130254</td>\n      <td>86.84 %</td>\n    </tr>\n    <tr>\n      <th>Nb of sec with 6250B &lt; Vol DL &lt; 31250B</th>\n      <td>88317</td>\n      <td>58.88 %</td>\n    </tr>\n    <tr>\n      <th>Nb of sec with 6250B &lt; Vol UL &lt; 37500B</th>\n      <td>111843</td>\n      <td>74.56 %</td>\n    </tr>\n    <tr>\n      <th>Nb of sec with Vol DL &lt; 6250B</th>\n      <td>755</td>\n      <td>0.5 %</td>\n    </tr>\n    <tr>\n      <th>Nb of sec with Vol UL &lt; 1250B</th>\n      <td>793</td>\n      <td>0.53 %</td>\n    </tr>\n    <tr>\n      <th>Social Media DL (Bytes)</th>\n      <td>0</td>\n      <td>0.0 %</td>\n    </tr>\n    <tr>\n      <th>Social Media UL (Bytes)</th>\n      <td>0</td>\n      <td>0.0 %</td>\n    </tr>\n    <tr>\n      <th>Google DL (Bytes)</th>\n      <td>0</td>\n      <td>0.0 %</td>\n    </tr>\n    <tr>\n      <th>Google UL (Bytes)</th>\n      <td>0</td>\n      <td>0.0 %</td>\n    </tr>\n    <tr>\n      <th>Email DL (Bytes)</th>\n      <td>0</td>\n      <td>0.0 %</td>\n    </tr>\n    <tr>\n      <th>Email UL (Bytes)</th>\n      <td>0</td>\n      <td>0.0 %</td>\n    </tr>\n    <tr>\n      <th>Youtube DL (Bytes)</th>\n      <td>0</td>\n      <td>0.0 %</td>\n    </tr>\n    <tr>\n      <th>Youtube UL (Bytes)</th>\n      <td>0</td>\n      <td>0.0 %</td>\n    </tr>\n    <tr>\n      <th>Netflix DL (Bytes)</th>\n      <td>0</td>\n      <td>0.0 %</td>\n    </tr>\n    <tr>\n      <th>Netflix UL (Bytes)</th>\n      <td>0</td>\n      <td>0.0 %</td>\n    </tr>\n    <tr>\n      <th>Gaming DL (Bytes)</th>\n      <td>0</td>\n      <td>0.0 %</td>\n    </tr>\n    <tr>\n      <th>Gaming UL (Bytes)</th>\n      <td>0</td>\n      <td>0.0 %</td>\n    </tr>\n    <tr>\n      <th>Other DL (Bytes)</th>\n      <td>0</td>\n      <td>0.0 %</td>\n    </tr>\n    <tr>\n      <th>Other UL (Bytes)</th>\n      <td>0</td>\n      <td>0.0 %</td>\n    </tr>\n    <tr>\n      <th>Total UL (Bytes)</th>\n      <td>1</td>\n      <td>0.0 %</td>\n    </tr>\n    <tr>\n      <th>Total DL (Bytes)</th>\n      <td>1</td>\n      <td>0.0 %</td>\n    </tr>\n  </tbody>\n</table>\n</div>"
     },
     "metadata": {},
     "execution_count": 15
    }
   ],
   "source": [
    "explorer.get_column_based_missing_percentage()"
   ]
  },
  {
   "cell_type": "code",
   "execution_count": 16,
   "metadata": {},
   "outputs": [
    {
     "output_type": "execute_result",
     "data": {
      "text/plain": [
       "Index(['TCP DL Retrans. Vol (Bytes)', 'TCP UL Retrans. Vol (Bytes)',\n",
       "       'HTTP DL (Bytes)', 'HTTP UL (Bytes)', 'Nb of sec with 125000B < Vol DL',\n",
       "       'Nb of sec with 1250B < Vol UL < 6250B',\n",
       "       'Nb of sec with 31250B < Vol DL < 125000B',\n",
       "       'Nb of sec with 37500B < Vol UL',\n",
       "       'Nb of sec with 6250B < Vol DL < 31250B',\n",
       "       'Nb of sec with 6250B < Vol UL < 37500B'],\n",
       "      dtype='object')"
      ]
     },
     "metadata": {},
     "execution_count": 16
    }
   ],
   "source": [
    "explorer.get_columns_missing_percentage_greater_than(30.0)"
   ]
  },
  {
   "cell_type": "code",
   "execution_count": 17,
   "metadata": {},
   "outputs": [
    {
     "output_type": "execute_result",
     "data": {
      "text/plain": [
       "              Bearer Id               Start  Start ms                 End  \\\n",
       "0  13114483460844900352 2019-04-04 12:01:18     770.0 2019-04-25 14:35:31   \n",
       "1  13114483482878900224 2019-04-09 13:04:04     235.0 2019-04-25 08:15:48   \n",
       "2  13114483484080500736 2019-04-09 17:42:11       1.0 2019-04-25 11:58:13   \n",
       "3  13114483485442799616 2019-04-10 00:31:25     486.0 2019-04-25 07:36:35   \n",
       "4  13114483499480700928 2019-04-12 20:10:23     565.0 2019-04-25 10:40:32   \n",
       "\n",
       "   End ms  Dur. (ms)          IMSI  MSISDN/Number          IMEI  \\\n",
       "0   662.0  1823652.0  2.082014e+14   3.366496e+10  3.552121e+13   \n",
       "1   606.0  1365104.0  2.082019e+14   3.368185e+10  3.579401e+13   \n",
       "2   652.0  1361762.0  2.082003e+14   3.376063e+10  3.528151e+13   \n",
       "3   171.0  1321509.0  2.082014e+14   3.375034e+10  3.535661e+13   \n",
       "4   954.0  1089009.0  2.082014e+14   3.369979e+10  3.540701e+13   \n",
       "\n",
       "  Last Location Name  Avg RTT DL (ms)  Avg RTT UL (ms)  \\\n",
       "0   9164566995485190             42.0              5.0   \n",
       "1            L77566A             65.0              5.0   \n",
       "2            D42335A              NaN              NaN   \n",
       "3            T21824A              NaN              NaN   \n",
       "4            D88865A              NaN              NaN   \n",
       "\n",
       "   Avg Bearer TP DL (kbps)  Avg Bearer TP UL (kbps)  \\\n",
       "0                     23.0                     44.0   \n",
       "1                     16.0                     26.0   \n",
       "2                      6.0                      9.0   \n",
       "3                     44.0                     44.0   \n",
       "4                      6.0                      9.0   \n",
       "\n",
       "   TCP DL Retrans. Vol (Bytes)  TCP UL Retrans. Vol (Bytes)  \\\n",
       "0                          NaN                          NaN   \n",
       "1                          NaN                          NaN   \n",
       "2                          NaN                          NaN   \n",
       "3                          NaN                          NaN   \n",
       "4                          NaN                          NaN   \n",
       "\n",
       "   DL TP < 50 Kbps (%)  50 Kbps < DL TP < 250 Kbps (%)  \\\n",
       "0                100.0                             0.0   \n",
       "1                100.0                             0.0   \n",
       "2                100.0                             0.0   \n",
       "3                100.0                             0.0   \n",
       "4                100.0                             0.0   \n",
       "\n",
       "   250 Kbps < DL TP < 1 Mbps (%)  DL TP > 1 Mbps (%)  UL TP < 10 Kbps (%)  \\\n",
       "0                            0.0                 0.0                100.0   \n",
       "1                            0.0                 0.0                100.0   \n",
       "2                            0.0                 0.0                100.0   \n",
       "3                            0.0                 0.0                100.0   \n",
       "4                            0.0                 0.0                100.0   \n",
       "\n",
       "   10 Kbps < UL TP < 50 Kbps (%)  50 Kbps < UL TP < 300 Kbps (%)  \\\n",
       "0                            0.0                             0.0   \n",
       "1                            0.0                             0.0   \n",
       "2                            0.0                             0.0   \n",
       "3                            0.0                             0.0   \n",
       "4                            0.0                             0.0   \n",
       "\n",
       "   UL TP > 300 Kbps (%)  HTTP DL (Bytes)  HTTP UL (Bytes)  \\\n",
       "0                   0.0              NaN              NaN   \n",
       "1                   0.0              NaN              NaN   \n",
       "2                   0.0              NaN              NaN   \n",
       "3                   0.0              NaN              NaN   \n",
       "4                   0.0              NaN              NaN   \n",
       "\n",
       "   Activity Duration DL (ms)  Activity Duration UL (ms)   Dur. (ms).1  \\\n",
       "0                    37624.0                    38787.0  1.823653e+09   \n",
       "1                      168.0                     3560.0  1.365104e+09   \n",
       "2                        0.0                        0.0  1.361763e+09   \n",
       "3                     3330.0                    37882.0  1.321510e+09   \n",
       "4                        0.0                        0.0  1.089009e+09   \n",
       "\n",
       "  Handset Manufacturer                 Handset Type  \\\n",
       "0              Samsung   Samsung Galaxy A5 Sm-A520F   \n",
       "1              Samsung  Samsung Galaxy J5 (Sm-J530)   \n",
       "2              Samsung     Samsung Galaxy A8 (2018)   \n",
       "3                  NaN                          NaN   \n",
       "4              Samsung             Samsung Sm-G390F   \n",
       "\n",
       "   Nb of sec with 125000B < Vol DL  Nb of sec with 1250B < Vol UL < 6250B  \\\n",
       "0                              NaN                                    NaN   \n",
       "1                              NaN                                    NaN   \n",
       "2                              NaN                                    NaN   \n",
       "3                              NaN                                    NaN   \n",
       "4                              NaN                                    NaN   \n",
       "\n",
       "   Nb of sec with 31250B < Vol DL < 125000B  Nb of sec with 37500B < Vol UL  \\\n",
       "0                                       NaN                             NaN   \n",
       "1                                       NaN                             NaN   \n",
       "2                                       NaN                             NaN   \n",
       "3                                       NaN                             NaN   \n",
       "4                                       NaN                             NaN   \n",
       "\n",
       "   Nb of sec with 6250B < Vol DL < 31250B  \\\n",
       "0                                     NaN   \n",
       "1                                     NaN   \n",
       "2                                     NaN   \n",
       "3                                     NaN   \n",
       "4                                     NaN   \n",
       "\n",
       "   Nb of sec with 6250B < Vol UL < 37500B  Nb of sec with Vol DL < 6250B  \\\n",
       "0                                     NaN                          213.0   \n",
       "1                                     NaN                          971.0   \n",
       "2                                     NaN                          751.0   \n",
       "3                                     NaN                           17.0   \n",
       "4                                     NaN                          607.0   \n",
       "\n",
       "   Nb of sec with Vol UL < 1250B  Social Media DL (Bytes)  \\\n",
       "0                          214.0                1545765.0   \n",
       "1                         1022.0                1926113.0   \n",
       "2                          695.0                1684053.0   \n",
       "3                          207.0                 644121.0   \n",
       "4                          604.0                 862600.0   \n",
       "\n",
       "   Social Media UL (Bytes)  Google DL (Bytes)  Google UL (Bytes)  \\\n",
       "0                  24420.0          1634479.0          1271433.0   \n",
       "1                   7165.0          3493924.0           920172.0   \n",
       "2                  42224.0          8535055.0          1694064.0   \n",
       "3                  13372.0          9023734.0          2788027.0   \n",
       "4                  50188.0          6248284.0          1500559.0   \n",
       "\n",
       "   Email DL (Bytes)  Email UL (Bytes)  Youtube DL (Bytes)  Youtube UL (Bytes)  \\\n",
       "0         3563542.0          137762.0          15854611.0           2501332.0   \n",
       "1          629046.0          308339.0          20247396.0          19111728.0   \n",
       "2         2690151.0          672973.0          19725660.0          14699576.0   \n",
       "3         1439754.0          631229.0          21388122.0          15146643.0   \n",
       "4         1936496.0          173853.0          15259380.0          18962872.0   \n",
       "\n",
       "   Netflix DL (Bytes)  Netflix UL (Bytes)  Gaming DL (Bytes)  \\\n",
       "0           8198936.0           9656251.0        278082304.0   \n",
       "1          18338412.0          17227132.0        608750080.0   \n",
       "2          17587794.0           6163408.0        229584624.0   \n",
       "3          13994646.0           1097942.0        799538176.0   \n",
       "4          17124580.0            415218.0        527707264.0   \n",
       "\n",
       "   Gaming UL (Bytes)  Other DL (Bytes)  Other UL (Bytes)  Total UL (Bytes)  \\\n",
       "0         14344150.0       171744448.0         8814393.0        36749740.0   \n",
       "1          1170709.0       526904224.0        15055145.0        53800392.0   \n",
       "2           395630.0       410692576.0         4215763.0        27883638.0   \n",
       "3         10849722.0       749039936.0        12797283.0        43324216.0   \n",
       "4          3529801.0       550709504.0        13910322.0        38542816.0   \n",
       "\n",
       "   Total DL (Bytes)  \n",
       "0       308879648.0  \n",
       "1       653384960.0  \n",
       "2       279807328.0  \n",
       "3       846028544.0  \n",
       "4       569138560.0  "
      ],
      "text/html": "<div>\n<style scoped>\n    .dataframe tbody tr th:only-of-type {\n        vertical-align: middle;\n    }\n\n    .dataframe tbody tr th {\n        vertical-align: top;\n    }\n\n    .dataframe thead th {\n        text-align: right;\n    }\n</style>\n<table border=\"1\" class=\"dataframe\">\n  <thead>\n    <tr style=\"text-align: right;\">\n      <th></th>\n      <th>Bearer Id</th>\n      <th>Start</th>\n      <th>Start ms</th>\n      <th>End</th>\n      <th>End ms</th>\n      <th>Dur. (ms)</th>\n      <th>IMSI</th>\n      <th>MSISDN/Number</th>\n      <th>IMEI</th>\n      <th>Last Location Name</th>\n      <th>Avg RTT DL (ms)</th>\n      <th>Avg RTT UL (ms)</th>\n      <th>Avg Bearer TP DL (kbps)</th>\n      <th>Avg Bearer TP UL (kbps)</th>\n      <th>TCP DL Retrans. Vol (Bytes)</th>\n      <th>TCP UL Retrans. Vol (Bytes)</th>\n      <th>DL TP &lt; 50 Kbps (%)</th>\n      <th>50 Kbps &lt; DL TP &lt; 250 Kbps (%)</th>\n      <th>250 Kbps &lt; DL TP &lt; 1 Mbps (%)</th>\n      <th>DL TP &gt; 1 Mbps (%)</th>\n      <th>UL TP &lt; 10 Kbps (%)</th>\n      <th>10 Kbps &lt; UL TP &lt; 50 Kbps (%)</th>\n      <th>50 Kbps &lt; UL TP &lt; 300 Kbps (%)</th>\n      <th>UL TP &gt; 300 Kbps (%)</th>\n      <th>HTTP DL (Bytes)</th>\n      <th>HTTP UL (Bytes)</th>\n      <th>Activity Duration DL (ms)</th>\n      <th>Activity Duration UL (ms)</th>\n      <th>Dur. (ms).1</th>\n      <th>Handset Manufacturer</th>\n      <th>Handset Type</th>\n      <th>Nb of sec with 125000B &lt; Vol DL</th>\n      <th>Nb of sec with 1250B &lt; Vol UL &lt; 6250B</th>\n      <th>Nb of sec with 31250B &lt; Vol DL &lt; 125000B</th>\n      <th>Nb of sec with 37500B &lt; Vol UL</th>\n      <th>Nb of sec with 6250B &lt; Vol DL &lt; 31250B</th>\n      <th>Nb of sec with 6250B &lt; Vol UL &lt; 37500B</th>\n      <th>Nb of sec with Vol DL &lt; 6250B</th>\n      <th>Nb of sec with Vol UL &lt; 1250B</th>\n      <th>Social Media DL (Bytes)</th>\n      <th>Social Media UL (Bytes)</th>\n      <th>Google DL (Bytes)</th>\n      <th>Google UL (Bytes)</th>\n      <th>Email DL (Bytes)</th>\n      <th>Email UL (Bytes)</th>\n      <th>Youtube DL (Bytes)</th>\n      <th>Youtube UL (Bytes)</th>\n      <th>Netflix DL (Bytes)</th>\n      <th>Netflix UL (Bytes)</th>\n      <th>Gaming DL (Bytes)</th>\n      <th>Gaming UL (Bytes)</th>\n      <th>Other DL (Bytes)</th>\n      <th>Other UL (Bytes)</th>\n      <th>Total UL (Bytes)</th>\n      <th>Total DL (Bytes)</th>\n    </tr>\n  </thead>\n  <tbody>\n    <tr>\n      <th>0</th>\n      <td>13114483460844900352</td>\n      <td>2019-04-04 12:01:18</td>\n      <td>770.0</td>\n      <td>2019-04-25 14:35:31</td>\n      <td>662.0</td>\n      <td>1823652.0</td>\n      <td>2.082014e+14</td>\n      <td>3.366496e+10</td>\n      <td>3.552121e+13</td>\n      <td>9164566995485190</td>\n      <td>42.0</td>\n      <td>5.0</td>\n      <td>23.0</td>\n      <td>44.0</td>\n      <td>NaN</td>\n      <td>NaN</td>\n      <td>100.0</td>\n      <td>0.0</td>\n      <td>0.0</td>\n      <td>0.0</td>\n      <td>100.0</td>\n      <td>0.0</td>\n      <td>0.0</td>\n      <td>0.0</td>\n      <td>NaN</td>\n      <td>NaN</td>\n      <td>37624.0</td>\n      <td>38787.0</td>\n      <td>1.823653e+09</td>\n      <td>Samsung</td>\n      <td>Samsung Galaxy A5 Sm-A520F</td>\n      <td>NaN</td>\n      <td>NaN</td>\n      <td>NaN</td>\n      <td>NaN</td>\n      <td>NaN</td>\n      <td>NaN</td>\n      <td>213.0</td>\n      <td>214.0</td>\n      <td>1545765.0</td>\n      <td>24420.0</td>\n      <td>1634479.0</td>\n      <td>1271433.0</td>\n      <td>3563542.0</td>\n      <td>137762.0</td>\n      <td>15854611.0</td>\n      <td>2501332.0</td>\n      <td>8198936.0</td>\n      <td>9656251.0</td>\n      <td>278082304.0</td>\n      <td>14344150.0</td>\n      <td>171744448.0</td>\n      <td>8814393.0</td>\n      <td>36749740.0</td>\n      <td>308879648.0</td>\n    </tr>\n    <tr>\n      <th>1</th>\n      <td>13114483482878900224</td>\n      <td>2019-04-09 13:04:04</td>\n      <td>235.0</td>\n      <td>2019-04-25 08:15:48</td>\n      <td>606.0</td>\n      <td>1365104.0</td>\n      <td>2.082019e+14</td>\n      <td>3.368185e+10</td>\n      <td>3.579401e+13</td>\n      <td>L77566A</td>\n      <td>65.0</td>\n      <td>5.0</td>\n      <td>16.0</td>\n      <td>26.0</td>\n      <td>NaN</td>\n      <td>NaN</td>\n      <td>100.0</td>\n      <td>0.0</td>\n      <td>0.0</td>\n      <td>0.0</td>\n      <td>100.0</td>\n      <td>0.0</td>\n      <td>0.0</td>\n      <td>0.0</td>\n      <td>NaN</td>\n      <td>NaN</td>\n      <td>168.0</td>\n      <td>3560.0</td>\n      <td>1.365104e+09</td>\n      <td>Samsung</td>\n      <td>Samsung Galaxy J5 (Sm-J530)</td>\n      <td>NaN</td>\n      <td>NaN</td>\n      <td>NaN</td>\n      <td>NaN</td>\n      <td>NaN</td>\n      <td>NaN</td>\n      <td>971.0</td>\n      <td>1022.0</td>\n      <td>1926113.0</td>\n      <td>7165.0</td>\n      <td>3493924.0</td>\n      <td>920172.0</td>\n      <td>629046.0</td>\n      <td>308339.0</td>\n      <td>20247396.0</td>\n      <td>19111728.0</td>\n      <td>18338412.0</td>\n      <td>17227132.0</td>\n      <td>608750080.0</td>\n      <td>1170709.0</td>\n      <td>526904224.0</td>\n      <td>15055145.0</td>\n      <td>53800392.0</td>\n      <td>653384960.0</td>\n    </tr>\n    <tr>\n      <th>2</th>\n      <td>13114483484080500736</td>\n      <td>2019-04-09 17:42:11</td>\n      <td>1.0</td>\n      <td>2019-04-25 11:58:13</td>\n      <td>652.0</td>\n      <td>1361762.0</td>\n      <td>2.082003e+14</td>\n      <td>3.376063e+10</td>\n      <td>3.528151e+13</td>\n      <td>D42335A</td>\n      <td>NaN</td>\n      <td>NaN</td>\n      <td>6.0</td>\n      <td>9.0</td>\n      <td>NaN</td>\n      <td>NaN</td>\n      <td>100.0</td>\n      <td>0.0</td>\n      <td>0.0</td>\n      <td>0.0</td>\n      <td>100.0</td>\n      <td>0.0</td>\n      <td>0.0</td>\n      <td>0.0</td>\n      <td>NaN</td>\n      <td>NaN</td>\n      <td>0.0</td>\n      <td>0.0</td>\n      <td>1.361763e+09</td>\n      <td>Samsung</td>\n      <td>Samsung Galaxy A8 (2018)</td>\n      <td>NaN</td>\n      <td>NaN</td>\n      <td>NaN</td>\n      <td>NaN</td>\n      <td>NaN</td>\n      <td>NaN</td>\n      <td>751.0</td>\n      <td>695.0</td>\n      <td>1684053.0</td>\n      <td>42224.0</td>\n      <td>8535055.0</td>\n      <td>1694064.0</td>\n      <td>2690151.0</td>\n      <td>672973.0</td>\n      <td>19725660.0</td>\n      <td>14699576.0</td>\n      <td>17587794.0</td>\n      <td>6163408.0</td>\n      <td>229584624.0</td>\n      <td>395630.0</td>\n      <td>410692576.0</td>\n      <td>4215763.0</td>\n      <td>27883638.0</td>\n      <td>279807328.0</td>\n    </tr>\n    <tr>\n      <th>3</th>\n      <td>13114483485442799616</td>\n      <td>2019-04-10 00:31:25</td>\n      <td>486.0</td>\n      <td>2019-04-25 07:36:35</td>\n      <td>171.0</td>\n      <td>1321509.0</td>\n      <td>2.082014e+14</td>\n      <td>3.375034e+10</td>\n      <td>3.535661e+13</td>\n      <td>T21824A</td>\n      <td>NaN</td>\n      <td>NaN</td>\n      <td>44.0</td>\n      <td>44.0</td>\n      <td>NaN</td>\n      <td>NaN</td>\n      <td>100.0</td>\n      <td>0.0</td>\n      <td>0.0</td>\n      <td>0.0</td>\n      <td>100.0</td>\n      <td>0.0</td>\n      <td>0.0</td>\n      <td>0.0</td>\n      <td>NaN</td>\n      <td>NaN</td>\n      <td>3330.0</td>\n      <td>37882.0</td>\n      <td>1.321510e+09</td>\n      <td>NaN</td>\n      <td>NaN</td>\n      <td>NaN</td>\n      <td>NaN</td>\n      <td>NaN</td>\n      <td>NaN</td>\n      <td>NaN</td>\n      <td>NaN</td>\n      <td>17.0</td>\n      <td>207.0</td>\n      <td>644121.0</td>\n      <td>13372.0</td>\n      <td>9023734.0</td>\n      <td>2788027.0</td>\n      <td>1439754.0</td>\n      <td>631229.0</td>\n      <td>21388122.0</td>\n      <td>15146643.0</td>\n      <td>13994646.0</td>\n      <td>1097942.0</td>\n      <td>799538176.0</td>\n      <td>10849722.0</td>\n      <td>749039936.0</td>\n      <td>12797283.0</td>\n      <td>43324216.0</td>\n      <td>846028544.0</td>\n    </tr>\n    <tr>\n      <th>4</th>\n      <td>13114483499480700928</td>\n      <td>2019-04-12 20:10:23</td>\n      <td>565.0</td>\n      <td>2019-04-25 10:40:32</td>\n      <td>954.0</td>\n      <td>1089009.0</td>\n      <td>2.082014e+14</td>\n      <td>3.369979e+10</td>\n      <td>3.540701e+13</td>\n      <td>D88865A</td>\n      <td>NaN</td>\n      <td>NaN</td>\n      <td>6.0</td>\n      <td>9.0</td>\n      <td>NaN</td>\n      <td>NaN</td>\n      <td>100.0</td>\n      <td>0.0</td>\n      <td>0.0</td>\n      <td>0.0</td>\n      <td>100.0</td>\n      <td>0.0</td>\n      <td>0.0</td>\n      <td>0.0</td>\n      <td>NaN</td>\n      <td>NaN</td>\n      <td>0.0</td>\n      <td>0.0</td>\n      <td>1.089009e+09</td>\n      <td>Samsung</td>\n      <td>Samsung Sm-G390F</td>\n      <td>NaN</td>\n      <td>NaN</td>\n      <td>NaN</td>\n      <td>NaN</td>\n      <td>NaN</td>\n      <td>NaN</td>\n      <td>607.0</td>\n      <td>604.0</td>\n      <td>862600.0</td>\n      <td>50188.0</td>\n      <td>6248284.0</td>\n      <td>1500559.0</td>\n      <td>1936496.0</td>\n      <td>173853.0</td>\n      <td>15259380.0</td>\n      <td>18962872.0</td>\n      <td>17124580.0</td>\n      <td>415218.0</td>\n      <td>527707264.0</td>\n      <td>3529801.0</td>\n      <td>550709504.0</td>\n      <td>13910322.0</td>\n      <td>38542816.0</td>\n      <td>569138560.0</td>\n    </tr>\n  </tbody>\n</table>\n</div>"
     },
     "metadata": {},
     "execution_count": 17
    }
   ],
   "source": [
    "from data_cleaner import DataCleaner\n",
    "cleaner = DataCleaner(explorer.df)\n",
    "cleaner.df.head()"
   ]
  },
  {
   "cell_type": "code",
   "execution_count": 18,
   "metadata": {
    "tags": []
   },
   "outputs": [
    {
     "output_type": "stream",
     "name": "stdout",
     "text": [
      "<class 'pandas.core.frame.DataFrame'>\nRangeIndex: 150001 entries, 0 to 150000\nData columns (total 55 columns):\n #   Column                                    Non-Null Count   Dtype         \n---  ------                                    --------------   -----         \n 0   Bearer Id                                 150001 non-null  object        \n 1   Start                                     150000 non-null  datetime64[ns]\n 2   Start ms                                  150000 non-null  float32       \n 3   End                                       150000 non-null  datetime64[ns]\n 4   End ms                                    150000 non-null  float32       \n 5   Dur. (ms)                                 150000 non-null  float32       \n 6   IMSI                                      149431 non-null  float32       \n 7   MSISDN/Number                             148935 non-null  float32       \n 8   IMEI                                      149429 non-null  float32       \n 9   Last Location Name                        148848 non-null  object        \n 10  Avg RTT DL (ms)                           122172 non-null  float32       \n 11  Avg RTT UL (ms)                           122189 non-null  float32       \n 12  Avg Bearer TP DL (kbps)                   150000 non-null  float32       \n 13  Avg Bearer TP UL (kbps)                   150000 non-null  float32       \n 14  TCP DL Retrans. Vol (Bytes)               61855 non-null   float32       \n 15  TCP UL Retrans. Vol (Bytes)               53352 non-null   float32       \n 16  DL TP < 50 Kbps (%)                       149247 non-null  float32       \n 17  50 Kbps < DL TP < 250 Kbps (%)            149247 non-null  float32       \n 18  250 Kbps < DL TP < 1 Mbps (%)             149247 non-null  float32       \n 19  DL TP > 1 Mbps (%)                        149247 non-null  float32       \n 20  UL TP < 10 Kbps (%)                       149209 non-null  float32       \n 21  10 Kbps < UL TP < 50 Kbps (%)             149209 non-null  float32       \n 22  50 Kbps < UL TP < 300 Kbps (%)            149209 non-null  float32       \n 23  UL TP > 300 Kbps (%)                      149209 non-null  float32       \n 24  HTTP DL (Bytes)                           68527 non-null   float32       \n 25  HTTP UL (Bytes)                           68191 non-null   float32       \n 26  Activity Duration DL (ms)                 150000 non-null  float32       \n 27  Activity Duration UL (ms)                 150000 non-null  float32       \n 28  Dur. (ms).1                               150000 non-null  float32       \n 29  Handset Manufacturer                      140442 non-null  object        \n 30  Handset Type                              140442 non-null  object        \n 31  Nb of sec with 125000B < Vol DL           52463 non-null   float32       \n 32  Nb of sec with 1250B < Vol UL < 6250B     57107 non-null   float32       \n 33  Nb of sec with 31250B < Vol DL < 125000B  56415 non-null   float32       \n 34  Nb of sec with 37500B < Vol UL            19747 non-null   float32       \n 35  Nb of sec with 6250B < Vol DL < 31250B    61684 non-null   float32       \n 36  Nb of sec with 6250B < Vol UL < 37500B    38158 non-null   float32       \n 37  Nb of sec with Vol DL < 6250B             149246 non-null  float32       \n 38  Nb of sec with Vol UL < 1250B             149208 non-null  float32       \n 39  Social Media DL (Bytes)                   150001 non-null  float32       \n 40  Social Media UL (Bytes)                   150001 non-null  float32       \n 41  Google DL (Bytes)                         150001 non-null  float32       \n 42  Google UL (Bytes)                         150001 non-null  float32       \n 43  Email DL (Bytes)                          150001 non-null  float32       \n 44  Email UL (Bytes)                          150001 non-null  float32       \n 45  Youtube DL (Bytes)                        150001 non-null  float32       \n 46  Youtube UL (Bytes)                        150001 non-null  float32       \n 47  Netflix DL (Bytes)                        150001 non-null  float32       \n 48  Netflix UL (Bytes)                        150001 non-null  float32       \n 49  Gaming DL (Bytes)                         150001 non-null  float32       \n 50  Gaming UL (Bytes)                         150001 non-null  float32       \n 51  Other DL (Bytes)                          150001 non-null  float32       \n 52  Other UL (Bytes)                          150001 non-null  float32       \n 53  Total UL (Bytes)                          150000 non-null  float32       \n 54  Total DL (Bytes)                          150000 non-null  float32       \ndtypes: datetime64[ns](2), float32(49), object(4)\nmemory usage: 34.9+ MB\n"
     ]
    }
   ],
   "source": [
    "cleaner.df.info()"
   ]
  },
  {
   "cell_type": "code",
   "execution_count": 19,
   "metadata": {},
   "outputs": [
    {
     "output_type": "execute_result",
     "data": {
      "text/plain": [
       "(150001, 45)"
      ]
     },
     "metadata": {},
     "execution_count": 19
    }
   ],
   "source": [
    "cleaner.remove_unwanted_columns(explorer.get_columns_missing_percentage_greater_than(30.0))\n",
    "cleaner.df.shape"
   ]
  },
  {
   "cell_type": "code",
   "execution_count": 20,
   "metadata": {},
   "outputs": [
    {
     "output_type": "execute_result",
     "data": {
      "text/plain": [
       "(150000, 45)"
      ]
     },
     "metadata": {},
     "execution_count": 20
    }
   ],
   "source": [
    "cleaner.df.drop([cleaner.df.index[-1]], inplace=True)\n",
    "cleaner.df.shape"
   ]
  },
  {
   "cell_type": "code",
   "execution_count": 21,
   "metadata": {},
   "outputs": [],
   "source": [
    "explorer = DataInfo(cleaner.df)"
   ]
  },
  {
   "cell_type": "code",
   "execution_count": 22,
   "metadata": {},
   "outputs": [
    {
     "output_type": "execute_result",
     "data": {
      "text/plain": [
       "['IMSI',\n",
       " 'MSISDN/Number',\n",
       " 'IMEI',\n",
       " 'Last Location Name',\n",
       " 'Avg RTT DL (ms)',\n",
       " 'Avg RTT UL (ms)',\n",
       " 'DL TP < 50 Kbps (%)',\n",
       " '50 Kbps < DL TP < 250 Kbps (%)',\n",
       " '250 Kbps < DL TP < 1 Mbps (%)',\n",
       " 'DL TP > 1 Mbps (%)',\n",
       " 'UL TP < 10 Kbps (%)',\n",
       " '10 Kbps < UL TP < 50 Kbps (%)',\n",
       " '50 Kbps < UL TP < 300 Kbps (%)',\n",
       " 'UL TP > 300 Kbps (%)',\n",
       " 'Handset Manufacturer',\n",
       " 'Handset Type',\n",
       " 'Nb of sec with Vol DL < 6250B',\n",
       " 'Nb of sec with Vol UL < 1250B']"
      ]
     },
     "metadata": {},
     "execution_count": 22
    }
   ],
   "source": [
    "explorer.get_columns_with_missing_values()"
   ]
  },
  {
   "cell_type": "code",
   "execution_count": 23,
   "metadata": {},
   "outputs": [
    {
     "output_type": "execute_result",
     "data": {
      "text/plain": [
       "                                missing_count     type\n",
       "IMSI                                      569  float32\n",
       "MSISDN/Number                            1065  float32\n",
       "IMEI                                      571  float32\n",
       "Last Location Name                       1152   object\n",
       "Avg RTT DL (ms)                         27828  float32\n",
       "Avg RTT UL (ms)                         27811  float32\n",
       "DL TP < 50 Kbps (%)                       753  float32\n",
       "50 Kbps < DL TP < 250 Kbps (%)            753  float32\n",
       "250 Kbps < DL TP < 1 Mbps (%)             753  float32\n",
       "DL TP > 1 Mbps (%)                        753  float32\n",
       "UL TP < 10 Kbps (%)                       791  float32\n",
       "10 Kbps < UL TP < 50 Kbps (%)             791  float32\n",
       "50 Kbps < UL TP < 300 Kbps (%)            791  float32\n",
       "UL TP > 300 Kbps (%)                      791  float32\n",
       "Handset Manufacturer                     9558   object\n",
       "Handset Type                             9558   object\n",
       "Nb of sec with Vol DL < 6250B             754  float32\n",
       "Nb of sec with Vol UL < 1250B             792  float32"
      ],
      "text/html": "<div>\n<style scoped>\n    .dataframe tbody tr th:only-of-type {\n        vertical-align: middle;\n    }\n\n    .dataframe tbody tr th {\n        vertical-align: top;\n    }\n\n    .dataframe thead th {\n        text-align: right;\n    }\n</style>\n<table border=\"1\" class=\"dataframe\">\n  <thead>\n    <tr style=\"text-align: right;\">\n      <th></th>\n      <th>missing_count</th>\n      <th>type</th>\n    </tr>\n  </thead>\n  <tbody>\n    <tr>\n      <th>IMSI</th>\n      <td>569</td>\n      <td>float32</td>\n    </tr>\n    <tr>\n      <th>MSISDN/Number</th>\n      <td>1065</td>\n      <td>float32</td>\n    </tr>\n    <tr>\n      <th>IMEI</th>\n      <td>571</td>\n      <td>float32</td>\n    </tr>\n    <tr>\n      <th>Last Location Name</th>\n      <td>1152</td>\n      <td>object</td>\n    </tr>\n    <tr>\n      <th>Avg RTT DL (ms)</th>\n      <td>27828</td>\n      <td>float32</td>\n    </tr>\n    <tr>\n      <th>Avg RTT UL (ms)</th>\n      <td>27811</td>\n      <td>float32</td>\n    </tr>\n    <tr>\n      <th>DL TP &lt; 50 Kbps (%)</th>\n      <td>753</td>\n      <td>float32</td>\n    </tr>\n    <tr>\n      <th>50 Kbps &lt; DL TP &lt; 250 Kbps (%)</th>\n      <td>753</td>\n      <td>float32</td>\n    </tr>\n    <tr>\n      <th>250 Kbps &lt; DL TP &lt; 1 Mbps (%)</th>\n      <td>753</td>\n      <td>float32</td>\n    </tr>\n    <tr>\n      <th>DL TP &gt; 1 Mbps (%)</th>\n      <td>753</td>\n      <td>float32</td>\n    </tr>\n    <tr>\n      <th>UL TP &lt; 10 Kbps (%)</th>\n      <td>791</td>\n      <td>float32</td>\n    </tr>\n    <tr>\n      <th>10 Kbps &lt; UL TP &lt; 50 Kbps (%)</th>\n      <td>791</td>\n      <td>float32</td>\n    </tr>\n    <tr>\n      <th>50 Kbps &lt; UL TP &lt; 300 Kbps (%)</th>\n      <td>791</td>\n      <td>float32</td>\n    </tr>\n    <tr>\n      <th>UL TP &gt; 300 Kbps (%)</th>\n      <td>791</td>\n      <td>float32</td>\n    </tr>\n    <tr>\n      <th>Handset Manufacturer</th>\n      <td>9558</td>\n      <td>object</td>\n    </tr>\n    <tr>\n      <th>Handset Type</th>\n      <td>9558</td>\n      <td>object</td>\n    </tr>\n    <tr>\n      <th>Nb of sec with Vol DL &lt; 6250B</th>\n      <td>754</td>\n      <td>float32</td>\n    </tr>\n    <tr>\n      <th>Nb of sec with Vol UL &lt; 1250B</th>\n      <td>792</td>\n      <td>float32</td>\n    </tr>\n  </tbody>\n</table>\n</div>"
     },
     "metadata": {},
     "execution_count": 23
    }
   ],
   "source": [
    "explorer.get_column_based_missing_values()"
   ]
  },
  {
   "source": [
    "Check if skew for numeric missing values and if not fill missing values with mean value but if skew use median"
   ],
   "cell_type": "markdown",
   "metadata": {}
  },
  {
   "cell_type": "code",
   "execution_count": 24,
   "metadata": {
    "tags": []
   },
   "outputs": [],
   "source": [
    "cleaner.remove_duplicates()"
   ]
  },
  {
   "cell_type": "code",
   "execution_count": 25,
   "metadata": {},
   "outputs": [
    {
     "output_type": "execute_result",
     "data": {
      "text/plain": [
       "                   Bearer Id               Start  Start ms  \\\n",
       "110957  13114483567549999104 2019-04-27 19:23:48     846.0   \n",
       "13602   13042425959082299392 2019-04-24 18:22:04     865.0   \n",
       "16894   13042425959321200640 2019-04-24 19:19:57     158.0   \n",
       "73948    7349883254890789888 2019-04-26 08:59:19     771.0   \n",
       "149468  13042425979312900096 2019-04-29 07:23:28     874.0   \n",
       "19991   13042425959481300992 2019-04-24 20:03:17     463.0   \n",
       "123948  13042425975137699840 2019-04-28 05:49:50     345.0   \n",
       "52963    7349883251244210176 2019-04-25 08:04:48       7.0   \n",
       "108298   7349883259486400512 2019-04-27 15:02:52     752.0   \n",
       "111585  13114483567800799232 2019-04-27 20:31:14      29.0   \n",
       "\n",
       "                       End  End ms  Dur. (ms)          IMSI  MSISDN/Number  \\\n",
       "110957 2019-04-29 06:32:29   580.0   126520.0  2.082017e+14   3.369546e+10   \n",
       "13602  2019-04-24 23:38:46   317.0    19001.0  2.082010e+14   3.364729e+10   \n",
       "16894  2019-04-25 02:42:14   767.0    26537.0  2.082014e+14   3.363655e+10   \n",
       "73948  2019-04-27 04:23:26   995.0    69847.0  2.082009e+14   3.367909e+10   \n",
       "149468 2019-04-30 07:23:28   856.0    86399.0  2.082014e+14   3.362682e+10   \n",
       "19991  2019-04-25 01:45:50    37.0    20552.0  2.082019e+14   3.362869e+10   \n",
       "123948 2019-04-29 05:49:50   297.0    86399.0  2.082014e+14   3.366619e+10   \n",
       "52963  2019-04-27 06:07:13   170.0   165745.0  2.082018e+14   3.367222e+10   \n",
       "108298 2019-04-29 09:20:25   330.0   152252.0  2.082019e+14   3.365062e+10   \n",
       "111585 2019-04-29 07:52:13    57.0   127259.0  2.082009e+14   3.363106e+10   \n",
       "\n",
       "                IMEI Last Location Name  Avg RTT DL (ms)  Avg RTT UL (ms)  \\\n",
       "110957  3.566261e+13            L70858B             45.0              5.0   \n",
       "13602   3.522041e+13            D70228A             57.0             76.0   \n",
       "16894   3.572291e+13            L72220C            105.0              5.0   \n",
       "73948   3.573581e+13            L54322C             28.0              1.0   \n",
       "149468  3.589921e+13            T21316B             38.0             19.0   \n",
       "19991   3.566111e+13            T23747C            215.0             11.0   \n",
       "123948  3.533251e+13            L40629B             38.0              5.0   \n",
       "52963   8.698960e+13            D12723A             14.0              2.0   \n",
       "108298  3.570631e+13   9164566985578500             45.0              5.0   \n",
       "111585  3.573691e+13            T79675A             33.0              5.0   \n",
       "\n",
       "        Avg Bearer TP DL (kbps)  Avg Bearer TP UL (kbps)  DL TP < 50 Kbps (%)  \\\n",
       "110957                     43.0                     45.0                100.0   \n",
       "13602                   44153.0                   2853.0                 88.0   \n",
       "16894                   53788.0                   1960.0                 86.0   \n",
       "73948                      39.0                     54.0                100.0   \n",
       "149468                  14070.0                   1202.0                 96.0   \n",
       "19991                   15473.0                   1800.0                 41.0   \n",
       "123948                  47054.0                   5145.0                 53.0   \n",
       "52963                      44.0                     43.0                100.0   \n",
       "108298                     59.0                     51.0                100.0   \n",
       "111585                     10.0                     54.0                100.0   \n",
       "\n",
       "        50 Kbps < DL TP < 250 Kbps (%)  250 Kbps < DL TP < 1 Mbps (%)  \\\n",
       "110957                             0.0                            0.0   \n",
       "13602                              1.0                            1.0   \n",
       "16894                              6.0                            4.0   \n",
       "73948                              0.0                            0.0   \n",
       "149468                             2.0                            0.0   \n",
       "19991                             32.0                           22.0   \n",
       "123948                            23.0                           13.0   \n",
       "52963                              0.0                            0.0   \n",
       "108298                             0.0                            0.0   \n",
       "111585                             0.0                            0.0   \n",
       "\n",
       "        DL TP > 1 Mbps (%)  UL TP < 10 Kbps (%)  \\\n",
       "110957                 0.0                100.0   \n",
       "13602                  8.0                 96.0   \n",
       "16894                  3.0                 96.0   \n",
       "73948                  0.0                100.0   \n",
       "149468                 0.0                 98.0   \n",
       "19991                  3.0                 98.0   \n",
       "123948                 8.0                 99.0   \n",
       "52963                  0.0                100.0   \n",
       "108298                 0.0                100.0   \n",
       "111585                 0.0                100.0   \n",
       "\n",
       "        10 Kbps < UL TP < 50 Kbps (%)  50 Kbps < UL TP < 300 Kbps (%)  \\\n",
       "110957                            0.0                             0.0   \n",
       "13602                             2.0                             0.0   \n",
       "16894                             2.0                             0.0   \n",
       "73948                             0.0                             0.0   \n",
       "149468                            0.0                             0.0   \n",
       "19991                             1.0                             0.0   \n",
       "123948                            0.0                             0.0   \n",
       "52963                             0.0                             0.0   \n",
       "108298                            0.0                             0.0   \n",
       "111585                            0.0                             0.0   \n",
       "\n",
       "        UL TP > 300 Kbps (%)  Activity Duration DL (ms)  \\\n",
       "110957                   0.0                    33211.0   \n",
       "13602                    0.0                  1143142.0   \n",
       "16894                    0.0                  1515816.0   \n",
       "73948                    0.0                    14208.0   \n",
       "149468                   0.0                   184049.0   \n",
       "19991                    0.0                  3051799.0   \n",
       "123948                   0.0                  3771486.0   \n",
       "52963                    0.0                    11428.0   \n",
       "108298                   0.0                    25143.0   \n",
       "111585                   0.0                        0.0   \n",
       "\n",
       "        Activity Duration UL (ms)  Dur. (ms).1  \\\n",
       "110957                    33235.0  126520736.0   \n",
       "13602                    281142.0   19001452.0   \n",
       "16894                   1405886.0   26537608.0   \n",
       "73948                     15858.0   69847224.0   \n",
       "149468                   169863.0   86399984.0   \n",
       "19991                   1902176.0   20552574.0   \n",
       "123948                  3754232.0   86399952.0   \n",
       "52963                     24675.0  165745168.0   \n",
       "108298                    35182.0  152252576.0   \n",
       "111585                      779.0  127259024.0   \n",
       "\n",
       "                        Handset Manufacturer  \\\n",
       "110957                               Samsung   \n",
       "13602                                Samsung   \n",
       "16894                                  Apple   \n",
       "73948                                  Apple   \n",
       "149468                               Samsung   \n",
       "19991                                  Apple   \n",
       "123948                                   NaN   \n",
       "52963   Oneplus Technology (Shenzhen) Co Ltd   \n",
       "108298                               Samsung   \n",
       "111585                                 Apple   \n",
       "\n",
       "                             Handset Type  Nb of sec with Vol DL < 6250B  \\\n",
       "110957  Samsung Galaxy S9 Plus (Sm-G965F)                          131.0   \n",
       "13602   Samsung Galaxy S7 Edge (Sm-G935X)                         2201.0   \n",
       "16894             Apple iPhone Xs (A2097)                         3603.0   \n",
       "73948             Apple iPhone Xr (A2105)                           66.0   \n",
       "149468       Samsung Galaxy S6 (Sm-G920X)                         1209.0   \n",
       "19991             Apple iPhone Se (A1723)                         3191.0   \n",
       "123948                                NaN                         8981.0   \n",
       "52963         Oneplus Technolo. Oneplus 6                           78.0   \n",
       "108298                  Samsung Galaxy J6                          156.0   \n",
       "111585            Apple iPhone Xr (A2105)                            2.0   \n",
       "\n",
       "        Nb of sec with Vol UL < 1250B  Social Media DL (Bytes)  \\\n",
       "110957                          140.0                 830398.0   \n",
       "13602                          2207.0                 410925.0   \n",
       "16894                          4042.0                2493827.0   \n",
       "73948                            67.0                 692426.0   \n",
       "149468                         1017.0                2365502.0   \n",
       "19991                          7591.0                 501993.0   \n",
       "123948                        16540.0                2009088.0   \n",
       "52963                           166.0                1223113.0   \n",
       "108298                          208.0                2234145.0   \n",
       "111585                            2.0                1965417.0   \n",
       "\n",
       "        Social Media UL (Bytes)  Google DL (Bytes)  Google UL (Bytes)  \\\n",
       "110957                  50847.0          3020310.0           152239.0   \n",
       "13602                   21765.0           834261.0          2209916.0   \n",
       "16894                   52781.0          3789912.0           351787.0   \n",
       "73948                   35289.0          3382939.0          2420337.0   \n",
       "149468                  32544.0          9774662.0          3636322.0   \n",
       "19991                   18469.0          2524841.0          1551534.0   \n",
       "123948                  58621.0         10414149.0          1251259.0   \n",
       "52963                   25275.0          2166740.0          1478004.0   \n",
       "108298                   6844.0          1993760.0          3373821.0   \n",
       "111585                  54839.0          1157053.0          3525518.0   \n",
       "\n",
       "        Email DL (Bytes)  Email UL (Bytes)  Youtube DL (Bytes)  \\\n",
       "110957         2580648.0          192971.0            759548.0   \n",
       "13602           421930.0          406526.0          21911524.0   \n",
       "16894          2583293.0          668775.0          13488148.0   \n",
       "73948          2384786.0          811555.0          22950572.0   \n",
       "149468         1888482.0           78795.0           4599057.0   \n",
       "19991           491567.0          647876.0          21975624.0   \n",
       "123948          394032.0          918422.0          20234308.0   \n",
       "52963           772986.0          793111.0           1479121.0   \n",
       "108298         1691481.0           40359.0           7349071.0   \n",
       "111585         3498632.0          373085.0          14178789.0   \n",
       "\n",
       "        Youtube UL (Bytes)  Netflix DL (Bytes)  Netflix UL (Bytes)  \\\n",
       "110957          14214175.0          10977461.0          16035216.0   \n",
       "13602           13297303.0          14688592.0          10131097.0   \n",
       "16894           10689264.0           7282716.0           1176996.0   \n",
       "73948            5707673.0           6738898.0           2499961.0   \n",
       "149468           1344255.0           8539643.0           6452066.0   \n",
       "19991           14718285.0          10754160.0          20247324.0   \n",
       "123948          21947696.0           8135457.0           8568616.0   \n",
       "52963            3928742.0          21304604.0          17954248.0   \n",
       "108298          14234254.0          23242400.0           6228823.0   \n",
       "111585          21701532.0           8139817.0            591115.0   \n",
       "\n",
       "        Gaming DL (Bytes)  Gaming UL (Bytes)  Other DL (Bytes)  \\\n",
       "110957        622218944.0         13906801.0       488179392.0   \n",
       "13602         181213376.0          8478558.0       746191360.0   \n",
       "16894          36970180.0         15636815.0        73454536.0   \n",
       "73948         398207296.0         12787225.0       237006144.0   \n",
       "149468        363496672.0         12222834.0       329318528.0   \n",
       "19991         815780992.0         16053505.0       138233600.0   \n",
       "123948        551953344.0         12257888.0       527971072.0   \n",
       "52963         120858256.0         10698913.0       155045088.0   \n",
       "108298        734559488.0          2224568.0       409950336.0   \n",
       "111585         52444936.0          7274262.0       654685568.0   \n",
       "\n",
       "        Other UL (Bytes)  Total UL (Bytes)  Total DL (Bytes)  \n",
       "110957         5340011.0        49892260.0       640387264.0  \n",
       "13602          7639822.0        42184988.0       219480608.0  \n",
       "16894         10104646.0        38681064.0        66608076.0  \n",
       "73948         14308674.0        38570712.0       434356896.0  \n",
       "149468         6750480.0        30517296.0       390664000.0  \n",
       "19991           209738.0        53446732.0       852029184.0  \n",
       "123948         3112532.0        48115036.0       593140352.0  \n",
       "52963          1622087.0        36500380.0       147804816.0  \n",
       "108298         3030831.0        29139500.0       771070336.0  \n",
       "111585        13666149.0        47186500.0        81384648.0  "
      ],
      "text/html": "<div>\n<style scoped>\n    .dataframe tbody tr th:only-of-type {\n        vertical-align: middle;\n    }\n\n    .dataframe tbody tr th {\n        vertical-align: top;\n    }\n\n    .dataframe thead th {\n        text-align: right;\n    }\n</style>\n<table border=\"1\" class=\"dataframe\">\n  <thead>\n    <tr style=\"text-align: right;\">\n      <th></th>\n      <th>Bearer Id</th>\n      <th>Start</th>\n      <th>Start ms</th>\n      <th>End</th>\n      <th>End ms</th>\n      <th>Dur. (ms)</th>\n      <th>IMSI</th>\n      <th>MSISDN/Number</th>\n      <th>IMEI</th>\n      <th>Last Location Name</th>\n      <th>Avg RTT DL (ms)</th>\n      <th>Avg RTT UL (ms)</th>\n      <th>Avg Bearer TP DL (kbps)</th>\n      <th>Avg Bearer TP UL (kbps)</th>\n      <th>DL TP &lt; 50 Kbps (%)</th>\n      <th>50 Kbps &lt; DL TP &lt; 250 Kbps (%)</th>\n      <th>250 Kbps &lt; DL TP &lt; 1 Mbps (%)</th>\n      <th>DL TP &gt; 1 Mbps (%)</th>\n      <th>UL TP &lt; 10 Kbps (%)</th>\n      <th>10 Kbps &lt; UL TP &lt; 50 Kbps (%)</th>\n      <th>50 Kbps &lt; UL TP &lt; 300 Kbps (%)</th>\n      <th>UL TP &gt; 300 Kbps (%)</th>\n      <th>Activity Duration DL (ms)</th>\n      <th>Activity Duration UL (ms)</th>\n      <th>Dur. (ms).1</th>\n      <th>Handset Manufacturer</th>\n      <th>Handset Type</th>\n      <th>Nb of sec with Vol DL &lt; 6250B</th>\n      <th>Nb of sec with Vol UL &lt; 1250B</th>\n      <th>Social Media DL (Bytes)</th>\n      <th>Social Media UL (Bytes)</th>\n      <th>Google DL (Bytes)</th>\n      <th>Google UL (Bytes)</th>\n      <th>Email DL (Bytes)</th>\n      <th>Email UL (Bytes)</th>\n      <th>Youtube DL (Bytes)</th>\n      <th>Youtube UL (Bytes)</th>\n      <th>Netflix DL (Bytes)</th>\n      <th>Netflix UL (Bytes)</th>\n      <th>Gaming DL (Bytes)</th>\n      <th>Gaming UL (Bytes)</th>\n      <th>Other DL (Bytes)</th>\n      <th>Other UL (Bytes)</th>\n      <th>Total UL (Bytes)</th>\n      <th>Total DL (Bytes)</th>\n    </tr>\n  </thead>\n  <tbody>\n    <tr>\n      <th>110957</th>\n      <td>13114483567549999104</td>\n      <td>2019-04-27 19:23:48</td>\n      <td>846.0</td>\n      <td>2019-04-29 06:32:29</td>\n      <td>580.0</td>\n      <td>126520.0</td>\n      <td>2.082017e+14</td>\n      <td>3.369546e+10</td>\n      <td>3.566261e+13</td>\n      <td>L70858B</td>\n      <td>45.0</td>\n      <td>5.0</td>\n      <td>43.0</td>\n      <td>45.0</td>\n      <td>100.0</td>\n      <td>0.0</td>\n      <td>0.0</td>\n      <td>0.0</td>\n      <td>100.0</td>\n      <td>0.0</td>\n      <td>0.0</td>\n      <td>0.0</td>\n      <td>33211.0</td>\n      <td>33235.0</td>\n      <td>126520736.0</td>\n      <td>Samsung</td>\n      <td>Samsung Galaxy S9 Plus (Sm-G965F)</td>\n      <td>131.0</td>\n      <td>140.0</td>\n      <td>830398.0</td>\n      <td>50847.0</td>\n      <td>3020310.0</td>\n      <td>152239.0</td>\n      <td>2580648.0</td>\n      <td>192971.0</td>\n      <td>759548.0</td>\n      <td>14214175.0</td>\n      <td>10977461.0</td>\n      <td>16035216.0</td>\n      <td>622218944.0</td>\n      <td>13906801.0</td>\n      <td>488179392.0</td>\n      <td>5340011.0</td>\n      <td>49892260.0</td>\n      <td>640387264.0</td>\n    </tr>\n    <tr>\n      <th>13602</th>\n      <td>13042425959082299392</td>\n      <td>2019-04-24 18:22:04</td>\n      <td>865.0</td>\n      <td>2019-04-24 23:38:46</td>\n      <td>317.0</td>\n      <td>19001.0</td>\n      <td>2.082010e+14</td>\n      <td>3.364729e+10</td>\n      <td>3.522041e+13</td>\n      <td>D70228A</td>\n      <td>57.0</td>\n      <td>76.0</td>\n      <td>44153.0</td>\n      <td>2853.0</td>\n      <td>88.0</td>\n      <td>1.0</td>\n      <td>1.0</td>\n      <td>8.0</td>\n      <td>96.0</td>\n      <td>2.0</td>\n      <td>0.0</td>\n      <td>0.0</td>\n      <td>1143142.0</td>\n      <td>281142.0</td>\n      <td>19001452.0</td>\n      <td>Samsung</td>\n      <td>Samsung Galaxy S7 Edge (Sm-G935X)</td>\n      <td>2201.0</td>\n      <td>2207.0</td>\n      <td>410925.0</td>\n      <td>21765.0</td>\n      <td>834261.0</td>\n      <td>2209916.0</td>\n      <td>421930.0</td>\n      <td>406526.0</td>\n      <td>21911524.0</td>\n      <td>13297303.0</td>\n      <td>14688592.0</td>\n      <td>10131097.0</td>\n      <td>181213376.0</td>\n      <td>8478558.0</td>\n      <td>746191360.0</td>\n      <td>7639822.0</td>\n      <td>42184988.0</td>\n      <td>219480608.0</td>\n    </tr>\n    <tr>\n      <th>16894</th>\n      <td>13042425959321200640</td>\n      <td>2019-04-24 19:19:57</td>\n      <td>158.0</td>\n      <td>2019-04-25 02:42:14</td>\n      <td>767.0</td>\n      <td>26537.0</td>\n      <td>2.082014e+14</td>\n      <td>3.363655e+10</td>\n      <td>3.572291e+13</td>\n      <td>L72220C</td>\n      <td>105.0</td>\n      <td>5.0</td>\n      <td>53788.0</td>\n      <td>1960.0</td>\n      <td>86.0</td>\n      <td>6.0</td>\n      <td>4.0</td>\n      <td>3.0</td>\n      <td>96.0</td>\n      <td>2.0</td>\n      <td>0.0</td>\n      <td>0.0</td>\n      <td>1515816.0</td>\n      <td>1405886.0</td>\n      <td>26537608.0</td>\n      <td>Apple</td>\n      <td>Apple iPhone Xs (A2097)</td>\n      <td>3603.0</td>\n      <td>4042.0</td>\n      <td>2493827.0</td>\n      <td>52781.0</td>\n      <td>3789912.0</td>\n      <td>351787.0</td>\n      <td>2583293.0</td>\n      <td>668775.0</td>\n      <td>13488148.0</td>\n      <td>10689264.0</td>\n      <td>7282716.0</td>\n      <td>1176996.0</td>\n      <td>36970180.0</td>\n      <td>15636815.0</td>\n      <td>73454536.0</td>\n      <td>10104646.0</td>\n      <td>38681064.0</td>\n      <td>66608076.0</td>\n    </tr>\n    <tr>\n      <th>73948</th>\n      <td>7349883254890789888</td>\n      <td>2019-04-26 08:59:19</td>\n      <td>771.0</td>\n      <td>2019-04-27 04:23:26</td>\n      <td>995.0</td>\n      <td>69847.0</td>\n      <td>2.082009e+14</td>\n      <td>3.367909e+10</td>\n      <td>3.573581e+13</td>\n      <td>L54322C</td>\n      <td>28.0</td>\n      <td>1.0</td>\n      <td>39.0</td>\n      <td>54.0</td>\n      <td>100.0</td>\n      <td>0.0</td>\n      <td>0.0</td>\n      <td>0.0</td>\n      <td>100.0</td>\n      <td>0.0</td>\n      <td>0.0</td>\n      <td>0.0</td>\n      <td>14208.0</td>\n      <td>15858.0</td>\n      <td>69847224.0</td>\n      <td>Apple</td>\n      <td>Apple iPhone Xr (A2105)</td>\n      <td>66.0</td>\n      <td>67.0</td>\n      <td>692426.0</td>\n      <td>35289.0</td>\n      <td>3382939.0</td>\n      <td>2420337.0</td>\n      <td>2384786.0</td>\n      <td>811555.0</td>\n      <td>22950572.0</td>\n      <td>5707673.0</td>\n      <td>6738898.0</td>\n      <td>2499961.0</td>\n      <td>398207296.0</td>\n      <td>12787225.0</td>\n      <td>237006144.0</td>\n      <td>14308674.0</td>\n      <td>38570712.0</td>\n      <td>434356896.0</td>\n    </tr>\n    <tr>\n      <th>149468</th>\n      <td>13042425979312900096</td>\n      <td>2019-04-29 07:23:28</td>\n      <td>874.0</td>\n      <td>2019-04-30 07:23:28</td>\n      <td>856.0</td>\n      <td>86399.0</td>\n      <td>2.082014e+14</td>\n      <td>3.362682e+10</td>\n      <td>3.589921e+13</td>\n      <td>T21316B</td>\n      <td>38.0</td>\n      <td>19.0</td>\n      <td>14070.0</td>\n      <td>1202.0</td>\n      <td>96.0</td>\n      <td>2.0</td>\n      <td>0.0</td>\n      <td>0.0</td>\n      <td>98.0</td>\n      <td>0.0</td>\n      <td>0.0</td>\n      <td>0.0</td>\n      <td>184049.0</td>\n      <td>169863.0</td>\n      <td>86399984.0</td>\n      <td>Samsung</td>\n      <td>Samsung Galaxy S6 (Sm-G920X)</td>\n      <td>1209.0</td>\n      <td>1017.0</td>\n      <td>2365502.0</td>\n      <td>32544.0</td>\n      <td>9774662.0</td>\n      <td>3636322.0</td>\n      <td>1888482.0</td>\n      <td>78795.0</td>\n      <td>4599057.0</td>\n      <td>1344255.0</td>\n      <td>8539643.0</td>\n      <td>6452066.0</td>\n      <td>363496672.0</td>\n      <td>12222834.0</td>\n      <td>329318528.0</td>\n      <td>6750480.0</td>\n      <td>30517296.0</td>\n      <td>390664000.0</td>\n    </tr>\n    <tr>\n      <th>19991</th>\n      <td>13042425959481300992</td>\n      <td>2019-04-24 20:03:17</td>\n      <td>463.0</td>\n      <td>2019-04-25 01:45:50</td>\n      <td>37.0</td>\n      <td>20552.0</td>\n      <td>2.082019e+14</td>\n      <td>3.362869e+10</td>\n      <td>3.566111e+13</td>\n      <td>T23747C</td>\n      <td>215.0</td>\n      <td>11.0</td>\n      <td>15473.0</td>\n      <td>1800.0</td>\n      <td>41.0</td>\n      <td>32.0</td>\n      <td>22.0</td>\n      <td>3.0</td>\n      <td>98.0</td>\n      <td>1.0</td>\n      <td>0.0</td>\n      <td>0.0</td>\n      <td>3051799.0</td>\n      <td>1902176.0</td>\n      <td>20552574.0</td>\n      <td>Apple</td>\n      <td>Apple iPhone Se (A1723)</td>\n      <td>3191.0</td>\n      <td>7591.0</td>\n      <td>501993.0</td>\n      <td>18469.0</td>\n      <td>2524841.0</td>\n      <td>1551534.0</td>\n      <td>491567.0</td>\n      <td>647876.0</td>\n      <td>21975624.0</td>\n      <td>14718285.0</td>\n      <td>10754160.0</td>\n      <td>20247324.0</td>\n      <td>815780992.0</td>\n      <td>16053505.0</td>\n      <td>138233600.0</td>\n      <td>209738.0</td>\n      <td>53446732.0</td>\n      <td>852029184.0</td>\n    </tr>\n    <tr>\n      <th>123948</th>\n      <td>13042425975137699840</td>\n      <td>2019-04-28 05:49:50</td>\n      <td>345.0</td>\n      <td>2019-04-29 05:49:50</td>\n      <td>297.0</td>\n      <td>86399.0</td>\n      <td>2.082014e+14</td>\n      <td>3.366619e+10</td>\n      <td>3.533251e+13</td>\n      <td>L40629B</td>\n      <td>38.0</td>\n      <td>5.0</td>\n      <td>47054.0</td>\n      <td>5145.0</td>\n      <td>53.0</td>\n      <td>23.0</td>\n      <td>13.0</td>\n      <td>8.0</td>\n      <td>99.0</td>\n      <td>0.0</td>\n      <td>0.0</td>\n      <td>0.0</td>\n      <td>3771486.0</td>\n      <td>3754232.0</td>\n      <td>86399952.0</td>\n      <td>NaN</td>\n      <td>NaN</td>\n      <td>8981.0</td>\n      <td>16540.0</td>\n      <td>2009088.0</td>\n      <td>58621.0</td>\n      <td>10414149.0</td>\n      <td>1251259.0</td>\n      <td>394032.0</td>\n      <td>918422.0</td>\n      <td>20234308.0</td>\n      <td>21947696.0</td>\n      <td>8135457.0</td>\n      <td>8568616.0</td>\n      <td>551953344.0</td>\n      <td>12257888.0</td>\n      <td>527971072.0</td>\n      <td>3112532.0</td>\n      <td>48115036.0</td>\n      <td>593140352.0</td>\n    </tr>\n    <tr>\n      <th>52963</th>\n      <td>7349883251244210176</td>\n      <td>2019-04-25 08:04:48</td>\n      <td>7.0</td>\n      <td>2019-04-27 06:07:13</td>\n      <td>170.0</td>\n      <td>165745.0</td>\n      <td>2.082018e+14</td>\n      <td>3.367222e+10</td>\n      <td>8.698960e+13</td>\n      <td>D12723A</td>\n      <td>14.0</td>\n      <td>2.0</td>\n      <td>44.0</td>\n      <td>43.0</td>\n      <td>100.0</td>\n      <td>0.0</td>\n      <td>0.0</td>\n      <td>0.0</td>\n      <td>100.0</td>\n      <td>0.0</td>\n      <td>0.0</td>\n      <td>0.0</td>\n      <td>11428.0</td>\n      <td>24675.0</td>\n      <td>165745168.0</td>\n      <td>Oneplus Technology (Shenzhen) Co Ltd</td>\n      <td>Oneplus Technolo. Oneplus 6</td>\n      <td>78.0</td>\n      <td>166.0</td>\n      <td>1223113.0</td>\n      <td>25275.0</td>\n      <td>2166740.0</td>\n      <td>1478004.0</td>\n      <td>772986.0</td>\n      <td>793111.0</td>\n      <td>1479121.0</td>\n      <td>3928742.0</td>\n      <td>21304604.0</td>\n      <td>17954248.0</td>\n      <td>120858256.0</td>\n      <td>10698913.0</td>\n      <td>155045088.0</td>\n      <td>1622087.0</td>\n      <td>36500380.0</td>\n      <td>147804816.0</td>\n    </tr>\n    <tr>\n      <th>108298</th>\n      <td>7349883259486400512</td>\n      <td>2019-04-27 15:02:52</td>\n      <td>752.0</td>\n      <td>2019-04-29 09:20:25</td>\n      <td>330.0</td>\n      <td>152252.0</td>\n      <td>2.082019e+14</td>\n      <td>3.365062e+10</td>\n      <td>3.570631e+13</td>\n      <td>9164566985578500</td>\n      <td>45.0</td>\n      <td>5.0</td>\n      <td>59.0</td>\n      <td>51.0</td>\n      <td>100.0</td>\n      <td>0.0</td>\n      <td>0.0</td>\n      <td>0.0</td>\n      <td>100.0</td>\n      <td>0.0</td>\n      <td>0.0</td>\n      <td>0.0</td>\n      <td>25143.0</td>\n      <td>35182.0</td>\n      <td>152252576.0</td>\n      <td>Samsung</td>\n      <td>Samsung Galaxy J6</td>\n      <td>156.0</td>\n      <td>208.0</td>\n      <td>2234145.0</td>\n      <td>6844.0</td>\n      <td>1993760.0</td>\n      <td>3373821.0</td>\n      <td>1691481.0</td>\n      <td>40359.0</td>\n      <td>7349071.0</td>\n      <td>14234254.0</td>\n      <td>23242400.0</td>\n      <td>6228823.0</td>\n      <td>734559488.0</td>\n      <td>2224568.0</td>\n      <td>409950336.0</td>\n      <td>3030831.0</td>\n      <td>29139500.0</td>\n      <td>771070336.0</td>\n    </tr>\n    <tr>\n      <th>111585</th>\n      <td>13114483567800799232</td>\n      <td>2019-04-27 20:31:14</td>\n      <td>29.0</td>\n      <td>2019-04-29 07:52:13</td>\n      <td>57.0</td>\n      <td>127259.0</td>\n      <td>2.082009e+14</td>\n      <td>3.363106e+10</td>\n      <td>3.573691e+13</td>\n      <td>T79675A</td>\n      <td>33.0</td>\n      <td>5.0</td>\n      <td>10.0</td>\n      <td>54.0</td>\n      <td>100.0</td>\n      <td>0.0</td>\n      <td>0.0</td>\n      <td>0.0</td>\n      <td>100.0</td>\n      <td>0.0</td>\n      <td>0.0</td>\n      <td>0.0</td>\n      <td>0.0</td>\n      <td>779.0</td>\n      <td>127259024.0</td>\n      <td>Apple</td>\n      <td>Apple iPhone Xr (A2105)</td>\n      <td>2.0</td>\n      <td>2.0</td>\n      <td>1965417.0</td>\n      <td>54839.0</td>\n      <td>1157053.0</td>\n      <td>3525518.0</td>\n      <td>3498632.0</td>\n      <td>373085.0</td>\n      <td>14178789.0</td>\n      <td>21701532.0</td>\n      <td>8139817.0</td>\n      <td>591115.0</td>\n      <td>52444936.0</td>\n      <td>7274262.0</td>\n      <td>654685568.0</td>\n      <td>13666149.0</td>\n      <td>47186500.0</td>\n      <td>81384648.0</td>\n    </tr>\n  </tbody>\n</table>\n</div>"
     },
     "metadata": {},
     "execution_count": 25
    }
   ],
   "source": [
    "cleaner.fill_numeric_values(explorer.get_columns_with_missing_values())\n",
    "cleaner.df.sample(10)"
   ]
  },
  {
   "cell_type": "code",
   "execution_count": 26,
   "metadata": {},
   "outputs": [
    {
     "output_type": "execute_result",
     "data": {
      "text/plain": [
       "['Last Location Name', 'Handset Manufacturer', 'Handset Type']"
      ]
     },
     "metadata": {},
     "execution_count": 26
    }
   ],
   "source": [
    "explorer = DataInfo(cleaner.df)\n",
    "explorer.get_columns_with_missing_values()"
   ]
  },
  {
   "cell_type": "code",
   "execution_count": 27,
   "metadata": {},
   "outputs": [
    {
     "output_type": "execute_result",
     "data": {
      "text/plain": [
       "D41377B             80\n",
       "D17085A             59\n",
       "D72396C             57\n",
       "D73604C             55\n",
       "9164566985995010    55\n",
       "                    ..\n",
       "T88953C              1\n",
       "D64136B              1\n",
       "D77751A              1\n",
       "D30008B              1\n",
       "D10607A              1\n",
       "Name: Last Location Name, Length: 45547, dtype: int64"
      ]
     },
     "metadata": {},
     "execution_count": 27
    }
   ],
   "source": [
    "explorer.df['Last Location Name'].value_counts()"
   ]
  },
  {
   "cell_type": "code",
   "execution_count": 28,
   "metadata": {},
   "outputs": [
    {
     "output_type": "execute_result",
     "data": {
      "text/plain": [
       "Apple                                   59565\n",
       "Samsung                                 40839\n",
       "Huawei                                  34423\n",
       "Sony Mobile Communications Ab             980\n",
       "Wiko Global Sasu                          747\n",
       "                                        ...  \n",
       "Shenzhen Huadoo Bright Group Limited        1\n",
       "Sintave Technology (Group) Co Ltd           1\n",
       "Ovvi-Cellphone Tech. Inc.                   1\n",
       "Vastking Technology (Hk) Limited            1\n",
       "Shenzhen Malata                             1\n",
       "Name: Handset Manufacturer, Length: 169, dtype: int64"
      ]
     },
     "metadata": {},
     "execution_count": 28
    }
   ],
   "source": [
    "explorer.df['Handset Manufacturer'].value_counts()"
   ]
  },
  {
   "cell_type": "code",
   "execution_count": 29,
   "metadata": {},
   "outputs": [
    {
     "output_type": "execute_result",
     "data": {
      "text/plain": [
       "Huawei B528S-23A                     19752\n",
       "Apple iPhone 6S (A1688)               9419\n",
       "Apple iPhone 6 (A1586)                9023\n",
       "Apple iPhone 7 (A1778)                6326\n",
       "Apple iPhone Se (A1723)               5187\n",
       "                                     ...  \n",
       "Ddm Brands Llc Andy C5V                  1\n",
       "Blu Products Inc Blu Studio C 5+5        1\n",
       "Samsung Galaxy Wave 2 (Gt-S8530)         1\n",
       "Huawei Bln-Al10                          1\n",
       "Concox Informati. Jh09                   1\n",
       "Name: Handset Type, Length: 1395, dtype: int64"
      ]
     },
     "metadata": {},
     "execution_count": 29
    }
   ],
   "source": [
    "explorer.df['Handset Type'].value_counts()"
   ]
  },
  {
   "cell_type": "code",
   "execution_count": 30,
   "metadata": {},
   "outputs": [
    {
     "output_type": "error",
     "ename": "TypeError",
     "evalue": "fill_non_numeric_values() missing 1 required positional argument: 'replaceValues'",
     "traceback": [
      "\u001b[1;31m---------------------------------------------------------------------------\u001b[0m",
      "\u001b[1;31mTypeError\u001b[0m                                 Traceback (most recent call last)",
      "\u001b[1;32m<ipython-input-30-accd3ba2ed66>\u001b[0m in \u001b[0;36m<module>\u001b[1;34m\u001b[0m\n\u001b[1;32m----> 1\u001b[1;33m \u001b[0mcleaner\u001b[0m\u001b[1;33m.\u001b[0m\u001b[0mfill_non_numeric_values\u001b[0m\u001b[1;33m(\u001b[0m\u001b[0mexplorer\u001b[0m\u001b[1;33m.\u001b[0m\u001b[0mget_columns_with_missing_values\u001b[0m\u001b[1;33m(\u001b[0m\u001b[1;33m)\u001b[0m\u001b[1;33m,\u001b[0m\u001b[0mffill\u001b[0m\u001b[1;33m=\u001b[0m\u001b[1;32mTrue\u001b[0m\u001b[1;33m,\u001b[0m\u001b[0mbfill\u001b[0m\u001b[1;33m=\u001b[0m\u001b[1;32mTrue\u001b[0m\u001b[1;33m)\u001b[0m\u001b[1;33m\u001b[0m\u001b[1;33m\u001b[0m\u001b[0m\n\u001b[0m",
      "\u001b[1;31mTypeError\u001b[0m: fill_non_numeric_values() missing 1 required positional argument: 'replaceValues'"
     ]
    }
   ],
   "source": [
    "cleaner.fill_non_numeric_values(explorer.get_columns_with_missing_values(),ffill=True,bfill=True)"
   ]
  },
  {
   "cell_type": "code",
   "execution_count": null,
   "metadata": {},
   "outputs": [],
   "source": []
  },
  {
   "cell_type": "code",
   "execution_count": 31,
   "metadata": {},
   "outputs": [
    {
     "output_type": "execute_result",
     "data": {
      "text/plain": [
       "Apple                                              59565\n",
       "Samsung                                            40839\n",
       "Huawei                                             34423\n",
       "undefined                                           8987\n",
       "Sony Mobile Communications Ab                        980\n",
       "                                                   ...  \n",
       "Sintave Technology (Group) Co Ltd                      1\n",
       "Shanghai Chengyu Media Technology Co Ltd               1\n",
       "M S Soha Enterprise                                    1\n",
       "Essential Products Inc.                                1\n",
       "Shenzhen Chainway Information Technology Co Ltd        1\n",
       "Name: Handset Manufacturer, Length: 170, dtype: int64"
      ]
     },
     "metadata": {},
     "execution_count": 31
    }
   ],
   "source": [
    "telData['Handset Manufacturer'].value_counts()"
   ]
  },
  {
   "cell_type": "code",
   "execution_count": null,
   "metadata": {},
   "outputs": [],
   "source": []
  }
 ]
}