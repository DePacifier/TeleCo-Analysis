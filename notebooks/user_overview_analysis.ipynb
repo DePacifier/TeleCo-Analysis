{
 "metadata": {
  "language_info": {
   "codemirror_mode": {
    "name": "ipython",
    "version": 3
   },
   "file_extension": ".py",
   "mimetype": "text/x-python",
   "name": "python",
   "nbconvert_exporter": "python",
   "pygments_lexer": "ipython3",
   "version": "3.8.4"
  },
  "orig_nbformat": 4,
  "kernelspec": {
   "name": "python3",
   "display_name": "Python 3.8.4 64-bit"
  },
  "interpreter": {
   "hash": "2db524e06e9f5f4ffedc911c917cb75e12dbc923643829bf417064a77eb14d37"
  }
 },
 "nbformat": 4,
 "nbformat_minor": 2,
 "cells": [
  {
   "source": [
    "# TeleCo Company: Data Analysis"
   ],
   "cell_type": "markdown",
   "metadata": {}
  },
  {
   "source": [
    "## Loading Data"
   ],
   "cell_type": "markdown",
   "metadata": {}
  },
  {
   "cell_type": "code",
   "execution_count": 1,
   "metadata": {},
   "outputs": [],
   "source": [
    "import sys\n",
    "sys.path.insert(0,'../scripts/')"
   ]
  },
  {
   "cell_type": "code",
   "execution_count": 2,
   "metadata": {},
   "outputs": [],
   "source": [
    "import pandas as pd"
   ]
  },
  {
   "cell_type": "code",
   "execution_count": 3,
   "metadata": {},
   "outputs": [],
   "source": [
    "from data_loader import load_df_from_csv, load_df_from_excel"
   ]
  },
  {
   "cell_type": "code",
   "execution_count": 4,
   "metadata": {},
   "outputs": [
    {
     "output_type": "execute_result",
     "data": {
      "text/plain": [
       "      Fields  \\\n",
       "0  bearer id   \n",
       "1  Dur. (ms)   \n",
       "2      Start   \n",
       "3   Start ms   \n",
       "4        End   \n",
       "\n",
       "                                                             Description  \n",
       "0                                                 xDr session identifier  \n",
       "1                                      Total Duration of the xDR (in ms)  \n",
       "2                          Start time of the xDR (first frame timestamp)  \n",
       "3  Milliseconds offset of start time for the xDR (first frame timestamp)  \n",
       "4                             End time of the xDR (last frame timestamp)  "
      ],
      "text/html": "<div>\n<style scoped>\n    .dataframe tbody tr th:only-of-type {\n        vertical-align: middle;\n    }\n\n    .dataframe tbody tr th {\n        vertical-align: top;\n    }\n\n    .dataframe thead th {\n        text-align: right;\n    }\n</style>\n<table border=\"1\" class=\"dataframe\">\n  <thead>\n    <tr style=\"text-align: right;\">\n      <th></th>\n      <th>Fields</th>\n      <th>Description</th>\n    </tr>\n  </thead>\n  <tbody>\n    <tr>\n      <th>0</th>\n      <td>bearer id</td>\n      <td>xDr session identifier</td>\n    </tr>\n    <tr>\n      <th>1</th>\n      <td>Dur. (ms)</td>\n      <td>Total Duration of the xDR (in ms)</td>\n    </tr>\n    <tr>\n      <th>2</th>\n      <td>Start</td>\n      <td>Start time of the xDR (first frame timestamp)</td>\n    </tr>\n    <tr>\n      <th>3</th>\n      <td>Start ms</td>\n      <td>Milliseconds offset of start time for the xDR (first frame timestamp)</td>\n    </tr>\n    <tr>\n      <th>4</th>\n      <td>End</td>\n      <td>End time of the xDR (last frame timestamp)</td>\n    </tr>\n  </tbody>\n</table>\n</div>"
     },
     "metadata": {},
     "execution_count": 4
    }
   ],
   "source": [
    "fields_description = load_df_from_csv(\"../data/fields_description.csv\")\n",
    "pd.set_option('display.max_colwidth', None)\n",
    "fields_description.head()"
   ]
  },
  {
   "cell_type": "code",
   "execution_count": 5,
   "metadata": {},
   "outputs": [
    {
     "output_type": "execute_result",
     "data": {
      "text/plain": [
       "              Bearer Id               Start  Start ms                 End  \\\n",
       "0  13114483460844900352 2019-04-04 12:01:18     770.0 2019-04-25 14:35:31   \n",
       "1  13114483482878900224 2019-04-09 13:04:04     235.0 2019-04-25 08:15:48   \n",
       "2  13114483484080500736 2019-04-09 17:42:11       1.0 2019-04-25 11:58:13   \n",
       "3  13114483485442799616 2019-04-10 00:31:25     486.0 2019-04-25 07:36:35   \n",
       "4  13114483499480700928 2019-04-12 20:10:23     565.0 2019-04-25 10:40:32   \n",
       "\n",
       "   End ms  Dur. (ms)          IMSI  MSISDN/Number          IMEI  \\\n",
       "0   662.0  1823652.0  2.082014e+14   3.366496e+10  3.552121e+13   \n",
       "1   606.0  1365104.0  2.082019e+14   3.368185e+10  3.579401e+13   \n",
       "2   652.0  1361762.0  2.082003e+14   3.376063e+10  3.528151e+13   \n",
       "3   171.0  1321509.0  2.082014e+14   3.375034e+10  3.535661e+13   \n",
       "4   954.0  1089009.0  2.082014e+14   3.369979e+10  3.540701e+13   \n",
       "\n",
       "  Last Location Name  Avg RTT DL (ms)  Avg RTT UL (ms)  \\\n",
       "0   9164566995485190             42.0              5.0   \n",
       "1            L77566A             65.0              5.0   \n",
       "2            D42335A              NaN              NaN   \n",
       "3            T21824A              NaN              NaN   \n",
       "4            D88865A              NaN              NaN   \n",
       "\n",
       "   Avg Bearer TP DL (kbps)  Avg Bearer TP UL (kbps)  \\\n",
       "0                     23.0                     44.0   \n",
       "1                     16.0                     26.0   \n",
       "2                      6.0                      9.0   \n",
       "3                     44.0                     44.0   \n",
       "4                      6.0                      9.0   \n",
       "\n",
       "   TCP DL Retrans. Vol (Bytes)  TCP UL Retrans. Vol (Bytes)  \\\n",
       "0                          NaN                          NaN   \n",
       "1                          NaN                          NaN   \n",
       "2                          NaN                          NaN   \n",
       "3                          NaN                          NaN   \n",
       "4                          NaN                          NaN   \n",
       "\n",
       "   DL TP < 50 Kbps (%)  50 Kbps < DL TP < 250 Kbps (%)  \\\n",
       "0                100.0                             0.0   \n",
       "1                100.0                             0.0   \n",
       "2                100.0                             0.0   \n",
       "3                100.0                             0.0   \n",
       "4                100.0                             0.0   \n",
       "\n",
       "   250 Kbps < DL TP < 1 Mbps (%)  DL TP > 1 Mbps (%)  UL TP < 10 Kbps (%)  \\\n",
       "0                            0.0                 0.0                100.0   \n",
       "1                            0.0                 0.0                100.0   \n",
       "2                            0.0                 0.0                100.0   \n",
       "3                            0.0                 0.0                100.0   \n",
       "4                            0.0                 0.0                100.0   \n",
       "\n",
       "   10 Kbps < UL TP < 50 Kbps (%)  50 Kbps < UL TP < 300 Kbps (%)  \\\n",
       "0                            0.0                             0.0   \n",
       "1                            0.0                             0.0   \n",
       "2                            0.0                             0.0   \n",
       "3                            0.0                             0.0   \n",
       "4                            0.0                             0.0   \n",
       "\n",
       "   UL TP > 300 Kbps (%)  HTTP DL (Bytes)  HTTP UL (Bytes)  \\\n",
       "0                   0.0              NaN              NaN   \n",
       "1                   0.0              NaN              NaN   \n",
       "2                   0.0              NaN              NaN   \n",
       "3                   0.0              NaN              NaN   \n",
       "4                   0.0              NaN              NaN   \n",
       "\n",
       "   Activity Duration DL (ms)  Activity Duration UL (ms)   Dur. (ms).1  \\\n",
       "0                    37624.0                    38787.0  1.823653e+09   \n",
       "1                      168.0                     3560.0  1.365104e+09   \n",
       "2                        0.0                        0.0  1.361763e+09   \n",
       "3                     3330.0                    37882.0  1.321510e+09   \n",
       "4                        0.0                        0.0  1.089009e+09   \n",
       "\n",
       "  Handset Manufacturer                 Handset Type  \\\n",
       "0              Samsung   Samsung Galaxy A5 Sm-A520F   \n",
       "1              Samsung  Samsung Galaxy J5 (Sm-J530)   \n",
       "2              Samsung     Samsung Galaxy A8 (2018)   \n",
       "3                  NaN                          NaN   \n",
       "4              Samsung             Samsung Sm-G390F   \n",
       "\n",
       "   Nb of sec with 125000B < Vol DL  Nb of sec with 1250B < Vol UL < 6250B  \\\n",
       "0                              NaN                                    NaN   \n",
       "1                              NaN                                    NaN   \n",
       "2                              NaN                                    NaN   \n",
       "3                              NaN                                    NaN   \n",
       "4                              NaN                                    NaN   \n",
       "\n",
       "   Nb of sec with 31250B < Vol DL < 125000B  Nb of sec with 37500B < Vol UL  \\\n",
       "0                                       NaN                             NaN   \n",
       "1                                       NaN                             NaN   \n",
       "2                                       NaN                             NaN   \n",
       "3                                       NaN                             NaN   \n",
       "4                                       NaN                             NaN   \n",
       "\n",
       "   Nb of sec with 6250B < Vol DL < 31250B  \\\n",
       "0                                     NaN   \n",
       "1                                     NaN   \n",
       "2                                     NaN   \n",
       "3                                     NaN   \n",
       "4                                     NaN   \n",
       "\n",
       "   Nb of sec with 6250B < Vol UL < 37500B  Nb of sec with Vol DL < 6250B  \\\n",
       "0                                     NaN                          213.0   \n",
       "1                                     NaN                          971.0   \n",
       "2                                     NaN                          751.0   \n",
       "3                                     NaN                           17.0   \n",
       "4                                     NaN                          607.0   \n",
       "\n",
       "   Nb of sec with Vol UL < 1250B  Social Media DL (Bytes)  \\\n",
       "0                          214.0                1545765.0   \n",
       "1                         1022.0                1926113.0   \n",
       "2                          695.0                1684053.0   \n",
       "3                          207.0                 644121.0   \n",
       "4                          604.0                 862600.0   \n",
       "\n",
       "   Social Media UL (Bytes)  Google DL (Bytes)  Google UL (Bytes)  \\\n",
       "0                  24420.0          1634479.0          1271433.0   \n",
       "1                   7165.0          3493924.0           920172.0   \n",
       "2                  42224.0          8535055.0          1694064.0   \n",
       "3                  13372.0          9023734.0          2788027.0   \n",
       "4                  50188.0          6248284.0          1500559.0   \n",
       "\n",
       "   Email DL (Bytes)  Email UL (Bytes)  Youtube DL (Bytes)  Youtube UL (Bytes)  \\\n",
       "0         3563542.0          137762.0          15854611.0           2501332.0   \n",
       "1          629046.0          308339.0          20247396.0          19111728.0   \n",
       "2         2690151.0          672973.0          19725660.0          14699576.0   \n",
       "3         1439754.0          631229.0          21388122.0          15146643.0   \n",
       "4         1936496.0          173853.0          15259380.0          18962872.0   \n",
       "\n",
       "   Netflix DL (Bytes)  Netflix UL (Bytes)  Gaming DL (Bytes)  \\\n",
       "0           8198936.0           9656251.0        278082304.0   \n",
       "1          18338412.0          17227132.0        608750080.0   \n",
       "2          17587794.0           6163408.0        229584624.0   \n",
       "3          13994646.0           1097942.0        799538176.0   \n",
       "4          17124580.0            415218.0        527707264.0   \n",
       "\n",
       "   Gaming UL (Bytes)  Other DL (Bytes)  Other UL (Bytes)  Total UL (Bytes)  \\\n",
       "0         14344150.0       171744448.0         8814393.0        36749740.0   \n",
       "1          1170709.0       526904224.0        15055145.0        53800392.0   \n",
       "2           395630.0       410692576.0         4215763.0        27883638.0   \n",
       "3         10849722.0       749039936.0        12797283.0        43324216.0   \n",
       "4          3529801.0       550709504.0        13910322.0        38542816.0   \n",
       "\n",
       "   Total DL (Bytes)  \n",
       "0       308879648.0  \n",
       "1       653384960.0  \n",
       "2       279807328.0  \n",
       "3       846028544.0  \n",
       "4       569138560.0  "
      ],
      "text/html": "<div>\n<style scoped>\n    .dataframe tbody tr th:only-of-type {\n        vertical-align: middle;\n    }\n\n    .dataframe tbody tr th {\n        vertical-align: top;\n    }\n\n    .dataframe thead th {\n        text-align: right;\n    }\n</style>\n<table border=\"1\" class=\"dataframe\">\n  <thead>\n    <tr style=\"text-align: right;\">\n      <th></th>\n      <th>Bearer Id</th>\n      <th>Start</th>\n      <th>Start ms</th>\n      <th>End</th>\n      <th>End ms</th>\n      <th>Dur. (ms)</th>\n      <th>IMSI</th>\n      <th>MSISDN/Number</th>\n      <th>IMEI</th>\n      <th>Last Location Name</th>\n      <th>Avg RTT DL (ms)</th>\n      <th>Avg RTT UL (ms)</th>\n      <th>Avg Bearer TP DL (kbps)</th>\n      <th>Avg Bearer TP UL (kbps)</th>\n      <th>TCP DL Retrans. Vol (Bytes)</th>\n      <th>TCP UL Retrans. Vol (Bytes)</th>\n      <th>DL TP &lt; 50 Kbps (%)</th>\n      <th>50 Kbps &lt; DL TP &lt; 250 Kbps (%)</th>\n      <th>250 Kbps &lt; DL TP &lt; 1 Mbps (%)</th>\n      <th>DL TP &gt; 1 Mbps (%)</th>\n      <th>UL TP &lt; 10 Kbps (%)</th>\n      <th>10 Kbps &lt; UL TP &lt; 50 Kbps (%)</th>\n      <th>50 Kbps &lt; UL TP &lt; 300 Kbps (%)</th>\n      <th>UL TP &gt; 300 Kbps (%)</th>\n      <th>HTTP DL (Bytes)</th>\n      <th>HTTP UL (Bytes)</th>\n      <th>Activity Duration DL (ms)</th>\n      <th>Activity Duration UL (ms)</th>\n      <th>Dur. (ms).1</th>\n      <th>Handset Manufacturer</th>\n      <th>Handset Type</th>\n      <th>Nb of sec with 125000B &lt; Vol DL</th>\n      <th>Nb of sec with 1250B &lt; Vol UL &lt; 6250B</th>\n      <th>Nb of sec with 31250B &lt; Vol DL &lt; 125000B</th>\n      <th>Nb of sec with 37500B &lt; Vol UL</th>\n      <th>Nb of sec with 6250B &lt; Vol DL &lt; 31250B</th>\n      <th>Nb of sec with 6250B &lt; Vol UL &lt; 37500B</th>\n      <th>Nb of sec with Vol DL &lt; 6250B</th>\n      <th>Nb of sec with Vol UL &lt; 1250B</th>\n      <th>Social Media DL (Bytes)</th>\n      <th>Social Media UL (Bytes)</th>\n      <th>Google DL (Bytes)</th>\n      <th>Google UL (Bytes)</th>\n      <th>Email DL (Bytes)</th>\n      <th>Email UL (Bytes)</th>\n      <th>Youtube DL (Bytes)</th>\n      <th>Youtube UL (Bytes)</th>\n      <th>Netflix DL (Bytes)</th>\n      <th>Netflix UL (Bytes)</th>\n      <th>Gaming DL (Bytes)</th>\n      <th>Gaming UL (Bytes)</th>\n      <th>Other DL (Bytes)</th>\n      <th>Other UL (Bytes)</th>\n      <th>Total UL (Bytes)</th>\n      <th>Total DL (Bytes)</th>\n    </tr>\n  </thead>\n  <tbody>\n    <tr>\n      <th>0</th>\n      <td>13114483460844900352</td>\n      <td>2019-04-04 12:01:18</td>\n      <td>770.0</td>\n      <td>2019-04-25 14:35:31</td>\n      <td>662.0</td>\n      <td>1823652.0</td>\n      <td>2.082014e+14</td>\n      <td>3.366496e+10</td>\n      <td>3.552121e+13</td>\n      <td>9164566995485190</td>\n      <td>42.0</td>\n      <td>5.0</td>\n      <td>23.0</td>\n      <td>44.0</td>\n      <td>NaN</td>\n      <td>NaN</td>\n      <td>100.0</td>\n      <td>0.0</td>\n      <td>0.0</td>\n      <td>0.0</td>\n      <td>100.0</td>\n      <td>0.0</td>\n      <td>0.0</td>\n      <td>0.0</td>\n      <td>NaN</td>\n      <td>NaN</td>\n      <td>37624.0</td>\n      <td>38787.0</td>\n      <td>1.823653e+09</td>\n      <td>Samsung</td>\n      <td>Samsung Galaxy A5 Sm-A520F</td>\n      <td>NaN</td>\n      <td>NaN</td>\n      <td>NaN</td>\n      <td>NaN</td>\n      <td>NaN</td>\n      <td>NaN</td>\n      <td>213.0</td>\n      <td>214.0</td>\n      <td>1545765.0</td>\n      <td>24420.0</td>\n      <td>1634479.0</td>\n      <td>1271433.0</td>\n      <td>3563542.0</td>\n      <td>137762.0</td>\n      <td>15854611.0</td>\n      <td>2501332.0</td>\n      <td>8198936.0</td>\n      <td>9656251.0</td>\n      <td>278082304.0</td>\n      <td>14344150.0</td>\n      <td>171744448.0</td>\n      <td>8814393.0</td>\n      <td>36749740.0</td>\n      <td>308879648.0</td>\n    </tr>\n    <tr>\n      <th>1</th>\n      <td>13114483482878900224</td>\n      <td>2019-04-09 13:04:04</td>\n      <td>235.0</td>\n      <td>2019-04-25 08:15:48</td>\n      <td>606.0</td>\n      <td>1365104.0</td>\n      <td>2.082019e+14</td>\n      <td>3.368185e+10</td>\n      <td>3.579401e+13</td>\n      <td>L77566A</td>\n      <td>65.0</td>\n      <td>5.0</td>\n      <td>16.0</td>\n      <td>26.0</td>\n      <td>NaN</td>\n      <td>NaN</td>\n      <td>100.0</td>\n      <td>0.0</td>\n      <td>0.0</td>\n      <td>0.0</td>\n      <td>100.0</td>\n      <td>0.0</td>\n      <td>0.0</td>\n      <td>0.0</td>\n      <td>NaN</td>\n      <td>NaN</td>\n      <td>168.0</td>\n      <td>3560.0</td>\n      <td>1.365104e+09</td>\n      <td>Samsung</td>\n      <td>Samsung Galaxy J5 (Sm-J530)</td>\n      <td>NaN</td>\n      <td>NaN</td>\n      <td>NaN</td>\n      <td>NaN</td>\n      <td>NaN</td>\n      <td>NaN</td>\n      <td>971.0</td>\n      <td>1022.0</td>\n      <td>1926113.0</td>\n      <td>7165.0</td>\n      <td>3493924.0</td>\n      <td>920172.0</td>\n      <td>629046.0</td>\n      <td>308339.0</td>\n      <td>20247396.0</td>\n      <td>19111728.0</td>\n      <td>18338412.0</td>\n      <td>17227132.0</td>\n      <td>608750080.0</td>\n      <td>1170709.0</td>\n      <td>526904224.0</td>\n      <td>15055145.0</td>\n      <td>53800392.0</td>\n      <td>653384960.0</td>\n    </tr>\n    <tr>\n      <th>2</th>\n      <td>13114483484080500736</td>\n      <td>2019-04-09 17:42:11</td>\n      <td>1.0</td>\n      <td>2019-04-25 11:58:13</td>\n      <td>652.0</td>\n      <td>1361762.0</td>\n      <td>2.082003e+14</td>\n      <td>3.376063e+10</td>\n      <td>3.528151e+13</td>\n      <td>D42335A</td>\n      <td>NaN</td>\n      <td>NaN</td>\n      <td>6.0</td>\n      <td>9.0</td>\n      <td>NaN</td>\n      <td>NaN</td>\n      <td>100.0</td>\n      <td>0.0</td>\n      <td>0.0</td>\n      <td>0.0</td>\n      <td>100.0</td>\n      <td>0.0</td>\n      <td>0.0</td>\n      <td>0.0</td>\n      <td>NaN</td>\n      <td>NaN</td>\n      <td>0.0</td>\n      <td>0.0</td>\n      <td>1.361763e+09</td>\n      <td>Samsung</td>\n      <td>Samsung Galaxy A8 (2018)</td>\n      <td>NaN</td>\n      <td>NaN</td>\n      <td>NaN</td>\n      <td>NaN</td>\n      <td>NaN</td>\n      <td>NaN</td>\n      <td>751.0</td>\n      <td>695.0</td>\n      <td>1684053.0</td>\n      <td>42224.0</td>\n      <td>8535055.0</td>\n      <td>1694064.0</td>\n      <td>2690151.0</td>\n      <td>672973.0</td>\n      <td>19725660.0</td>\n      <td>14699576.0</td>\n      <td>17587794.0</td>\n      <td>6163408.0</td>\n      <td>229584624.0</td>\n      <td>395630.0</td>\n      <td>410692576.0</td>\n      <td>4215763.0</td>\n      <td>27883638.0</td>\n      <td>279807328.0</td>\n    </tr>\n    <tr>\n      <th>3</th>\n      <td>13114483485442799616</td>\n      <td>2019-04-10 00:31:25</td>\n      <td>486.0</td>\n      <td>2019-04-25 07:36:35</td>\n      <td>171.0</td>\n      <td>1321509.0</td>\n      <td>2.082014e+14</td>\n      <td>3.375034e+10</td>\n      <td>3.535661e+13</td>\n      <td>T21824A</td>\n      <td>NaN</td>\n      <td>NaN</td>\n      <td>44.0</td>\n      <td>44.0</td>\n      <td>NaN</td>\n      <td>NaN</td>\n      <td>100.0</td>\n      <td>0.0</td>\n      <td>0.0</td>\n      <td>0.0</td>\n      <td>100.0</td>\n      <td>0.0</td>\n      <td>0.0</td>\n      <td>0.0</td>\n      <td>NaN</td>\n      <td>NaN</td>\n      <td>3330.0</td>\n      <td>37882.0</td>\n      <td>1.321510e+09</td>\n      <td>NaN</td>\n      <td>NaN</td>\n      <td>NaN</td>\n      <td>NaN</td>\n      <td>NaN</td>\n      <td>NaN</td>\n      <td>NaN</td>\n      <td>NaN</td>\n      <td>17.0</td>\n      <td>207.0</td>\n      <td>644121.0</td>\n      <td>13372.0</td>\n      <td>9023734.0</td>\n      <td>2788027.0</td>\n      <td>1439754.0</td>\n      <td>631229.0</td>\n      <td>21388122.0</td>\n      <td>15146643.0</td>\n      <td>13994646.0</td>\n      <td>1097942.0</td>\n      <td>799538176.0</td>\n      <td>10849722.0</td>\n      <td>749039936.0</td>\n      <td>12797283.0</td>\n      <td>43324216.0</td>\n      <td>846028544.0</td>\n    </tr>\n    <tr>\n      <th>4</th>\n      <td>13114483499480700928</td>\n      <td>2019-04-12 20:10:23</td>\n      <td>565.0</td>\n      <td>2019-04-25 10:40:32</td>\n      <td>954.0</td>\n      <td>1089009.0</td>\n      <td>2.082014e+14</td>\n      <td>3.369979e+10</td>\n      <td>3.540701e+13</td>\n      <td>D88865A</td>\n      <td>NaN</td>\n      <td>NaN</td>\n      <td>6.0</td>\n      <td>9.0</td>\n      <td>NaN</td>\n      <td>NaN</td>\n      <td>100.0</td>\n      <td>0.0</td>\n      <td>0.0</td>\n      <td>0.0</td>\n      <td>100.0</td>\n      <td>0.0</td>\n      <td>0.0</td>\n      <td>0.0</td>\n      <td>NaN</td>\n      <td>NaN</td>\n      <td>0.0</td>\n      <td>0.0</td>\n      <td>1.089009e+09</td>\n      <td>Samsung</td>\n      <td>Samsung Sm-G390F</td>\n      <td>NaN</td>\n      <td>NaN</td>\n      <td>NaN</td>\n      <td>NaN</td>\n      <td>NaN</td>\n      <td>NaN</td>\n      <td>607.0</td>\n      <td>604.0</td>\n      <td>862600.0</td>\n      <td>50188.0</td>\n      <td>6248284.0</td>\n      <td>1500559.0</td>\n      <td>1936496.0</td>\n      <td>173853.0</td>\n      <td>15259380.0</td>\n      <td>18962872.0</td>\n      <td>17124580.0</td>\n      <td>415218.0</td>\n      <td>527707264.0</td>\n      <td>3529801.0</td>\n      <td>550709504.0</td>\n      <td>13910322.0</td>\n      <td>38542816.0</td>\n      <td>569138560.0</td>\n    </tr>\n  </tbody>\n</table>\n</div>"
     },
     "metadata": {},
     "execution_count": 5
    }
   ],
   "source": [
    "telData = load_df_from_excel(\"../data/teleCo_data.xlsx\", na_values=['undefined'])\n",
    "pd.set_option('max_column', None)\n",
    "telData.head()"
   ]
  },
  {
   "source": [
    "### Guidance Sub-tasks"
   ],
   "cell_type": "markdown",
   "metadata": {}
  },
  {
   "source": [
    "#### Top 10 Handsets used by customers"
   ],
   "cell_type": "markdown",
   "metadata": {}
  },
  {
   "cell_type": "code",
   "execution_count": 6,
   "metadata": {},
   "outputs": [
    {
     "output_type": "execute_result",
     "data": {
      "text/plain": [
       "Huawei B528S-23A                19752\n",
       "Apple iPhone 6S (A1688)          9419\n",
       "Apple iPhone 6 (A1586)           9023\n",
       "Apple iPhone 7 (A1778)           6326\n",
       "Apple iPhone Se (A1723)          5187\n",
       "Apple iPhone 8 (A1905)           4993\n",
       "Apple iPhone Xr (A2105)          4568\n",
       "Samsung Galaxy S8 (Sm-G950F)     4520\n",
       "Apple iPhone X (A1901)           3813\n",
       "Samsung Galaxy A5 Sm-A520F       3724\n",
       "Name: Handset Type, dtype: int64"
      ]
     },
     "metadata": {},
     "execution_count": 6
    }
   ],
   "source": [
    "hand_set = telData['Handset Type'].value_counts()[:10]\n",
    "hand_set"
   ]
  },
  {
   "source": [
    "#### Top 3 Handset Manufacturers"
   ],
   "cell_type": "markdown",
   "metadata": {}
  },
  {
   "cell_type": "code",
   "execution_count": 7,
   "metadata": {},
   "outputs": [
    {
     "output_type": "execute_result",
     "data": {
      "text/plain": [
       "Apple      59565\n",
       "Samsung    40839\n",
       "Huawei     34423\n",
       "Name: Handset Manufacturer, dtype: int64"
      ]
     },
     "metadata": {},
     "execution_count": 7
    }
   ],
   "source": [
    "hand_set_manuf = telData['Handset Manufacturer'].value_counts()[:3]\n",
    "hand_set_manuf\n"
   ]
  },
  {
   "source": [
    "#### Top 5 Handset per top 3 Handset Manufacturer"
   ],
   "cell_type": "markdown",
   "metadata": {}
  },
  {
   "cell_type": "code",
   "execution_count": 8,
   "metadata": {},
   "outputs": [
    {
     "output_type": "execute_result",
     "data": {
      "text/plain": [
       "Huawei B528S-23A           19752\n",
       "Apple iPhone 6S (A1688)     9419\n",
       "Apple iPhone 6 (A1586)      9023\n",
       "Apple iPhone 7 (A1778)      6326\n",
       "Apple iPhone Se (A1723)     5187\n",
       "dtype: int64"
      ]
     },
     "metadata": {},
     "execution_count": 8
    }
   ],
   "source": [
    "new_df = telData.loc[:,['Handset Type','Handset Manufacturer']]\r\n",
    "value = new_df.groupby(['Handset Manufacturer', 'Handset Type']).size()\r\n",
    "total_list = pd.Series(dtype='object')\r\n",
    "for i in hand_set_manuf.index:\r\n",
    "    total_list = total_list.append(value[i])\r\n",
    "total_list.sort_values(ascending=False)[:5]"
   ]
  },
  {
   "source": [
    "#### Interpretation and Recommendation"
   ],
   "cell_type": "markdown",
   "metadata": {}
  },
  {
   "source": [
    "The phones widely used in the network are manufactured by the Apple, Samsung and Huawei, contributing for 164,827 users. The most used phone is Hwawei B528S-23A covering 19752 of the phones followed by Apple iPhpone 6S, 6, 7 and Se. The Huawei B528S-23A is favoured by users, so we know that selling similar Huawei phones, make promotions on its newer version if it comes and selling the same phone are profitable. We also can infer that iPhones are the next widely used phones and can implement similar marketing or business ideas to them as well. "
   ],
   "cell_type": "markdown",
   "metadata": {}
  },
  {
   "source": [
    "## Variable Identification"
   ],
   "cell_type": "markdown",
   "metadata": {}
  },
  {
   "source": [
    "For better understanding of the columns, exploring the data description [here](https://docs.google.com/spreadsheets/d/1pcNqeUeIph6xAQzlI54KCvi8HM91SUNeeDbdOq3rvbE/edit?usp=sharing) will help"
   ],
   "cell_type": "markdown",
   "metadata": {}
  },
  {
   "source": [
    "## Data Understanding"
   ],
   "cell_type": "markdown",
   "metadata": {}
  },
  {
   "cell_type": "code",
   "execution_count": 9,
   "metadata": {},
   "outputs": [],
   "source": [
    "from data_information import DataInfo\n",
    "explorer = DataInfo(telData)"
   ]
  },
  {
   "cell_type": "code",
   "execution_count": 10,
   "metadata": {},
   "outputs": [
    {
     "output_type": "stream",
     "name": "stdout",
     "text": [
      "Columns Listed in the DataFrame are: \n"
     ]
    },
    {
     "output_type": "execute_result",
     "data": {
      "text/plain": [
       "['Bearer Id',\n",
       " 'Start',\n",
       " 'Start ms',\n",
       " 'End',\n",
       " 'End ms',\n",
       " 'Dur. (ms)',\n",
       " 'IMSI',\n",
       " 'MSISDN/Number',\n",
       " 'IMEI',\n",
       " 'Last Location Name',\n",
       " 'Avg RTT DL (ms)',\n",
       " 'Avg RTT UL (ms)',\n",
       " 'Avg Bearer TP DL (kbps)',\n",
       " 'Avg Bearer TP UL (kbps)',\n",
       " 'TCP DL Retrans. Vol (Bytes)',\n",
       " 'TCP UL Retrans. Vol (Bytes)',\n",
       " 'DL TP < 50 Kbps (%)',\n",
       " '50 Kbps < DL TP < 250 Kbps (%)',\n",
       " '250 Kbps < DL TP < 1 Mbps (%)',\n",
       " 'DL TP > 1 Mbps (%)',\n",
       " 'UL TP < 10 Kbps (%)',\n",
       " '10 Kbps < UL TP < 50 Kbps (%)',\n",
       " '50 Kbps < UL TP < 300 Kbps (%)',\n",
       " 'UL TP > 300 Kbps (%)',\n",
       " 'HTTP DL (Bytes)',\n",
       " 'HTTP UL (Bytes)',\n",
       " 'Activity Duration DL (ms)',\n",
       " 'Activity Duration UL (ms)',\n",
       " 'Dur. (ms).1',\n",
       " 'Handset Manufacturer',\n",
       " 'Handset Type',\n",
       " 'Nb of sec with 125000B < Vol DL',\n",
       " 'Nb of sec with 1250B < Vol UL < 6250B',\n",
       " 'Nb of sec with 31250B < Vol DL < 125000B',\n",
       " 'Nb of sec with 37500B < Vol UL',\n",
       " 'Nb of sec with 6250B < Vol DL < 31250B',\n",
       " 'Nb of sec with 6250B < Vol UL < 37500B',\n",
       " 'Nb of sec with Vol DL < 6250B',\n",
       " 'Nb of sec with Vol UL < 1250B',\n",
       " 'Social Media DL (Bytes)',\n",
       " 'Social Media UL (Bytes)',\n",
       " 'Google DL (Bytes)',\n",
       " 'Google UL (Bytes)',\n",
       " 'Email DL (Bytes)',\n",
       " 'Email UL (Bytes)',\n",
       " 'Youtube DL (Bytes)',\n",
       " 'Youtube UL (Bytes)',\n",
       " 'Netflix DL (Bytes)',\n",
       " 'Netflix UL (Bytes)',\n",
       " 'Gaming DL (Bytes)',\n",
       " 'Gaming UL (Bytes)',\n",
       " 'Other DL (Bytes)',\n",
       " 'Other UL (Bytes)',\n",
       " 'Total UL (Bytes)',\n",
       " 'Total DL (Bytes)']"
      ]
     },
     "metadata": {},
     "execution_count": 10
    }
   ],
   "source": [
    "explorer.get_columns()"
   ]
  },
  {
   "cell_type": "code",
   "execution_count": 11,
   "metadata": {},
   "outputs": [
    {
     "output_type": "stream",
     "name": "stdout",
     "text": [
      "The DataFrame containes 150001 rows and 55 columns.\nCurrent DataFrame Memory Usage:\n68672543\nCurrent DataFrame Memory Usage of columns is :\nDataFrame Information: \n<class 'pandas.core.frame.DataFrame'>\nRangeIndex: 150001 entries, 0 to 150000\nData columns (total 55 columns):\n #   Column                                    Non-Null Count   Dtype         \n---  ------                                    --------------   -----         \n 0   Bearer Id                                 150001 non-null  object        \n 1   Start                                     150000 non-null  datetime64[ns]\n 2   Start ms                                  150000 non-null  float32       \n 3   End                                       150000 non-null  datetime64[ns]\n 4   End ms                                    150000 non-null  float32       \n 5   Dur. (ms)                                 150000 non-null  float32       \n 6   IMSI                                      149431 non-null  float32       \n 7   MSISDN/Number                             148935 non-null  float32       \n 8   IMEI                                      149429 non-null  float32       \n 9   Last Location Name                        148848 non-null  object        \n 10  Avg RTT DL (ms)                           122172 non-null  float32       \n 11  Avg RTT UL (ms)                           122189 non-null  float32       \n 12  Avg Bearer TP DL (kbps)                   150000 non-null  float32       \n 13  Avg Bearer TP UL (kbps)                   150000 non-null  float32       \n 14  TCP DL Retrans. Vol (Bytes)               61855 non-null   float32       \n 15  TCP UL Retrans. Vol (Bytes)               53352 non-null   float32       \n 16  DL TP < 50 Kbps (%)                       149247 non-null  float32       \n 17  50 Kbps < DL TP < 250 Kbps (%)            149247 non-null  float32       \n 18  250 Kbps < DL TP < 1 Mbps (%)             149247 non-null  float32       \n 19  DL TP > 1 Mbps (%)                        149247 non-null  float32       \n 20  UL TP < 10 Kbps (%)                       149209 non-null  float32       \n 21  10 Kbps < UL TP < 50 Kbps (%)             149209 non-null  float32       \n 22  50 Kbps < UL TP < 300 Kbps (%)            149209 non-null  float32       \n 23  UL TP > 300 Kbps (%)                      149209 non-null  float32       \n 24  HTTP DL (Bytes)                           68527 non-null   float32       \n 25  HTTP UL (Bytes)                           68191 non-null   float32       \n 26  Activity Duration DL (ms)                 150000 non-null  float32       \n 27  Activity Duration UL (ms)                 150000 non-null  float32       \n 28  Dur. (ms).1                               150000 non-null  float32       \n 29  Handset Manufacturer                      140442 non-null  object        \n 30  Handset Type                              140442 non-null  object        \n 31  Nb of sec with 125000B < Vol DL           52463 non-null   float32       \n 32  Nb of sec with 1250B < Vol UL < 6250B     57107 non-null   float32       \n 33  Nb of sec with 31250B < Vol DL < 125000B  56415 non-null   float32       \n 34  Nb of sec with 37500B < Vol UL            19747 non-null   float32       \n 35  Nb of sec with 6250B < Vol DL < 31250B    61684 non-null   float32       \n 36  Nb of sec with 6250B < Vol UL < 37500B    38158 non-null   float32       \n 37  Nb of sec with Vol DL < 6250B             149246 non-null  float32       \n 38  Nb of sec with Vol UL < 1250B             149208 non-null  float32       \n 39  Social Media DL (Bytes)                   150001 non-null  float32       \n 40  Social Media UL (Bytes)                   150001 non-null  float32       \n 41  Google DL (Bytes)                         150001 non-null  float32       \n 42  Google UL (Bytes)                         150001 non-null  float32       \n 43  Email DL (Bytes)                          150001 non-null  float32       \n 44  Email UL (Bytes)                          150001 non-null  float32       \n 45  Youtube DL (Bytes)                        150001 non-null  float32       \n 46  Youtube UL (Bytes)                        150001 non-null  float32       \n 47  Netflix DL (Bytes)                        150001 non-null  float32       \n 48  Netflix UL (Bytes)                        150001 non-null  float32       \n 49  Gaming DL (Bytes)                         150001 non-null  float32       \n 50  Gaming UL (Bytes)                         150001 non-null  float32       \n 51  Other DL (Bytes)                          150001 non-null  float32       \n 52  Other UL (Bytes)                          150001 non-null  float32       \n 53  Total UL (Bytes)                          150000 non-null  float32       \n 54  Total DL (Bytes)                          150000 non-null  float32       \ndtypes: datetime64[ns](2), float32(49), object(4)\nmemory usage: 34.9+ MB\n"
     ]
    }
   ],
   "source": [
    "explorer.get_basic_description()"
   ]
  },
  {
   "cell_type": "code",
   "execution_count": 12,
   "metadata": {},
   "outputs": [
    {
     "output_type": "stream",
     "name": "stdout",
     "text": [
      "DataFrame Description: \n"
     ]
    },
    {
     "output_type": "execute_result",
     "data": {
      "text/plain": [
       "            Start ms         End ms     Dur. (ms)          IMSI  \\\n",
       "count  150000.000000  150000.000000  1.500000e+05  1.494310e+05   \n",
       "mean      499.188263     498.800903  1.046086e+05  2.082016e+14   \n",
       "std       288.611816     288.097656  8.103762e+04  2.148807e+10   \n",
       "min         0.000000       0.000000  7.142000e+03  2.040471e+14   \n",
       "25%       250.000000     251.000000  5.744050e+04  2.082014e+14   \n",
       "50%       499.000000     500.000000  8.639900e+04  2.082015e+14   \n",
       "75%       749.000000     750.000000  1.324302e+05  2.082018e+14   \n",
       "max       999.000000     999.000000  1.859336e+06  2.140743e+14   \n",
       "\n",
       "       MSISDN/Number          IMEI  Avg RTT DL (ms)  Avg RTT UL (ms)  \\\n",
       "count   1.489350e+05  1.494290e+05    122172.000000    122189.000000   \n",
       "mean    4.188282e+10  4.847454e+13       109.795708        17.662884   \n",
       "std     2.447443e+12  2.241637e+13       619.782715        84.793526   \n",
       "min     3.360100e+10  4.400152e+11         0.000000         0.000000   \n",
       "25%     3.365129e+10  3.546071e+13        32.000000         2.000000   \n",
       "50%     3.366371e+10  3.572201e+13        45.000000         5.000000   \n",
       "75%     3.368349e+10  8.611971e+13        70.000000        15.000000   \n",
       "max     8.823971e+14  9.900120e+13     96923.000000      7120.000000   \n",
       "\n",
       "       Avg Bearer TP DL (kbps)  Avg Bearer TP UL (kbps)  \\\n",
       "count            150000.000000            150000.000000   \n",
       "mean              13300.045898              1770.428589   \n",
       "std               23971.878906              4625.355469   \n",
       "min                   0.000000                 0.000000   \n",
       "25%                  43.000000                47.000000   \n",
       "50%                  63.000000                63.000000   \n",
       "75%               19710.750000              1120.000000   \n",
       "max              378160.000000             58613.000000   \n",
       "\n",
       "       TCP DL Retrans. Vol (Bytes)  TCP UL Retrans. Vol (Bytes)  \\\n",
       "count                 6.185500e+04                 5.335200e+04   \n",
       "mean                  2.080991e+07                 7.596587e+05   \n",
       "std                   1.825665e+08                 2.645305e+07   \n",
       "min                   2.000000e+00                 1.000000e+00   \n",
       "25%                   3.565150e+04                 4.694750e+03   \n",
       "50%                   5.687300e+05                 2.094950e+04   \n",
       "75%                   3.768308e+06                 8.402025e+04   \n",
       "max                   4.294426e+09                 2.908226e+09   \n",
       "\n",
       "       DL TP < 50 Kbps (%)  50 Kbps < DL TP < 250 Kbps (%)  \\\n",
       "count        149247.000000                   149247.000000   \n",
       "mean             92.844757                        3.069355   \n",
       "std              13.038032                        6.215232   \n",
       "min               0.000000                        0.000000   \n",
       "25%              91.000000                        0.000000   \n",
       "50%             100.000000                        0.000000   \n",
       "75%             100.000000                        4.000000   \n",
       "max             100.000000                       93.000000   \n",
       "\n",
       "       250 Kbps < DL TP < 1 Mbps (%)  DL TP > 1 Mbps (%)  UL TP < 10 Kbps (%)  \\\n",
       "count                  149247.000000       149247.000000        149209.000000   \n",
       "mean                        1.717341            1.609654            98.530144   \n",
       "std                         4.159538            4.828890             4.634285   \n",
       "min                         0.000000            0.000000             0.000000   \n",
       "25%                         0.000000            0.000000            99.000000   \n",
       "50%                         0.000000            0.000000           100.000000   \n",
       "75%                         1.000000            0.000000           100.000000   \n",
       "max                       100.000000           94.000000           100.000000   \n",
       "\n",
       "       10 Kbps < UL TP < 50 Kbps (%)  50 Kbps < UL TP < 300 Kbps (%)  \\\n",
       "count                  149209.000000                   149209.000000   \n",
       "mean                        0.776749                        0.147987   \n",
       "std                         3.225177                        1.624523   \n",
       "min                         0.000000                        0.000000   \n",
       "25%                         0.000000                        0.000000   \n",
       "50%                         0.000000                        0.000000   \n",
       "75%                         0.000000                        0.000000   \n",
       "max                        98.000000                      100.000000   \n",
       "\n",
       "       UL TP > 300 Kbps (%)  HTTP DL (Bytes)  HTTP UL (Bytes)  \\\n",
       "count         149209.000000     6.852700e+04     6.819100e+04   \n",
       "mean               0.078923     1.144710e+08     3.242301e+06   \n",
       "std                1.295396     9.631946e+08     1.957064e+07   \n",
       "min                0.000000     4.000000e+01     4.000000e+01   \n",
       "25%                0.000000     1.124035e+05     2.432200e+04   \n",
       "50%                0.000000     1.941949e+06     2.297330e+05   \n",
       "75%                0.000000     2.504290e+07     1.542827e+06   \n",
       "max               96.000000     7.253063e+10     1.491890e+09   \n",
       "\n",
       "       Activity Duration DL (ms)  Activity Duration UL (ms)   Dur. (ms).1  \\\n",
       "count               1.500000e+05               1.500000e+05  1.500000e+05   \n",
       "mean                1.829177e+06               1.408880e+06  1.046091e+08   \n",
       "std                 5.696396e+06               4.643230e+06  8.103762e+07   \n",
       "min                 0.000000e+00               0.000000e+00  7.142988e+06   \n",
       "25%                 1.487775e+04               2.153975e+04  5.744078e+07   \n",
       "50%                 3.930450e+04               4.679350e+04  8.639998e+07   \n",
       "75%                 6.796095e+05               5.990952e+05  1.324308e+08   \n",
       "max                 1.365365e+08               1.449113e+08  1.859336e+09   \n",
       "\n",
       "       Nb of sec with 125000B < Vol DL  Nb of sec with 1250B < Vol UL < 6250B  \\\n",
       "count                     52463.000000                           57107.000000   \n",
       "mean                        989.699890                             340.434418   \n",
       "std                        2546.524414                            1445.364990   \n",
       "min                           1.000000                               1.000000   \n",
       "25%                          20.000000                              10.000000   \n",
       "50%                         128.000000                              52.000000   \n",
       "75%                         693.500000                             203.000000   \n",
       "max                       81476.000000                           85412.000000   \n",
       "\n",
       "       Nb of sec with 31250B < Vol DL < 125000B  \\\n",
       "count                              56415.000000   \n",
       "mean                                 810.837341   \n",
       "std                                 1842.161987   \n",
       "min                                    1.000000   \n",
       "25%                                   26.000000   \n",
       "50%                                  164.000000   \n",
       "75%                                  757.000000   \n",
       "max                                58525.000000   \n",
       "\n",
       "       Nb of sec with 37500B < Vol UL  Nb of sec with 6250B < Vol DL < 31250B  \\\n",
       "count                    19747.000000                            61684.000000   \n",
       "mean                       149.257050                              965.464783   \n",
       "std                       1219.112305                             1946.387573   \n",
       "min                          1.000000                                1.000000   \n",
       "25%                          2.000000                               39.000000   \n",
       "50%                          8.000000                              288.000000   \n",
       "75%                         35.000000                             1092.000000   \n",
       "max                      50553.000000                            66913.000000   \n",
       "\n",
       "       Nb of sec with 6250B < Vol UL < 37500B  Nb of sec with Vol DL < 6250B  \\\n",
       "count                             38158.00000                  149246.000000   \n",
       "mean                                141.30481                    3719.787842   \n",
       "std                                 993.34967                    9171.608398   \n",
       "min                                   1.00000                       1.000000   \n",
       "25%                                   3.00000                      87.000000   \n",
       "50%                                   8.00000                     203.000000   \n",
       "75%                                  31.00000                    2650.000000   \n",
       "max                               49565.00000                  604061.000000   \n",
       "\n",
       "       Nb of sec with Vol UL < 1250B  Social Media DL (Bytes)  \\\n",
       "count                  149208.000000                150001.00   \n",
       "mean                     4022.083008               1795321.75   \n",
       "std                     10160.324219               1035482.25   \n",
       "min                         1.000000                    12.00   \n",
       "25%                       106.000000                899148.00   \n",
       "50%                       217.000000               1794369.00   \n",
       "75%                      2451.000000               2694938.00   \n",
       "max                    604122.000000               3586064.00   \n",
       "\n",
       "       Social Media UL (Bytes)  Google DL (Bytes)  Google UL (Bytes)  \\\n",
       "count            150001.000000           150001.0         150001.000   \n",
       "mean              32928.433594          5750752.0        2056541.625   \n",
       "std               19006.177734          3309097.0        1189916.875   \n",
       "min                   0.000000              207.0              3.000   \n",
       "25%               16448.000000          2882393.0        1024279.000   \n",
       "50%               32920.000000          5765829.0        2054573.000   \n",
       "75%               49334.000000          8623552.0        3088454.000   \n",
       "max               65870.000000         11462832.0        4121357.000   \n",
       "\n",
       "       Email DL (Bytes)  Email UL (Bytes)  Youtube DL (Bytes)  \\\n",
       "count        150001.000      150001.00000            150001.0   \n",
       "mean        1791728.875      467373.46875          11634072.0   \n",
       "std         1035839.500      269969.31250           6710569.0   \n",
       "min              14.000           2.00000                53.0   \n",
       "25%          892793.000      233383.00000           5833501.0   \n",
       "50%         1793505.000      466250.00000          11616019.0   \n",
       "75%         2689327.000      700440.00000          17448518.0   \n",
       "max         3586146.000      936418.00000          23259098.0   \n",
       "\n",
       "       Youtube UL (Bytes)  Netflix DL (Bytes)  Netflix UL (Bytes)  \\\n",
       "count            150001.0            150001.0            150001.0   \n",
       "mean           11009408.0          11626851.0          11001756.0   \n",
       "std             6345423.0           6725218.0           6359490.0   \n",
       "min                 105.0                42.0                35.0   \n",
       "25%             5517965.0           5777156.0           5475981.0   \n",
       "50%            11013447.0          11642217.0          10996384.0   \n",
       "75%            16515562.0          17470478.0          16507268.0   \n",
       "max            22011962.0          23259188.0          22011956.0   \n",
       "\n",
       "       Gaming DL (Bytes)  Gaming UL (Bytes)  Other DL (Bytes)  \\\n",
       "count           150001.0           150001.0          150001.0   \n",
       "mean         422044736.0          8288398.0       421100512.0   \n",
       "std          243967488.0          4782699.5       243205008.0   \n",
       "min               2516.0               59.0            3290.0   \n",
       "25%          210473248.0          4128476.0       210186880.0   \n",
       "50%          423408096.0          8291208.0       421803008.0   \n",
       "75%          633174144.0         12431624.0       631691776.0   \n",
       "max          843441920.0         16558794.0       843442496.0   \n",
       "\n",
       "       Other UL (Bytes)  Total UL (Bytes)  Total DL (Bytes)  \n",
       "count          150001.0          150000.0          150000.0  \n",
       "mean          8264799.0        41121208.0       454643424.0  \n",
       "std           4769003.5        11276387.0       244142880.0  \n",
       "min               148.0         2866892.0         7114041.0  \n",
       "25%           4145943.0        33222010.0       243106800.0  \n",
       "50%           8267071.0        41143312.0       455841088.0  \n",
       "75%          12384148.0        49034240.0       665705536.0  \n",
       "max          16558816.0        78331312.0       902969600.0  "
      ],
      "text/html": "<div>\n<style scoped>\n    .dataframe tbody tr th:only-of-type {\n        vertical-align: middle;\n    }\n\n    .dataframe tbody tr th {\n        vertical-align: top;\n    }\n\n    .dataframe thead th {\n        text-align: right;\n    }\n</style>\n<table border=\"1\" class=\"dataframe\">\n  <thead>\n    <tr style=\"text-align: right;\">\n      <th></th>\n      <th>Start ms</th>\n      <th>End ms</th>\n      <th>Dur. (ms)</th>\n      <th>IMSI</th>\n      <th>MSISDN/Number</th>\n      <th>IMEI</th>\n      <th>Avg RTT DL (ms)</th>\n      <th>Avg RTT UL (ms)</th>\n      <th>Avg Bearer TP DL (kbps)</th>\n      <th>Avg Bearer TP UL (kbps)</th>\n      <th>TCP DL Retrans. Vol (Bytes)</th>\n      <th>TCP UL Retrans. Vol (Bytes)</th>\n      <th>DL TP &lt; 50 Kbps (%)</th>\n      <th>50 Kbps &lt; DL TP &lt; 250 Kbps (%)</th>\n      <th>250 Kbps &lt; DL TP &lt; 1 Mbps (%)</th>\n      <th>DL TP &gt; 1 Mbps (%)</th>\n      <th>UL TP &lt; 10 Kbps (%)</th>\n      <th>10 Kbps &lt; UL TP &lt; 50 Kbps (%)</th>\n      <th>50 Kbps &lt; UL TP &lt; 300 Kbps (%)</th>\n      <th>UL TP &gt; 300 Kbps (%)</th>\n      <th>HTTP DL (Bytes)</th>\n      <th>HTTP UL (Bytes)</th>\n      <th>Activity Duration DL (ms)</th>\n      <th>Activity Duration UL (ms)</th>\n      <th>Dur. (ms).1</th>\n      <th>Nb of sec with 125000B &lt; Vol DL</th>\n      <th>Nb of sec with 1250B &lt; Vol UL &lt; 6250B</th>\n      <th>Nb of sec with 31250B &lt; Vol DL &lt; 125000B</th>\n      <th>Nb of sec with 37500B &lt; Vol UL</th>\n      <th>Nb of sec with 6250B &lt; Vol DL &lt; 31250B</th>\n      <th>Nb of sec with 6250B &lt; Vol UL &lt; 37500B</th>\n      <th>Nb of sec with Vol DL &lt; 6250B</th>\n      <th>Nb of sec with Vol UL &lt; 1250B</th>\n      <th>Social Media DL (Bytes)</th>\n      <th>Social Media UL (Bytes)</th>\n      <th>Google DL (Bytes)</th>\n      <th>Google UL (Bytes)</th>\n      <th>Email DL (Bytes)</th>\n      <th>Email UL (Bytes)</th>\n      <th>Youtube DL (Bytes)</th>\n      <th>Youtube UL (Bytes)</th>\n      <th>Netflix DL (Bytes)</th>\n      <th>Netflix UL (Bytes)</th>\n      <th>Gaming DL (Bytes)</th>\n      <th>Gaming UL (Bytes)</th>\n      <th>Other DL (Bytes)</th>\n      <th>Other UL (Bytes)</th>\n      <th>Total UL (Bytes)</th>\n      <th>Total DL (Bytes)</th>\n    </tr>\n  </thead>\n  <tbody>\n    <tr>\n      <th>count</th>\n      <td>150000.000000</td>\n      <td>150000.000000</td>\n      <td>1.500000e+05</td>\n      <td>1.494310e+05</td>\n      <td>1.489350e+05</td>\n      <td>1.494290e+05</td>\n      <td>122172.000000</td>\n      <td>122189.000000</td>\n      <td>150000.000000</td>\n      <td>150000.000000</td>\n      <td>6.185500e+04</td>\n      <td>5.335200e+04</td>\n      <td>149247.000000</td>\n      <td>149247.000000</td>\n      <td>149247.000000</td>\n      <td>149247.000000</td>\n      <td>149209.000000</td>\n      <td>149209.000000</td>\n      <td>149209.000000</td>\n      <td>149209.000000</td>\n      <td>6.852700e+04</td>\n      <td>6.819100e+04</td>\n      <td>1.500000e+05</td>\n      <td>1.500000e+05</td>\n      <td>1.500000e+05</td>\n      <td>52463.000000</td>\n      <td>57107.000000</td>\n      <td>56415.000000</td>\n      <td>19747.000000</td>\n      <td>61684.000000</td>\n      <td>38158.00000</td>\n      <td>149246.000000</td>\n      <td>149208.000000</td>\n      <td>150001.00</td>\n      <td>150001.000000</td>\n      <td>150001.0</td>\n      <td>150001.000</td>\n      <td>150001.000</td>\n      <td>150001.00000</td>\n      <td>150001.0</td>\n      <td>150001.0</td>\n      <td>150001.0</td>\n      <td>150001.0</td>\n      <td>150001.0</td>\n      <td>150001.0</td>\n      <td>150001.0</td>\n      <td>150001.0</td>\n      <td>150000.0</td>\n      <td>150000.0</td>\n    </tr>\n    <tr>\n      <th>mean</th>\n      <td>499.188263</td>\n      <td>498.800903</td>\n      <td>1.046086e+05</td>\n      <td>2.082016e+14</td>\n      <td>4.188282e+10</td>\n      <td>4.847454e+13</td>\n      <td>109.795708</td>\n      <td>17.662884</td>\n      <td>13300.045898</td>\n      <td>1770.428589</td>\n      <td>2.080991e+07</td>\n      <td>7.596587e+05</td>\n      <td>92.844757</td>\n      <td>3.069355</td>\n      <td>1.717341</td>\n      <td>1.609654</td>\n      <td>98.530144</td>\n      <td>0.776749</td>\n      <td>0.147987</td>\n      <td>0.078923</td>\n      <td>1.144710e+08</td>\n      <td>3.242301e+06</td>\n      <td>1.829177e+06</td>\n      <td>1.408880e+06</td>\n      <td>1.046091e+08</td>\n      <td>989.699890</td>\n      <td>340.434418</td>\n      <td>810.837341</td>\n      <td>149.257050</td>\n      <td>965.464783</td>\n      <td>141.30481</td>\n      <td>3719.787842</td>\n      <td>4022.083008</td>\n      <td>1795321.75</td>\n      <td>32928.433594</td>\n      <td>5750752.0</td>\n      <td>2056541.625</td>\n      <td>1791728.875</td>\n      <td>467373.46875</td>\n      <td>11634072.0</td>\n      <td>11009408.0</td>\n      <td>11626851.0</td>\n      <td>11001756.0</td>\n      <td>422044736.0</td>\n      <td>8288398.0</td>\n      <td>421100512.0</td>\n      <td>8264799.0</td>\n      <td>41121208.0</td>\n      <td>454643424.0</td>\n    </tr>\n    <tr>\n      <th>std</th>\n      <td>288.611816</td>\n      <td>288.097656</td>\n      <td>8.103762e+04</td>\n      <td>2.148807e+10</td>\n      <td>2.447443e+12</td>\n      <td>2.241637e+13</td>\n      <td>619.782715</td>\n      <td>84.793526</td>\n      <td>23971.878906</td>\n      <td>4625.355469</td>\n      <td>1.825665e+08</td>\n      <td>2.645305e+07</td>\n      <td>13.038032</td>\n      <td>6.215232</td>\n      <td>4.159538</td>\n      <td>4.828890</td>\n      <td>4.634285</td>\n      <td>3.225177</td>\n      <td>1.624523</td>\n      <td>1.295396</td>\n      <td>9.631946e+08</td>\n      <td>1.957064e+07</td>\n      <td>5.696396e+06</td>\n      <td>4.643230e+06</td>\n      <td>8.103762e+07</td>\n      <td>2546.524414</td>\n      <td>1445.364990</td>\n      <td>1842.161987</td>\n      <td>1219.112305</td>\n      <td>1946.387573</td>\n      <td>993.34967</td>\n      <td>9171.608398</td>\n      <td>10160.324219</td>\n      <td>1035482.25</td>\n      <td>19006.177734</td>\n      <td>3309097.0</td>\n      <td>1189916.875</td>\n      <td>1035839.500</td>\n      <td>269969.31250</td>\n      <td>6710569.0</td>\n      <td>6345423.0</td>\n      <td>6725218.0</td>\n      <td>6359490.0</td>\n      <td>243967488.0</td>\n      <td>4782699.5</td>\n      <td>243205008.0</td>\n      <td>4769003.5</td>\n      <td>11276387.0</td>\n      <td>244142880.0</td>\n    </tr>\n    <tr>\n      <th>min</th>\n      <td>0.000000</td>\n      <td>0.000000</td>\n      <td>7.142000e+03</td>\n      <td>2.040471e+14</td>\n      <td>3.360100e+10</td>\n      <td>4.400152e+11</td>\n      <td>0.000000</td>\n      <td>0.000000</td>\n      <td>0.000000</td>\n      <td>0.000000</td>\n      <td>2.000000e+00</td>\n      <td>1.000000e+00</td>\n      <td>0.000000</td>\n      <td>0.000000</td>\n      <td>0.000000</td>\n      <td>0.000000</td>\n      <td>0.000000</td>\n      <td>0.000000</td>\n      <td>0.000000</td>\n      <td>0.000000</td>\n      <td>4.000000e+01</td>\n      <td>4.000000e+01</td>\n      <td>0.000000e+00</td>\n      <td>0.000000e+00</td>\n      <td>7.142988e+06</td>\n      <td>1.000000</td>\n      <td>1.000000</td>\n      <td>1.000000</td>\n      <td>1.000000</td>\n      <td>1.000000</td>\n      <td>1.00000</td>\n      <td>1.000000</td>\n      <td>1.000000</td>\n      <td>12.00</td>\n      <td>0.000000</td>\n      <td>207.0</td>\n      <td>3.000</td>\n      <td>14.000</td>\n      <td>2.00000</td>\n      <td>53.0</td>\n      <td>105.0</td>\n      <td>42.0</td>\n      <td>35.0</td>\n      <td>2516.0</td>\n      <td>59.0</td>\n      <td>3290.0</td>\n      <td>148.0</td>\n      <td>2866892.0</td>\n      <td>7114041.0</td>\n    </tr>\n    <tr>\n      <th>25%</th>\n      <td>250.000000</td>\n      <td>251.000000</td>\n      <td>5.744050e+04</td>\n      <td>2.082014e+14</td>\n      <td>3.365129e+10</td>\n      <td>3.546071e+13</td>\n      <td>32.000000</td>\n      <td>2.000000</td>\n      <td>43.000000</td>\n      <td>47.000000</td>\n      <td>3.565150e+04</td>\n      <td>4.694750e+03</td>\n      <td>91.000000</td>\n      <td>0.000000</td>\n      <td>0.000000</td>\n      <td>0.000000</td>\n      <td>99.000000</td>\n      <td>0.000000</td>\n      <td>0.000000</td>\n      <td>0.000000</td>\n      <td>1.124035e+05</td>\n      <td>2.432200e+04</td>\n      <td>1.487775e+04</td>\n      <td>2.153975e+04</td>\n      <td>5.744078e+07</td>\n      <td>20.000000</td>\n      <td>10.000000</td>\n      <td>26.000000</td>\n      <td>2.000000</td>\n      <td>39.000000</td>\n      <td>3.00000</td>\n      <td>87.000000</td>\n      <td>106.000000</td>\n      <td>899148.00</td>\n      <td>16448.000000</td>\n      <td>2882393.0</td>\n      <td>1024279.000</td>\n      <td>892793.000</td>\n      <td>233383.00000</td>\n      <td>5833501.0</td>\n      <td>5517965.0</td>\n      <td>5777156.0</td>\n      <td>5475981.0</td>\n      <td>210473248.0</td>\n      <td>4128476.0</td>\n      <td>210186880.0</td>\n      <td>4145943.0</td>\n      <td>33222010.0</td>\n      <td>243106800.0</td>\n    </tr>\n    <tr>\n      <th>50%</th>\n      <td>499.000000</td>\n      <td>500.000000</td>\n      <td>8.639900e+04</td>\n      <td>2.082015e+14</td>\n      <td>3.366371e+10</td>\n      <td>3.572201e+13</td>\n      <td>45.000000</td>\n      <td>5.000000</td>\n      <td>63.000000</td>\n      <td>63.000000</td>\n      <td>5.687300e+05</td>\n      <td>2.094950e+04</td>\n      <td>100.000000</td>\n      <td>0.000000</td>\n      <td>0.000000</td>\n      <td>0.000000</td>\n      <td>100.000000</td>\n      <td>0.000000</td>\n      <td>0.000000</td>\n      <td>0.000000</td>\n      <td>1.941949e+06</td>\n      <td>2.297330e+05</td>\n      <td>3.930450e+04</td>\n      <td>4.679350e+04</td>\n      <td>8.639998e+07</td>\n      <td>128.000000</td>\n      <td>52.000000</td>\n      <td>164.000000</td>\n      <td>8.000000</td>\n      <td>288.000000</td>\n      <td>8.00000</td>\n      <td>203.000000</td>\n      <td>217.000000</td>\n      <td>1794369.00</td>\n      <td>32920.000000</td>\n      <td>5765829.0</td>\n      <td>2054573.000</td>\n      <td>1793505.000</td>\n      <td>466250.00000</td>\n      <td>11616019.0</td>\n      <td>11013447.0</td>\n      <td>11642217.0</td>\n      <td>10996384.0</td>\n      <td>423408096.0</td>\n      <td>8291208.0</td>\n      <td>421803008.0</td>\n      <td>8267071.0</td>\n      <td>41143312.0</td>\n      <td>455841088.0</td>\n    </tr>\n    <tr>\n      <th>75%</th>\n      <td>749.000000</td>\n      <td>750.000000</td>\n      <td>1.324302e+05</td>\n      <td>2.082018e+14</td>\n      <td>3.368349e+10</td>\n      <td>8.611971e+13</td>\n      <td>70.000000</td>\n      <td>15.000000</td>\n      <td>19710.750000</td>\n      <td>1120.000000</td>\n      <td>3.768308e+06</td>\n      <td>8.402025e+04</td>\n      <td>100.000000</td>\n      <td>4.000000</td>\n      <td>1.000000</td>\n      <td>0.000000</td>\n      <td>100.000000</td>\n      <td>0.000000</td>\n      <td>0.000000</td>\n      <td>0.000000</td>\n      <td>2.504290e+07</td>\n      <td>1.542827e+06</td>\n      <td>6.796095e+05</td>\n      <td>5.990952e+05</td>\n      <td>1.324308e+08</td>\n      <td>693.500000</td>\n      <td>203.000000</td>\n      <td>757.000000</td>\n      <td>35.000000</td>\n      <td>1092.000000</td>\n      <td>31.00000</td>\n      <td>2650.000000</td>\n      <td>2451.000000</td>\n      <td>2694938.00</td>\n      <td>49334.000000</td>\n      <td>8623552.0</td>\n      <td>3088454.000</td>\n      <td>2689327.000</td>\n      <td>700440.00000</td>\n      <td>17448518.0</td>\n      <td>16515562.0</td>\n      <td>17470478.0</td>\n      <td>16507268.0</td>\n      <td>633174144.0</td>\n      <td>12431624.0</td>\n      <td>631691776.0</td>\n      <td>12384148.0</td>\n      <td>49034240.0</td>\n      <td>665705536.0</td>\n    </tr>\n    <tr>\n      <th>max</th>\n      <td>999.000000</td>\n      <td>999.000000</td>\n      <td>1.859336e+06</td>\n      <td>2.140743e+14</td>\n      <td>8.823971e+14</td>\n      <td>9.900120e+13</td>\n      <td>96923.000000</td>\n      <td>7120.000000</td>\n      <td>378160.000000</td>\n      <td>58613.000000</td>\n      <td>4.294426e+09</td>\n      <td>2.908226e+09</td>\n      <td>100.000000</td>\n      <td>93.000000</td>\n      <td>100.000000</td>\n      <td>94.000000</td>\n      <td>100.000000</td>\n      <td>98.000000</td>\n      <td>100.000000</td>\n      <td>96.000000</td>\n      <td>7.253063e+10</td>\n      <td>1.491890e+09</td>\n      <td>1.365365e+08</td>\n      <td>1.449113e+08</td>\n      <td>1.859336e+09</td>\n      <td>81476.000000</td>\n      <td>85412.000000</td>\n      <td>58525.000000</td>\n      <td>50553.000000</td>\n      <td>66913.000000</td>\n      <td>49565.00000</td>\n      <td>604061.000000</td>\n      <td>604122.000000</td>\n      <td>3586064.00</td>\n      <td>65870.000000</td>\n      <td>11462832.0</td>\n      <td>4121357.000</td>\n      <td>3586146.000</td>\n      <td>936418.00000</td>\n      <td>23259098.0</td>\n      <td>22011962.0</td>\n      <td>23259188.0</td>\n      <td>22011956.0</td>\n      <td>843441920.0</td>\n      <td>16558794.0</td>\n      <td>843442496.0</td>\n      <td>16558816.0</td>\n      <td>78331312.0</td>\n      <td>902969600.0</td>\n    </tr>\n  </tbody>\n</table>\n</div>"
     },
     "metadata": {},
     "execution_count": 12
    }
   ],
   "source": [
    "explorer.get_description()"
   ]
  },
  {
   "cell_type": "code",
   "execution_count": 13,
   "metadata": {},
   "outputs": [
    {
     "output_type": "execute_result",
     "data": {
      "text/plain": [
       "count     150001\n",
       "unique    134709\n",
       "top             \n",
       "freq         991\n",
       "Name: Bearer Id, dtype: object"
      ]
     },
     "metadata": {},
     "execution_count": 13
    }
   ],
   "source": [
    "explorer.get_column_description('Bearer Id')"
   ]
  },
  {
   "cell_type": "code",
   "execution_count": 14,
   "metadata": {},
   "outputs": [
    {
     "output_type": "stream",
     "name": "stdout",
     "text": [
      "Current DataFrame Memory Usage of columns is :\n"
     ]
    },
    {
     "output_type": "execute_result",
     "data": {
      "text/plain": [
       "Index                                           128\n",
       "Bearer Id                                   1200008\n",
       "Start                                       1200008\n",
       "Start ms                                     600004\n",
       "End                                         1200008\n",
       "End ms                                       600004\n",
       "Dur. (ms)                                    600004\n",
       "IMSI                                         600004\n",
       "MSISDN/Number                                600004\n",
       "IMEI                                         600004\n",
       "Last Location Name                          1200008\n",
       "Avg RTT DL (ms)                              600004\n",
       "Avg RTT UL (ms)                              600004\n",
       "Avg Bearer TP DL (kbps)                      600004\n",
       "Avg Bearer TP UL (kbps)                      600004\n",
       "TCP DL Retrans. Vol (Bytes)                  600004\n",
       "TCP UL Retrans. Vol (Bytes)                  600004\n",
       "DL TP < 50 Kbps (%)                          600004\n",
       "50 Kbps < DL TP < 250 Kbps (%)               600004\n",
       "250 Kbps < DL TP < 1 Mbps (%)                600004\n",
       "DL TP > 1 Mbps (%)                           600004\n",
       "UL TP < 10 Kbps (%)                          600004\n",
       "10 Kbps < UL TP < 50 Kbps (%)                600004\n",
       "50 Kbps < UL TP < 300 Kbps (%)               600004\n",
       "UL TP > 300 Kbps (%)                         600004\n",
       "HTTP DL (Bytes)                              600004\n",
       "HTTP UL (Bytes)                              600004\n",
       "Activity Duration DL (ms)                    600004\n",
       "Activity Duration UL (ms)                    600004\n",
       "Dur. (ms).1                                  600004\n",
       "Handset Manufacturer                        1200008\n",
       "Handset Type                                1200008\n",
       "Nb of sec with 125000B < Vol DL              600004\n",
       "Nb of sec with 1250B < Vol UL < 6250B        600004\n",
       "Nb of sec with 31250B < Vol DL < 125000B     600004\n",
       "Nb of sec with 37500B < Vol UL               600004\n",
       "Nb of sec with 6250B < Vol DL < 31250B       600004\n",
       "Nb of sec with 6250B < Vol UL < 37500B       600004\n",
       "Nb of sec with Vol DL < 6250B                600004\n",
       "Nb of sec with Vol UL < 1250B                600004\n",
       "Social Media DL (Bytes)                      600004\n",
       "Social Media UL (Bytes)                      600004\n",
       "Google DL (Bytes)                            600004\n",
       "Google UL (Bytes)                            600004\n",
       "Email DL (Bytes)                             600004\n",
       "Email UL (Bytes)                             600004\n",
       "Youtube DL (Bytes)                           600004\n",
       "Youtube UL (Bytes)                           600004\n",
       "Netflix DL (Bytes)                           600004\n",
       "Netflix UL (Bytes)                           600004\n",
       "Gaming DL (Bytes)                            600004\n",
       "Gaming UL (Bytes)                            600004\n",
       "Other DL (Bytes)                             600004\n",
       "Other UL (Bytes)                             600004\n",
       "Total UL (Bytes)                             600004\n",
       "Total DL (Bytes)                             600004\n",
       "dtype: int64"
      ]
     },
     "metadata": {},
     "execution_count": 14
    }
   ],
   "source": [
    "# Data Inforamtion regarding null-values and type based on Columns\n",
    "explorer.get_memory_usage()"
   ]
  },
  {
   "source": [
    "### Task 1.1"
   ],
   "cell_type": "markdown",
   "metadata": {}
  },
  {
   "source": [
    "#### Number of xDR Sessions,Session duration, the total download (DL) and upload (UL) data, the total data volume (in Bytes) during this session for each application Aggregated per User('MSISDN/Number')\n"
   ],
   "cell_type": "markdown",
   "metadata": {}
  },
  {
   "cell_type": "code",
   "execution_count": 15,
   "metadata": {},
   "outputs": [],
   "source": [
    "pd.set_option('display.float_format', '{:.2f}'.format)"
   ]
  },
  {
   "cell_type": "code",
   "execution_count": 16,
   "metadata": {},
   "outputs": [
    {
     "output_type": "execute_result",
     "data": {
      "text/plain": [
       "                    Bearer Id  Dur. (ms)  Total UL (Bytes)  Total DL (Bytes)  \\\n",
       "MSISDN/Number                                                                  \n",
       "33601001472.00              2  297950.00       72157568.00      963392640.00   \n",
       "33601003520.00              1  134969.00       39306820.00      556659648.00   \n",
       "33601007616.00              3   86982.00      114608056.00     1765123584.00   \n",
       "33601009664.00              2  253983.00       60009248.00      555208000.00   \n",
       "33601011712.00              3  214759.00      140257136.00      847126272.00   \n",
       "...                       ...        ...               ...               ...   \n",
       "33789980672.00              2  210389.00       70831424.00     1023862016.00   \n",
       "33789997056.00              2  149798.00       62448672.00     1132500224.00   \n",
       "3197020930048.00            1  877385.00       37295916.00      194828064.00   \n",
       "337000045477888.00          1  253030.00       56652840.00      539635008.00   \n",
       "882397138649088.00          1  869844.00       60456048.00       78697600.00   \n",
       "\n",
       "                    Social Media DL (Bytes)  Social Media UL (Bytes)  \\\n",
       "MSISDN/Number                                                          \n",
       "33601001472.00                   4805052.00                 87648.00   \n",
       "33601003520.00                   3148004.00                 47619.00   \n",
       "33601007616.00                   3112699.00                 80137.00   \n",
       "33601009664.00                   3787122.00                  5790.00   \n",
       "33601011712.00                   4447339.00                104980.00   \n",
       "...                                     ...                      ...   \n",
       "33789980672.00                   4200896.00                 49416.00   \n",
       "33789997056.00                    676534.00                122218.00   \n",
       "3197020930048.00                  668596.00                 46628.00   \n",
       "337000045477888.00                496337.00                 25229.00   \n",
       "882397138649088.00               1500145.00                 45943.00   \n",
       "\n",
       "                    Google DL (Bytes)  Google UL (Bytes)  Email DL (Bytes)  \\\n",
       "MSISDN/Number                                                                \n",
       "33601001472.00             7534820.00         2189048.00        3666221.00   \n",
       "33601003520.00             3343483.00           99643.00        2436500.00   \n",
       "33601007616.00            19666432.00         8511676.00        4426426.00   \n",
       "33601009664.00            11993496.00         3269638.00        6513834.00   \n",
       "33601011712.00            15382479.00         6837538.00        2017004.00   \n",
       "...                               ...                ...               ...   \n",
       "33789980672.00             5035730.00         5210743.00        4750550.00   \n",
       "33789997056.00             8306584.00         4654390.00        2994379.00   \n",
       "3197020930048.00           8572779.00         1865881.00         842279.00   \n",
       "337000045477888.00         8215537.00         1615080.00        2989663.00   \n",
       "882397138649088.00         5985089.00         3233558.00        2518425.00   \n",
       "\n",
       "                    Email UL (Bytes)  Youtube DL (Bytes)  Youtube UL (Bytes)  \\\n",
       "MSISDN/Number                                                                  \n",
       "33601001472.00             972922.00         20224452.00         13832319.00   \n",
       "33601003520.00             768880.00          2137272.00         19196298.00   \n",
       "33601007616.00            1163713.00         14733094.00         33777228.00   \n",
       "33601009664.00            1334762.00         12169742.00         22177380.00   \n",
       "33601011712.00            1557518.00          8090922.00         37233152.00   \n",
       "...                              ...                 ...                 ...   \n",
       "33789980672.00             564777.00         20353018.00         17659794.00   \n",
       "33789997056.00             526633.00         13891172.00         32608242.00   \n",
       "3197020930048.00           678492.00          9839889.00          2120016.00   \n",
       "337000045477888.00         328919.00         16690728.00         20044212.00   \n",
       "882397138649088.00         812549.00         18980320.00         21960390.00   \n",
       "\n",
       "                    Netflix DL (Bytes)  Netflix UL (Bytes)  Gaming DL (Bytes)  \\\n",
       "MSISDN/Number                                                                   \n",
       "33601001472.00             11035674.00         27367070.00       916126464.00   \n",
       "33601003520.00             16525919.00          2827981.00       529068480.00   \n",
       "33601007616.00             26129010.00         25014808.00      1697056000.00   \n",
       "33601009664.00             14569029.00         15746472.00       506174720.00   \n",
       "33601011712.00             14206037.00         46899200.00       802982528.00   \n",
       "...                                ...                 ...                ...   \n",
       "33789980672.00             30828612.00         21121700.00       958693184.00   \n",
       "33789997056.00             21684702.00          1748896.00      1084946944.00   \n",
       "3197020930048.00           10340908.00         16251392.00       164563600.00   \n",
       "337000045477888.00          9983678.00         20921364.00       501259040.00   \n",
       "882397138649088.00         21621336.00          7224894.00        28092282.00   \n",
       "\n",
       "                    Gaming UL (Bytes)  Other DL (Bytes)  Other UL (Bytes)  \n",
       "MSISDN/Number                                                              \n",
       "33601001472.00            16082308.00      656654720.00       11626252.00  \n",
       "33601003520.00             9759228.00      495086496.00        6607171.00  \n",
       "33601007616.00             8868019.00      802891712.00       37192472.00  \n",
       "33601009664.00             5461038.00      480358592.00       12014169.00  \n",
       "33601011712.00            27842948.00      383308448.00       19781800.00  \n",
       "...                               ...               ...               ...  \n",
       "33789980672.00            13651836.00     1062567232.00       12573155.00  \n",
       "33789997056.00            12417718.00      496027392.00       10370574.00  \n",
       "3197020930048.00          13485133.00      467678112.00        2848373.00  \n",
       "337000045477888.00         8883653.00      144354064.00        4834382.00  \n",
       "882397138649088.00        14977978.00      389159712.00       12200737.00  \n",
       "\n",
       "[35090 rows x 18 columns]"
      ],
      "text/html": "<div>\n<style scoped>\n    .dataframe tbody tr th:only-of-type {\n        vertical-align: middle;\n    }\n\n    .dataframe tbody tr th {\n        vertical-align: top;\n    }\n\n    .dataframe thead th {\n        text-align: right;\n    }\n</style>\n<table border=\"1\" class=\"dataframe\">\n  <thead>\n    <tr style=\"text-align: right;\">\n      <th></th>\n      <th>Bearer Id</th>\n      <th>Dur. (ms)</th>\n      <th>Total UL (Bytes)</th>\n      <th>Total DL (Bytes)</th>\n      <th>Social Media DL (Bytes)</th>\n      <th>Social Media UL (Bytes)</th>\n      <th>Google DL (Bytes)</th>\n      <th>Google UL (Bytes)</th>\n      <th>Email DL (Bytes)</th>\n      <th>Email UL (Bytes)</th>\n      <th>Youtube DL (Bytes)</th>\n      <th>Youtube UL (Bytes)</th>\n      <th>Netflix DL (Bytes)</th>\n      <th>Netflix UL (Bytes)</th>\n      <th>Gaming DL (Bytes)</th>\n      <th>Gaming UL (Bytes)</th>\n      <th>Other DL (Bytes)</th>\n      <th>Other UL (Bytes)</th>\n    </tr>\n    <tr>\n      <th>MSISDN/Number</th>\n      <th></th>\n      <th></th>\n      <th></th>\n      <th></th>\n      <th></th>\n      <th></th>\n      <th></th>\n      <th></th>\n      <th></th>\n      <th></th>\n      <th></th>\n      <th></th>\n      <th></th>\n      <th></th>\n      <th></th>\n      <th></th>\n      <th></th>\n      <th></th>\n    </tr>\n  </thead>\n  <tbody>\n    <tr>\n      <th>33601001472.00</th>\n      <td>2</td>\n      <td>297950.00</td>\n      <td>72157568.00</td>\n      <td>963392640.00</td>\n      <td>4805052.00</td>\n      <td>87648.00</td>\n      <td>7534820.00</td>\n      <td>2189048.00</td>\n      <td>3666221.00</td>\n      <td>972922.00</td>\n      <td>20224452.00</td>\n      <td>13832319.00</td>\n      <td>11035674.00</td>\n      <td>27367070.00</td>\n      <td>916126464.00</td>\n      <td>16082308.00</td>\n      <td>656654720.00</td>\n      <td>11626252.00</td>\n    </tr>\n    <tr>\n      <th>33601003520.00</th>\n      <td>1</td>\n      <td>134969.00</td>\n      <td>39306820.00</td>\n      <td>556659648.00</td>\n      <td>3148004.00</td>\n      <td>47619.00</td>\n      <td>3343483.00</td>\n      <td>99643.00</td>\n      <td>2436500.00</td>\n      <td>768880.00</td>\n      <td>2137272.00</td>\n      <td>19196298.00</td>\n      <td>16525919.00</td>\n      <td>2827981.00</td>\n      <td>529068480.00</td>\n      <td>9759228.00</td>\n      <td>495086496.00</td>\n      <td>6607171.00</td>\n    </tr>\n    <tr>\n      <th>33601007616.00</th>\n      <td>3</td>\n      <td>86982.00</td>\n      <td>114608056.00</td>\n      <td>1765123584.00</td>\n      <td>3112699.00</td>\n      <td>80137.00</td>\n      <td>19666432.00</td>\n      <td>8511676.00</td>\n      <td>4426426.00</td>\n      <td>1163713.00</td>\n      <td>14733094.00</td>\n      <td>33777228.00</td>\n      <td>26129010.00</td>\n      <td>25014808.00</td>\n      <td>1697056000.00</td>\n      <td>8868019.00</td>\n      <td>802891712.00</td>\n      <td>37192472.00</td>\n    </tr>\n    <tr>\n      <th>33601009664.00</th>\n      <td>2</td>\n      <td>253983.00</td>\n      <td>60009248.00</td>\n      <td>555208000.00</td>\n      <td>3787122.00</td>\n      <td>5790.00</td>\n      <td>11993496.00</td>\n      <td>3269638.00</td>\n      <td>6513834.00</td>\n      <td>1334762.00</td>\n      <td>12169742.00</td>\n      <td>22177380.00</td>\n      <td>14569029.00</td>\n      <td>15746472.00</td>\n      <td>506174720.00</td>\n      <td>5461038.00</td>\n      <td>480358592.00</td>\n      <td>12014169.00</td>\n    </tr>\n    <tr>\n      <th>33601011712.00</th>\n      <td>3</td>\n      <td>214759.00</td>\n      <td>140257136.00</td>\n      <td>847126272.00</td>\n      <td>4447339.00</td>\n      <td>104980.00</td>\n      <td>15382479.00</td>\n      <td>6837538.00</td>\n      <td>2017004.00</td>\n      <td>1557518.00</td>\n      <td>8090922.00</td>\n      <td>37233152.00</td>\n      <td>14206037.00</td>\n      <td>46899200.00</td>\n      <td>802982528.00</td>\n      <td>27842948.00</td>\n      <td>383308448.00</td>\n      <td>19781800.00</td>\n    </tr>\n    <tr>\n      <th>...</th>\n      <td>...</td>\n      <td>...</td>\n      <td>...</td>\n      <td>...</td>\n      <td>...</td>\n      <td>...</td>\n      <td>...</td>\n      <td>...</td>\n      <td>...</td>\n      <td>...</td>\n      <td>...</td>\n      <td>...</td>\n      <td>...</td>\n      <td>...</td>\n      <td>...</td>\n      <td>...</td>\n      <td>...</td>\n      <td>...</td>\n    </tr>\n    <tr>\n      <th>33789980672.00</th>\n      <td>2</td>\n      <td>210389.00</td>\n      <td>70831424.00</td>\n      <td>1023862016.00</td>\n      <td>4200896.00</td>\n      <td>49416.00</td>\n      <td>5035730.00</td>\n      <td>5210743.00</td>\n      <td>4750550.00</td>\n      <td>564777.00</td>\n      <td>20353018.00</td>\n      <td>17659794.00</td>\n      <td>30828612.00</td>\n      <td>21121700.00</td>\n      <td>958693184.00</td>\n      <td>13651836.00</td>\n      <td>1062567232.00</td>\n      <td>12573155.00</td>\n    </tr>\n    <tr>\n      <th>33789997056.00</th>\n      <td>2</td>\n      <td>149798.00</td>\n      <td>62448672.00</td>\n      <td>1132500224.00</td>\n      <td>676534.00</td>\n      <td>122218.00</td>\n      <td>8306584.00</td>\n      <td>4654390.00</td>\n      <td>2994379.00</td>\n      <td>526633.00</td>\n      <td>13891172.00</td>\n      <td>32608242.00</td>\n      <td>21684702.00</td>\n      <td>1748896.00</td>\n      <td>1084946944.00</td>\n      <td>12417718.00</td>\n      <td>496027392.00</td>\n      <td>10370574.00</td>\n    </tr>\n    <tr>\n      <th>3197020930048.00</th>\n      <td>1</td>\n      <td>877385.00</td>\n      <td>37295916.00</td>\n      <td>194828064.00</td>\n      <td>668596.00</td>\n      <td>46628.00</td>\n      <td>8572779.00</td>\n      <td>1865881.00</td>\n      <td>842279.00</td>\n      <td>678492.00</td>\n      <td>9839889.00</td>\n      <td>2120016.00</td>\n      <td>10340908.00</td>\n      <td>16251392.00</td>\n      <td>164563600.00</td>\n      <td>13485133.00</td>\n      <td>467678112.00</td>\n      <td>2848373.00</td>\n    </tr>\n    <tr>\n      <th>337000045477888.00</th>\n      <td>1</td>\n      <td>253030.00</td>\n      <td>56652840.00</td>\n      <td>539635008.00</td>\n      <td>496337.00</td>\n      <td>25229.00</td>\n      <td>8215537.00</td>\n      <td>1615080.00</td>\n      <td>2989663.00</td>\n      <td>328919.00</td>\n      <td>16690728.00</td>\n      <td>20044212.00</td>\n      <td>9983678.00</td>\n      <td>20921364.00</td>\n      <td>501259040.00</td>\n      <td>8883653.00</td>\n      <td>144354064.00</td>\n      <td>4834382.00</td>\n    </tr>\n    <tr>\n      <th>882397138649088.00</th>\n      <td>1</td>\n      <td>869844.00</td>\n      <td>60456048.00</td>\n      <td>78697600.00</td>\n      <td>1500145.00</td>\n      <td>45943.00</td>\n      <td>5985089.00</td>\n      <td>3233558.00</td>\n      <td>2518425.00</td>\n      <td>812549.00</td>\n      <td>18980320.00</td>\n      <td>21960390.00</td>\n      <td>21621336.00</td>\n      <td>7224894.00</td>\n      <td>28092282.00</td>\n      <td>14977978.00</td>\n      <td>389159712.00</td>\n      <td>12200737.00</td>\n    </tr>\n  </tbody>\n</table>\n<p>35090 rows × 18 columns</p>\n</div>"
     },
     "metadata": {},
     "execution_count": 16
    }
   ],
   "source": [
    "aggs_by_col = {'Bearer Id': 'count', \n",
    "               'Dur. (ms)': 'sum',\n",
    "               'Total UL (Bytes)': 'sum',\n",
    "               'Total DL (Bytes)': 'sum',\n",
    "               'Social Media DL (Bytes)': 'sum',\n",
    "               'Social Media UL (Bytes)': 'sum',\n",
    "               'Google DL (Bytes)': 'sum',\n",
    "               'Google UL (Bytes)': 'sum',\n",
    "               'Email DL (Bytes)': 'sum',\n",
    "               'Email UL (Bytes)': 'sum',\n",
    "               'Youtube DL (Bytes)': 'sum',\n",
    "               'Youtube UL (Bytes)': 'sum',\n",
    "               'Netflix DL (Bytes)': 'sum',\n",
    "               'Netflix UL (Bytes)': 'sum',\n",
    "               'Gaming DL (Bytes)': 'sum',\n",
    "               'Gaming UL (Bytes)': 'sum',\n",
    "               'Other DL (Bytes)': 'sum',\n",
    "               'Other UL (Bytes)': 'sum',\n",
    "               'Gaming DL (Bytes)': 'sum',\n",
    "               'Gaming UL (Bytes)': 'sum',\n",
    "               }\n",
    "\n",
    "ex1 = telData.groupby('MSISDN/Number').agg(aggs_by_col)\n",
    "ex1"
   ]
  },
  {
   "source": [
    "## Data Cleaning and Manipulation"
   ],
   "cell_type": "markdown",
   "metadata": {}
  },
  {
   "cell_type": "code",
   "execution_count": 17,
   "metadata": {},
   "outputs": [],
   "source": [
    "from data_cleaner import DataCleaner\n",
    "cleaner = DataCleaner(explorer.df)"
   ]
  },
  {
   "source": [
    "#### Fixing Columns"
   ],
   "cell_type": "markdown",
   "metadata": {}
  },
  {
   "cell_type": "code",
   "execution_count": 18,
   "metadata": {},
   "outputs": [],
   "source": [
    "single_value_cols = explorer.get_dataframe_columns_unique_value_count()\n",
    "cleaner.remove_single_value_columns(single_value_cols)"
   ]
  },
  {
   "source": [
    "#### Standardizing Values"
   ],
   "cell_type": "markdown",
   "metadata": {}
  },
  {
   "cell_type": "code",
   "execution_count": 19,
   "metadata": {},
   "outputs": [
    {
     "output_type": "execute_result",
     "data": {
      "text/plain": [
       "              Bearer Id               Start  Start ms                 End  \\\n",
       "0  13114483460844900352 2019-04-04 12:01:18    770.00 2019-04-25 14:35:31   \n",
       "1  13114483482878900224 2019-04-09 13:04:04    235.00 2019-04-25 08:15:48   \n",
       "2  13114483484080500736 2019-04-09 17:42:11      1.00 2019-04-25 11:58:13   \n",
       "3  13114483485442799616 2019-04-10 00:31:25    486.00 2019-04-25 07:36:35   \n",
       "4  13114483499480700928 2019-04-12 20:10:23    565.00 2019-04-25 10:40:32   \n",
       "\n",
       "   End ms  Dur. (ms)               IMSI  MSISDN/Number              IMEI  \\\n",
       "0  662.00 1823652.00 208201442131968.00 33664962560.00 35521208254464.00   \n",
       "1  606.00 1365104.00 208201911894016.00 33681854464.00 35794009980928.00   \n",
       "2  652.00 1361762.00 208200318058496.00 33760626688.00 35281512169472.00   \n",
       "3  171.00 1321509.00 208201408577536.00 33750343680.00 35356611182592.00   \n",
       "4  954.00 1089009.00 208201408577536.00 33699794944.00 35407009939456.00   \n",
       "\n",
       "  Last Location Name  Avg RTT DL (ms)  Avg RTT UL (ms)  \\\n",
       "0   9164566995485190            42.00             5.00   \n",
       "1            L77566A            65.00             5.00   \n",
       "2            D42335A              NaN              NaN   \n",
       "3            T21824A              NaN              NaN   \n",
       "4            D88865A              NaN              NaN   \n",
       "\n",
       "   Avg Bearer TP DL (kbps)  Avg Bearer TP UL (kbps)  \\\n",
       "0                    23.00                    44.00   \n",
       "1                    16.00                    26.00   \n",
       "2                     6.00                     9.00   \n",
       "3                    44.00                    44.00   \n",
       "4                     6.00                     9.00   \n",
       "\n",
       "   TCP DL Retrans. Vol (Bytes)  TCP UL Retrans. Vol (Bytes)  \\\n",
       "0                          NaN                          NaN   \n",
       "1                          NaN                          NaN   \n",
       "2                          NaN                          NaN   \n",
       "3                          NaN                          NaN   \n",
       "4                          NaN                          NaN   \n",
       "\n",
       "   DL TP < 50 Kbps (%)  50 Kbps < DL TP < 250 Kbps (%)  \\\n",
       "0               100.00                            0.00   \n",
       "1               100.00                            0.00   \n",
       "2               100.00                            0.00   \n",
       "3               100.00                            0.00   \n",
       "4               100.00                            0.00   \n",
       "\n",
       "   250 Kbps < DL TP < 1 Mbps (%)  DL TP > 1 Mbps (%)  UL TP < 10 Kbps (%)  \\\n",
       "0                           0.00                0.00               100.00   \n",
       "1                           0.00                0.00               100.00   \n",
       "2                           0.00                0.00               100.00   \n",
       "3                           0.00                0.00               100.00   \n",
       "4                           0.00                0.00               100.00   \n",
       "\n",
       "   10 Kbps < UL TP < 50 Kbps (%)  50 Kbps < UL TP < 300 Kbps (%)  \\\n",
       "0                           0.00                            0.00   \n",
       "1                           0.00                            0.00   \n",
       "2                           0.00                            0.00   \n",
       "3                           0.00                            0.00   \n",
       "4                           0.00                            0.00   \n",
       "\n",
       "   UL TP > 300 Kbps (%)  HTTP DL (Bytes)  HTTP UL (Bytes)  \\\n",
       "0                  0.00              NaN              NaN   \n",
       "1                  0.00              NaN              NaN   \n",
       "2                  0.00              NaN              NaN   \n",
       "3                  0.00              NaN              NaN   \n",
       "4                  0.00              NaN              NaN   \n",
       "\n",
       "   Activity Duration DL (ms)  Activity Duration UL (ms)   Dur. (ms).1  \\\n",
       "0                   37624.00                   38787.00 1823652864.00   \n",
       "1                     168.00                    3560.00 1365104384.00   \n",
       "2                       0.00                       0.00 1361762688.00   \n",
       "3                    3330.00                   37882.00 1321509632.00   \n",
       "4                       0.00                       0.00 1089009408.00   \n",
       "\n",
       "  Handset Manufacturer                 Handset Type  \\\n",
       "0              Samsung   Samsung Galaxy A5 Sm-A520F   \n",
       "1              Samsung  Samsung Galaxy J5 (Sm-J530)   \n",
       "2              Samsung     Samsung Galaxy A8 (2018)   \n",
       "3                  NaN                          NaN   \n",
       "4              Samsung             Samsung Sm-G390F   \n",
       "\n",
       "   Nb of sec with 125000B < Vol DL  Nb of sec with 1250B < Vol UL < 6250B  \\\n",
       "0                              NaN                                    NaN   \n",
       "1                              NaN                                    NaN   \n",
       "2                              NaN                                    NaN   \n",
       "3                              NaN                                    NaN   \n",
       "4                              NaN                                    NaN   \n",
       "\n",
       "   Nb of sec with 31250B < Vol DL < 125000B  Nb of sec with 37500B < Vol UL  \\\n",
       "0                                       NaN                             NaN   \n",
       "1                                       NaN                             NaN   \n",
       "2                                       NaN                             NaN   \n",
       "3                                       NaN                             NaN   \n",
       "4                                       NaN                             NaN   \n",
       "\n",
       "   Nb of sec with 6250B < Vol DL < 31250B  \\\n",
       "0                                     NaN   \n",
       "1                                     NaN   \n",
       "2                                     NaN   \n",
       "3                                     NaN   \n",
       "4                                     NaN   \n",
       "\n",
       "   Nb of sec with 6250B < Vol UL < 37500B  Nb of sec with Vol DL < 6250B  \\\n",
       "0                                     NaN                         213.00   \n",
       "1                                     NaN                         971.00   \n",
       "2                                     NaN                         751.00   \n",
       "3                                     NaN                          17.00   \n",
       "4                                     NaN                         607.00   \n",
       "\n",
       "   Nb of sec with Vol UL < 1250B  Social Media DL (Bytes)  \\\n",
       "0                         214.00               1545765.00   \n",
       "1                        1022.00               1926113.00   \n",
       "2                         695.00               1684053.00   \n",
       "3                         207.00                644121.00   \n",
       "4                         604.00                862600.00   \n",
       "\n",
       "   Social Media UL (Bytes)  Google DL (Bytes)  Google UL (Bytes)  \\\n",
       "0                 24420.00         1634479.00         1271433.00   \n",
       "1                  7165.00         3493924.00          920172.00   \n",
       "2                 42224.00         8535055.00         1694064.00   \n",
       "3                 13372.00         9023734.00         2788027.00   \n",
       "4                 50188.00         6248284.00         1500559.00   \n",
       "\n",
       "   Email DL (Bytes)  Email UL (Bytes)  Youtube DL (Bytes)  Youtube UL (Bytes)  \\\n",
       "0        3563542.00         137762.00         15854611.00          2501332.00   \n",
       "1         629046.00         308339.00         20247396.00         19111728.00   \n",
       "2        2690151.00         672973.00         19725660.00         14699576.00   \n",
       "3        1439754.00         631229.00         21388122.00         15146643.00   \n",
       "4        1936496.00         173853.00         15259380.00         18962872.00   \n",
       "\n",
       "   Netflix DL (Bytes)  Netflix UL (Bytes)  Gaming DL (Bytes)  \\\n",
       "0          8198936.00          9656251.00       278082304.00   \n",
       "1         18338412.00         17227132.00       608750080.00   \n",
       "2         17587794.00          6163408.00       229584624.00   \n",
       "3         13994646.00          1097942.00       799538176.00   \n",
       "4         17124580.00           415218.00       527707264.00   \n",
       "\n",
       "   Gaming UL (Bytes)  Other DL (Bytes)  Other UL (Bytes)  Total UL (Bytes)  \\\n",
       "0        14344150.00      171744448.00        8814393.00       36749740.00   \n",
       "1         1170709.00      526904224.00       15055145.00       53800392.00   \n",
       "2          395630.00      410692576.00        4215763.00       27883638.00   \n",
       "3        10849722.00      749039936.00       12797283.00       43324216.00   \n",
       "4         3529801.00      550709504.00       13910322.00       38542816.00   \n",
       "\n",
       "   Total DL (Bytes)  \n",
       "0      308879648.00  \n",
       "1      653384960.00  \n",
       "2      279807328.00  \n",
       "3      846028544.00  \n",
       "4      569138560.00  "
      ],
      "text/html": "<div>\n<style scoped>\n    .dataframe tbody tr th:only-of-type {\n        vertical-align: middle;\n    }\n\n    .dataframe tbody tr th {\n        vertical-align: top;\n    }\n\n    .dataframe thead th {\n        text-align: right;\n    }\n</style>\n<table border=\"1\" class=\"dataframe\">\n  <thead>\n    <tr style=\"text-align: right;\">\n      <th></th>\n      <th>Bearer Id</th>\n      <th>Start</th>\n      <th>Start ms</th>\n      <th>End</th>\n      <th>End ms</th>\n      <th>Dur. (ms)</th>\n      <th>IMSI</th>\n      <th>MSISDN/Number</th>\n      <th>IMEI</th>\n      <th>Last Location Name</th>\n      <th>Avg RTT DL (ms)</th>\n      <th>Avg RTT UL (ms)</th>\n      <th>Avg Bearer TP DL (kbps)</th>\n      <th>Avg Bearer TP UL (kbps)</th>\n      <th>TCP DL Retrans. Vol (Bytes)</th>\n      <th>TCP UL Retrans. Vol (Bytes)</th>\n      <th>DL TP &lt; 50 Kbps (%)</th>\n      <th>50 Kbps &lt; DL TP &lt; 250 Kbps (%)</th>\n      <th>250 Kbps &lt; DL TP &lt; 1 Mbps (%)</th>\n      <th>DL TP &gt; 1 Mbps (%)</th>\n      <th>UL TP &lt; 10 Kbps (%)</th>\n      <th>10 Kbps &lt; UL TP &lt; 50 Kbps (%)</th>\n      <th>50 Kbps &lt; UL TP &lt; 300 Kbps (%)</th>\n      <th>UL TP &gt; 300 Kbps (%)</th>\n      <th>HTTP DL (Bytes)</th>\n      <th>HTTP UL (Bytes)</th>\n      <th>Activity Duration DL (ms)</th>\n      <th>Activity Duration UL (ms)</th>\n      <th>Dur. (ms).1</th>\n      <th>Handset Manufacturer</th>\n      <th>Handset Type</th>\n      <th>Nb of sec with 125000B &lt; Vol DL</th>\n      <th>Nb of sec with 1250B &lt; Vol UL &lt; 6250B</th>\n      <th>Nb of sec with 31250B &lt; Vol DL &lt; 125000B</th>\n      <th>Nb of sec with 37500B &lt; Vol UL</th>\n      <th>Nb of sec with 6250B &lt; Vol DL &lt; 31250B</th>\n      <th>Nb of sec with 6250B &lt; Vol UL &lt; 37500B</th>\n      <th>Nb of sec with Vol DL &lt; 6250B</th>\n      <th>Nb of sec with Vol UL &lt; 1250B</th>\n      <th>Social Media DL (Bytes)</th>\n      <th>Social Media UL (Bytes)</th>\n      <th>Google DL (Bytes)</th>\n      <th>Google UL (Bytes)</th>\n      <th>Email DL (Bytes)</th>\n      <th>Email UL (Bytes)</th>\n      <th>Youtube DL (Bytes)</th>\n      <th>Youtube UL (Bytes)</th>\n      <th>Netflix DL (Bytes)</th>\n      <th>Netflix UL (Bytes)</th>\n      <th>Gaming DL (Bytes)</th>\n      <th>Gaming UL (Bytes)</th>\n      <th>Other DL (Bytes)</th>\n      <th>Other UL (Bytes)</th>\n      <th>Total UL (Bytes)</th>\n      <th>Total DL (Bytes)</th>\n    </tr>\n  </thead>\n  <tbody>\n    <tr>\n      <th>0</th>\n      <td>13114483460844900352</td>\n      <td>2019-04-04 12:01:18</td>\n      <td>770.00</td>\n      <td>2019-04-25 14:35:31</td>\n      <td>662.00</td>\n      <td>1823652.00</td>\n      <td>208201442131968.00</td>\n      <td>33664962560.00</td>\n      <td>35521208254464.00</td>\n      <td>9164566995485190</td>\n      <td>42.00</td>\n      <td>5.00</td>\n      <td>23.00</td>\n      <td>44.00</td>\n      <td>NaN</td>\n      <td>NaN</td>\n      <td>100.00</td>\n      <td>0.00</td>\n      <td>0.00</td>\n      <td>0.00</td>\n      <td>100.00</td>\n      <td>0.00</td>\n      <td>0.00</td>\n      <td>0.00</td>\n      <td>NaN</td>\n      <td>NaN</td>\n      <td>37624.00</td>\n      <td>38787.00</td>\n      <td>1823652864.00</td>\n      <td>Samsung</td>\n      <td>Samsung Galaxy A5 Sm-A520F</td>\n      <td>NaN</td>\n      <td>NaN</td>\n      <td>NaN</td>\n      <td>NaN</td>\n      <td>NaN</td>\n      <td>NaN</td>\n      <td>213.00</td>\n      <td>214.00</td>\n      <td>1545765.00</td>\n      <td>24420.00</td>\n      <td>1634479.00</td>\n      <td>1271433.00</td>\n      <td>3563542.00</td>\n      <td>137762.00</td>\n      <td>15854611.00</td>\n      <td>2501332.00</td>\n      <td>8198936.00</td>\n      <td>9656251.00</td>\n      <td>278082304.00</td>\n      <td>14344150.00</td>\n      <td>171744448.00</td>\n      <td>8814393.00</td>\n      <td>36749740.00</td>\n      <td>308879648.00</td>\n    </tr>\n    <tr>\n      <th>1</th>\n      <td>13114483482878900224</td>\n      <td>2019-04-09 13:04:04</td>\n      <td>235.00</td>\n      <td>2019-04-25 08:15:48</td>\n      <td>606.00</td>\n      <td>1365104.00</td>\n      <td>208201911894016.00</td>\n      <td>33681854464.00</td>\n      <td>35794009980928.00</td>\n      <td>L77566A</td>\n      <td>65.00</td>\n      <td>5.00</td>\n      <td>16.00</td>\n      <td>26.00</td>\n      <td>NaN</td>\n      <td>NaN</td>\n      <td>100.00</td>\n      <td>0.00</td>\n      <td>0.00</td>\n      <td>0.00</td>\n      <td>100.00</td>\n      <td>0.00</td>\n      <td>0.00</td>\n      <td>0.00</td>\n      <td>NaN</td>\n      <td>NaN</td>\n      <td>168.00</td>\n      <td>3560.00</td>\n      <td>1365104384.00</td>\n      <td>Samsung</td>\n      <td>Samsung Galaxy J5 (Sm-J530)</td>\n      <td>NaN</td>\n      <td>NaN</td>\n      <td>NaN</td>\n      <td>NaN</td>\n      <td>NaN</td>\n      <td>NaN</td>\n      <td>971.00</td>\n      <td>1022.00</td>\n      <td>1926113.00</td>\n      <td>7165.00</td>\n      <td>3493924.00</td>\n      <td>920172.00</td>\n      <td>629046.00</td>\n      <td>308339.00</td>\n      <td>20247396.00</td>\n      <td>19111728.00</td>\n      <td>18338412.00</td>\n      <td>17227132.00</td>\n      <td>608750080.00</td>\n      <td>1170709.00</td>\n      <td>526904224.00</td>\n      <td>15055145.00</td>\n      <td>53800392.00</td>\n      <td>653384960.00</td>\n    </tr>\n    <tr>\n      <th>2</th>\n      <td>13114483484080500736</td>\n      <td>2019-04-09 17:42:11</td>\n      <td>1.00</td>\n      <td>2019-04-25 11:58:13</td>\n      <td>652.00</td>\n      <td>1361762.00</td>\n      <td>208200318058496.00</td>\n      <td>33760626688.00</td>\n      <td>35281512169472.00</td>\n      <td>D42335A</td>\n      <td>NaN</td>\n      <td>NaN</td>\n      <td>6.00</td>\n      <td>9.00</td>\n      <td>NaN</td>\n      <td>NaN</td>\n      <td>100.00</td>\n      <td>0.00</td>\n      <td>0.00</td>\n      <td>0.00</td>\n      <td>100.00</td>\n      <td>0.00</td>\n      <td>0.00</td>\n      <td>0.00</td>\n      <td>NaN</td>\n      <td>NaN</td>\n      <td>0.00</td>\n      <td>0.00</td>\n      <td>1361762688.00</td>\n      <td>Samsung</td>\n      <td>Samsung Galaxy A8 (2018)</td>\n      <td>NaN</td>\n      <td>NaN</td>\n      <td>NaN</td>\n      <td>NaN</td>\n      <td>NaN</td>\n      <td>NaN</td>\n      <td>751.00</td>\n      <td>695.00</td>\n      <td>1684053.00</td>\n      <td>42224.00</td>\n      <td>8535055.00</td>\n      <td>1694064.00</td>\n      <td>2690151.00</td>\n      <td>672973.00</td>\n      <td>19725660.00</td>\n      <td>14699576.00</td>\n      <td>17587794.00</td>\n      <td>6163408.00</td>\n      <td>229584624.00</td>\n      <td>395630.00</td>\n      <td>410692576.00</td>\n      <td>4215763.00</td>\n      <td>27883638.00</td>\n      <td>279807328.00</td>\n    </tr>\n    <tr>\n      <th>3</th>\n      <td>13114483485442799616</td>\n      <td>2019-04-10 00:31:25</td>\n      <td>486.00</td>\n      <td>2019-04-25 07:36:35</td>\n      <td>171.00</td>\n      <td>1321509.00</td>\n      <td>208201408577536.00</td>\n      <td>33750343680.00</td>\n      <td>35356611182592.00</td>\n      <td>T21824A</td>\n      <td>NaN</td>\n      <td>NaN</td>\n      <td>44.00</td>\n      <td>44.00</td>\n      <td>NaN</td>\n      <td>NaN</td>\n      <td>100.00</td>\n      <td>0.00</td>\n      <td>0.00</td>\n      <td>0.00</td>\n      <td>100.00</td>\n      <td>0.00</td>\n      <td>0.00</td>\n      <td>0.00</td>\n      <td>NaN</td>\n      <td>NaN</td>\n      <td>3330.00</td>\n      <td>37882.00</td>\n      <td>1321509632.00</td>\n      <td>NaN</td>\n      <td>NaN</td>\n      <td>NaN</td>\n      <td>NaN</td>\n      <td>NaN</td>\n      <td>NaN</td>\n      <td>NaN</td>\n      <td>NaN</td>\n      <td>17.00</td>\n      <td>207.00</td>\n      <td>644121.00</td>\n      <td>13372.00</td>\n      <td>9023734.00</td>\n      <td>2788027.00</td>\n      <td>1439754.00</td>\n      <td>631229.00</td>\n      <td>21388122.00</td>\n      <td>15146643.00</td>\n      <td>13994646.00</td>\n      <td>1097942.00</td>\n      <td>799538176.00</td>\n      <td>10849722.00</td>\n      <td>749039936.00</td>\n      <td>12797283.00</td>\n      <td>43324216.00</td>\n      <td>846028544.00</td>\n    </tr>\n    <tr>\n      <th>4</th>\n      <td>13114483499480700928</td>\n      <td>2019-04-12 20:10:23</td>\n      <td>565.00</td>\n      <td>2019-04-25 10:40:32</td>\n      <td>954.00</td>\n      <td>1089009.00</td>\n      <td>208201408577536.00</td>\n      <td>33699794944.00</td>\n      <td>35407009939456.00</td>\n      <td>D88865A</td>\n      <td>NaN</td>\n      <td>NaN</td>\n      <td>6.00</td>\n      <td>9.00</td>\n      <td>NaN</td>\n      <td>NaN</td>\n      <td>100.00</td>\n      <td>0.00</td>\n      <td>0.00</td>\n      <td>0.00</td>\n      <td>100.00</td>\n      <td>0.00</td>\n      <td>0.00</td>\n      <td>0.00</td>\n      <td>NaN</td>\n      <td>NaN</td>\n      <td>0.00</td>\n      <td>0.00</td>\n      <td>1089009408.00</td>\n      <td>Samsung</td>\n      <td>Samsung Sm-G390F</td>\n      <td>NaN</td>\n      <td>NaN</td>\n      <td>NaN</td>\n      <td>NaN</td>\n      <td>NaN</td>\n      <td>NaN</td>\n      <td>607.00</td>\n      <td>604.00</td>\n      <td>862600.00</td>\n      <td>50188.00</td>\n      <td>6248284.00</td>\n      <td>1500559.00</td>\n      <td>1936496.00</td>\n      <td>173853.00</td>\n      <td>15259380.00</td>\n      <td>18962872.00</td>\n      <td>17124580.00</td>\n      <td>415218.00</td>\n      <td>527707264.00</td>\n      <td>3529801.00</td>\n      <td>550709504.00</td>\n      <td>13910322.00</td>\n      <td>38542816.00</td>\n      <td>569138560.00</td>\n    </tr>\n  </tbody>\n</table>\n</div>"
     },
     "metadata": {},
     "execution_count": 19
    }
   ],
   "source": [
    "cleaner.df.head()"
   ]
  },
  {
   "source": [
    "#### Filtering Data"
   ],
   "cell_type": "markdown",
   "metadata": {}
  },
  {
   "cell_type": "code",
   "execution_count": 20,
   "metadata": {},
   "outputs": [],
   "source": [
    "cleaner.remove_duplicates()"
   ]
  },
  {
   "source": [
    "#### Fixing Missing Values"
   ],
   "cell_type": "markdown",
   "metadata": {}
  },
  {
   "cell_type": "code",
   "execution_count": 21,
   "metadata": {},
   "outputs": [],
   "source": [
    "explorer = DataInfo(cleaner.df)"
   ]
  },
  {
   "cell_type": "code",
   "execution_count": 22,
   "metadata": {},
   "outputs": [
    {
     "output_type": "execute_result",
     "data": {
      "text/plain": [
       "['Start',\n",
       " 'Start ms',\n",
       " 'End',\n",
       " 'End ms',\n",
       " 'Dur. (ms)',\n",
       " 'IMSI',\n",
       " 'MSISDN/Number',\n",
       " 'IMEI',\n",
       " 'Last Location Name',\n",
       " 'Avg RTT DL (ms)',\n",
       " 'Avg RTT UL (ms)',\n",
       " 'Avg Bearer TP DL (kbps)',\n",
       " 'Avg Bearer TP UL (kbps)',\n",
       " 'TCP DL Retrans. Vol (Bytes)',\n",
       " 'TCP UL Retrans. Vol (Bytes)',\n",
       " 'DL TP < 50 Kbps (%)',\n",
       " '50 Kbps < DL TP < 250 Kbps (%)',\n",
       " '250 Kbps < DL TP < 1 Mbps (%)',\n",
       " 'DL TP > 1 Mbps (%)',\n",
       " 'UL TP < 10 Kbps (%)',\n",
       " '10 Kbps < UL TP < 50 Kbps (%)',\n",
       " '50 Kbps < UL TP < 300 Kbps (%)',\n",
       " 'UL TP > 300 Kbps (%)',\n",
       " 'HTTP DL (Bytes)',\n",
       " 'HTTP UL (Bytes)',\n",
       " 'Activity Duration DL (ms)',\n",
       " 'Activity Duration UL (ms)',\n",
       " 'Dur. (ms).1',\n",
       " 'Handset Manufacturer',\n",
       " 'Handset Type',\n",
       " 'Nb of sec with 125000B < Vol DL',\n",
       " 'Nb of sec with 1250B < Vol UL < 6250B',\n",
       " 'Nb of sec with 31250B < Vol DL < 125000B',\n",
       " 'Nb of sec with 37500B < Vol UL',\n",
       " 'Nb of sec with 6250B < Vol DL < 31250B',\n",
       " 'Nb of sec with 6250B < Vol UL < 37500B',\n",
       " 'Nb of sec with Vol DL < 6250B',\n",
       " 'Nb of sec with Vol UL < 1250B',\n",
       " 'Total UL (Bytes)',\n",
       " 'Total DL (Bytes)']"
      ]
     },
     "metadata": {},
     "execution_count": 22
    }
   ],
   "source": [
    "explorer.get_columns_with_missing_values()"
   ]
  },
  {
   "cell_type": "code",
   "execution_count": 23,
   "metadata": {},
   "outputs": [
    {
     "output_type": "stream",
     "name": "stdout",
     "text": [
      "The total number of missing values is 1048375\n12.71 % missing values.\n"
     ]
    },
    {
     "output_type": "execute_result",
     "data": {
      "text/plain": [
       "1048375"
      ]
     },
     "metadata": {},
     "execution_count": 23
    }
   ],
   "source": [
    "explorer.get_total_missing_values()"
   ]
  },
  {
   "cell_type": "code",
   "execution_count": 24,
   "metadata": {},
   "outputs": [
    {
     "output_type": "execute_result",
     "data": {
      "text/plain": [
       "                                          missing_count            type\n",
       "Start                                                 1  datetime64[ns]\n",
       "Start ms                                              1         float32\n",
       "End                                                   1  datetime64[ns]\n",
       "End ms                                                1         float32\n",
       "Dur. (ms)                                             1         float32\n",
       "IMSI                                                570         float32\n",
       "MSISDN/Number                                      1066         float32\n",
       "IMEI                                                572         float32\n",
       "Last Location Name                                 1153          object\n",
       "Avg RTT DL (ms)                                   27829         float32\n",
       "Avg RTT UL (ms)                                   27812         float32\n",
       "Avg Bearer TP DL (kbps)                               1         float32\n",
       "Avg Bearer TP UL (kbps)                               1         float32\n",
       "TCP DL Retrans. Vol (Bytes)                       88146         float32\n",
       "TCP UL Retrans. Vol (Bytes)                       96649         float32\n",
       "DL TP < 50 Kbps (%)                                 754         float32\n",
       "50 Kbps < DL TP < 250 Kbps (%)                      754         float32\n",
       "250 Kbps < DL TP < 1 Mbps (%)                       754         float32\n",
       "DL TP > 1 Mbps (%)                                  754         float32\n",
       "UL TP < 10 Kbps (%)                                 792         float32\n",
       "10 Kbps < UL TP < 50 Kbps (%)                       792         float32\n",
       "50 Kbps < UL TP < 300 Kbps (%)                      792         float32\n",
       "UL TP > 300 Kbps (%)                                792         float32\n",
       "HTTP DL (Bytes)                                   81474         float32\n",
       "HTTP UL (Bytes)                                   81810         float32\n",
       "Activity Duration DL (ms)                             1         float32\n",
       "Activity Duration UL (ms)                             1         float32\n",
       "Dur. (ms).1                                           1         float32\n",
       "Handset Manufacturer                               9559          object\n",
       "Handset Type                                       9559          object\n",
       "Nb of sec with 125000B < Vol DL                   97538         float32\n",
       "Nb of sec with 1250B < Vol UL < 6250B             92894         float32\n",
       "Nb of sec with 31250B < Vol DL < 125000B          93586         float32\n",
       "Nb of sec with 37500B < Vol UL                   130254         float32\n",
       "Nb of sec with 6250B < Vol DL < 31250B            88317         float32\n",
       "Nb of sec with 6250B < Vol UL < 37500B           111843         float32\n",
       "Nb of sec with Vol DL < 6250B                       755         float32\n",
       "Nb of sec with Vol UL < 1250B                       793         float32\n",
       "Total UL (Bytes)                                      1         float32\n",
       "Total DL (Bytes)                                      1         float32"
      ],
      "text/html": "<div>\n<style scoped>\n    .dataframe tbody tr th:only-of-type {\n        vertical-align: middle;\n    }\n\n    .dataframe tbody tr th {\n        vertical-align: top;\n    }\n\n    .dataframe thead th {\n        text-align: right;\n    }\n</style>\n<table border=\"1\" class=\"dataframe\">\n  <thead>\n    <tr style=\"text-align: right;\">\n      <th></th>\n      <th>missing_count</th>\n      <th>type</th>\n    </tr>\n  </thead>\n  <tbody>\n    <tr>\n      <th>Start</th>\n      <td>1</td>\n      <td>datetime64[ns]</td>\n    </tr>\n    <tr>\n      <th>Start ms</th>\n      <td>1</td>\n      <td>float32</td>\n    </tr>\n    <tr>\n      <th>End</th>\n      <td>1</td>\n      <td>datetime64[ns]</td>\n    </tr>\n    <tr>\n      <th>End ms</th>\n      <td>1</td>\n      <td>float32</td>\n    </tr>\n    <tr>\n      <th>Dur. (ms)</th>\n      <td>1</td>\n      <td>float32</td>\n    </tr>\n    <tr>\n      <th>IMSI</th>\n      <td>570</td>\n      <td>float32</td>\n    </tr>\n    <tr>\n      <th>MSISDN/Number</th>\n      <td>1066</td>\n      <td>float32</td>\n    </tr>\n    <tr>\n      <th>IMEI</th>\n      <td>572</td>\n      <td>float32</td>\n    </tr>\n    <tr>\n      <th>Last Location Name</th>\n      <td>1153</td>\n      <td>object</td>\n    </tr>\n    <tr>\n      <th>Avg RTT DL (ms)</th>\n      <td>27829</td>\n      <td>float32</td>\n    </tr>\n    <tr>\n      <th>Avg RTT UL (ms)</th>\n      <td>27812</td>\n      <td>float32</td>\n    </tr>\n    <tr>\n      <th>Avg Bearer TP DL (kbps)</th>\n      <td>1</td>\n      <td>float32</td>\n    </tr>\n    <tr>\n      <th>Avg Bearer TP UL (kbps)</th>\n      <td>1</td>\n      <td>float32</td>\n    </tr>\n    <tr>\n      <th>TCP DL Retrans. Vol (Bytes)</th>\n      <td>88146</td>\n      <td>float32</td>\n    </tr>\n    <tr>\n      <th>TCP UL Retrans. Vol (Bytes)</th>\n      <td>96649</td>\n      <td>float32</td>\n    </tr>\n    <tr>\n      <th>DL TP &lt; 50 Kbps (%)</th>\n      <td>754</td>\n      <td>float32</td>\n    </tr>\n    <tr>\n      <th>50 Kbps &lt; DL TP &lt; 250 Kbps (%)</th>\n      <td>754</td>\n      <td>float32</td>\n    </tr>\n    <tr>\n      <th>250 Kbps &lt; DL TP &lt; 1 Mbps (%)</th>\n      <td>754</td>\n      <td>float32</td>\n    </tr>\n    <tr>\n      <th>DL TP &gt; 1 Mbps (%)</th>\n      <td>754</td>\n      <td>float32</td>\n    </tr>\n    <tr>\n      <th>UL TP &lt; 10 Kbps (%)</th>\n      <td>792</td>\n      <td>float32</td>\n    </tr>\n    <tr>\n      <th>10 Kbps &lt; UL TP &lt; 50 Kbps (%)</th>\n      <td>792</td>\n      <td>float32</td>\n    </tr>\n    <tr>\n      <th>50 Kbps &lt; UL TP &lt; 300 Kbps (%)</th>\n      <td>792</td>\n      <td>float32</td>\n    </tr>\n    <tr>\n      <th>UL TP &gt; 300 Kbps (%)</th>\n      <td>792</td>\n      <td>float32</td>\n    </tr>\n    <tr>\n      <th>HTTP DL (Bytes)</th>\n      <td>81474</td>\n      <td>float32</td>\n    </tr>\n    <tr>\n      <th>HTTP UL (Bytes)</th>\n      <td>81810</td>\n      <td>float32</td>\n    </tr>\n    <tr>\n      <th>Activity Duration DL (ms)</th>\n      <td>1</td>\n      <td>float32</td>\n    </tr>\n    <tr>\n      <th>Activity Duration UL (ms)</th>\n      <td>1</td>\n      <td>float32</td>\n    </tr>\n    <tr>\n      <th>Dur. (ms).1</th>\n      <td>1</td>\n      <td>float32</td>\n    </tr>\n    <tr>\n      <th>Handset Manufacturer</th>\n      <td>9559</td>\n      <td>object</td>\n    </tr>\n    <tr>\n      <th>Handset Type</th>\n      <td>9559</td>\n      <td>object</td>\n    </tr>\n    <tr>\n      <th>Nb of sec with 125000B &lt; Vol DL</th>\n      <td>97538</td>\n      <td>float32</td>\n    </tr>\n    <tr>\n      <th>Nb of sec with 1250B &lt; Vol UL &lt; 6250B</th>\n      <td>92894</td>\n      <td>float32</td>\n    </tr>\n    <tr>\n      <th>Nb of sec with 31250B &lt; Vol DL &lt; 125000B</th>\n      <td>93586</td>\n      <td>float32</td>\n    </tr>\n    <tr>\n      <th>Nb of sec with 37500B &lt; Vol UL</th>\n      <td>130254</td>\n      <td>float32</td>\n    </tr>\n    <tr>\n      <th>Nb of sec with 6250B &lt; Vol DL &lt; 31250B</th>\n      <td>88317</td>\n      <td>float32</td>\n    </tr>\n    <tr>\n      <th>Nb of sec with 6250B &lt; Vol UL &lt; 37500B</th>\n      <td>111843</td>\n      <td>float32</td>\n    </tr>\n    <tr>\n      <th>Nb of sec with Vol DL &lt; 6250B</th>\n      <td>755</td>\n      <td>float32</td>\n    </tr>\n    <tr>\n      <th>Nb of sec with Vol UL &lt; 1250B</th>\n      <td>793</td>\n      <td>float32</td>\n    </tr>\n    <tr>\n      <th>Total UL (Bytes)</th>\n      <td>1</td>\n      <td>float32</td>\n    </tr>\n    <tr>\n      <th>Total DL (Bytes)</th>\n      <td>1</td>\n      <td>float32</td>\n    </tr>\n  </tbody>\n</table>\n</div>"
     },
     "metadata": {},
     "execution_count": 24
    }
   ],
   "source": [
    "explorer.get_column_based_missing_values()"
   ]
  },
  {
   "cell_type": "code",
   "execution_count": 25,
   "metadata": {},
   "outputs": [
    {
     "output_type": "execute_result",
     "data": {
      "text/plain": [
       "                                          total_missing_values  \\\n",
       "Bearer Id                                                    0   \n",
       "Start                                                        1   \n",
       "Start ms                                                     1   \n",
       "End                                                          1   \n",
       "End ms                                                       1   \n",
       "Dur. (ms)                                                    1   \n",
       "IMSI                                                       570   \n",
       "MSISDN/Number                                             1066   \n",
       "IMEI                                                       572   \n",
       "Last Location Name                                        1153   \n",
       "Avg RTT DL (ms)                                          27829   \n",
       "Avg RTT UL (ms)                                          27812   \n",
       "Avg Bearer TP DL (kbps)                                      1   \n",
       "Avg Bearer TP UL (kbps)                                      1   \n",
       "TCP DL Retrans. Vol (Bytes)                              88146   \n",
       "TCP UL Retrans. Vol (Bytes)                              96649   \n",
       "DL TP < 50 Kbps (%)                                        754   \n",
       "50 Kbps < DL TP < 250 Kbps (%)                             754   \n",
       "250 Kbps < DL TP < 1 Mbps (%)                              754   \n",
       "DL TP > 1 Mbps (%)                                         754   \n",
       "UL TP < 10 Kbps (%)                                        792   \n",
       "10 Kbps < UL TP < 50 Kbps (%)                              792   \n",
       "50 Kbps < UL TP < 300 Kbps (%)                             792   \n",
       "UL TP > 300 Kbps (%)                                       792   \n",
       "HTTP DL (Bytes)                                          81474   \n",
       "HTTP UL (Bytes)                                          81810   \n",
       "Activity Duration DL (ms)                                    1   \n",
       "Activity Duration UL (ms)                                    1   \n",
       "Dur. (ms).1                                                  1   \n",
       "Handset Manufacturer                                      9559   \n",
       "Handset Type                                              9559   \n",
       "Nb of sec with 125000B < Vol DL                          97538   \n",
       "Nb of sec with 1250B < Vol UL < 6250B                    92894   \n",
       "Nb of sec with 31250B < Vol DL < 125000B                 93586   \n",
       "Nb of sec with 37500B < Vol UL                          130254   \n",
       "Nb of sec with 6250B < Vol DL < 31250B                   88317   \n",
       "Nb of sec with 6250B < Vol UL < 37500B                  111843   \n",
       "Nb of sec with Vol DL < 6250B                              755   \n",
       "Nb of sec with Vol UL < 1250B                              793   \n",
       "Social Media DL (Bytes)                                      0   \n",
       "Social Media UL (Bytes)                                      0   \n",
       "Google DL (Bytes)                                            0   \n",
       "Google UL (Bytes)                                            0   \n",
       "Email DL (Bytes)                                             0   \n",
       "Email UL (Bytes)                                             0   \n",
       "Youtube DL (Bytes)                                           0   \n",
       "Youtube UL (Bytes)                                           0   \n",
       "Netflix DL (Bytes)                                           0   \n",
       "Netflix UL (Bytes)                                           0   \n",
       "Gaming DL (Bytes)                                            0   \n",
       "Gaming UL (Bytes)                                            0   \n",
       "Other DL (Bytes)                                             0   \n",
       "Other UL (Bytes)                                             0   \n",
       "Total UL (Bytes)                                             1   \n",
       "Total DL (Bytes)                                             1   \n",
       "\n",
       "                                         missing_percentage  \n",
       "Bearer Id                                             0.0 %  \n",
       "Start                                                 0.0 %  \n",
       "Start ms                                              0.0 %  \n",
       "End                                                   0.0 %  \n",
       "End ms                                                0.0 %  \n",
       "Dur. (ms)                                             0.0 %  \n",
       "IMSI                                                 0.38 %  \n",
       "MSISDN/Number                                        0.71 %  \n",
       "IMEI                                                 0.38 %  \n",
       "Last Location Name                                   0.77 %  \n",
       "Avg RTT DL (ms)                                     18.55 %  \n",
       "Avg RTT UL (ms)                                     18.54 %  \n",
       "Avg Bearer TP DL (kbps)                               0.0 %  \n",
       "Avg Bearer TP UL (kbps)                               0.0 %  \n",
       "TCP DL Retrans. Vol (Bytes)                         58.76 %  \n",
       "TCP UL Retrans. Vol (Bytes)                         64.43 %  \n",
       "DL TP < 50 Kbps (%)                                   0.5 %  \n",
       "50 Kbps < DL TP < 250 Kbps (%)                        0.5 %  \n",
       "250 Kbps < DL TP < 1 Mbps (%)                         0.5 %  \n",
       "DL TP > 1 Mbps (%)                                    0.5 %  \n",
       "UL TP < 10 Kbps (%)                                  0.53 %  \n",
       "10 Kbps < UL TP < 50 Kbps (%)                        0.53 %  \n",
       "50 Kbps < UL TP < 300 Kbps (%)                       0.53 %  \n",
       "UL TP > 300 Kbps (%)                                 0.53 %  \n",
       "HTTP DL (Bytes)                                     54.32 %  \n",
       "HTTP UL (Bytes)                                     54.54 %  \n",
       "Activity Duration DL (ms)                             0.0 %  \n",
       "Activity Duration UL (ms)                             0.0 %  \n",
       "Dur. (ms).1                                           0.0 %  \n",
       "Handset Manufacturer                                 6.37 %  \n",
       "Handset Type                                         6.37 %  \n",
       "Nb of sec with 125000B < Vol DL                     65.02 %  \n",
       "Nb of sec with 1250B < Vol UL < 6250B               61.93 %  \n",
       "Nb of sec with 31250B < Vol DL < 125000B            62.39 %  \n",
       "Nb of sec with 37500B < Vol UL                      86.84 %  \n",
       "Nb of sec with 6250B < Vol DL < 31250B              58.88 %  \n",
       "Nb of sec with 6250B < Vol UL < 37500B              74.56 %  \n",
       "Nb of sec with Vol DL < 6250B                         0.5 %  \n",
       "Nb of sec with Vol UL < 1250B                        0.53 %  \n",
       "Social Media DL (Bytes)                               0.0 %  \n",
       "Social Media UL (Bytes)                               0.0 %  \n",
       "Google DL (Bytes)                                     0.0 %  \n",
       "Google UL (Bytes)                                     0.0 %  \n",
       "Email DL (Bytes)                                      0.0 %  \n",
       "Email UL (Bytes)                                      0.0 %  \n",
       "Youtube DL (Bytes)                                    0.0 %  \n",
       "Youtube UL (Bytes)                                    0.0 %  \n",
       "Netflix DL (Bytes)                                    0.0 %  \n",
       "Netflix UL (Bytes)                                    0.0 %  \n",
       "Gaming DL (Bytes)                                     0.0 %  \n",
       "Gaming UL (Bytes)                                     0.0 %  \n",
       "Other DL (Bytes)                                      0.0 %  \n",
       "Other UL (Bytes)                                      0.0 %  \n",
       "Total UL (Bytes)                                      0.0 %  \n",
       "Total DL (Bytes)                                      0.0 %  "
      ],
      "text/html": "<div>\n<style scoped>\n    .dataframe tbody tr th:only-of-type {\n        vertical-align: middle;\n    }\n\n    .dataframe tbody tr th {\n        vertical-align: top;\n    }\n\n    .dataframe thead th {\n        text-align: right;\n    }\n</style>\n<table border=\"1\" class=\"dataframe\">\n  <thead>\n    <tr style=\"text-align: right;\">\n      <th></th>\n      <th>total_missing_values</th>\n      <th>missing_percentage</th>\n    </tr>\n  </thead>\n  <tbody>\n    <tr>\n      <th>Bearer Id</th>\n      <td>0</td>\n      <td>0.0 %</td>\n    </tr>\n    <tr>\n      <th>Start</th>\n      <td>1</td>\n      <td>0.0 %</td>\n    </tr>\n    <tr>\n      <th>Start ms</th>\n      <td>1</td>\n      <td>0.0 %</td>\n    </tr>\n    <tr>\n      <th>End</th>\n      <td>1</td>\n      <td>0.0 %</td>\n    </tr>\n    <tr>\n      <th>End ms</th>\n      <td>1</td>\n      <td>0.0 %</td>\n    </tr>\n    <tr>\n      <th>Dur. (ms)</th>\n      <td>1</td>\n      <td>0.0 %</td>\n    </tr>\n    <tr>\n      <th>IMSI</th>\n      <td>570</td>\n      <td>0.38 %</td>\n    </tr>\n    <tr>\n      <th>MSISDN/Number</th>\n      <td>1066</td>\n      <td>0.71 %</td>\n    </tr>\n    <tr>\n      <th>IMEI</th>\n      <td>572</td>\n      <td>0.38 %</td>\n    </tr>\n    <tr>\n      <th>Last Location Name</th>\n      <td>1153</td>\n      <td>0.77 %</td>\n    </tr>\n    <tr>\n      <th>Avg RTT DL (ms)</th>\n      <td>27829</td>\n      <td>18.55 %</td>\n    </tr>\n    <tr>\n      <th>Avg RTT UL (ms)</th>\n      <td>27812</td>\n      <td>18.54 %</td>\n    </tr>\n    <tr>\n      <th>Avg Bearer TP DL (kbps)</th>\n      <td>1</td>\n      <td>0.0 %</td>\n    </tr>\n    <tr>\n      <th>Avg Bearer TP UL (kbps)</th>\n      <td>1</td>\n      <td>0.0 %</td>\n    </tr>\n    <tr>\n      <th>TCP DL Retrans. Vol (Bytes)</th>\n      <td>88146</td>\n      <td>58.76 %</td>\n    </tr>\n    <tr>\n      <th>TCP UL Retrans. Vol (Bytes)</th>\n      <td>96649</td>\n      <td>64.43 %</td>\n    </tr>\n    <tr>\n      <th>DL TP &lt; 50 Kbps (%)</th>\n      <td>754</td>\n      <td>0.5 %</td>\n    </tr>\n    <tr>\n      <th>50 Kbps &lt; DL TP &lt; 250 Kbps (%)</th>\n      <td>754</td>\n      <td>0.5 %</td>\n    </tr>\n    <tr>\n      <th>250 Kbps &lt; DL TP &lt; 1 Mbps (%)</th>\n      <td>754</td>\n      <td>0.5 %</td>\n    </tr>\n    <tr>\n      <th>DL TP &gt; 1 Mbps (%)</th>\n      <td>754</td>\n      <td>0.5 %</td>\n    </tr>\n    <tr>\n      <th>UL TP &lt; 10 Kbps (%)</th>\n      <td>792</td>\n      <td>0.53 %</td>\n    </tr>\n    <tr>\n      <th>10 Kbps &lt; UL TP &lt; 50 Kbps (%)</th>\n      <td>792</td>\n      <td>0.53 %</td>\n    </tr>\n    <tr>\n      <th>50 Kbps &lt; UL TP &lt; 300 Kbps (%)</th>\n      <td>792</td>\n      <td>0.53 %</td>\n    </tr>\n    <tr>\n      <th>UL TP &gt; 300 Kbps (%)</th>\n      <td>792</td>\n      <td>0.53 %</td>\n    </tr>\n    <tr>\n      <th>HTTP DL (Bytes)</th>\n      <td>81474</td>\n      <td>54.32 %</td>\n    </tr>\n    <tr>\n      <th>HTTP UL (Bytes)</th>\n      <td>81810</td>\n      <td>54.54 %</td>\n    </tr>\n    <tr>\n      <th>Activity Duration DL (ms)</th>\n      <td>1</td>\n      <td>0.0 %</td>\n    </tr>\n    <tr>\n      <th>Activity Duration UL (ms)</th>\n      <td>1</td>\n      <td>0.0 %</td>\n    </tr>\n    <tr>\n      <th>Dur. (ms).1</th>\n      <td>1</td>\n      <td>0.0 %</td>\n    </tr>\n    <tr>\n      <th>Handset Manufacturer</th>\n      <td>9559</td>\n      <td>6.37 %</td>\n    </tr>\n    <tr>\n      <th>Handset Type</th>\n      <td>9559</td>\n      <td>6.37 %</td>\n    </tr>\n    <tr>\n      <th>Nb of sec with 125000B &lt; Vol DL</th>\n      <td>97538</td>\n      <td>65.02 %</td>\n    </tr>\n    <tr>\n      <th>Nb of sec with 1250B &lt; Vol UL &lt; 6250B</th>\n      <td>92894</td>\n      <td>61.93 %</td>\n    </tr>\n    <tr>\n      <th>Nb of sec with 31250B &lt; Vol DL &lt; 125000B</th>\n      <td>93586</td>\n      <td>62.39 %</td>\n    </tr>\n    <tr>\n      <th>Nb of sec with 37500B &lt; Vol UL</th>\n      <td>130254</td>\n      <td>86.84 %</td>\n    </tr>\n    <tr>\n      <th>Nb of sec with 6250B &lt; Vol DL &lt; 31250B</th>\n      <td>88317</td>\n      <td>58.88 %</td>\n    </tr>\n    <tr>\n      <th>Nb of sec with 6250B &lt; Vol UL &lt; 37500B</th>\n      <td>111843</td>\n      <td>74.56 %</td>\n    </tr>\n    <tr>\n      <th>Nb of sec with Vol DL &lt; 6250B</th>\n      <td>755</td>\n      <td>0.5 %</td>\n    </tr>\n    <tr>\n      <th>Nb of sec with Vol UL &lt; 1250B</th>\n      <td>793</td>\n      <td>0.53 %</td>\n    </tr>\n    <tr>\n      <th>Social Media DL (Bytes)</th>\n      <td>0</td>\n      <td>0.0 %</td>\n    </tr>\n    <tr>\n      <th>Social Media UL (Bytes)</th>\n      <td>0</td>\n      <td>0.0 %</td>\n    </tr>\n    <tr>\n      <th>Google DL (Bytes)</th>\n      <td>0</td>\n      <td>0.0 %</td>\n    </tr>\n    <tr>\n      <th>Google UL (Bytes)</th>\n      <td>0</td>\n      <td>0.0 %</td>\n    </tr>\n    <tr>\n      <th>Email DL (Bytes)</th>\n      <td>0</td>\n      <td>0.0 %</td>\n    </tr>\n    <tr>\n      <th>Email UL (Bytes)</th>\n      <td>0</td>\n      <td>0.0 %</td>\n    </tr>\n    <tr>\n      <th>Youtube DL (Bytes)</th>\n      <td>0</td>\n      <td>0.0 %</td>\n    </tr>\n    <tr>\n      <th>Youtube UL (Bytes)</th>\n      <td>0</td>\n      <td>0.0 %</td>\n    </tr>\n    <tr>\n      <th>Netflix DL (Bytes)</th>\n      <td>0</td>\n      <td>0.0 %</td>\n    </tr>\n    <tr>\n      <th>Netflix UL (Bytes)</th>\n      <td>0</td>\n      <td>0.0 %</td>\n    </tr>\n    <tr>\n      <th>Gaming DL (Bytes)</th>\n      <td>0</td>\n      <td>0.0 %</td>\n    </tr>\n    <tr>\n      <th>Gaming UL (Bytes)</th>\n      <td>0</td>\n      <td>0.0 %</td>\n    </tr>\n    <tr>\n      <th>Other DL (Bytes)</th>\n      <td>0</td>\n      <td>0.0 %</td>\n    </tr>\n    <tr>\n      <th>Other UL (Bytes)</th>\n      <td>0</td>\n      <td>0.0 %</td>\n    </tr>\n    <tr>\n      <th>Total UL (Bytes)</th>\n      <td>1</td>\n      <td>0.0 %</td>\n    </tr>\n    <tr>\n      <th>Total DL (Bytes)</th>\n      <td>1</td>\n      <td>0.0 %</td>\n    </tr>\n  </tbody>\n</table>\n</div>"
     },
     "metadata": {},
     "execution_count": 25
    }
   ],
   "source": [
    "explorer.get_column_based_missing_percentage()"
   ]
  },
  {
   "cell_type": "code",
   "execution_count": 26,
   "metadata": {},
   "outputs": [
    {
     "output_type": "execute_result",
     "data": {
      "text/plain": [
       "Index(['TCP DL Retrans. Vol (Bytes)', 'TCP UL Retrans. Vol (Bytes)',\n",
       "       'HTTP DL (Bytes)', 'HTTP UL (Bytes)', 'Nb of sec with 125000B < Vol DL',\n",
       "       'Nb of sec with 1250B < Vol UL < 6250B',\n",
       "       'Nb of sec with 31250B < Vol DL < 125000B',\n",
       "       'Nb of sec with 37500B < Vol UL',\n",
       "       'Nb of sec with 6250B < Vol DL < 31250B',\n",
       "       'Nb of sec with 6250B < Vol UL < 37500B'],\n",
       "      dtype='object')"
      ]
     },
     "metadata": {},
     "execution_count": 26
    }
   ],
   "source": [
    "explorer.get_columns_missing_percentage_greater_than(30.0)"
   ]
  },
  {
   "cell_type": "code",
   "execution_count": 27,
   "metadata": {
    "tags": []
   },
   "outputs": [
    {
     "output_type": "stream",
     "name": "stdout",
     "text": [
      "<class 'pandas.core.frame.DataFrame'>\nInt64Index: 150001 entries, 0 to 150000\nData columns (total 55 columns):\n #   Column                                    Non-Null Count   Dtype         \n---  ------                                    --------------   -----         \n 0   Bearer Id                                 150001 non-null  object        \n 1   Start                                     150000 non-null  datetime64[ns]\n 2   Start ms                                  150000 non-null  float32       \n 3   End                                       150000 non-null  datetime64[ns]\n 4   End ms                                    150000 non-null  float32       \n 5   Dur. (ms)                                 150000 non-null  float32       \n 6   IMSI                                      149431 non-null  float32       \n 7   MSISDN/Number                             148935 non-null  float32       \n 8   IMEI                                      149429 non-null  float32       \n 9   Last Location Name                        148848 non-null  object        \n 10  Avg RTT DL (ms)                           122172 non-null  float32       \n 11  Avg RTT UL (ms)                           122189 non-null  float32       \n 12  Avg Bearer TP DL (kbps)                   150000 non-null  float32       \n 13  Avg Bearer TP UL (kbps)                   150000 non-null  float32       \n 14  TCP DL Retrans. Vol (Bytes)               61855 non-null   float32       \n 15  TCP UL Retrans. Vol (Bytes)               53352 non-null   float32       \n 16  DL TP < 50 Kbps (%)                       149247 non-null  float32       \n 17  50 Kbps < DL TP < 250 Kbps (%)            149247 non-null  float32       \n 18  250 Kbps < DL TP < 1 Mbps (%)             149247 non-null  float32       \n 19  DL TP > 1 Mbps (%)                        149247 non-null  float32       \n 20  UL TP < 10 Kbps (%)                       149209 non-null  float32       \n 21  10 Kbps < UL TP < 50 Kbps (%)             149209 non-null  float32       \n 22  50 Kbps < UL TP < 300 Kbps (%)            149209 non-null  float32       \n 23  UL TP > 300 Kbps (%)                      149209 non-null  float32       \n 24  HTTP DL (Bytes)                           68527 non-null   float32       \n 25  HTTP UL (Bytes)                           68191 non-null   float32       \n 26  Activity Duration DL (ms)                 150000 non-null  float32       \n 27  Activity Duration UL (ms)                 150000 non-null  float32       \n 28  Dur. (ms).1                               150000 non-null  float32       \n 29  Handset Manufacturer                      140442 non-null  object        \n 30  Handset Type                              140442 non-null  object        \n 31  Nb of sec with 125000B < Vol DL           52463 non-null   float32       \n 32  Nb of sec with 1250B < Vol UL < 6250B     57107 non-null   float32       \n 33  Nb of sec with 31250B < Vol DL < 125000B  56415 non-null   float32       \n 34  Nb of sec with 37500B < Vol UL            19747 non-null   float32       \n 35  Nb of sec with 6250B < Vol DL < 31250B    61684 non-null   float32       \n 36  Nb of sec with 6250B < Vol UL < 37500B    38158 non-null   float32       \n 37  Nb of sec with Vol DL < 6250B             149246 non-null  float32       \n 38  Nb of sec with Vol UL < 1250B             149208 non-null  float32       \n 39  Social Media DL (Bytes)                   150001 non-null  float32       \n 40  Social Media UL (Bytes)                   150001 non-null  float32       \n 41  Google DL (Bytes)                         150001 non-null  float32       \n 42  Google UL (Bytes)                         150001 non-null  float32       \n 43  Email DL (Bytes)                          150001 non-null  float32       \n 44  Email UL (Bytes)                          150001 non-null  float32       \n 45  Youtube DL (Bytes)                        150001 non-null  float32       \n 46  Youtube UL (Bytes)                        150001 non-null  float32       \n 47  Netflix DL (Bytes)                        150001 non-null  float32       \n 48  Netflix UL (Bytes)                        150001 non-null  float32       \n 49  Gaming DL (Bytes)                         150001 non-null  float32       \n 50  Gaming UL (Bytes)                         150001 non-null  float32       \n 51  Other DL (Bytes)                          150001 non-null  float32       \n 52  Other UL (Bytes)                          150001 non-null  float32       \n 53  Total UL (Bytes)                          150000 non-null  float32       \n 54  Total DL (Bytes)                          150000 non-null  float32       \ndtypes: datetime64[ns](2), float32(49), object(4)\nmemory usage: 36.0+ MB\n"
     ]
    }
   ],
   "source": [
    "cleaner.df.info()"
   ]
  },
  {
   "cell_type": "code",
   "execution_count": 28,
   "metadata": {},
   "outputs": [
    {
     "output_type": "execute_result",
     "data": {
      "text/plain": [
       "(150001, 45)"
      ]
     },
     "metadata": {},
     "execution_count": 28
    }
   ],
   "source": [
    "cleaner.remove_unwanted_columns(explorer.get_columns_missing_percentage_greater_than(30.0))\n",
    "cleaner.df.shape"
   ]
  },
  {
   "cell_type": "code",
   "execution_count": 29,
   "metadata": {},
   "outputs": [
    {
     "output_type": "execute_result",
     "data": {
      "text/plain": [
       "(150000, 45)"
      ]
     },
     "metadata": {},
     "execution_count": 29
    }
   ],
   "source": [
    "cleaner.df.drop([cleaner.df.index[-1]], inplace=True)\n",
    "cleaner.df.shape"
   ]
  },
  {
   "cell_type": "code",
   "execution_count": 30,
   "metadata": {},
   "outputs": [],
   "source": [
    "explorer = DataInfo(cleaner.df)"
   ]
  },
  {
   "cell_type": "code",
   "execution_count": 31,
   "metadata": {},
   "outputs": [
    {
     "output_type": "execute_result",
     "data": {
      "text/plain": [
       "['IMSI',\n",
       " 'MSISDN/Number',\n",
       " 'IMEI',\n",
       " 'Last Location Name',\n",
       " 'Avg RTT DL (ms)',\n",
       " 'Avg RTT UL (ms)',\n",
       " 'DL TP < 50 Kbps (%)',\n",
       " '50 Kbps < DL TP < 250 Kbps (%)',\n",
       " '250 Kbps < DL TP < 1 Mbps (%)',\n",
       " 'DL TP > 1 Mbps (%)',\n",
       " 'UL TP < 10 Kbps (%)',\n",
       " '10 Kbps < UL TP < 50 Kbps (%)',\n",
       " '50 Kbps < UL TP < 300 Kbps (%)',\n",
       " 'UL TP > 300 Kbps (%)',\n",
       " 'Handset Manufacturer',\n",
       " 'Handset Type',\n",
       " 'Nb of sec with Vol DL < 6250B',\n",
       " 'Nb of sec with Vol UL < 1250B']"
      ]
     },
     "metadata": {},
     "execution_count": 31
    }
   ],
   "source": [
    "explorer.get_columns_with_missing_values()"
   ]
  },
  {
   "cell_type": "code",
   "execution_count": 32,
   "metadata": {},
   "outputs": [
    {
     "output_type": "execute_result",
     "data": {
      "text/plain": [
       "                                missing_count     type\n",
       "IMSI                                      569  float32\n",
       "MSISDN/Number                            1065  float32\n",
       "IMEI                                      571  float32\n",
       "Last Location Name                       1152   object\n",
       "Avg RTT DL (ms)                         27828  float32\n",
       "Avg RTT UL (ms)                         27811  float32\n",
       "DL TP < 50 Kbps (%)                       753  float32\n",
       "50 Kbps < DL TP < 250 Kbps (%)            753  float32\n",
       "250 Kbps < DL TP < 1 Mbps (%)             753  float32\n",
       "DL TP > 1 Mbps (%)                        753  float32\n",
       "UL TP < 10 Kbps (%)                       791  float32\n",
       "10 Kbps < UL TP < 50 Kbps (%)             791  float32\n",
       "50 Kbps < UL TP < 300 Kbps (%)            791  float32\n",
       "UL TP > 300 Kbps (%)                      791  float32\n",
       "Handset Manufacturer                     9558   object\n",
       "Handset Type                             9558   object\n",
       "Nb of sec with Vol DL < 6250B             754  float32\n",
       "Nb of sec with Vol UL < 1250B             792  float32"
      ],
      "text/html": "<div>\n<style scoped>\n    .dataframe tbody tr th:only-of-type {\n        vertical-align: middle;\n    }\n\n    .dataframe tbody tr th {\n        vertical-align: top;\n    }\n\n    .dataframe thead th {\n        text-align: right;\n    }\n</style>\n<table border=\"1\" class=\"dataframe\">\n  <thead>\n    <tr style=\"text-align: right;\">\n      <th></th>\n      <th>missing_count</th>\n      <th>type</th>\n    </tr>\n  </thead>\n  <tbody>\n    <tr>\n      <th>IMSI</th>\n      <td>569</td>\n      <td>float32</td>\n    </tr>\n    <tr>\n      <th>MSISDN/Number</th>\n      <td>1065</td>\n      <td>float32</td>\n    </tr>\n    <tr>\n      <th>IMEI</th>\n      <td>571</td>\n      <td>float32</td>\n    </tr>\n    <tr>\n      <th>Last Location Name</th>\n      <td>1152</td>\n      <td>object</td>\n    </tr>\n    <tr>\n      <th>Avg RTT DL (ms)</th>\n      <td>27828</td>\n      <td>float32</td>\n    </tr>\n    <tr>\n      <th>Avg RTT UL (ms)</th>\n      <td>27811</td>\n      <td>float32</td>\n    </tr>\n    <tr>\n      <th>DL TP &lt; 50 Kbps (%)</th>\n      <td>753</td>\n      <td>float32</td>\n    </tr>\n    <tr>\n      <th>50 Kbps &lt; DL TP &lt; 250 Kbps (%)</th>\n      <td>753</td>\n      <td>float32</td>\n    </tr>\n    <tr>\n      <th>250 Kbps &lt; DL TP &lt; 1 Mbps (%)</th>\n      <td>753</td>\n      <td>float32</td>\n    </tr>\n    <tr>\n      <th>DL TP &gt; 1 Mbps (%)</th>\n      <td>753</td>\n      <td>float32</td>\n    </tr>\n    <tr>\n      <th>UL TP &lt; 10 Kbps (%)</th>\n      <td>791</td>\n      <td>float32</td>\n    </tr>\n    <tr>\n      <th>10 Kbps &lt; UL TP &lt; 50 Kbps (%)</th>\n      <td>791</td>\n      <td>float32</td>\n    </tr>\n    <tr>\n      <th>50 Kbps &lt; UL TP &lt; 300 Kbps (%)</th>\n      <td>791</td>\n      <td>float32</td>\n    </tr>\n    <tr>\n      <th>UL TP &gt; 300 Kbps (%)</th>\n      <td>791</td>\n      <td>float32</td>\n    </tr>\n    <tr>\n      <th>Handset Manufacturer</th>\n      <td>9558</td>\n      <td>object</td>\n    </tr>\n    <tr>\n      <th>Handset Type</th>\n      <td>9558</td>\n      <td>object</td>\n    </tr>\n    <tr>\n      <th>Nb of sec with Vol DL &lt; 6250B</th>\n      <td>754</td>\n      <td>float32</td>\n    </tr>\n    <tr>\n      <th>Nb of sec with Vol UL &lt; 1250B</th>\n      <td>792</td>\n      <td>float32</td>\n    </tr>\n  </tbody>\n</table>\n</div>"
     },
     "metadata": {},
     "execution_count": 32
    }
   ],
   "source": [
    "explorer.get_column_based_missing_values()"
   ]
  },
  {
   "source": [
    "Check if skew for numeric missing values and if not fill missing values with mean value but if skew use median"
   ],
   "cell_type": "markdown",
   "metadata": {}
  },
  {
   "cell_type": "code",
   "execution_count": 33,
   "metadata": {},
   "outputs": [
    {
     "output_type": "execute_result",
     "data": {
      "text/plain": [
       "                   Bearer Id               Start  Start ms  \\\n",
       "13150   13042425959040200704 2019-04-24 18:12:35    500.00   \n",
       "2179     7277825653113600000 2019-04-24 02:23:08     54.00   \n",
       "91936   13042425972470700032 2019-04-27 15:07:06    979.00   \n",
       "16680   13114483553344499712 2019-04-24 19:16:11    615.00   \n",
       "68795   13114483560059500544 2019-04-26 07:57:29    273.00   \n",
       "148856   7349883264208910336 2019-04-29 07:15:11    512.00   \n",
       "73254   13042425966238300160 2019-04-26 08:51:27    899.00   \n",
       "3050     7277825653198829568 2019-04-24 03:27:00    236.00   \n",
       "48817    7349883251193119744 2019-04-25 07:43:36    910.00   \n",
       "47909   13114483555123800064 2019-04-25 07:32:42     10.00   \n",
       "\n",
       "                       End  End ms  Dur. (ms)               IMSI  \\\n",
       "13150  2019-04-25 00:18:45  602.00   21970.00 208201442131968.00   \n",
       "2179   2019-04-25 02:23:08   68.00   86400.00 208201005924352.00   \n",
       "91936  2019-04-28 02:38:47  164.00   41500.00 208201911894016.00   \n",
       "16680  2019-04-25 00:01:35  978.00   17124.00 208201777676288.00   \n",
       "68795  2019-04-27 06:19:58  625.00   80549.00 208201710567424.00   \n",
       "148856 2019-04-30 07:18:55  444.00   86623.00 208201005924352.00   \n",
       "73254  2019-04-27 08:51:27  855.00   86399.00 208201911894016.00   \n",
       "3050   2019-04-25 03:27:00  253.00   86400.00 208201777676288.00   \n",
       "48817  2019-04-26 11:10:42  582.00   98825.00 208201408577536.00   \n",
       "47909  2019-04-26 08:18:45  254.00   89163.00 208200854929408.00   \n",
       "\n",
       "        MSISDN/Number              IMEI Last Location Name  Avg RTT DL (ms)  \\\n",
       "13150  33634238464.00 35155508985856.00            T52529A            47.00   \n",
       "2179   33768364032.00 35865107628032.00            D52843A           410.00   \n",
       "91936  33669285888.00 35325808214016.00            T21825C            51.00   \n",
       "16680  33629036544.00 35915707711488.00            D41399B            34.00   \n",
       "68795  33661698048.00 35364408393728.00            L53574B            26.00   \n",
       "148856 33761949696.00 35407009939456.00            D42261C            26.00   \n",
       "73254  33762748416.00 86924400263168.00            T72230B            43.00   \n",
       "3050   33763438592.00 86376900984832.00            D79174A            80.00   \n",
       "48817  33667651584.00 35949408944128.00            D83902B            37.00   \n",
       "47909  33666383872.00 35483807645696.00            L40421C            26.00   \n",
       "\n",
       "        Avg RTT UL (ms)  Avg Bearer TP DL (kbps)  Avg Bearer TP UL (kbps)  \\\n",
       "13150              4.00                  2827.00                   555.00   \n",
       "2179               5.00                 80813.00                  1214.00   \n",
       "91936             12.00                 38778.00                 13224.00   \n",
       "16680              5.00                    44.00                    40.00   \n",
       "68795              5.00                    49.00                    63.00   \n",
       "148856             7.00                   665.00                   222.00   \n",
       "73254              4.00                 19162.00                   869.00   \n",
       "3050              30.00                 34912.00                  2615.00   \n",
       "48817              3.00                    60.00                    52.00   \n",
       "47909              4.00                    42.00                    40.00   \n",
       "\n",
       "        DL TP < 50 Kbps (%)  50 Kbps < DL TP < 250 Kbps (%)  \\\n",
       "13150                 97.00                            2.00   \n",
       "2179                  83.00                           11.00   \n",
       "91936                 89.00                            6.00   \n",
       "16680                100.00                            0.00   \n",
       "68795                100.00                            0.00   \n",
       "148856                99.00                            0.00   \n",
       "73254                 94.00                            3.00   \n",
       "3050                  96.00                            1.00   \n",
       "48817                100.00                            0.00   \n",
       "47909                100.00                            0.00   \n",
       "\n",
       "        250 Kbps < DL TP < 1 Mbps (%)  DL TP > 1 Mbps (%)  \\\n",
       "13150                            0.00                0.00   \n",
       "2179                             3.00                2.00   \n",
       "91936                            2.00                1.00   \n",
       "16680                            0.00                0.00   \n",
       "68795                            0.00                0.00   \n",
       "148856                           0.00                0.00   \n",
       "73254                            1.00                0.00   \n",
       "3050                             0.00                1.00   \n",
       "48817                            0.00                0.00   \n",
       "47909                            0.00                0.00   \n",
       "\n",
       "        UL TP < 10 Kbps (%)  10 Kbps < UL TP < 50 Kbps (%)  \\\n",
       "13150                 99.00                           0.00   \n",
       "2179                  96.00                           3.00   \n",
       "91936                 99.00                           0.00   \n",
       "16680                100.00                           0.00   \n",
       "68795                100.00                           0.00   \n",
       "148856               100.00                           0.00   \n",
       "73254                 98.00                           1.00   \n",
       "3050                  82.00                          15.00   \n",
       "48817                100.00                           0.00   \n",
       "47909                100.00                           0.00   \n",
       "\n",
       "        50 Kbps < UL TP < 300 Kbps (%)  UL TP > 300 Kbps (%)  \\\n",
       "13150                             0.00                  0.00   \n",
       "2179                              0.00                  0.00   \n",
       "91936                             0.00                  0.00   \n",
       "16680                             0.00                  0.00   \n",
       "68795                             0.00                  0.00   \n",
       "148856                            0.00                  0.00   \n",
       "73254                             0.00                  0.00   \n",
       "3050                              2.00                  0.00   \n",
       "48817                             0.00                  0.00   \n",
       "47909                             0.00                  0.00   \n",
       "\n",
       "        Activity Duration DL (ms)  Activity Duration UL (ms)  Dur. (ms).1  \\\n",
       "13150                   117089.00                  122117.00  21970102.00   \n",
       "2179                   1099950.00                  997754.00  86400016.00   \n",
       "91936                  4020810.00                 1322658.00  41500184.00   \n",
       "16680                     5498.00                    6767.00  17124364.00   \n",
       "68795                    12379.00                   15266.00  80549352.00   \n",
       "148856                   81491.00                   94617.00  86623936.00   \n",
       "73254                   356032.00                  341681.00  86399952.00   \n",
       "3050                   1161377.00                 1348661.00  86400016.00   \n",
       "48817                    30287.00                   33436.00  98825672.00   \n",
       "47909                    18186.00                   20739.00  89163248.00   \n",
       "\n",
       "       Handset Manufacturer                 Handset Type  \\\n",
       "13150               Samsung   Samsung Galaxy A5 Sm-A520F   \n",
       "2179                Samsung   Samsung Galaxy A5 Sm-A520F   \n",
       "91936                 Apple      Apple iPhone 6S (A1633)   \n",
       "16680                 Apple      Apple iPhone 6S (A1688)   \n",
       "68795               Samsung  Samsung Galaxy J3 (Sm-J330)   \n",
       "148856              Samsung             Samsung Sm-G390F   \n",
       "73254                Huawei               Huawei Y6 2018   \n",
       "3050                 Huawei             Huawei B528S-23A   \n",
       "48817                 Apple       Apple iPhone 8 (A1905)   \n",
       "47909                 Apple  Apple iPhone 8 Plus (A1897)   \n",
       "\n",
       "        Nb of sec with Vol DL < 6250B  Nb of sec with Vol UL < 1250B  \\\n",
       "13150                          531.00                         564.00   \n",
       "2179                          3564.00                        3439.00   \n",
       "91936                        13698.00                       15507.00   \n",
       "16680                           30.00                          31.00   \n",
       "68795                           75.00                          91.00   \n",
       "148856                         378.00                         440.00   \n",
       "73254                         1583.00                        1504.00   \n",
       "3050                          7725.00                        2530.00   \n",
       "48817                          140.00                         145.00   \n",
       "47909                           84.00                          88.00   \n",
       "\n",
       "        Social Media DL (Bytes)  Social Media UL (Bytes)  Google DL (Bytes)  \\\n",
       "13150                 890362.00                  1237.00         8500968.00   \n",
       "2179                 1126836.00                 49797.00         2952705.00   \n",
       "91936                2738005.00                 62265.00         1283622.00   \n",
       "16680                1901218.00                 10831.00         4560411.00   \n",
       "68795                3357210.00                  9771.00         8288468.00   \n",
       "148856               1525763.00                 23931.00         8161677.00   \n",
       "73254                2346129.00                 64223.00         4948015.00   \n",
       "3050                 1096028.00                  9471.00           42846.00   \n",
       "48817                1021221.00                  1436.00         3596140.00   \n",
       "47909                2127928.00                 54123.00         6985496.00   \n",
       "\n",
       "        Google UL (Bytes)  Email DL (Bytes)  Email UL (Bytes)  \\\n",
       "13150          1763056.00        1639037.00         898372.00   \n",
       "2179             43427.00        2515483.00          36109.00   \n",
       "91936          1049516.00        2707278.00         299833.00   \n",
       "16680          2370489.00        3371643.00         572468.00   \n",
       "68795          3849116.00        1523848.00         402182.00   \n",
       "148856         2940285.00        3444210.00         421567.00   \n",
       "73254          3074216.00        1085847.00         681243.00   \n",
       "3050            853009.00        3158516.00         524501.00   \n",
       "48817          4080795.00        2322777.00         167856.00   \n",
       "47909            81881.00        3296068.00         478073.00   \n",
       "\n",
       "        Youtube DL (Bytes)  Youtube UL (Bytes)  Netflix DL (Bytes)  \\\n",
       "13150          14226977.00          3966227.00          7906300.00   \n",
       "2179            2909294.00          8814584.00          6608970.00   \n",
       "91936          21313552.00          4780859.00         17617656.00   \n",
       "16680           7505666.00         20772096.00         17682724.00   \n",
       "68795          22774880.00         21334418.00          5912684.00   \n",
       "148856          9113585.00          9532941.00          2920480.00   \n",
       "73254          10281110.00          5753915.00         16760146.00   \n",
       "3050           19870792.00         11035285.00         18746112.00   \n",
       "48817          16799608.00          9466495.00         20290616.00   \n",
       "47909           4755989.00         18176508.00          6773577.00   \n",
       "\n",
       "        Netflix UL (Bytes)  Gaming DL (Bytes)  Gaming UL (Bytes)  \\\n",
       "13150          16317246.00       754398784.00        12792984.00   \n",
       "2179           16361871.00       277083744.00         3550864.00   \n",
       "91936           9356355.00       615659456.00         3225879.00   \n",
       "16680           6579765.00       564641152.00        12342012.00   \n",
       "68795           7375782.00        47700780.00         2230387.00   \n",
       "148856         14350461.00        61910712.00         8103264.00   \n",
       "73254           8847021.00       349531808.00         7127989.00   \n",
       "3050           17467604.00       756005952.00        12343385.00   \n",
       "48817          17361704.00       220975072.00         3789502.00   \n",
       "47909           7770561.00       443775808.00         9618066.00   \n",
       "\n",
       "        Other DL (Bytes)  Other UL (Bytes)  Total UL (Bytes)  Total DL (Bytes)  \n",
       "13150       177959136.00       11818044.00       47557168.00      787562432.00  \n",
       "2179        206639888.00        6849551.00       35706204.00      293197056.00  \n",
       "91936       727445312.00        9523124.00       28297832.00      661319616.00  \n",
       "16680        56354784.00        7443626.00       50091288.00      599662848.00  \n",
       "68795       140996976.00       11905278.00       47106936.00       89557872.00  \n",
       "148856      721801600.00        2598295.00       37970744.00       87076432.00  \n",
       "73254       763639232.00       12154386.00       37702992.00      384953056.00  \n",
       "3050        570089856.00       12587847.00       54821100.00      798920256.00  \n",
       "48817       576898816.00       15088475.00       49956264.00      265005424.00  \n",
       "47909        50774604.00       11083454.00       47262664.00      467714848.00  "
      ],
      "text/html": "<div>\n<style scoped>\n    .dataframe tbody tr th:only-of-type {\n        vertical-align: middle;\n    }\n\n    .dataframe tbody tr th {\n        vertical-align: top;\n    }\n\n    .dataframe thead th {\n        text-align: right;\n    }\n</style>\n<table border=\"1\" class=\"dataframe\">\n  <thead>\n    <tr style=\"text-align: right;\">\n      <th></th>\n      <th>Bearer Id</th>\n      <th>Start</th>\n      <th>Start ms</th>\n      <th>End</th>\n      <th>End ms</th>\n      <th>Dur. (ms)</th>\n      <th>IMSI</th>\n      <th>MSISDN/Number</th>\n      <th>IMEI</th>\n      <th>Last Location Name</th>\n      <th>Avg RTT DL (ms)</th>\n      <th>Avg RTT UL (ms)</th>\n      <th>Avg Bearer TP DL (kbps)</th>\n      <th>Avg Bearer TP UL (kbps)</th>\n      <th>DL TP &lt; 50 Kbps (%)</th>\n      <th>50 Kbps &lt; DL TP &lt; 250 Kbps (%)</th>\n      <th>250 Kbps &lt; DL TP &lt; 1 Mbps (%)</th>\n      <th>DL TP &gt; 1 Mbps (%)</th>\n      <th>UL TP &lt; 10 Kbps (%)</th>\n      <th>10 Kbps &lt; UL TP &lt; 50 Kbps (%)</th>\n      <th>50 Kbps &lt; UL TP &lt; 300 Kbps (%)</th>\n      <th>UL TP &gt; 300 Kbps (%)</th>\n      <th>Activity Duration DL (ms)</th>\n      <th>Activity Duration UL (ms)</th>\n      <th>Dur. (ms).1</th>\n      <th>Handset Manufacturer</th>\n      <th>Handset Type</th>\n      <th>Nb of sec with Vol DL &lt; 6250B</th>\n      <th>Nb of sec with Vol UL &lt; 1250B</th>\n      <th>Social Media DL (Bytes)</th>\n      <th>Social Media UL (Bytes)</th>\n      <th>Google DL (Bytes)</th>\n      <th>Google UL (Bytes)</th>\n      <th>Email DL (Bytes)</th>\n      <th>Email UL (Bytes)</th>\n      <th>Youtube DL (Bytes)</th>\n      <th>Youtube UL (Bytes)</th>\n      <th>Netflix DL (Bytes)</th>\n      <th>Netflix UL (Bytes)</th>\n      <th>Gaming DL (Bytes)</th>\n      <th>Gaming UL (Bytes)</th>\n      <th>Other DL (Bytes)</th>\n      <th>Other UL (Bytes)</th>\n      <th>Total UL (Bytes)</th>\n      <th>Total DL (Bytes)</th>\n    </tr>\n  </thead>\n  <tbody>\n    <tr>\n      <th>13150</th>\n      <td>13042425959040200704</td>\n      <td>2019-04-24 18:12:35</td>\n      <td>500.00</td>\n      <td>2019-04-25 00:18:45</td>\n      <td>602.00</td>\n      <td>21970.00</td>\n      <td>208201442131968.00</td>\n      <td>33634238464.00</td>\n      <td>35155508985856.00</td>\n      <td>T52529A</td>\n      <td>47.00</td>\n      <td>4.00</td>\n      <td>2827.00</td>\n      <td>555.00</td>\n      <td>97.00</td>\n      <td>2.00</td>\n      <td>0.00</td>\n      <td>0.00</td>\n      <td>99.00</td>\n      <td>0.00</td>\n      <td>0.00</td>\n      <td>0.00</td>\n      <td>117089.00</td>\n      <td>122117.00</td>\n      <td>21970102.00</td>\n      <td>Samsung</td>\n      <td>Samsung Galaxy A5 Sm-A520F</td>\n      <td>531.00</td>\n      <td>564.00</td>\n      <td>890362.00</td>\n      <td>1237.00</td>\n      <td>8500968.00</td>\n      <td>1763056.00</td>\n      <td>1639037.00</td>\n      <td>898372.00</td>\n      <td>14226977.00</td>\n      <td>3966227.00</td>\n      <td>7906300.00</td>\n      <td>16317246.00</td>\n      <td>754398784.00</td>\n      <td>12792984.00</td>\n      <td>177959136.00</td>\n      <td>11818044.00</td>\n      <td>47557168.00</td>\n      <td>787562432.00</td>\n    </tr>\n    <tr>\n      <th>2179</th>\n      <td>7277825653113600000</td>\n      <td>2019-04-24 02:23:08</td>\n      <td>54.00</td>\n      <td>2019-04-25 02:23:08</td>\n      <td>68.00</td>\n      <td>86400.00</td>\n      <td>208201005924352.00</td>\n      <td>33768364032.00</td>\n      <td>35865107628032.00</td>\n      <td>D52843A</td>\n      <td>410.00</td>\n      <td>5.00</td>\n      <td>80813.00</td>\n      <td>1214.00</td>\n      <td>83.00</td>\n      <td>11.00</td>\n      <td>3.00</td>\n      <td>2.00</td>\n      <td>96.00</td>\n      <td>3.00</td>\n      <td>0.00</td>\n      <td>0.00</td>\n      <td>1099950.00</td>\n      <td>997754.00</td>\n      <td>86400016.00</td>\n      <td>Samsung</td>\n      <td>Samsung Galaxy A5 Sm-A520F</td>\n      <td>3564.00</td>\n      <td>3439.00</td>\n      <td>1126836.00</td>\n      <td>49797.00</td>\n      <td>2952705.00</td>\n      <td>43427.00</td>\n      <td>2515483.00</td>\n      <td>36109.00</td>\n      <td>2909294.00</td>\n      <td>8814584.00</td>\n      <td>6608970.00</td>\n      <td>16361871.00</td>\n      <td>277083744.00</td>\n      <td>3550864.00</td>\n      <td>206639888.00</td>\n      <td>6849551.00</td>\n      <td>35706204.00</td>\n      <td>293197056.00</td>\n    </tr>\n    <tr>\n      <th>91936</th>\n      <td>13042425972470700032</td>\n      <td>2019-04-27 15:07:06</td>\n      <td>979.00</td>\n      <td>2019-04-28 02:38:47</td>\n      <td>164.00</td>\n      <td>41500.00</td>\n      <td>208201911894016.00</td>\n      <td>33669285888.00</td>\n      <td>35325808214016.00</td>\n      <td>T21825C</td>\n      <td>51.00</td>\n      <td>12.00</td>\n      <td>38778.00</td>\n      <td>13224.00</td>\n      <td>89.00</td>\n      <td>6.00</td>\n      <td>2.00</td>\n      <td>1.00</td>\n      <td>99.00</td>\n      <td>0.00</td>\n      <td>0.00</td>\n      <td>0.00</td>\n      <td>4020810.00</td>\n      <td>1322658.00</td>\n      <td>41500184.00</td>\n      <td>Apple</td>\n      <td>Apple iPhone 6S (A1633)</td>\n      <td>13698.00</td>\n      <td>15507.00</td>\n      <td>2738005.00</td>\n      <td>62265.00</td>\n      <td>1283622.00</td>\n      <td>1049516.00</td>\n      <td>2707278.00</td>\n      <td>299833.00</td>\n      <td>21313552.00</td>\n      <td>4780859.00</td>\n      <td>17617656.00</td>\n      <td>9356355.00</td>\n      <td>615659456.00</td>\n      <td>3225879.00</td>\n      <td>727445312.00</td>\n      <td>9523124.00</td>\n      <td>28297832.00</td>\n      <td>661319616.00</td>\n    </tr>\n    <tr>\n      <th>16680</th>\n      <td>13114483553344499712</td>\n      <td>2019-04-24 19:16:11</td>\n      <td>615.00</td>\n      <td>2019-04-25 00:01:35</td>\n      <td>978.00</td>\n      <td>17124.00</td>\n      <td>208201777676288.00</td>\n      <td>33629036544.00</td>\n      <td>35915707711488.00</td>\n      <td>D41399B</td>\n      <td>34.00</td>\n      <td>5.00</td>\n      <td>44.00</td>\n      <td>40.00</td>\n      <td>100.00</td>\n      <td>0.00</td>\n      <td>0.00</td>\n      <td>0.00</td>\n      <td>100.00</td>\n      <td>0.00</td>\n      <td>0.00</td>\n      <td>0.00</td>\n      <td>5498.00</td>\n      <td>6767.00</td>\n      <td>17124364.00</td>\n      <td>Apple</td>\n      <td>Apple iPhone 6S (A1688)</td>\n      <td>30.00</td>\n      <td>31.00</td>\n      <td>1901218.00</td>\n      <td>10831.00</td>\n      <td>4560411.00</td>\n      <td>2370489.00</td>\n      <td>3371643.00</td>\n      <td>572468.00</td>\n      <td>7505666.00</td>\n      <td>20772096.00</td>\n      <td>17682724.00</td>\n      <td>6579765.00</td>\n      <td>564641152.00</td>\n      <td>12342012.00</td>\n      <td>56354784.00</td>\n      <td>7443626.00</td>\n      <td>50091288.00</td>\n      <td>599662848.00</td>\n    </tr>\n    <tr>\n      <th>68795</th>\n      <td>13114483560059500544</td>\n      <td>2019-04-26 07:57:29</td>\n      <td>273.00</td>\n      <td>2019-04-27 06:19:58</td>\n      <td>625.00</td>\n      <td>80549.00</td>\n      <td>208201710567424.00</td>\n      <td>33661698048.00</td>\n      <td>35364408393728.00</td>\n      <td>L53574B</td>\n      <td>26.00</td>\n      <td>5.00</td>\n      <td>49.00</td>\n      <td>63.00</td>\n      <td>100.00</td>\n      <td>0.00</td>\n      <td>0.00</td>\n      <td>0.00</td>\n      <td>100.00</td>\n      <td>0.00</td>\n      <td>0.00</td>\n      <td>0.00</td>\n      <td>12379.00</td>\n      <td>15266.00</td>\n      <td>80549352.00</td>\n      <td>Samsung</td>\n      <td>Samsung Galaxy J3 (Sm-J330)</td>\n      <td>75.00</td>\n      <td>91.00</td>\n      <td>3357210.00</td>\n      <td>9771.00</td>\n      <td>8288468.00</td>\n      <td>3849116.00</td>\n      <td>1523848.00</td>\n      <td>402182.00</td>\n      <td>22774880.00</td>\n      <td>21334418.00</td>\n      <td>5912684.00</td>\n      <td>7375782.00</td>\n      <td>47700780.00</td>\n      <td>2230387.00</td>\n      <td>140996976.00</td>\n      <td>11905278.00</td>\n      <td>47106936.00</td>\n      <td>89557872.00</td>\n    </tr>\n    <tr>\n      <th>148856</th>\n      <td>7349883264208910336</td>\n      <td>2019-04-29 07:15:11</td>\n      <td>512.00</td>\n      <td>2019-04-30 07:18:55</td>\n      <td>444.00</td>\n      <td>86623.00</td>\n      <td>208201005924352.00</td>\n      <td>33761949696.00</td>\n      <td>35407009939456.00</td>\n      <td>D42261C</td>\n      <td>26.00</td>\n      <td>7.00</td>\n      <td>665.00</td>\n      <td>222.00</td>\n      <td>99.00</td>\n      <td>0.00</td>\n      <td>0.00</td>\n      <td>0.00</td>\n      <td>100.00</td>\n      <td>0.00</td>\n      <td>0.00</td>\n      <td>0.00</td>\n      <td>81491.00</td>\n      <td>94617.00</td>\n      <td>86623936.00</td>\n      <td>Samsung</td>\n      <td>Samsung Sm-G390F</td>\n      <td>378.00</td>\n      <td>440.00</td>\n      <td>1525763.00</td>\n      <td>23931.00</td>\n      <td>8161677.00</td>\n      <td>2940285.00</td>\n      <td>3444210.00</td>\n      <td>421567.00</td>\n      <td>9113585.00</td>\n      <td>9532941.00</td>\n      <td>2920480.00</td>\n      <td>14350461.00</td>\n      <td>61910712.00</td>\n      <td>8103264.00</td>\n      <td>721801600.00</td>\n      <td>2598295.00</td>\n      <td>37970744.00</td>\n      <td>87076432.00</td>\n    </tr>\n    <tr>\n      <th>73254</th>\n      <td>13042425966238300160</td>\n      <td>2019-04-26 08:51:27</td>\n      <td>899.00</td>\n      <td>2019-04-27 08:51:27</td>\n      <td>855.00</td>\n      <td>86399.00</td>\n      <td>208201911894016.00</td>\n      <td>33762748416.00</td>\n      <td>86924400263168.00</td>\n      <td>T72230B</td>\n      <td>43.00</td>\n      <td>4.00</td>\n      <td>19162.00</td>\n      <td>869.00</td>\n      <td>94.00</td>\n      <td>3.00</td>\n      <td>1.00</td>\n      <td>0.00</td>\n      <td>98.00</td>\n      <td>1.00</td>\n      <td>0.00</td>\n      <td>0.00</td>\n      <td>356032.00</td>\n      <td>341681.00</td>\n      <td>86399952.00</td>\n      <td>Huawei</td>\n      <td>Huawei Y6 2018</td>\n      <td>1583.00</td>\n      <td>1504.00</td>\n      <td>2346129.00</td>\n      <td>64223.00</td>\n      <td>4948015.00</td>\n      <td>3074216.00</td>\n      <td>1085847.00</td>\n      <td>681243.00</td>\n      <td>10281110.00</td>\n      <td>5753915.00</td>\n      <td>16760146.00</td>\n      <td>8847021.00</td>\n      <td>349531808.00</td>\n      <td>7127989.00</td>\n      <td>763639232.00</td>\n      <td>12154386.00</td>\n      <td>37702992.00</td>\n      <td>384953056.00</td>\n    </tr>\n    <tr>\n      <th>3050</th>\n      <td>7277825653198829568</td>\n      <td>2019-04-24 03:27:00</td>\n      <td>236.00</td>\n      <td>2019-04-25 03:27:00</td>\n      <td>253.00</td>\n      <td>86400.00</td>\n      <td>208201777676288.00</td>\n      <td>33763438592.00</td>\n      <td>86376900984832.00</td>\n      <td>D79174A</td>\n      <td>80.00</td>\n      <td>30.00</td>\n      <td>34912.00</td>\n      <td>2615.00</td>\n      <td>96.00</td>\n      <td>1.00</td>\n      <td>0.00</td>\n      <td>1.00</td>\n      <td>82.00</td>\n      <td>15.00</td>\n      <td>2.00</td>\n      <td>0.00</td>\n      <td>1161377.00</td>\n      <td>1348661.00</td>\n      <td>86400016.00</td>\n      <td>Huawei</td>\n      <td>Huawei B528S-23A</td>\n      <td>7725.00</td>\n      <td>2530.00</td>\n      <td>1096028.00</td>\n      <td>9471.00</td>\n      <td>42846.00</td>\n      <td>853009.00</td>\n      <td>3158516.00</td>\n      <td>524501.00</td>\n      <td>19870792.00</td>\n      <td>11035285.00</td>\n      <td>18746112.00</td>\n      <td>17467604.00</td>\n      <td>756005952.00</td>\n      <td>12343385.00</td>\n      <td>570089856.00</td>\n      <td>12587847.00</td>\n      <td>54821100.00</td>\n      <td>798920256.00</td>\n    </tr>\n    <tr>\n      <th>48817</th>\n      <td>7349883251193119744</td>\n      <td>2019-04-25 07:43:36</td>\n      <td>910.00</td>\n      <td>2019-04-26 11:10:42</td>\n      <td>582.00</td>\n      <td>98825.00</td>\n      <td>208201408577536.00</td>\n      <td>33667651584.00</td>\n      <td>35949408944128.00</td>\n      <td>D83902B</td>\n      <td>37.00</td>\n      <td>3.00</td>\n      <td>60.00</td>\n      <td>52.00</td>\n      <td>100.00</td>\n      <td>0.00</td>\n      <td>0.00</td>\n      <td>0.00</td>\n      <td>100.00</td>\n      <td>0.00</td>\n      <td>0.00</td>\n      <td>0.00</td>\n      <td>30287.00</td>\n      <td>33436.00</td>\n      <td>98825672.00</td>\n      <td>Apple</td>\n      <td>Apple iPhone 8 (A1905)</td>\n      <td>140.00</td>\n      <td>145.00</td>\n      <td>1021221.00</td>\n      <td>1436.00</td>\n      <td>3596140.00</td>\n      <td>4080795.00</td>\n      <td>2322777.00</td>\n      <td>167856.00</td>\n      <td>16799608.00</td>\n      <td>9466495.00</td>\n      <td>20290616.00</td>\n      <td>17361704.00</td>\n      <td>220975072.00</td>\n      <td>3789502.00</td>\n      <td>576898816.00</td>\n      <td>15088475.00</td>\n      <td>49956264.00</td>\n      <td>265005424.00</td>\n    </tr>\n    <tr>\n      <th>47909</th>\n      <td>13114483555123800064</td>\n      <td>2019-04-25 07:32:42</td>\n      <td>10.00</td>\n      <td>2019-04-26 08:18:45</td>\n      <td>254.00</td>\n      <td>89163.00</td>\n      <td>208200854929408.00</td>\n      <td>33666383872.00</td>\n      <td>35483807645696.00</td>\n      <td>L40421C</td>\n      <td>26.00</td>\n      <td>4.00</td>\n      <td>42.00</td>\n      <td>40.00</td>\n      <td>100.00</td>\n      <td>0.00</td>\n      <td>0.00</td>\n      <td>0.00</td>\n      <td>100.00</td>\n      <td>0.00</td>\n      <td>0.00</td>\n      <td>0.00</td>\n      <td>18186.00</td>\n      <td>20739.00</td>\n      <td>89163248.00</td>\n      <td>Apple</td>\n      <td>Apple iPhone 8 Plus (A1897)</td>\n      <td>84.00</td>\n      <td>88.00</td>\n      <td>2127928.00</td>\n      <td>54123.00</td>\n      <td>6985496.00</td>\n      <td>81881.00</td>\n      <td>3296068.00</td>\n      <td>478073.00</td>\n      <td>4755989.00</td>\n      <td>18176508.00</td>\n      <td>6773577.00</td>\n      <td>7770561.00</td>\n      <td>443775808.00</td>\n      <td>9618066.00</td>\n      <td>50774604.00</td>\n      <td>11083454.00</td>\n      <td>47262664.00</td>\n      <td>467714848.00</td>\n    </tr>\n  </tbody>\n</table>\n</div>"
     },
     "metadata": {},
     "execution_count": 33
    }
   ],
   "source": [
    "cleaner.fill_numeric_values(explorer.get_columns_with_missing_values())\n",
    "cleaner.df.sample(10)"
   ]
  },
  {
   "cell_type": "code",
   "execution_count": 34,
   "metadata": {},
   "outputs": [
    {
     "output_type": "execute_result",
     "data": {
      "text/plain": [
       "['Last Location Name', 'Handset Manufacturer', 'Handset Type']"
      ]
     },
     "metadata": {},
     "execution_count": 34
    }
   ],
   "source": [
    "explorer = DataInfo(cleaner.df)\n",
    "explorer.get_columns_with_missing_values()"
   ]
  },
  {
   "cell_type": "code",
   "execution_count": 35,
   "metadata": {},
   "outputs": [
    {
     "output_type": "stream",
     "name": "stderr",
     "text": [
      "C:\\Python38\\lib\\site-packages\\pandas\\core\\frame.py:4462: SettingWithCopyWarning: \nA value is trying to be set on a copy of a slice from a DataFrame\n\nSee the caveats in the documentation: https://pandas.pydata.org/pandas-docs/stable/user_guide/indexing.html#returning-a-view-versus-a-copy\n  return super().fillna(\n"
     ]
    },
    {
     "output_type": "execute_result",
     "data": {
      "text/plain": [
       "                   Bearer Id               Start  Start ms  \\\n",
       "0       13114483460844900352 2019-04-04 12:01:18    770.00   \n",
       "1       13114483482878900224 2019-04-09 13:04:04    235.00   \n",
       "2       13114483484080500736 2019-04-09 17:42:11      1.00   \n",
       "3       13114483485442799616 2019-04-10 00:31:25    486.00   \n",
       "4       13114483499480700928 2019-04-12 20:10:23    565.00   \n",
       "...                      ...                 ...       ...   \n",
       "149995  13042425979329300480 2019-04-29 07:28:41    615.00   \n",
       "149996   7277825670196679680 2019-04-29 07:28:42    451.00   \n",
       "149997   7349883264234609664 2019-04-29 07:28:42    483.00   \n",
       "149998  13114483573367300096 2019-04-29 07:28:43    283.00   \n",
       "149999  13114483573367300096 2019-04-29 07:28:43    696.00   \n",
       "\n",
       "                       End  End ms  Dur. (ms)               IMSI  \\\n",
       "0      2019-04-25 14:35:31  662.00 1823652.00 208201442131968.00   \n",
       "1      2019-04-25 08:15:48  606.00 1365104.00 208201911894016.00   \n",
       "2      2019-04-25 11:58:13  652.00 1361762.00 208200318058496.00   \n",
       "3      2019-04-25 07:36:35  171.00 1321509.00 208201408577536.00   \n",
       "4      2019-04-25 10:40:32  954.00 1089009.00 208201408577536.00   \n",
       "...                    ...     ...        ...                ...   \n",
       "149995 2019-04-30 00:01:49  407.00   59587.00 208201408577536.00   \n",
       "149996 2019-04-30 06:02:33  214.00   81230.00 208202197106688.00   \n",
       "149997 2019-04-30 10:41:33  187.00   97970.00 208201911894016.00   \n",
       "149998 2019-04-30 10:46:12  810.00   98249.00 208201710567424.00   \n",
       "149999 2019-04-30 10:40:34  327.00   97910.00 208202096443392.00   \n",
       "\n",
       "        MSISDN/Number              IMEI Last Location Name  Avg RTT DL (ms)  \\\n",
       "0      33664962560.00 35521208254464.00   9164566995485190            42.00   \n",
       "1      33681854464.00 35794009980928.00            L77566A            65.00   \n",
       "2      33760626688.00 35281512169472.00            D42335A            45.00   \n",
       "3      33750343680.00 35356611182592.00            T21824A            45.00   \n",
       "4      33699794944.00 35407009939456.00            D88865A            45.00   \n",
       "...               ...               ...                ...              ...   \n",
       "149995 33668648960.00 35332510711808.00            T85721A           313.00   \n",
       "149996 33650688000.00 35483111391232.00            D20434A            32.00   \n",
       "149997 33663449088.00 35660509478912.00            D10223C            27.00   \n",
       "149998 33621891072.00 35721209446400.00            T51102A            43.00   \n",
       "149999 33619621888.00 86186202759168.00            L88342B            37.00   \n",
       "\n",
       "        Avg RTT UL (ms)  Avg Bearer TP DL (kbps)  Avg Bearer TP UL (kbps)  \\\n",
       "0                  5.00                    23.00                    44.00   \n",
       "1                  5.00                    16.00                    26.00   \n",
       "2                  5.00                     6.00                     9.00   \n",
       "3                  5.00                    44.00                    44.00   \n",
       "4                  5.00                     6.00                     9.00   \n",
       "...                 ...                      ...                      ...   \n",
       "149995             9.00                 63420.00                  1393.00   \n",
       "149996             0.00                    52.00                    65.00   \n",
       "149997             2.00                    23.00                    54.00   \n",
       "149998             6.00                    43.00                    47.00   \n",
       "149999             5.00                    34.00                    37.00   \n",
       "\n",
       "        DL TP < 50 Kbps (%)  50 Kbps < DL TP < 250 Kbps (%)  \\\n",
       "0                    100.00                            0.00   \n",
       "1                    100.00                            0.00   \n",
       "2                    100.00                            0.00   \n",
       "3                    100.00                            0.00   \n",
       "4                    100.00                            0.00   \n",
       "...                     ...                             ...   \n",
       "149995                54.00                           23.00   \n",
       "149996               100.00                            0.00   \n",
       "149997               100.00                            0.00   \n",
       "149998               100.00                            0.00   \n",
       "149999               100.00                            0.00   \n",
       "\n",
       "        250 Kbps < DL TP < 1 Mbps (%)  DL TP > 1 Mbps (%)  \\\n",
       "0                                0.00                0.00   \n",
       "1                                0.00                0.00   \n",
       "2                                0.00                0.00   \n",
       "3                                0.00                0.00   \n",
       "4                                0.00                0.00   \n",
       "...                               ...                 ...   \n",
       "149995                           9.00               12.00   \n",
       "149996                           0.00                0.00   \n",
       "149997                           0.00                0.00   \n",
       "149998                           0.00                0.00   \n",
       "149999                           0.00                0.00   \n",
       "\n",
       "        UL TP < 10 Kbps (%)  10 Kbps < UL TP < 50 Kbps (%)  \\\n",
       "0                    100.00                           0.00   \n",
       "1                    100.00                           0.00   \n",
       "2                    100.00                           0.00   \n",
       "3                    100.00                           0.00   \n",
       "4                    100.00                           0.00   \n",
       "...                     ...                            ...   \n",
       "149995                96.00                           3.00   \n",
       "149996               100.00                           0.00   \n",
       "149997               100.00                           0.00   \n",
       "149998               100.00                           0.00   \n",
       "149999               100.00                           0.00   \n",
       "\n",
       "        50 Kbps < UL TP < 300 Kbps (%)  UL TP > 300 Kbps (%)  \\\n",
       "0                                 0.00                  0.00   \n",
       "1                                 0.00                  0.00   \n",
       "2                                 0.00                  0.00   \n",
       "3                                 0.00                  0.00   \n",
       "4                                 0.00                  0.00   \n",
       "...                                ...                   ...   \n",
       "149995                            0.00                  0.00   \n",
       "149996                            0.00                  0.00   \n",
       "149997                            0.00                  0.00   \n",
       "149998                            0.00                  0.00   \n",
       "149999                            0.00                  0.00   \n",
       "\n",
       "        Activity Duration DL (ms)  Activity Duration UL (ms)   Dur. (ms).1  \\\n",
       "0                        37624.00                   38787.00 1823652864.00   \n",
       "1                          168.00                    3560.00 1365104384.00   \n",
       "2                            0.00                       0.00 1361762688.00   \n",
       "3                         3330.00                   37882.00 1321509632.00   \n",
       "4                            0.00                       0.00 1089009408.00   \n",
       "...                           ...                        ...           ...   \n",
       "149995                 3380381.00                 2355730.00   59587792.00   \n",
       "149996                   42376.00                   41915.00   81230760.00   \n",
       "149997                   17264.00                   16759.00   97970704.00   \n",
       "149998                   25003.00                   28640.00   98249528.00   \n",
       "149999                   13405.00                   34088.00   97910632.00   \n",
       "\n",
       "       Handset Manufacturer                 Handset Type  \\\n",
       "0                   Samsung   Samsung Galaxy A5 Sm-A520F   \n",
       "1                   Samsung  Samsung Galaxy J5 (Sm-J530)   \n",
       "2                   Samsung     Samsung Galaxy A8 (2018)   \n",
       "3                       NaN                          NaN   \n",
       "4                   Samsung             Samsung Sm-G390F   \n",
       "...                     ...                          ...   \n",
       "149995                  NaN                          NaN   \n",
       "149996                Apple  Apple iPhone 8 Plus (A1897)   \n",
       "149997                Apple      Apple iPhone Se (A1723)   \n",
       "149998                Apple      Apple iPhone Xs (A2097)   \n",
       "149999               Huawei               Huawei Fig-Lx1   \n",
       "\n",
       "        Nb of sec with Vol DL < 6250B  Nb of sec with Vol UL < 1250B  \\\n",
       "0                              213.00                         214.00   \n",
       "1                              971.00                        1022.00   \n",
       "2                              751.00                         695.00   \n",
       "3                               17.00                         207.00   \n",
       "4                              607.00                         604.00   \n",
       "...                               ...                            ...   \n",
       "149995                        4801.00                        8448.00   \n",
       "149996                         223.00                         229.00   \n",
       "149997                         105.00                         102.00   \n",
       "149998                         104.00                         108.00   \n",
       "149999                          43.00                          82.00   \n",
       "\n",
       "        Social Media DL (Bytes)  Social Media UL (Bytes)  Google DL (Bytes)  \\\n",
       "0                    1545765.00                 24420.00         1634479.00   \n",
       "1                    1926113.00                  7165.00         3493924.00   \n",
       "2                    1684053.00                 42224.00         8535055.00   \n",
       "3                     644121.00                 13372.00         9023734.00   \n",
       "4                     862600.00                 50188.00         6248284.00   \n",
       "...                         ...                      ...                ...   \n",
       "149995                962097.00                 31078.00         1139573.00   \n",
       "149996               3464974.00                 52091.00         9967603.00   \n",
       "149997               2344568.00                  7613.00         2229420.00   \n",
       "149998               1245845.00                 14394.00         3850890.00   \n",
       "149999                801547.00                 21562.00         4189773.00   \n",
       "\n",
       "        Google UL (Bytes)  Email DL (Bytes)  Email UL (Bytes)  \\\n",
       "0              1271433.00        3563542.00         137762.00   \n",
       "1               920172.00         629046.00         308339.00   \n",
       "2              1694064.00        2690151.00         672973.00   \n",
       "3              2788027.00        1439754.00         631229.00   \n",
       "4              1500559.00        1936496.00         173853.00   \n",
       "...                   ...               ...               ...   \n",
       "149995          126061.00        3459965.00         820142.00   \n",
       "149996         2817311.00          57639.00         633237.00   \n",
       "149997         2185941.00        1954414.00         167304.00   \n",
       "149998         2734579.00        1525734.00         532543.00   \n",
       "149999         3567494.00        2228270.00         622644.00   \n",
       "\n",
       "        Youtube DL (Bytes)  Youtube UL (Bytes)  Netflix DL (Bytes)  \\\n",
       "0              15854611.00          2501332.00          8198936.00   \n",
       "1              20247396.00         19111728.00         18338412.00   \n",
       "2              19725660.00         14699576.00         17587794.00   \n",
       "3              21388122.00         15146643.00         13994646.00   \n",
       "4              15259380.00         18962872.00         17124580.00   \n",
       "...                    ...                 ...                 ...   \n",
       "149995          6550499.00         18003146.00         22468984.00   \n",
       "149996         16191667.00         11763428.00         17883704.00   \n",
       "149997         13877234.00          8288284.00         19350146.00   \n",
       "149998         22660510.00          1855903.00          9963942.00   \n",
       "149999          8817106.00          8305402.00          3322253.00   \n",
       "\n",
       "        Netflix UL (Bytes)  Gaming DL (Bytes)  Gaming UL (Bytes)  \\\n",
       "0               9656251.00       278082304.00        14344150.00   \n",
       "1              17227132.00       608750080.00         1170709.00   \n",
       "2               6163408.00       229584624.00          395630.00   \n",
       "3               1097942.00       799538176.00        10849722.00   \n",
       "4                415218.00       527707264.00         3529801.00   \n",
       "...                    ...                ...                ...   \n",
       "149995          7149728.00       784435328.00        12724751.00   \n",
       "149996         19678160.00       526609664.00         9197207.00   \n",
       "149997         21293148.00       626893056.00         4735033.00   \n",
       "149998          5065760.00       553539456.00        13394316.00   \n",
       "149999         13172589.00       352536960.00         2529475.00   \n",
       "\n",
       "        Other DL (Bytes)  Other UL (Bytes)  Total UL (Bytes)  Total DL (Bytes)  \n",
       "0           171744448.00        8814393.00       36749740.00      308879648.00  \n",
       "1           526904224.00       15055145.00       53800392.00      653384960.00  \n",
       "2           410692576.00        4215763.00       27883638.00      279807328.00  \n",
       "3           749039936.00       12797283.00       43324216.00      846028544.00  \n",
       "4           550709504.00       13910322.00       38542816.00      569138560.00  \n",
       "...                  ...               ...               ...               ...  \n",
       "149995      321383168.00       14890486.00       53745392.00      819016448.00  \n",
       "149996        3264510.00       13487416.00       57628852.00      574175232.00  \n",
       "149997      712180416.00        2457758.00       39135080.00      666648832.00  \n",
       "149998      121100856.00       11314729.00       34912224.00      592786432.00  \n",
       "149999      814713088.00        1406930.00       29626096.00      371895936.00  \n",
       "\n",
       "[150000 rows x 45 columns]"
      ],
      "text/html": "<div>\n<style scoped>\n    .dataframe tbody tr th:only-of-type {\n        vertical-align: middle;\n    }\n\n    .dataframe tbody tr th {\n        vertical-align: top;\n    }\n\n    .dataframe thead th {\n        text-align: right;\n    }\n</style>\n<table border=\"1\" class=\"dataframe\">\n  <thead>\n    <tr style=\"text-align: right;\">\n      <th></th>\n      <th>Bearer Id</th>\n      <th>Start</th>\n      <th>Start ms</th>\n      <th>End</th>\n      <th>End ms</th>\n      <th>Dur. (ms)</th>\n      <th>IMSI</th>\n      <th>MSISDN/Number</th>\n      <th>IMEI</th>\n      <th>Last Location Name</th>\n      <th>Avg RTT DL (ms)</th>\n      <th>Avg RTT UL (ms)</th>\n      <th>Avg Bearer TP DL (kbps)</th>\n      <th>Avg Bearer TP UL (kbps)</th>\n      <th>DL TP &lt; 50 Kbps (%)</th>\n      <th>50 Kbps &lt; DL TP &lt; 250 Kbps (%)</th>\n      <th>250 Kbps &lt; DL TP &lt; 1 Mbps (%)</th>\n      <th>DL TP &gt; 1 Mbps (%)</th>\n      <th>UL TP &lt; 10 Kbps (%)</th>\n      <th>10 Kbps &lt; UL TP &lt; 50 Kbps (%)</th>\n      <th>50 Kbps &lt; UL TP &lt; 300 Kbps (%)</th>\n      <th>UL TP &gt; 300 Kbps (%)</th>\n      <th>Activity Duration DL (ms)</th>\n      <th>Activity Duration UL (ms)</th>\n      <th>Dur. (ms).1</th>\n      <th>Handset Manufacturer</th>\n      <th>Handset Type</th>\n      <th>Nb of sec with Vol DL &lt; 6250B</th>\n      <th>Nb of sec with Vol UL &lt; 1250B</th>\n      <th>Social Media DL (Bytes)</th>\n      <th>Social Media UL (Bytes)</th>\n      <th>Google DL (Bytes)</th>\n      <th>Google UL (Bytes)</th>\n      <th>Email DL (Bytes)</th>\n      <th>Email UL (Bytes)</th>\n      <th>Youtube DL (Bytes)</th>\n      <th>Youtube UL (Bytes)</th>\n      <th>Netflix DL (Bytes)</th>\n      <th>Netflix UL (Bytes)</th>\n      <th>Gaming DL (Bytes)</th>\n      <th>Gaming UL (Bytes)</th>\n      <th>Other DL (Bytes)</th>\n      <th>Other UL (Bytes)</th>\n      <th>Total UL (Bytes)</th>\n      <th>Total DL (Bytes)</th>\n    </tr>\n  </thead>\n  <tbody>\n    <tr>\n      <th>0</th>\n      <td>13114483460844900352</td>\n      <td>2019-04-04 12:01:18</td>\n      <td>770.00</td>\n      <td>2019-04-25 14:35:31</td>\n      <td>662.00</td>\n      <td>1823652.00</td>\n      <td>208201442131968.00</td>\n      <td>33664962560.00</td>\n      <td>35521208254464.00</td>\n      <td>9164566995485190</td>\n      <td>42.00</td>\n      <td>5.00</td>\n      <td>23.00</td>\n      <td>44.00</td>\n      <td>100.00</td>\n      <td>0.00</td>\n      <td>0.00</td>\n      <td>0.00</td>\n      <td>100.00</td>\n      <td>0.00</td>\n      <td>0.00</td>\n      <td>0.00</td>\n      <td>37624.00</td>\n      <td>38787.00</td>\n      <td>1823652864.00</td>\n      <td>Samsung</td>\n      <td>Samsung Galaxy A5 Sm-A520F</td>\n      <td>213.00</td>\n      <td>214.00</td>\n      <td>1545765.00</td>\n      <td>24420.00</td>\n      <td>1634479.00</td>\n      <td>1271433.00</td>\n      <td>3563542.00</td>\n      <td>137762.00</td>\n      <td>15854611.00</td>\n      <td>2501332.00</td>\n      <td>8198936.00</td>\n      <td>9656251.00</td>\n      <td>278082304.00</td>\n      <td>14344150.00</td>\n      <td>171744448.00</td>\n      <td>8814393.00</td>\n      <td>36749740.00</td>\n      <td>308879648.00</td>\n    </tr>\n    <tr>\n      <th>1</th>\n      <td>13114483482878900224</td>\n      <td>2019-04-09 13:04:04</td>\n      <td>235.00</td>\n      <td>2019-04-25 08:15:48</td>\n      <td>606.00</td>\n      <td>1365104.00</td>\n      <td>208201911894016.00</td>\n      <td>33681854464.00</td>\n      <td>35794009980928.00</td>\n      <td>L77566A</td>\n      <td>65.00</td>\n      <td>5.00</td>\n      <td>16.00</td>\n      <td>26.00</td>\n      <td>100.00</td>\n      <td>0.00</td>\n      <td>0.00</td>\n      <td>0.00</td>\n      <td>100.00</td>\n      <td>0.00</td>\n      <td>0.00</td>\n      <td>0.00</td>\n      <td>168.00</td>\n      <td>3560.00</td>\n      <td>1365104384.00</td>\n      <td>Samsung</td>\n      <td>Samsung Galaxy J5 (Sm-J530)</td>\n      <td>971.00</td>\n      <td>1022.00</td>\n      <td>1926113.00</td>\n      <td>7165.00</td>\n      <td>3493924.00</td>\n      <td>920172.00</td>\n      <td>629046.00</td>\n      <td>308339.00</td>\n      <td>20247396.00</td>\n      <td>19111728.00</td>\n      <td>18338412.00</td>\n      <td>17227132.00</td>\n      <td>608750080.00</td>\n      <td>1170709.00</td>\n      <td>526904224.00</td>\n      <td>15055145.00</td>\n      <td>53800392.00</td>\n      <td>653384960.00</td>\n    </tr>\n    <tr>\n      <th>2</th>\n      <td>13114483484080500736</td>\n      <td>2019-04-09 17:42:11</td>\n      <td>1.00</td>\n      <td>2019-04-25 11:58:13</td>\n      <td>652.00</td>\n      <td>1361762.00</td>\n      <td>208200318058496.00</td>\n      <td>33760626688.00</td>\n      <td>35281512169472.00</td>\n      <td>D42335A</td>\n      <td>45.00</td>\n      <td>5.00</td>\n      <td>6.00</td>\n      <td>9.00</td>\n      <td>100.00</td>\n      <td>0.00</td>\n      <td>0.00</td>\n      <td>0.00</td>\n      <td>100.00</td>\n      <td>0.00</td>\n      <td>0.00</td>\n      <td>0.00</td>\n      <td>0.00</td>\n      <td>0.00</td>\n      <td>1361762688.00</td>\n      <td>Samsung</td>\n      <td>Samsung Galaxy A8 (2018)</td>\n      <td>751.00</td>\n      <td>695.00</td>\n      <td>1684053.00</td>\n      <td>42224.00</td>\n      <td>8535055.00</td>\n      <td>1694064.00</td>\n      <td>2690151.00</td>\n      <td>672973.00</td>\n      <td>19725660.00</td>\n      <td>14699576.00</td>\n      <td>17587794.00</td>\n      <td>6163408.00</td>\n      <td>229584624.00</td>\n      <td>395630.00</td>\n      <td>410692576.00</td>\n      <td>4215763.00</td>\n      <td>27883638.00</td>\n      <td>279807328.00</td>\n    </tr>\n    <tr>\n      <th>3</th>\n      <td>13114483485442799616</td>\n      <td>2019-04-10 00:31:25</td>\n      <td>486.00</td>\n      <td>2019-04-25 07:36:35</td>\n      <td>171.00</td>\n      <td>1321509.00</td>\n      <td>208201408577536.00</td>\n      <td>33750343680.00</td>\n      <td>35356611182592.00</td>\n      <td>T21824A</td>\n      <td>45.00</td>\n      <td>5.00</td>\n      <td>44.00</td>\n      <td>44.00</td>\n      <td>100.00</td>\n      <td>0.00</td>\n      <td>0.00</td>\n      <td>0.00</td>\n      <td>100.00</td>\n      <td>0.00</td>\n      <td>0.00</td>\n      <td>0.00</td>\n      <td>3330.00</td>\n      <td>37882.00</td>\n      <td>1321509632.00</td>\n      <td>NaN</td>\n      <td>NaN</td>\n      <td>17.00</td>\n      <td>207.00</td>\n      <td>644121.00</td>\n      <td>13372.00</td>\n      <td>9023734.00</td>\n      <td>2788027.00</td>\n      <td>1439754.00</td>\n      <td>631229.00</td>\n      <td>21388122.00</td>\n      <td>15146643.00</td>\n      <td>13994646.00</td>\n      <td>1097942.00</td>\n      <td>799538176.00</td>\n      <td>10849722.00</td>\n      <td>749039936.00</td>\n      <td>12797283.00</td>\n      <td>43324216.00</td>\n      <td>846028544.00</td>\n    </tr>\n    <tr>\n      <th>4</th>\n      <td>13114483499480700928</td>\n      <td>2019-04-12 20:10:23</td>\n      <td>565.00</td>\n      <td>2019-04-25 10:40:32</td>\n      <td>954.00</td>\n      <td>1089009.00</td>\n      <td>208201408577536.00</td>\n      <td>33699794944.00</td>\n      <td>35407009939456.00</td>\n      <td>D88865A</td>\n      <td>45.00</td>\n      <td>5.00</td>\n      <td>6.00</td>\n      <td>9.00</td>\n      <td>100.00</td>\n      <td>0.00</td>\n      <td>0.00</td>\n      <td>0.00</td>\n      <td>100.00</td>\n      <td>0.00</td>\n      <td>0.00</td>\n      <td>0.00</td>\n      <td>0.00</td>\n      <td>0.00</td>\n      <td>1089009408.00</td>\n      <td>Samsung</td>\n      <td>Samsung Sm-G390F</td>\n      <td>607.00</td>\n      <td>604.00</td>\n      <td>862600.00</td>\n      <td>50188.00</td>\n      <td>6248284.00</td>\n      <td>1500559.00</td>\n      <td>1936496.00</td>\n      <td>173853.00</td>\n      <td>15259380.00</td>\n      <td>18962872.00</td>\n      <td>17124580.00</td>\n      <td>415218.00</td>\n      <td>527707264.00</td>\n      <td>3529801.00</td>\n      <td>550709504.00</td>\n      <td>13910322.00</td>\n      <td>38542816.00</td>\n      <td>569138560.00</td>\n    </tr>\n    <tr>\n      <th>...</th>\n      <td>...</td>\n      <td>...</td>\n      <td>...</td>\n      <td>...</td>\n      <td>...</td>\n      <td>...</td>\n      <td>...</td>\n      <td>...</td>\n      <td>...</td>\n      <td>...</td>\n      <td>...</td>\n      <td>...</td>\n      <td>...</td>\n      <td>...</td>\n      <td>...</td>\n      <td>...</td>\n      <td>...</td>\n      <td>...</td>\n      <td>...</td>\n      <td>...</td>\n      <td>...</td>\n      <td>...</td>\n      <td>...</td>\n      <td>...</td>\n      <td>...</td>\n      <td>...</td>\n      <td>...</td>\n      <td>...</td>\n      <td>...</td>\n      <td>...</td>\n      <td>...</td>\n      <td>...</td>\n      <td>...</td>\n      <td>...</td>\n      <td>...</td>\n      <td>...</td>\n      <td>...</td>\n      <td>...</td>\n      <td>...</td>\n      <td>...</td>\n      <td>...</td>\n      <td>...</td>\n      <td>...</td>\n      <td>...</td>\n      <td>...</td>\n    </tr>\n    <tr>\n      <th>149995</th>\n      <td>13042425979329300480</td>\n      <td>2019-04-29 07:28:41</td>\n      <td>615.00</td>\n      <td>2019-04-30 00:01:49</td>\n      <td>407.00</td>\n      <td>59587.00</td>\n      <td>208201408577536.00</td>\n      <td>33668648960.00</td>\n      <td>35332510711808.00</td>\n      <td>T85721A</td>\n      <td>313.00</td>\n      <td>9.00</td>\n      <td>63420.00</td>\n      <td>1393.00</td>\n      <td>54.00</td>\n      <td>23.00</td>\n      <td>9.00</td>\n      <td>12.00</td>\n      <td>96.00</td>\n      <td>3.00</td>\n      <td>0.00</td>\n      <td>0.00</td>\n      <td>3380381.00</td>\n      <td>2355730.00</td>\n      <td>59587792.00</td>\n      <td>NaN</td>\n      <td>NaN</td>\n      <td>4801.00</td>\n      <td>8448.00</td>\n      <td>962097.00</td>\n      <td>31078.00</td>\n      <td>1139573.00</td>\n      <td>126061.00</td>\n      <td>3459965.00</td>\n      <td>820142.00</td>\n      <td>6550499.00</td>\n      <td>18003146.00</td>\n      <td>22468984.00</td>\n      <td>7149728.00</td>\n      <td>784435328.00</td>\n      <td>12724751.00</td>\n      <td>321383168.00</td>\n      <td>14890486.00</td>\n      <td>53745392.00</td>\n      <td>819016448.00</td>\n    </tr>\n    <tr>\n      <th>149996</th>\n      <td>7277825670196679680</td>\n      <td>2019-04-29 07:28:42</td>\n      <td>451.00</td>\n      <td>2019-04-30 06:02:33</td>\n      <td>214.00</td>\n      <td>81230.00</td>\n      <td>208202197106688.00</td>\n      <td>33650688000.00</td>\n      <td>35483111391232.00</td>\n      <td>D20434A</td>\n      <td>32.00</td>\n      <td>0.00</td>\n      <td>52.00</td>\n      <td>65.00</td>\n      <td>100.00</td>\n      <td>0.00</td>\n      <td>0.00</td>\n      <td>0.00</td>\n      <td>100.00</td>\n      <td>0.00</td>\n      <td>0.00</td>\n      <td>0.00</td>\n      <td>42376.00</td>\n      <td>41915.00</td>\n      <td>81230760.00</td>\n      <td>Apple</td>\n      <td>Apple iPhone 8 Plus (A1897)</td>\n      <td>223.00</td>\n      <td>229.00</td>\n      <td>3464974.00</td>\n      <td>52091.00</td>\n      <td>9967603.00</td>\n      <td>2817311.00</td>\n      <td>57639.00</td>\n      <td>633237.00</td>\n      <td>16191667.00</td>\n      <td>11763428.00</td>\n      <td>17883704.00</td>\n      <td>19678160.00</td>\n      <td>526609664.00</td>\n      <td>9197207.00</td>\n      <td>3264510.00</td>\n      <td>13487416.00</td>\n      <td>57628852.00</td>\n      <td>574175232.00</td>\n    </tr>\n    <tr>\n      <th>149997</th>\n      <td>7349883264234609664</td>\n      <td>2019-04-29 07:28:42</td>\n      <td>483.00</td>\n      <td>2019-04-30 10:41:33</td>\n      <td>187.00</td>\n      <td>97970.00</td>\n      <td>208201911894016.00</td>\n      <td>33663449088.00</td>\n      <td>35660509478912.00</td>\n      <td>D10223C</td>\n      <td>27.00</td>\n      <td>2.00</td>\n      <td>23.00</td>\n      <td>54.00</td>\n      <td>100.00</td>\n      <td>0.00</td>\n      <td>0.00</td>\n      <td>0.00</td>\n      <td>100.00</td>\n      <td>0.00</td>\n      <td>0.00</td>\n      <td>0.00</td>\n      <td>17264.00</td>\n      <td>16759.00</td>\n      <td>97970704.00</td>\n      <td>Apple</td>\n      <td>Apple iPhone Se (A1723)</td>\n      <td>105.00</td>\n      <td>102.00</td>\n      <td>2344568.00</td>\n      <td>7613.00</td>\n      <td>2229420.00</td>\n      <td>2185941.00</td>\n      <td>1954414.00</td>\n      <td>167304.00</td>\n      <td>13877234.00</td>\n      <td>8288284.00</td>\n      <td>19350146.00</td>\n      <td>21293148.00</td>\n      <td>626893056.00</td>\n      <td>4735033.00</td>\n      <td>712180416.00</td>\n      <td>2457758.00</td>\n      <td>39135080.00</td>\n      <td>666648832.00</td>\n    </tr>\n    <tr>\n      <th>149998</th>\n      <td>13114483573367300096</td>\n      <td>2019-04-29 07:28:43</td>\n      <td>283.00</td>\n      <td>2019-04-30 10:46:12</td>\n      <td>810.00</td>\n      <td>98249.00</td>\n      <td>208201710567424.00</td>\n      <td>33621891072.00</td>\n      <td>35721209446400.00</td>\n      <td>T51102A</td>\n      <td>43.00</td>\n      <td>6.00</td>\n      <td>43.00</td>\n      <td>47.00</td>\n      <td>100.00</td>\n      <td>0.00</td>\n      <td>0.00</td>\n      <td>0.00</td>\n      <td>100.00</td>\n      <td>0.00</td>\n      <td>0.00</td>\n      <td>0.00</td>\n      <td>25003.00</td>\n      <td>28640.00</td>\n      <td>98249528.00</td>\n      <td>Apple</td>\n      <td>Apple iPhone Xs (A2097)</td>\n      <td>104.00</td>\n      <td>108.00</td>\n      <td>1245845.00</td>\n      <td>14394.00</td>\n      <td>3850890.00</td>\n      <td>2734579.00</td>\n      <td>1525734.00</td>\n      <td>532543.00</td>\n      <td>22660510.00</td>\n      <td>1855903.00</td>\n      <td>9963942.00</td>\n      <td>5065760.00</td>\n      <td>553539456.00</td>\n      <td>13394316.00</td>\n      <td>121100856.00</td>\n      <td>11314729.00</td>\n      <td>34912224.00</td>\n      <td>592786432.00</td>\n    </tr>\n    <tr>\n      <th>149999</th>\n      <td>13114483573367300096</td>\n      <td>2019-04-29 07:28:43</td>\n      <td>696.00</td>\n      <td>2019-04-30 10:40:34</td>\n      <td>327.00</td>\n      <td>97910.00</td>\n      <td>208202096443392.00</td>\n      <td>33619621888.00</td>\n      <td>86186202759168.00</td>\n      <td>L88342B</td>\n      <td>37.00</td>\n      <td>5.00</td>\n      <td>34.00</td>\n      <td>37.00</td>\n      <td>100.00</td>\n      <td>0.00</td>\n      <td>0.00</td>\n      <td>0.00</td>\n      <td>100.00</td>\n      <td>0.00</td>\n      <td>0.00</td>\n      <td>0.00</td>\n      <td>13405.00</td>\n      <td>34088.00</td>\n      <td>97910632.00</td>\n      <td>Huawei</td>\n      <td>Huawei Fig-Lx1</td>\n      <td>43.00</td>\n      <td>82.00</td>\n      <td>801547.00</td>\n      <td>21562.00</td>\n      <td>4189773.00</td>\n      <td>3567494.00</td>\n      <td>2228270.00</td>\n      <td>622644.00</td>\n      <td>8817106.00</td>\n      <td>8305402.00</td>\n      <td>3322253.00</td>\n      <td>13172589.00</td>\n      <td>352536960.00</td>\n      <td>2529475.00</td>\n      <td>814713088.00</td>\n      <td>1406930.00</td>\n      <td>29626096.00</td>\n      <td>371895936.00</td>\n    </tr>\n  </tbody>\n</table>\n<p>150000 rows × 45 columns</p>\n</div>"
     },
     "metadata": {},
     "execution_count": 35
    }
   ],
   "source": [
    "cleaner.fill_non_numeric_values(explorer.get_columns_with_missing_values(),ffill=True,bfill=True)"
   ]
  },
  {
   "cell_type": "code",
   "execution_count": null,
   "metadata": {},
   "outputs": [],
   "source": []
  },
  {
   "source": [
    "### Data Exploration and Analysis"
   ],
   "cell_type": "markdown",
   "metadata": {}
  }
 ]
}