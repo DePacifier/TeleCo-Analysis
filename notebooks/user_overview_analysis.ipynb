{
 "metadata": {
  "language_info": {
   "codemirror_mode": {
    "name": "ipython",
    "version": 3
   },
   "file_extension": ".py",
   "mimetype": "text/x-python",
   "name": "python",
   "nbconvert_exporter": "python",
   "pygments_lexer": "ipython3",
   "version": "3.8.4"
  },
  "orig_nbformat": 4,
  "kernelspec": {
   "name": "python3",
   "display_name": "Python 3.8.4 64-bit"
  },
  "interpreter": {
   "hash": "2db524e06e9f5f4ffedc911c917cb75e12dbc923643829bf417064a77eb14d37"
  }
 },
 "nbformat": 4,
 "nbformat_minor": 2,
 "cells": [
  {
   "source": [
    "Loading Data First"
   ],
   "cell_type": "markdown",
   "metadata": {}
  },
  {
   "cell_type": "code",
   "execution_count": 2,
   "metadata": {},
   "outputs": [],
   "source": [
    "import pandas as pd"
   ]
  },
  {
   "cell_type": "code",
   "execution_count": 3,
   "metadata": {},
   "outputs": [],
   "source": [
    "\n",
    "def load_df_from_csv(filename:str) -> pd.DataFrame:\n",
    "    \"\"\"A simple function which tries to load a dataframe from a specified .csv filename\"\"\"\n",
    "    try:\n",
    "        df = pd.read_csv(filename)\n",
    "        return df\n",
    "    except:\n",
    "        print(\"Error Occured:\\n\\tCould not find specified .csv file\")\n",
    "\n",
    "def load_df_from_excel(filename:str) -> pd.DataFrame:\n",
    "    \"\"\"A simple function which tries to load a dataframe from a specified .xslx filename\"\"\"\n",
    "    try:\n",
    "        df = pd.read_excel(filename, engine = 'openpyxl')\n",
    "        return df\n",
    "    except:\n",
    "        print(\"Error Occured:\\n\\tCould not find specified .xslx file\")"
   ]
  },
  {
   "cell_type": "code",
   "execution_count": 14,
   "metadata": {},
   "outputs": [
    {
     "output_type": "execute_result",
     "data": {
      "text/plain": [
       "      Fields  \\\n",
       "0  bearer id   \n",
       "1  Dur. (ms)   \n",
       "2      Start   \n",
       "3   Start ms   \n",
       "4        End   \n",
       "\n",
       "                                                             Description  \n",
       "0                                                 xDr session identifier  \n",
       "1                                      Total Duration of the xDR (in ms)  \n",
       "2                          Start time of the xDR (first frame timestamp)  \n",
       "3  Milliseconds offset of start time for the xDR (first frame timestamp)  \n",
       "4                             End time of the xDR (last frame timestamp)  "
      ],
      "text/html": "<div>\n<style scoped>\n    .dataframe tbody tr th:only-of-type {\n        vertical-align: middle;\n    }\n\n    .dataframe tbody tr th {\n        vertical-align: top;\n    }\n\n    .dataframe thead th {\n        text-align: right;\n    }\n</style>\n<table border=\"1\" class=\"dataframe\">\n  <thead>\n    <tr style=\"text-align: right;\">\n      <th></th>\n      <th>Fields</th>\n      <th>Description</th>\n    </tr>\n  </thead>\n  <tbody>\n    <tr>\n      <th>0</th>\n      <td>bearer id</td>\n      <td>xDr session identifier</td>\n    </tr>\n    <tr>\n      <th>1</th>\n      <td>Dur. (ms)</td>\n      <td>Total Duration of the xDR (in ms)</td>\n    </tr>\n    <tr>\n      <th>2</th>\n      <td>Start</td>\n      <td>Start time of the xDR (first frame timestamp)</td>\n    </tr>\n    <tr>\n      <th>3</th>\n      <td>Start ms</td>\n      <td>Milliseconds offset of start time for the xDR (first frame timestamp)</td>\n    </tr>\n    <tr>\n      <th>4</th>\n      <td>End</td>\n      <td>End time of the xDR (last frame timestamp)</td>\n    </tr>\n  </tbody>\n</table>\n</div>"
     },
     "metadata": {},
     "execution_count": 14
    }
   ],
   "source": [
    "fields_description = load_df_from_csv(\"../data/fields_description.csv\")\n",
    "pd.set_option('display.max_colwidth', None)\n",
    "fields_description.head()"
   ]
  },
  {
   "cell_type": "code",
   "execution_count": 6,
   "metadata": {},
   "outputs": [
    {
     "output_type": "execute_result",
     "data": {
      "text/plain": [
       "              Bearer Id               Start  Start ms                 End  \\\n",
       "0  13114483460844900352 2019-04-04 12:01:18     770.0 2019-04-25 14:35:31   \n",
       "1  13114483482878900224 2019-04-09 13:04:04     235.0 2019-04-25 08:15:48   \n",
       "2  13114483484080500736 2019-04-09 17:42:11       1.0 2019-04-25 11:58:13   \n",
       "3  13114483485442799616 2019-04-10 00:31:25     486.0 2019-04-25 07:36:35   \n",
       "4  13114483499480700928 2019-04-12 20:10:23     565.0 2019-04-25 10:40:32   \n",
       "\n",
       "   End ms  Dur. (ms)          IMSI  MSISDN/Number          IMEI  \\\n",
       "0   662.0  1823652.0  2.082014e+14   3.366496e+10  3.552121e+13   \n",
       "1   606.0  1365104.0  2.082019e+14   3.368185e+10  3.579401e+13   \n",
       "2   652.0  1361762.0  2.082003e+14   3.376063e+10  3.528151e+13   \n",
       "3   171.0  1321509.0  2.082014e+14   3.375034e+10  3.535661e+13   \n",
       "4   954.0  1089009.0  2.082014e+14   3.369980e+10  3.540701e+13   \n",
       "\n",
       "  Last Location Name  Avg RTT DL (ms)  Avg RTT UL (ms)  \\\n",
       "0   9164566995485190             42.0              5.0   \n",
       "1            L77566A             65.0              5.0   \n",
       "2            D42335A              NaN              NaN   \n",
       "3            T21824A              NaN              NaN   \n",
       "4            D88865A              NaN              NaN   \n",
       "\n",
       "   Avg Bearer TP DL (kbps)  Avg Bearer TP UL (kbps)  \\\n",
       "0                     23.0                     44.0   \n",
       "1                     16.0                     26.0   \n",
       "2                      6.0                      9.0   \n",
       "3                     44.0                     44.0   \n",
       "4                      6.0                      9.0   \n",
       "\n",
       "   TCP DL Retrans. Vol (Bytes)  TCP UL Retrans. Vol (Bytes)  \\\n",
       "0                          NaN                          NaN   \n",
       "1                          NaN                          NaN   \n",
       "2                          NaN                          NaN   \n",
       "3                          NaN                          NaN   \n",
       "4                          NaN                          NaN   \n",
       "\n",
       "   DL TP < 50 Kbps (%)  50 Kbps < DL TP < 250 Kbps (%)  \\\n",
       "0                100.0                             0.0   \n",
       "1                100.0                             0.0   \n",
       "2                100.0                             0.0   \n",
       "3                100.0                             0.0   \n",
       "4                100.0                             0.0   \n",
       "\n",
       "   250 Kbps < DL TP < 1 Mbps (%)  DL TP > 1 Mbps (%)  UL TP < 10 Kbps (%)  \\\n",
       "0                            0.0                 0.0                100.0   \n",
       "1                            0.0                 0.0                100.0   \n",
       "2                            0.0                 0.0                100.0   \n",
       "3                            0.0                 0.0                100.0   \n",
       "4                            0.0                 0.0                100.0   \n",
       "\n",
       "   10 Kbps < UL TP < 50 Kbps (%)  50 Kbps < UL TP < 300 Kbps (%)  \\\n",
       "0                            0.0                             0.0   \n",
       "1                            0.0                             0.0   \n",
       "2                            0.0                             0.0   \n",
       "3                            0.0                             0.0   \n",
       "4                            0.0                             0.0   \n",
       "\n",
       "   UL TP > 300 Kbps (%)  HTTP DL (Bytes)  HTTP UL (Bytes)  \\\n",
       "0                   0.0              NaN              NaN   \n",
       "1                   0.0              NaN              NaN   \n",
       "2                   0.0              NaN              NaN   \n",
       "3                   0.0              NaN              NaN   \n",
       "4                   0.0              NaN              NaN   \n",
       "\n",
       "   Activity Duration DL (ms)  Activity Duration UL (ms)   Dur. (ms).1  \\\n",
       "0                    37624.0                    38787.0  1.823653e+09   \n",
       "1                      168.0                     3560.0  1.365104e+09   \n",
       "2                        0.0                        0.0  1.361763e+09   \n",
       "3                     3330.0                    37882.0  1.321510e+09   \n",
       "4                        0.0                        0.0  1.089009e+09   \n",
       "\n",
       "  Handset Manufacturer                 Handset Type  \\\n",
       "0              Samsung   Samsung Galaxy A5 Sm-A520F   \n",
       "1              Samsung  Samsung Galaxy J5 (Sm-J530)   \n",
       "2              Samsung     Samsung Galaxy A8 (2018)   \n",
       "3            undefined                    undefined   \n",
       "4              Samsung             Samsung Sm-G390F   \n",
       "\n",
       "   Nb of sec with 125000B < Vol DL  Nb of sec with 1250B < Vol UL < 6250B  \\\n",
       "0                              NaN                                    NaN   \n",
       "1                              NaN                                    NaN   \n",
       "2                              NaN                                    NaN   \n",
       "3                              NaN                                    NaN   \n",
       "4                              NaN                                    NaN   \n",
       "\n",
       "   Nb of sec with 31250B < Vol DL < 125000B  Nb of sec with 37500B < Vol UL  \\\n",
       "0                                       NaN                             NaN   \n",
       "1                                       NaN                             NaN   \n",
       "2                                       NaN                             NaN   \n",
       "3                                       NaN                             NaN   \n",
       "4                                       NaN                             NaN   \n",
       "\n",
       "   Nb of sec with 6250B < Vol DL < 31250B  \\\n",
       "0                                     NaN   \n",
       "1                                     NaN   \n",
       "2                                     NaN   \n",
       "3                                     NaN   \n",
       "4                                     NaN   \n",
       "\n",
       "   Nb of sec with 6250B < Vol UL < 37500B  Nb of sec with Vol DL < 6250B  \\\n",
       "0                                     NaN                          213.0   \n",
       "1                                     NaN                          971.0   \n",
       "2                                     NaN                          751.0   \n",
       "3                                     NaN                           17.0   \n",
       "4                                     NaN                          607.0   \n",
       "\n",
       "   Nb of sec with Vol UL < 1250B  Social Media DL (Bytes)  \\\n",
       "0                          214.0                1545765.0   \n",
       "1                         1022.0                1926113.0   \n",
       "2                          695.0                1684053.0   \n",
       "3                          207.0                 644121.0   \n",
       "4                          604.0                 862600.0   \n",
       "\n",
       "   Social Media UL (Bytes)  Google DL (Bytes)  Google UL (Bytes)  \\\n",
       "0                  24420.0          1634479.0          1271433.0   \n",
       "1                   7165.0          3493924.0           920172.0   \n",
       "2                  42224.0          8535055.0          1694064.0   \n",
       "3                  13372.0          9023734.0          2788027.0   \n",
       "4                  50188.0          6248284.0          1500559.0   \n",
       "\n",
       "   Email DL (Bytes)  Email UL (Bytes)  Youtube DL (Bytes)  Youtube UL (Bytes)  \\\n",
       "0         3563542.0          137762.0          15854611.0           2501332.0   \n",
       "1          629046.0          308339.0          20247395.0          19111729.0   \n",
       "2         2690151.0          672973.0          19725661.0          14699576.0   \n",
       "3         1439754.0          631229.0          21388122.0          15146643.0   \n",
       "4         1936496.0          173853.0          15259380.0          18962873.0   \n",
       "\n",
       "   Netflix DL (Bytes)  Netflix UL (Bytes)  Gaming DL (Bytes)  \\\n",
       "0           8198936.0           9656251.0        278082303.0   \n",
       "1          18338413.0          17227132.0        608750074.0   \n",
       "2          17587794.0           6163408.0        229584621.0   \n",
       "3          13994646.0           1097942.0        799538153.0   \n",
       "4          17124581.0            415218.0        527707248.0   \n",
       "\n",
       "   Gaming UL (Bytes)  Other DL (Bytes)  Other UL (Bytes)  Total UL (Bytes)  \\\n",
       "0         14344150.0       171744450.0         8814393.0        36749741.0   \n",
       "1          1170709.0       526904238.0        15055145.0        53800391.0   \n",
       "2           395630.0       410692588.0         4215763.0        27883638.0   \n",
       "3         10849722.0       749039933.0        12797283.0        43324218.0   \n",
       "4          3529801.0       550709500.0        13910322.0        38542814.0   \n",
       "\n",
       "   Total DL (Bytes)  \n",
       "0       308879636.0  \n",
       "1       653384965.0  \n",
       "2       279807335.0  \n",
       "3       846028530.0  \n",
       "4       569138589.0  "
      ],
      "text/html": "<div>\n<style scoped>\n    .dataframe tbody tr th:only-of-type {\n        vertical-align: middle;\n    }\n\n    .dataframe tbody tr th {\n        vertical-align: top;\n    }\n\n    .dataframe thead th {\n        text-align: right;\n    }\n</style>\n<table border=\"1\" class=\"dataframe\">\n  <thead>\n    <tr style=\"text-align: right;\">\n      <th></th>\n      <th>Bearer Id</th>\n      <th>Start</th>\n      <th>Start ms</th>\n      <th>End</th>\n      <th>End ms</th>\n      <th>Dur. (ms)</th>\n      <th>IMSI</th>\n      <th>MSISDN/Number</th>\n      <th>IMEI</th>\n      <th>Last Location Name</th>\n      <th>Avg RTT DL (ms)</th>\n      <th>Avg RTT UL (ms)</th>\n      <th>Avg Bearer TP DL (kbps)</th>\n      <th>Avg Bearer TP UL (kbps)</th>\n      <th>TCP DL Retrans. Vol (Bytes)</th>\n      <th>TCP UL Retrans. Vol (Bytes)</th>\n      <th>DL TP &lt; 50 Kbps (%)</th>\n      <th>50 Kbps &lt; DL TP &lt; 250 Kbps (%)</th>\n      <th>250 Kbps &lt; DL TP &lt; 1 Mbps (%)</th>\n      <th>DL TP &gt; 1 Mbps (%)</th>\n      <th>UL TP &lt; 10 Kbps (%)</th>\n      <th>10 Kbps &lt; UL TP &lt; 50 Kbps (%)</th>\n      <th>50 Kbps &lt; UL TP &lt; 300 Kbps (%)</th>\n      <th>UL TP &gt; 300 Kbps (%)</th>\n      <th>HTTP DL (Bytes)</th>\n      <th>HTTP UL (Bytes)</th>\n      <th>Activity Duration DL (ms)</th>\n      <th>Activity Duration UL (ms)</th>\n      <th>Dur. (ms).1</th>\n      <th>Handset Manufacturer</th>\n      <th>Handset Type</th>\n      <th>Nb of sec with 125000B &lt; Vol DL</th>\n      <th>Nb of sec with 1250B &lt; Vol UL &lt; 6250B</th>\n      <th>Nb of sec with 31250B &lt; Vol DL &lt; 125000B</th>\n      <th>Nb of sec with 37500B &lt; Vol UL</th>\n      <th>Nb of sec with 6250B &lt; Vol DL &lt; 31250B</th>\n      <th>Nb of sec with 6250B &lt; Vol UL &lt; 37500B</th>\n      <th>Nb of sec with Vol DL &lt; 6250B</th>\n      <th>Nb of sec with Vol UL &lt; 1250B</th>\n      <th>Social Media DL (Bytes)</th>\n      <th>Social Media UL (Bytes)</th>\n      <th>Google DL (Bytes)</th>\n      <th>Google UL (Bytes)</th>\n      <th>Email DL (Bytes)</th>\n      <th>Email UL (Bytes)</th>\n      <th>Youtube DL (Bytes)</th>\n      <th>Youtube UL (Bytes)</th>\n      <th>Netflix DL (Bytes)</th>\n      <th>Netflix UL (Bytes)</th>\n      <th>Gaming DL (Bytes)</th>\n      <th>Gaming UL (Bytes)</th>\n      <th>Other DL (Bytes)</th>\n      <th>Other UL (Bytes)</th>\n      <th>Total UL (Bytes)</th>\n      <th>Total DL (Bytes)</th>\n    </tr>\n  </thead>\n  <tbody>\n    <tr>\n      <th>0</th>\n      <td>13114483460844900352</td>\n      <td>2019-04-04 12:01:18</td>\n      <td>770.0</td>\n      <td>2019-04-25 14:35:31</td>\n      <td>662.0</td>\n      <td>1823652.0</td>\n      <td>2.082014e+14</td>\n      <td>3.366496e+10</td>\n      <td>3.552121e+13</td>\n      <td>9164566995485190</td>\n      <td>42.0</td>\n      <td>5.0</td>\n      <td>23.0</td>\n      <td>44.0</td>\n      <td>NaN</td>\n      <td>NaN</td>\n      <td>100.0</td>\n      <td>0.0</td>\n      <td>0.0</td>\n      <td>0.0</td>\n      <td>100.0</td>\n      <td>0.0</td>\n      <td>0.0</td>\n      <td>0.0</td>\n      <td>NaN</td>\n      <td>NaN</td>\n      <td>37624.0</td>\n      <td>38787.0</td>\n      <td>1.823653e+09</td>\n      <td>Samsung</td>\n      <td>Samsung Galaxy A5 Sm-A520F</td>\n      <td>NaN</td>\n      <td>NaN</td>\n      <td>NaN</td>\n      <td>NaN</td>\n      <td>NaN</td>\n      <td>NaN</td>\n      <td>213.0</td>\n      <td>214.0</td>\n      <td>1545765.0</td>\n      <td>24420.0</td>\n      <td>1634479.0</td>\n      <td>1271433.0</td>\n      <td>3563542.0</td>\n      <td>137762.0</td>\n      <td>15854611.0</td>\n      <td>2501332.0</td>\n      <td>8198936.0</td>\n      <td>9656251.0</td>\n      <td>278082303.0</td>\n      <td>14344150.0</td>\n      <td>171744450.0</td>\n      <td>8814393.0</td>\n      <td>36749741.0</td>\n      <td>308879636.0</td>\n    </tr>\n    <tr>\n      <th>1</th>\n      <td>13114483482878900224</td>\n      <td>2019-04-09 13:04:04</td>\n      <td>235.0</td>\n      <td>2019-04-25 08:15:48</td>\n      <td>606.0</td>\n      <td>1365104.0</td>\n      <td>2.082019e+14</td>\n      <td>3.368185e+10</td>\n      <td>3.579401e+13</td>\n      <td>L77566A</td>\n      <td>65.0</td>\n      <td>5.0</td>\n      <td>16.0</td>\n      <td>26.0</td>\n      <td>NaN</td>\n      <td>NaN</td>\n      <td>100.0</td>\n      <td>0.0</td>\n      <td>0.0</td>\n      <td>0.0</td>\n      <td>100.0</td>\n      <td>0.0</td>\n      <td>0.0</td>\n      <td>0.0</td>\n      <td>NaN</td>\n      <td>NaN</td>\n      <td>168.0</td>\n      <td>3560.0</td>\n      <td>1.365104e+09</td>\n      <td>Samsung</td>\n      <td>Samsung Galaxy J5 (Sm-J530)</td>\n      <td>NaN</td>\n      <td>NaN</td>\n      <td>NaN</td>\n      <td>NaN</td>\n      <td>NaN</td>\n      <td>NaN</td>\n      <td>971.0</td>\n      <td>1022.0</td>\n      <td>1926113.0</td>\n      <td>7165.0</td>\n      <td>3493924.0</td>\n      <td>920172.0</td>\n      <td>629046.0</td>\n      <td>308339.0</td>\n      <td>20247395.0</td>\n      <td>19111729.0</td>\n      <td>18338413.0</td>\n      <td>17227132.0</td>\n      <td>608750074.0</td>\n      <td>1170709.0</td>\n      <td>526904238.0</td>\n      <td>15055145.0</td>\n      <td>53800391.0</td>\n      <td>653384965.0</td>\n    </tr>\n    <tr>\n      <th>2</th>\n      <td>13114483484080500736</td>\n      <td>2019-04-09 17:42:11</td>\n      <td>1.0</td>\n      <td>2019-04-25 11:58:13</td>\n      <td>652.0</td>\n      <td>1361762.0</td>\n      <td>2.082003e+14</td>\n      <td>3.376063e+10</td>\n      <td>3.528151e+13</td>\n      <td>D42335A</td>\n      <td>NaN</td>\n      <td>NaN</td>\n      <td>6.0</td>\n      <td>9.0</td>\n      <td>NaN</td>\n      <td>NaN</td>\n      <td>100.0</td>\n      <td>0.0</td>\n      <td>0.0</td>\n      <td>0.0</td>\n      <td>100.0</td>\n      <td>0.0</td>\n      <td>0.0</td>\n      <td>0.0</td>\n      <td>NaN</td>\n      <td>NaN</td>\n      <td>0.0</td>\n      <td>0.0</td>\n      <td>1.361763e+09</td>\n      <td>Samsung</td>\n      <td>Samsung Galaxy A8 (2018)</td>\n      <td>NaN</td>\n      <td>NaN</td>\n      <td>NaN</td>\n      <td>NaN</td>\n      <td>NaN</td>\n      <td>NaN</td>\n      <td>751.0</td>\n      <td>695.0</td>\n      <td>1684053.0</td>\n      <td>42224.0</td>\n      <td>8535055.0</td>\n      <td>1694064.0</td>\n      <td>2690151.0</td>\n      <td>672973.0</td>\n      <td>19725661.0</td>\n      <td>14699576.0</td>\n      <td>17587794.0</td>\n      <td>6163408.0</td>\n      <td>229584621.0</td>\n      <td>395630.0</td>\n      <td>410692588.0</td>\n      <td>4215763.0</td>\n      <td>27883638.0</td>\n      <td>279807335.0</td>\n    </tr>\n    <tr>\n      <th>3</th>\n      <td>13114483485442799616</td>\n      <td>2019-04-10 00:31:25</td>\n      <td>486.0</td>\n      <td>2019-04-25 07:36:35</td>\n      <td>171.0</td>\n      <td>1321509.0</td>\n      <td>2.082014e+14</td>\n      <td>3.375034e+10</td>\n      <td>3.535661e+13</td>\n      <td>T21824A</td>\n      <td>NaN</td>\n      <td>NaN</td>\n      <td>44.0</td>\n      <td>44.0</td>\n      <td>NaN</td>\n      <td>NaN</td>\n      <td>100.0</td>\n      <td>0.0</td>\n      <td>0.0</td>\n      <td>0.0</td>\n      <td>100.0</td>\n      <td>0.0</td>\n      <td>0.0</td>\n      <td>0.0</td>\n      <td>NaN</td>\n      <td>NaN</td>\n      <td>3330.0</td>\n      <td>37882.0</td>\n      <td>1.321510e+09</td>\n      <td>undefined</td>\n      <td>undefined</td>\n      <td>NaN</td>\n      <td>NaN</td>\n      <td>NaN</td>\n      <td>NaN</td>\n      <td>NaN</td>\n      <td>NaN</td>\n      <td>17.0</td>\n      <td>207.0</td>\n      <td>644121.0</td>\n      <td>13372.0</td>\n      <td>9023734.0</td>\n      <td>2788027.0</td>\n      <td>1439754.0</td>\n      <td>631229.0</td>\n      <td>21388122.0</td>\n      <td>15146643.0</td>\n      <td>13994646.0</td>\n      <td>1097942.0</td>\n      <td>799538153.0</td>\n      <td>10849722.0</td>\n      <td>749039933.0</td>\n      <td>12797283.0</td>\n      <td>43324218.0</td>\n      <td>846028530.0</td>\n    </tr>\n    <tr>\n      <th>4</th>\n      <td>13114483499480700928</td>\n      <td>2019-04-12 20:10:23</td>\n      <td>565.0</td>\n      <td>2019-04-25 10:40:32</td>\n      <td>954.0</td>\n      <td>1089009.0</td>\n      <td>2.082014e+14</td>\n      <td>3.369980e+10</td>\n      <td>3.540701e+13</td>\n      <td>D88865A</td>\n      <td>NaN</td>\n      <td>NaN</td>\n      <td>6.0</td>\n      <td>9.0</td>\n      <td>NaN</td>\n      <td>NaN</td>\n      <td>100.0</td>\n      <td>0.0</td>\n      <td>0.0</td>\n      <td>0.0</td>\n      <td>100.0</td>\n      <td>0.0</td>\n      <td>0.0</td>\n      <td>0.0</td>\n      <td>NaN</td>\n      <td>NaN</td>\n      <td>0.0</td>\n      <td>0.0</td>\n      <td>1.089009e+09</td>\n      <td>Samsung</td>\n      <td>Samsung Sm-G390F</td>\n      <td>NaN</td>\n      <td>NaN</td>\n      <td>NaN</td>\n      <td>NaN</td>\n      <td>NaN</td>\n      <td>NaN</td>\n      <td>607.0</td>\n      <td>604.0</td>\n      <td>862600.0</td>\n      <td>50188.0</td>\n      <td>6248284.0</td>\n      <td>1500559.0</td>\n      <td>1936496.0</td>\n      <td>173853.0</td>\n      <td>15259380.0</td>\n      <td>18962873.0</td>\n      <td>17124581.0</td>\n      <td>415218.0</td>\n      <td>527707248.0</td>\n      <td>3529801.0</td>\n      <td>550709500.0</td>\n      <td>13910322.0</td>\n      <td>38542814.0</td>\n      <td>569138589.0</td>\n    </tr>\n  </tbody>\n</table>\n</div>"
     },
     "metadata": {},
     "execution_count": 6
    }
   ],
   "source": [
    "telData = load_df_from_excel(\"../data/teleCo_data.xlsx\")\n",
    "pd.set_option('max_column', None)\n",
    "telData.head()"
   ]
  },
  {
   "source": [
    "  "
   ],
   "cell_type": "markdown",
   "metadata": {}
  },
  {
   "cell_type": "code",
   "execution_count": 7,
   "metadata": {},
   "outputs": [
    {
     "output_type": "stream",
     "name": "stdout",
     "text": [
      "<class 'pandas.core.frame.DataFrame'>\nRangeIndex: 150001 entries, 0 to 150000\nData columns (total 55 columns):\n #   Column                                    Non-Null Count   Dtype         \n---  ------                                    --------------   -----         \n 0   Bearer Id                                 150001 non-null  object        \n 1   Start                                     150000 non-null  datetime64[ns]\n 2   Start ms                                  150000 non-null  float64       \n 3   End                                       150000 non-null  datetime64[ns]\n 4   End ms                                    150000 non-null  float64       \n 5   Dur. (ms)                                 150000 non-null  float64       \n 6   IMSI                                      149431 non-null  float64       \n 7   MSISDN/Number                             148935 non-null  float64       \n 8   IMEI                                      149429 non-null  float64       \n 9   Last Location Name                        148848 non-null  object        \n 10  Avg RTT DL (ms)                           122172 non-null  float64       \n 11  Avg RTT UL (ms)                           122189 non-null  float64       \n 12  Avg Bearer TP DL (kbps)                   150000 non-null  float64       \n 13  Avg Bearer TP UL (kbps)                   150000 non-null  float64       \n 14  TCP DL Retrans. Vol (Bytes)               61855 non-null   float64       \n 15  TCP UL Retrans. Vol (Bytes)               53352 non-null   float64       \n 16  DL TP < 50 Kbps (%)                       149247 non-null  float64       \n 17  50 Kbps < DL TP < 250 Kbps (%)            149247 non-null  float64       \n 18  250 Kbps < DL TP < 1 Mbps (%)             149247 non-null  float64       \n 19  DL TP > 1 Mbps (%)                        149247 non-null  float64       \n 20  UL TP < 10 Kbps (%)                       149209 non-null  float64       \n 21  10 Kbps < UL TP < 50 Kbps (%)             149209 non-null  float64       \n 22  50 Kbps < UL TP < 300 Kbps (%)            149209 non-null  float64       \n 23  UL TP > 300 Kbps (%)                      149209 non-null  float64       \n 24  HTTP DL (Bytes)                           68527 non-null   float64       \n 25  HTTP UL (Bytes)                           68191 non-null   float64       \n 26  Activity Duration DL (ms)                 150000 non-null  float64       \n 27  Activity Duration UL (ms)                 150000 non-null  float64       \n 28  Dur. (ms).1                               150000 non-null  float64       \n 29  Handset Manufacturer                      149429 non-null  object        \n 30  Handset Type                              149429 non-null  object        \n 31  Nb of sec with 125000B < Vol DL           52463 non-null   float64       \n 32  Nb of sec with 1250B < Vol UL < 6250B     57107 non-null   float64       \n 33  Nb of sec with 31250B < Vol DL < 125000B  56415 non-null   float64       \n 34  Nb of sec with 37500B < Vol UL            19747 non-null   float64       \n 35  Nb of sec with 6250B < Vol DL < 31250B    61684 non-null   float64       \n 36  Nb of sec with 6250B < Vol UL < 37500B    38158 non-null   float64       \n 37  Nb of sec with Vol DL < 6250B             149246 non-null  float64       \n 38  Nb of sec with Vol UL < 1250B             149208 non-null  float64       \n 39  Social Media DL (Bytes)                   150001 non-null  float64       \n 40  Social Media UL (Bytes)                   150001 non-null  float64       \n 41  Google DL (Bytes)                         150001 non-null  float64       \n 42  Google UL (Bytes)                         150001 non-null  float64       \n 43  Email DL (Bytes)                          150001 non-null  float64       \n 44  Email UL (Bytes)                          150001 non-null  float64       \n 45  Youtube DL (Bytes)                        150001 non-null  float64       \n 46  Youtube UL (Bytes)                        150001 non-null  float64       \n 47  Netflix DL (Bytes)                        150001 non-null  float64       \n 48  Netflix UL (Bytes)                        150001 non-null  float64       \n 49  Gaming DL (Bytes)                         150001 non-null  float64       \n 50  Gaming UL (Bytes)                         150001 non-null  float64       \n 51  Other DL (Bytes)                          150001 non-null  float64       \n 52  Other UL (Bytes)                          150001 non-null  float64       \n 53  Total UL (Bytes)                          150000 non-null  float64       \n 54  Total DL (Bytes)                          150000 non-null  float64       \ndtypes: datetime64[ns](2), float64(49), object(4)\nmemory usage: 62.9+ MB\n"
     ]
    }
   ],
   "source": [
    "telData.info()"
   ]
  },
  {
   "cell_type": "code",
   "execution_count": null,
   "metadata": {},
   "outputs": [],
   "source": []
  }
 ]
}